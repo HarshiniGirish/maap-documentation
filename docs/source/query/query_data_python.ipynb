{
 "cells": [
  {
   "cell_type": "markdown",
   "metadata": {},
   "source": [
    "## How to Query Data from the MAAP via Python Client"
   ]
  },
  {
   "cell_type": "markdown",
   "metadata": {},
   "source": [
    "Supported collections can be subsetted through the MAAP Query Service. At the time of writing (03/22/2021), the GEDI Calibration/Validation Field Survey Dataset is the only valid dataset for this service. However, more data will be made available for querying as the MAAP team continues to develop expanded services for the platform. Users can interact with the service through the MAAP Python client."
   ]
  },
  {
   "cell_type": "markdown",
   "metadata": {},
   "source": [
    "First, we import the `json` module, import the `MAAP` package, and create a new MAAP class."
   ]
  },
  {
   "cell_type": "code",
   "execution_count": 1,
   "metadata": {},
   "outputs": [],
   "source": [
    "# import the json module\n",
    "import json\n",
    "# import the MAAP package\n",
    "from maap.maap import MAAP\n",
    "# create MAAP class\n",
    "maap = MAAP()"
   ]
  },
  {
   "cell_type": "markdown",
   "metadata": {},
   "source": [
    "### How to Use `maap.executequery()`"
   ]
  },
  {
   "cell_type": "markdown",
   "metadata": {},
   "source": [
    "We use the `executeQuery()` function to return a response object, containing the server's response to our HTTP request. This object can be used to view the response headers, access the raw data of the response, or parse the response as a JavaScript Object Notation (JSON). JSON is a data-interchange format, designed to be easy for humans to read and write."
   ]
  },
  {
   "cell_type": "markdown",
   "metadata": {},
   "source": [
    "#### `executeQuery` Parameters"
   ]
  },
  {
   "cell_type": "markdown",
   "metadata": {},
   "source": [
    "- `src` - a dictionary-like object specifying the dataset to query. Currently, the only option is as follows:\n",
    "```\n",
    "{ \n",
    "    \"Collection\": { \n",
    "        \"ShortName\": \"GEDI Cal/Val Field Data_1\", \n",
    "        \"VersionId\": \"2\" \n",
    "    } \n",
    "  }\n",
    "```\n",
    "- `query` - a dictionary-like object specifying the parameters for query. A dictionary can include `bbox`, `where`, `fields`, and `table`:\n",
    "    - `bbox` - a list of floating point numbers identifying a bounding box of geographic coordinates.\n",
    "    - `where` - a dictionary-like object which maps fields to required values within a query. \n",
    "    - `fields` - a list of fields to return, a subset of all fields available for the corresponding dataset.\n",
    "    - `table` - the name of the table to query. At this time, the only valid options are \"tree\" or \"plot\" corresponding to tables in the GEDI Cal/Val database.\n",
    "- `poll_results` - a parameter which must be `True` to use the `timeout` parameter.\n",
    "- `timeout` - the waiting period for a response. This indicates the maximum number of seconds to wait for a response. Note that timeout has a default value of '180' and requires that the `poll_results` parameter be `True`. Depending on the request, it may be necessary to modify the timeout to make sure the server has enough time to process the request.\n",
    "- `wait_interval` - number of seconds to wait between each poll for results. `wait_interval` is only used if `poll_results`=`True` (default 0.5).\n",
    "-`max_redirects` - the maximum number of redirects to follow when scheduling an execution (default 5).\n"
   ]
  },
  {
   "cell_type": "markdown",
   "metadata": {},
   "source": [
    "### Query Searching for a Project Name"
   ]
  },
  {
   "cell_type": "markdown",
   "metadata": {},
   "source": [
    "In this example, we create a dictionary containing a `Collection` key, which contains entries for `ShortName` and `VersionId`. This is used later in the `executeQuery()` function. For this example, we use the GEDI Calibration/Validation Field Survey Dataset collection. More information about dictionaries in Python can be found here - https://www.techbeamers.com/python-dictionary/. "
   ]
  },
  {
   "cell_type": "code",
   "execution_count": 2,
   "metadata": {},
   "outputs": [],
   "source": [
    "# create dictionary with a \"Collection\" key containing short name and version ID entries:\n",
    "collection  = { \n",
    "  \"Collection\": { \n",
    "      \"ShortName\": \"GEDI Cal/Val Field Data_1\", \n",
    "      \"VersionId\": \"2\" \n",
    "  } \n",
    "}"
   ]
  },
  {
   "cell_type": "markdown",
   "metadata": {},
   "source": [
    "We also create a function (in this example named `fetch_results`) which utilizes the `executeQuery` function to return results of queries. Within this function, we use the `executeQuery` function to get a response object. Within the `executeQuery` function, our `collection` dictionary is assigned to `src`, a dictionary-like object specifying the dataset to query. We also have the query used in the argument assigned to `query`, a dictionary-like object which specifies the parameters for the query. We set `timeout` to the timeout used in the argument (default is 180 seconds) and set `poll_results` to `True` in order to set the maximum waiting period for a response. We can check the ‘Content-Type’ header of our response to see the content type of the response. In the following code, the ‘Content-Type’ header is checked to determine if it is JSON or not, in order to set an appropriate variable to return."
   ]
  },
  {
   "cell_type": "code",
   "execution_count": 3,
   "metadata": {},
   "outputs": [],
   "source": [
    "def fetch_results(query={}, timeout=180):\n",
    "    \"\"\"\n",
    "    Function which utilizes the `executeQuery` function to return the results of queries.\n",
    "    \"\"\"\n",
    "    # use the executeQuery() function to get a response object\n",
    "    response = maap.executeQuery(\n",
    "      # dictionary-like object specifying the dataset to query \n",
    "      src = collection,\n",
    "      # dictionary-like object specifying the parameters for query\n",
    "      query = query,\n",
    "      # must be True to use the timeout parameter\n",
    "      poll_results = True,\n",
    "      # max waiting period for a response in seconds\n",
    "      timeout = timeout\n",
    "    )\n",
    "    # if the 'Content-Type' is json, creates variable with json version of the response\n",
    "    if (response.headers.get(\"Content-Type\") == \"application/json\"):\n",
    "        data = response.json()\n",
    "    # if the 'Content-Type' is not json, creates variable with unicode content of the response\n",
    "    else:\n",
    "        data = response.text\n",
    "    # returns `data` as json string\n",
    "    return json.loads(data)"
   ]
  },
  {
   "cell_type": "markdown",
   "metadata": {},
   "source": [
    "Now that we have our collection dictionary and our function to return the results of queries, let's use a print statement to display the first project name from a query which utilizes the `bbox` and `fields` parameters within `query`. The `bbox` parameter is a GeoJSON-compliant bounding box ([minX, minY, maxX, maxY]) which is used to filter data spatially. GeoJSON is a format for encoding geographic data structures. More information about the bounding box can be found in the standard specification of the GeoJSON format, located here - https://tools.ietf.org/html/rfc7946#section-5. The `fields` parameter is a list of fields to return in the query response. In this case, we assign 'project' to `fields`."
   ]
  },
  {
   "cell_type": "code",
   "execution_count": 4,
   "metadata": {},
   "outputs": [
    {
     "name": "stdout",
     "output_type": "stream",
     "text": [
      "{\n",
      "  \"project\": \"gabon_mondah\"\n",
      "}\n"
     ]
    }
   ],
   "source": [
    "# prints the first project name in the results of the query as a json string\n",
    "print(json.dumps(fetch_results({\"bbox\": [9.31, 0.53, 9.32, 0.54], \"fields\": [\"project\"]})[0], indent=2))"
   ]
  },
  {
   "cell_type": "markdown",
   "metadata": {},
   "source": [
    "### Inspecting a Single Observation"
   ]
  },
  {
   "cell_type": "markdown",
   "metadata": {},
   "source": [
    "In the previous example, we displayed the project name for a result from our query, but let's say we wished to see all of the fields and their associated values for a result. In this example, we make another query, this time only specifying the bounding box. The print statement displays the variables for a single observation. A list of the variables and their units and descriptions can be found [here](https://maap-project.readthedocs.io/en/latest/query/gedi_calval_data_doc.html)."
   ]
  },
  {
   "cell_type": "code",
   "execution_count": 5,
   "metadata": {},
   "outputs": [
    {
     "name": "stdout",
     "output_type": "stream",
     "text": [
      "{\n",
      "  \"project\": \"gabon_mondah\",\n",
      "  \"plot\": \"NASA11\",\n",
      "  \"subplot\": \"1\",\n",
      "  \"survey\": \"AfriSAR_ESA_2016\",\n",
      "  \"private\": 0,\n",
      "  \"date\": \"2016-02-01\",\n",
      "  \"region\": \"Af\",\n",
      "  \"vegetation\": \"TropRF\",\n",
      "  \"map\": 3083.93471636915,\n",
      "  \"mat\": 25.6671529098763,\n",
      "  \"pft.modis\": \"Evergreen Broadleaf trees\",\n",
      "  \"pft.name\": null,\n",
      "  \"latitude\": 0.538705025207016,\n",
      "  \"longitude\": 9.31982893597376,\n",
      "  \"p.sample\": 0,\n",
      "  \"p.stemmap\": 0,\n",
      "  \"p.origin\": \"C\",\n",
      "  \"p.orientation\": -2.18195751718555,\n",
      "  \"p.shape\": \"R\",\n",
      "  \"p.majoraxis\": 100,\n",
      "  \"p.minoraxis\": 100,\n",
      "  \"p.geom\": \"POLYGON ((535537.75 59601.25, 535627.75 59590.5, 535642.25 59489.25, 535543 59498.5, 535537.75 59601.25, 535537.75 59601.25))\",\n",
      "  \"p.epsg\": 32632,\n",
      "  \"p.area\": 10000,\n",
      "  \"p.mindiam\": 0.01,\n",
      "  \"sp.geom\": \"POLYGON((535537.510093 59494.109258, 535537.526710 59519.109253, 535562.526704 59519.092636, 535562.510088 59494.092642, 535537.510093 59494.109258))\",\n",
      "  \"sp.ix\": 1,\n",
      "  \"sp.iy\": 4,\n",
      "  \"sp.shape\": \"R\",\n",
      "  \"sp.area\": 625,\n",
      "  \"sp.mindiam\": 0.01,\n",
      "  \"pai\": null,\n",
      "  \"lai\": null,\n",
      "  \"cover\": null,\n",
      "  \"dft\": \"EA\",\n",
      "  \"agb\": null,\n",
      "  \"agb.valid\": null,\n",
      "  \"agb.lower\": null,\n",
      "  \"agb.upper\": null,\n",
      "  \"agbd.ha\": null,\n",
      "  \"agbd.ha.lower\": null,\n",
      "  \"agbd.ha.upper\": null,\n",
      "  \"sn\": null,\n",
      "  \"snd.ha\": null,\n",
      "  \"sba\": null,\n",
      "  \"sba.ha\": null,\n",
      "  \"swsg.ba\": null,\n",
      "  \"h.t.max\": null,\n",
      "  \"sp.agb\": null,\n",
      "  \"sp.agb.valid\": null,\n",
      "  \"sp.agbd.ha\": null,\n",
      "  \"sp.agbd.ha.lower\": null,\n",
      "  \"sp.agbd.ha.upper\": null,\n",
      "  \"sp.sba.ha\": null,\n",
      "  \"sp.swsg.ba\": null,\n",
      "  \"sp.h.t.max\": null,\n",
      "  \"l.project\": \"jpl_mondah\",\n",
      "  \"l.instr\": null,\n",
      "  \"l.epsg\": 32632,\n",
      "  \"l.date\": null,\n",
      "  \"tree.date\": \"2016-02-10\",\n",
      "  \"family\": \"Myristicaceae\",\n",
      "  \"species\": \"Coelocaryon sp.\",\n",
      "  \"pft\": null,\n",
      "  \"wsg\": 0.49353216374269,\n",
      "  \"wsg.sd\": 0.0941339098036177,\n",
      "  \"tree\": \"5501\",\n",
      "  \"stem\": \"1\",\n",
      "  \"x\": 535539.544644182,\n",
      "  \"y\": 59496.0746845487,\n",
      "  \"z\": null,\n",
      "  \"status\": 1,\n",
      "  \"allom.key\": 2,\n",
      "  \"a.stem\": 0.0437435361085843,\n",
      "  \"h.t\": 9.46667,\n",
      "  \"h.t.mod\": 17.0934257579035,\n",
      "  \"d.stem\": 0.236,\n",
      "  \"d.stem.valid\": 1,\n",
      "  \"d.ht\": 1.3,\n",
      "  \"c.w\": null,\n",
      "  \"m.agb\": 145.005237378992,\n",
      "  \"id\": 2077,\n",
      "  \"geom_obj\": \"0103000020E6100000010000000500000032A8C5A385A32240A1FCE9F75E39E13F32892DA985A32240A012DE4C393BE13FF2CC041CA3A32240D4DDCAF5383BE13F85ED9C16A3A3224083B5D8A05E39E13F32A8C5A385A32240A1FCE9F75E39E13F\",\n",
      "  \"wwf.ecoregion\": \"Central African mangroves\"\n",
      "}\n"
     ]
    }
   ],
   "source": [
    "# prints the fields with values for the first result in the results of the query as a json string\n",
    "print(json.dumps(fetch_results({\"bbox\": [9.315, 0.535, 9.32, 0.54]})[0], indent=2))"
   ]
  },
  {
   "cell_type": "markdown",
   "metadata": {},
   "source": [
    "### Query Using Multiple Parameters With `where`"
   ]
  },
  {
   "cell_type": "markdown",
   "metadata": {},
   "source": [
    "In the output of the previous example, we can see the field `\"species\"`. Let's say we are interested in finding observations for the `\"gabon_mondah\"` project within the same bounding box as the previous example which have the same species. We can do this using `where`, a dictionary-like object which maps fields to required values within a query. To help demonstrate how to use `where`, we can create a new function (in this example named `species_query`) to print the number of results as well as the first result, adding on to our previous `fetch_results` function which utilized the `executeQuery` function."
   ]
  },
  {
   "cell_type": "code",
   "execution_count": 6,
   "metadata": {},
   "outputs": [],
   "source": [
    "def species_query(query = {}, timeout = 180):\n",
    "    \"\"\"\n",
    "    Function which utilizes the `fetch_results` (and thereby `executeQuery`) function and prints the number of results \n",
    "    as well as the first result.\n",
    "    \"\"\"\n",
    "    # set `data` to results of query\n",
    "    data = fetch_results(query = query, timeout = timeout)\n",
    "    # get the number of results within `data`\n",
    "    num_results = len(data)\n",
    "    # if `data` is not null and contains at least one result, the number of results and the first result are printed\n",
    "    if((data is not None) and (num_results > 0)):\n",
    "        first_result = data[0]\n",
    "        print(f\"Number of results: {num_results}\")\n",
    "        print(f\"First result: {json.dumps(first_result, indent=2)}\")  \n",
    "    # else prints \"No result\"\n",
    "    else:\n",
    "        print(num_results)\n",
    "        print(\"No result\")  "
   ]
  },
  {
   "cell_type": "markdown",
   "metadata": {},
   "source": [
    "Let's call the `species_query` function. We enter the same bounding box values as in the previous example. This time around, we enter `where` in our query and set the `project` as `gabon_mondah` and the `species` as `Coelocaryon sp.`. We can set a list of fields to return in query response using `fields`. For this example, we can choose to return only the project, family, species, latitude, and longitude values. After completing our query, we can manually set the timeout value (in this example '200')."
   ]
  },
  {
   "cell_type": "code",
   "execution_count": 7,
   "metadata": {},
   "outputs": [
    {
     "name": "stdout",
     "output_type": "stream",
     "text": [
      "Number of results: 10\n",
      "First result: {\n",
      "  \"project\": \"gabon_mondah\",\n",
      "  \"family\": \"Myristicaceae\",\n",
      "  \"species\": \"Coelocaryon sp.\",\n",
      "  \"latitude\": 0.538705025207016,\n",
      "  \"longitude\": 9.31982893597376\n",
      "}\n"
     ]
    }
   ],
   "source": [
    "# call `species_query` function with bounding box values, where the project is \"gabon_mondah\", \n",
    "# the species is \"Aucoumea klaineana\", fields include \"project\", \"family\", \"species\", \"latitude\", and \"longitude\",\n",
    "# and the timeout value is 200 (use the scrollbar to see the entire function call)\n",
    "species_query({\"bbox\": [9.315, 0.535, 9.32, 0.54], \"where\": {\"project\": \"gabon_mondah\", \"species\": \"Coelocaryon sp.\"}, \"fields\": [\"project\", \"family\", \"species\", \"latitude\", \"longitude\"]}, 200)"
   ]
  },
  {
   "cell_type": "markdown",
   "metadata": {},
   "source": [
    "We now see that there are many results and the latitude and longitude coordinates for the first result. To see this information for Aucoumea klaineana, we can copy the code from the above cell, changing the `species` to `Aucoumea klaineana` within the function argument."
   ]
  },
  {
   "cell_type": "code",
   "execution_count": 8,
   "metadata": {},
   "outputs": [
    {
     "name": "stdout",
     "output_type": "stream",
     "text": [
      "Number of results: 49\n",
      "First result: {\n",
      "  \"project\": \"gabon_mondah\",\n",
      "  \"family\": \"Burseraceae\",\n",
      "  \"species\": \"Aucoumea klaineana\",\n",
      "  \"latitude\": 0.538705025207016,\n",
      "  \"longitude\": 9.31982893597376\n",
      "}\n"
     ]
    }
   ],
   "source": [
    "# call `species_query` function with bounding box values, where the project is \"gabon_mondah\", \n",
    "# the species is \"Coelocaryon sp.\", fields include \"project\", \"family\", \"species\", \"latitude\", and \"longitude\",\n",
    "# and the timeout value is 200 (use the scrollbar to see the entire function call)\n",
    "species_query({\"bbox\": [9.315, 0.535, 9.32, 0.54], \"where\": {\"project\": \"gabon_mondah\", \"species\": \"Aucoumea klaineana\"}, \"fields\": [\"project\", \"family\", \"species\", \"latitude\", \"longitude\"]}, 200)"
   ]
  },
  {
   "cell_type": "markdown",
   "metadata": {},
   "source": [
    "### Using `executeQuery` to Vizualize Plots and Trees"
   ]
  },
  {
   "cell_type": "markdown",
   "metadata": {},
   "source": [
    "Now that we know how to print the query results of the collection, let's look at examples of vizualizing the information from query results. The first time you run this, you will need to install `folium`. `folium` allows us to visualize data on an interactive map. With `folium` installed, you will then import the `folium` library. Also import `matplotlib.pyplot`, which allows us to generate interactive plots"
   ]
  },
  {
   "cell_type": "code",
   "execution_count": 9,
   "metadata": {},
   "outputs": [],
   "source": [
    "# captures the output so you don't have to see all the pip install logging\n",
    "#%%capture\n",
    "# installs folium\n",
    "#!pip install folium"
   ]
  },
  {
   "cell_type": "code",
   "execution_count": 10,
   "metadata": {},
   "outputs": [],
   "source": [
    "# import folium library and matplotlib.pyplot\n",
    "import folium\n",
    "import matplotlib.pyplot as plt"
   ]
  },
  {
   "cell_type": "markdown",
   "metadata": {},
   "source": [
    "#### Plot Project Plots"
   ]
  },
  {
   "cell_type": "markdown",
   "metadata": {},
   "source": [
    "Now we can begin plotting all the plots for a given project. For this example, we'll check out the `australia_ausplotsforests` project. We can query the plot table by using our `fetch_results` helper function. This time, we set the `table` parameter. `table` is the name of the table to query. The GEDI Cal/Val database has tables for \"tree\" and \"plot\" so let's set `table` to \"plot\". We can then preview our results."
   ]
  },
  {
   "cell_type": "code",
   "execution_count": 11,
   "metadata": {},
   "outputs": [
    {
     "data": {
      "text/plain": [
       "[{'latitude': -31.2421, 'longitude': 152.4609, 'plot': 'NSFNNC002'},\n",
       " {'latitude': -31.2421, 'longitude': 152.4609, 'plot': 'NSFNNC002'},\n",
       " {'latitude': -31.2421, 'longitude': 152.4609, 'plot': 'NSFNNC002'},\n",
       " {'latitude': -31.2421, 'longitude': 152.4609, 'plot': 'NSFNNC002'},\n",
       " {'latitude': -31.2421, 'longitude': 152.4609, 'plot': 'NSFNNC002'},\n",
       " {'latitude': -31.2421, 'longitude': 152.4609, 'plot': 'NSFNNC002'},\n",
       " {'latitude': -31.2421, 'longitude': 152.4609, 'plot': 'NSFNNC002'},\n",
       " {'latitude': -31.2421, 'longitude': 152.4609, 'plot': 'NSFNNC002'},\n",
       " {'latitude': -31.2421, 'longitude': 152.4609, 'plot': 'NSFNNC002'},\n",
       " {'latitude': -31.2421, 'longitude': 152.4609, 'plot': 'NSFNNC002'}]"
      ]
     },
     "execution_count": 11,
     "metadata": {},
     "output_type": "execute_result"
    }
   ],
   "source": [
    "# set project and query for all the plots in that project\n",
    "project = 'australia_ausplotsforests'\n",
    "results = fetch_results({\n",
    "    \"bbox\": [-180, 90, 180, -90],\n",
    "    \"where\": {\n",
    "        \"project\": project\n",
    "    },\n",
    "    \"fields\": [\"latitude\", \"longitude\", \"plot\"],\n",
    "    \"table\":\"plot\"\n",
    "}, 1000)\n",
    "# print first 10 results\n",
    "results[0:10]"
   ]
  },
  {
   "cell_type": "markdown",
   "metadata": {},
   "source": [
    "#### Create Project Plots Dictionary"
   ]
  },
  {
   "cell_type": "markdown",
   "metadata": {},
   "source": [
    "Now we can create a dictionary for the project plots from our results."
   ]
  },
  {
   "cell_type": "code",
   "execution_count": 12,
   "metadata": {},
   "outputs": [],
   "source": [
    "# create dictionary for project plots, where each plot has lat/lon info\n",
    "project_plots = {}\n",
    "keys = [ 'latitude', 'longitude' ]\n",
    "for result in results:\n",
    "    project_plots[result['plot']] = { key: result[key] for key in keys }"
   ]
  },
  {
   "cell_type": "markdown",
   "metadata": {},
   "source": [
    "To center our map more easily and plot trees later on, we can set a variable to the first project plot to be used for centering the map."
   ]
  },
  {
   "cell_type": "code",
   "execution_count": 13,
   "metadata": {},
   "outputs": [
    {
     "data": {
      "text/plain": [
       "'NSFNNC002'"
      ]
     },
     "execution_count": 13,
     "metadata": {},
     "output_type": "execute_result"
    }
   ],
   "source": [
    "# Select the first plot, just to center the map easily\n",
    "first_plot = list(project_plots.keys())[0]\n",
    "first_plot"
   ]
  },
  {
   "cell_type": "markdown",
   "metadata": {},
   "source": [
    "#### Map the Plots"
   ]
  },
  {
   "cell_type": "markdown",
   "metadata": {},
   "source": [
    "Now we can create a map and place the plot points onto it. First we will set variables for the map's location center and starting zoom level. Then we will use the `folium.Map` function to create a map which displays \"Stamen Terrain\" tiles with our location center and starting zoom level. Next, we will create a loop using the `folium.Marker` function to add markers to the map at the latitude and longitude for each plot and have popup text displaying each plot's name. Lastly, we display the map in order to interact with it. "
   ]
  },
  {
   "cell_type": "code",
   "execution_count": 14,
   "metadata": {},
   "outputs": [
    {
     "data": {
      "text/html": [
       "<div style=\"width:100%;\"><div style=\"position:relative;width:100%;height:0;padding-bottom:60%;\"><span style=\"color:#565656\">Make this Notebook Trusted to load map: File -> Trust Notebook</span><iframe src=\"about:blank\" style=\"position:absolute;width:100%;height:100%;left:0;top:0;border:none !important;\" data-html=%3C%21DOCTYPE%20html%3E%0A%3Chead%3E%20%20%20%20%0A%20%20%20%20%3Cmeta%20http-equiv%3D%22content-type%22%20content%3D%22text/html%3B%20charset%3DUTF-8%22%20/%3E%0A%20%20%20%20%0A%20%20%20%20%20%20%20%20%3Cscript%3E%0A%20%20%20%20%20%20%20%20%20%20%20%20L_NO_TOUCH%20%3D%20false%3B%0A%20%20%20%20%20%20%20%20%20%20%20%20L_DISABLE_3D%20%3D%20false%3B%0A%20%20%20%20%20%20%20%20%3C/script%3E%0A%20%20%20%20%0A%20%20%20%20%3Cstyle%3Ehtml%2C%20body%20%7Bwidth%3A%20100%25%3Bheight%3A%20100%25%3Bmargin%3A%200%3Bpadding%3A%200%3B%7D%3C/style%3E%0A%20%20%20%20%3Cstyle%3E%23map%20%7Bposition%3Aabsolute%3Btop%3A0%3Bbottom%3A0%3Bright%3A0%3Bleft%3A0%3B%7D%3C/style%3E%0A%20%20%20%20%3Cscript%20src%3D%22https%3A//cdn.jsdelivr.net/npm/leaflet%401.6.0/dist/leaflet.js%22%3E%3C/script%3E%0A%20%20%20%20%3Cscript%20src%3D%22https%3A//code.jquery.com/jquery-1.12.4.min.js%22%3E%3C/script%3E%0A%20%20%20%20%3Cscript%20src%3D%22https%3A//maxcdn.bootstrapcdn.com/bootstrap/3.2.0/js/bootstrap.min.js%22%3E%3C/script%3E%0A%20%20%20%20%3Cscript%20src%3D%22https%3A//cdnjs.cloudflare.com/ajax/libs/Leaflet.awesome-markers/2.0.2/leaflet.awesome-markers.js%22%3E%3C/script%3E%0A%20%20%20%20%3Clink%20rel%3D%22stylesheet%22%20href%3D%22https%3A//cdn.jsdelivr.net/npm/leaflet%401.6.0/dist/leaflet.css%22/%3E%0A%20%20%20%20%3Clink%20rel%3D%22stylesheet%22%20href%3D%22https%3A//maxcdn.bootstrapcdn.com/bootstrap/3.2.0/css/bootstrap.min.css%22/%3E%0A%20%20%20%20%3Clink%20rel%3D%22stylesheet%22%20href%3D%22https%3A//maxcdn.bootstrapcdn.com/bootstrap/3.2.0/css/bootstrap-theme.min.css%22/%3E%0A%20%20%20%20%3Clink%20rel%3D%22stylesheet%22%20href%3D%22https%3A//maxcdn.bootstrapcdn.com/font-awesome/4.6.3/css/font-awesome.min.css%22/%3E%0A%20%20%20%20%3Clink%20rel%3D%22stylesheet%22%20href%3D%22https%3A//cdnjs.cloudflare.com/ajax/libs/Leaflet.awesome-markers/2.0.2/leaflet.awesome-markers.css%22/%3E%0A%20%20%20%20%3Clink%20rel%3D%22stylesheet%22%20href%3D%22https%3A//cdn.jsdelivr.net/gh/python-visualization/folium/folium/templates/leaflet.awesome.rotate.min.css%22/%3E%0A%20%20%20%20%0A%20%20%20%20%20%20%20%20%20%20%20%20%3Cmeta%20name%3D%22viewport%22%20content%3D%22width%3Ddevice-width%2C%0A%20%20%20%20%20%20%20%20%20%20%20%20%20%20%20%20initial-scale%3D1.0%2C%20maximum-scale%3D1.0%2C%20user-scalable%3Dno%22%20/%3E%0A%20%20%20%20%20%20%20%20%20%20%20%20%3Cstyle%3E%0A%20%20%20%20%20%20%20%20%20%20%20%20%20%20%20%20%23map_dbd7e4f6b6b44a5e9bcf03ac787f66ab%20%7B%0A%20%20%20%20%20%20%20%20%20%20%20%20%20%20%20%20%20%20%20%20position%3A%20relative%3B%0A%20%20%20%20%20%20%20%20%20%20%20%20%20%20%20%20%20%20%20%20width%3A%20100.0%25%3B%0A%20%20%20%20%20%20%20%20%20%20%20%20%20%20%20%20%20%20%20%20height%3A%20100.0%25%3B%0A%20%20%20%20%20%20%20%20%20%20%20%20%20%20%20%20%20%20%20%20left%3A%200.0%25%3B%0A%20%20%20%20%20%20%20%20%20%20%20%20%20%20%20%20%20%20%20%20top%3A%200.0%25%3B%0A%20%20%20%20%20%20%20%20%20%20%20%20%20%20%20%20%7D%0A%20%20%20%20%20%20%20%20%20%20%20%20%3C/style%3E%0A%20%20%20%20%20%20%20%20%0A%3C/head%3E%0A%3Cbody%3E%20%20%20%20%0A%20%20%20%20%0A%20%20%20%20%20%20%20%20%20%20%20%20%3Cdiv%20class%3D%22folium-map%22%20id%3D%22map_dbd7e4f6b6b44a5e9bcf03ac787f66ab%22%20%3E%3C/div%3E%0A%20%20%20%20%20%20%20%20%0A%3C/body%3E%0A%3Cscript%3E%20%20%20%20%0A%20%20%20%20%0A%20%20%20%20%20%20%20%20%20%20%20%20var%20map_dbd7e4f6b6b44a5e9bcf03ac787f66ab%20%3D%20L.map%28%0A%20%20%20%20%20%20%20%20%20%20%20%20%20%20%20%20%22map_dbd7e4f6b6b44a5e9bcf03ac787f66ab%22%2C%0A%20%20%20%20%20%20%20%20%20%20%20%20%20%20%20%20%7B%0A%20%20%20%20%20%20%20%20%20%20%20%20%20%20%20%20%20%20%20%20center%3A%20%5B-31.2421%2C%20152.4609%5D%2C%0A%20%20%20%20%20%20%20%20%20%20%20%20%20%20%20%20%20%20%20%20crs%3A%20L.CRS.EPSG3857%2C%0A%20%20%20%20%20%20%20%20%20%20%20%20%20%20%20%20%20%20%20%20zoom%3A%203%2C%0A%20%20%20%20%20%20%20%20%20%20%20%20%20%20%20%20%20%20%20%20zoomControl%3A%20true%2C%0A%20%20%20%20%20%20%20%20%20%20%20%20%20%20%20%20%20%20%20%20preferCanvas%3A%20false%2C%0A%20%20%20%20%20%20%20%20%20%20%20%20%20%20%20%20%7D%0A%20%20%20%20%20%20%20%20%20%20%20%20%29%3B%0A%0A%20%20%20%20%20%20%20%20%20%20%20%20%0A%0A%20%20%20%20%20%20%20%20%0A%20%20%20%20%0A%20%20%20%20%20%20%20%20%20%20%20%20var%20tile_layer_2e9414f3a32d4b288ceee3e29e4f2e8f%20%3D%20L.tileLayer%28%0A%20%20%20%20%20%20%20%20%20%20%20%20%20%20%20%20%22https%3A//stamen-tiles-%7Bs%7D.a.ssl.fastly.net/terrain/%7Bz%7D/%7Bx%7D/%7By%7D.jpg%22%2C%0A%20%20%20%20%20%20%20%20%20%20%20%20%20%20%20%20%7B%22attribution%22%3A%20%22Map%20tiles%20by%20%5Cu003ca%20href%3D%5C%22http%3A//stamen.com%5C%22%5Cu003eStamen%20Design%5Cu003c/a%5Cu003e%2C%20under%20%5Cu003ca%20href%3D%5C%22http%3A//creativecommons.org/licenses/by/3.0%5C%22%5Cu003eCC%20BY%203.0%5Cu003c/a%5Cu003e.%20Data%20by%20%5Cu0026copy%3B%20%5Cu003ca%20href%3D%5C%22http%3A//openstreetmap.org%5C%22%5Cu003eOpenStreetMap%5Cu003c/a%5Cu003e%2C%20under%20%5Cu003ca%20href%3D%5C%22http%3A//creativecommons.org/licenses/by-sa/3.0%5C%22%5Cu003eCC%20BY%20SA%5Cu003c/a%5Cu003e.%22%2C%20%22detectRetina%22%3A%20false%2C%20%22maxNativeZoom%22%3A%2018%2C%20%22maxZoom%22%3A%2018%2C%20%22minZoom%22%3A%200%2C%20%22noWrap%22%3A%20false%2C%20%22opacity%22%3A%201%2C%20%22subdomains%22%3A%20%22abc%22%2C%20%22tms%22%3A%20false%7D%0A%20%20%20%20%20%20%20%20%20%20%20%20%29.addTo%28map_dbd7e4f6b6b44a5e9bcf03ac787f66ab%29%3B%0A%20%20%20%20%20%20%20%20%0A%20%20%20%20%0A%20%20%20%20%20%20%20%20%20%20%20%20var%20marker_a41d2ce869b047e39accf2ba89140585%20%3D%20L.marker%28%0A%20%20%20%20%20%20%20%20%20%20%20%20%20%20%20%20%5B-31.2421%2C%20152.4609%5D%2C%0A%20%20%20%20%20%20%20%20%20%20%20%20%20%20%20%20%7B%7D%0A%20%20%20%20%20%20%20%20%20%20%20%20%29.addTo%28map_dbd7e4f6b6b44a5e9bcf03ac787f66ab%29%3B%0A%20%20%20%20%20%20%20%20%0A%20%20%20%20%0A%20%20%20%20%20%20%20%20var%20popup_d26b9e00ba8842308cfc940c1034166c%20%3D%20L.popup%28%7B%22maxWidth%22%3A%20%22100%25%22%7D%29%3B%0A%0A%20%20%20%20%20%20%20%20%0A%20%20%20%20%20%20%20%20%20%20%20%20var%20html_fa917032e98b41168bcbd0bfb5ded7a1%20%3D%20%24%28%60%3Cdiv%20id%3D%22html_fa917032e98b41168bcbd0bfb5ded7a1%22%20style%3D%22width%3A%20100.0%25%3B%20height%3A%20100.0%25%3B%22%3Eplot%3A%20NSFNNC002%3C/div%3E%60%29%5B0%5D%3B%0A%20%20%20%20%20%20%20%20%20%20%20%20popup_d26b9e00ba8842308cfc940c1034166c.setContent%28html_fa917032e98b41168bcbd0bfb5ded7a1%29%3B%0A%20%20%20%20%20%20%20%20%0A%0A%20%20%20%20%20%20%20%20marker_a41d2ce869b047e39accf2ba89140585.bindPopup%28popup_d26b9e00ba8842308cfc940c1034166c%29%0A%20%20%20%20%20%20%20%20%3B%0A%0A%20%20%20%20%20%20%20%20%0A%20%20%20%20%0A%20%20%20%20%0A%20%20%20%20%20%20%20%20%20%20%20%20var%20marker_10b82788a944416391d6f715cadece65%20%3D%20L.marker%28%0A%20%20%20%20%20%20%20%20%20%20%20%20%20%20%20%20%5B-31.207873%2C%20152.525737%5D%2C%0A%20%20%20%20%20%20%20%20%20%20%20%20%20%20%20%20%7B%7D%0A%20%20%20%20%20%20%20%20%20%20%20%20%29.addTo%28map_dbd7e4f6b6b44a5e9bcf03ac787f66ab%29%3B%0A%20%20%20%20%20%20%20%20%0A%20%20%20%20%0A%20%20%20%20%20%20%20%20var%20popup_ab45b385929d49f49d6fc84572446197%20%3D%20L.popup%28%7B%22maxWidth%22%3A%20%22100%25%22%7D%29%3B%0A%0A%20%20%20%20%20%20%20%20%0A%20%20%20%20%20%20%20%20%20%20%20%20var%20html_f9bf30abe18049d7b534ae9c8e106212%20%3D%20%24%28%60%3Cdiv%20id%3D%22html_f9bf30abe18049d7b534ae9c8e106212%22%20style%3D%22width%3A%20100.0%25%3B%20height%3A%20100.0%25%3B%22%3Eplot%3A%20NSFNNC003%3C/div%3E%60%29%5B0%5D%3B%0A%20%20%20%20%20%20%20%20%20%20%20%20popup_ab45b385929d49f49d6fc84572446197.setContent%28html_f9bf30abe18049d7b534ae9c8e106212%29%3B%0A%20%20%20%20%20%20%20%20%0A%0A%20%20%20%20%20%20%20%20marker_10b82788a944416391d6f715cadece65.bindPopup%28popup_ab45b385929d49f49d6fc84572446197%29%0A%20%20%20%20%20%20%20%20%3B%0A%0A%20%20%20%20%20%20%20%20%0A%20%20%20%20%0A%20%20%20%20%0A%20%20%20%20%20%20%20%20%20%20%20%20var%20marker_b888a2166705480782c67ee7232ddfee%20%3D%20L.marker%28%0A%20%20%20%20%20%20%20%20%20%20%20%20%20%20%20%20%5B-31.591975%2C%20152.619338%5D%2C%0A%20%20%20%20%20%20%20%20%20%20%20%20%20%20%20%20%7B%7D%0A%20%20%20%20%20%20%20%20%20%20%20%20%29.addTo%28map_dbd7e4f6b6b44a5e9bcf03ac787f66ab%29%3B%0A%20%20%20%20%20%20%20%20%0A%20%20%20%20%0A%20%20%20%20%20%20%20%20var%20popup_b5a6273d1c0241479a5c001a4616916d%20%3D%20L.popup%28%7B%22maxWidth%22%3A%20%22100%25%22%7D%29%3B%0A%0A%20%20%20%20%20%20%20%20%0A%20%20%20%20%20%20%20%20%20%20%20%20var%20html_c02c7d7865a3430687a9391b9a668d92%20%3D%20%24%28%60%3Cdiv%20id%3D%22html_c02c7d7865a3430687a9391b9a668d92%22%20style%3D%22width%3A%20100.0%25%3B%20height%3A%20100.0%25%3B%22%3Eplot%3A%20NSFNNC004%3C/div%3E%60%29%5B0%5D%3B%0A%20%20%20%20%20%20%20%20%20%20%20%20popup_b5a6273d1c0241479a5c001a4616916d.setContent%28html_c02c7d7865a3430687a9391b9a668d92%29%3B%0A%20%20%20%20%20%20%20%20%0A%0A%20%20%20%20%20%20%20%20marker_b888a2166705480782c67ee7232ddfee.bindPopup%28popup_b5a6273d1c0241479a5c001a4616916d%29%0A%20%20%20%20%20%20%20%20%3B%0A%0A%20%20%20%20%20%20%20%20%0A%20%20%20%20%0A%20%20%20%20%0A%20%20%20%20%20%20%20%20%20%20%20%20var%20marker_c24fea946bfd4333bdb4947a6a464858%20%3D%20L.marker%28%0A%20%20%20%20%20%20%20%20%20%20%20%20%20%20%20%20%5B-31.686657%2C%20152.682894%5D%2C%0A%20%20%20%20%20%20%20%20%20%20%20%20%20%20%20%20%7B%7D%0A%20%20%20%20%20%20%20%20%20%20%20%20%29.addTo%28map_dbd7e4f6b6b44a5e9bcf03ac787f66ab%29%3B%0A%20%20%20%20%20%20%20%20%0A%20%20%20%20%0A%20%20%20%20%20%20%20%20var%20popup_36e9bb381ed443bda5c09263e57ff8e6%20%3D%20L.popup%28%7B%22maxWidth%22%3A%20%22100%25%22%7D%29%3B%0A%0A%20%20%20%20%20%20%20%20%0A%20%20%20%20%20%20%20%20%20%20%20%20var%20html_9adcb8d9034c4b778573d395576ef2ba%20%3D%20%24%28%60%3Cdiv%20id%3D%22html_9adcb8d9034c4b778573d395576ef2ba%22%20style%3D%22width%3A%20100.0%25%3B%20height%3A%20100.0%25%3B%22%3Eplot%3A%20NSFNNC005%3C/div%3E%60%29%5B0%5D%3B%0A%20%20%20%20%20%20%20%20%20%20%20%20popup_36e9bb381ed443bda5c09263e57ff8e6.setContent%28html_9adcb8d9034c4b778573d395576ef2ba%29%3B%0A%20%20%20%20%20%20%20%20%0A%0A%20%20%20%20%20%20%20%20marker_c24fea946bfd4333bdb4947a6a464858.bindPopup%28popup_36e9bb381ed443bda5c09263e57ff8e6%29%0A%20%20%20%20%20%20%20%20%3B%0A%0A%20%20%20%20%20%20%20%20%0A%20%20%20%20%0A%20%20%20%20%0A%20%20%20%20%20%20%20%20%20%20%20%20var%20marker_e54d3a7794b14c91a22a95fc60e6a81b%20%3D%20L.marker%28%0A%20%20%20%20%20%20%20%20%20%20%20%20%20%20%20%20%5B-30.15757%2C%20152.726671%5D%2C%0A%20%20%20%20%20%20%20%20%20%20%20%20%20%20%20%20%7B%7D%0A%20%20%20%20%20%20%20%20%20%20%20%20%29.addTo%28map_dbd7e4f6b6b44a5e9bcf03ac787f66ab%29%3B%0A%20%20%20%20%20%20%20%20%0A%20%20%20%20%0A%20%20%20%20%20%20%20%20var%20popup_308709006734427c870579c24137600d%20%3D%20L.popup%28%7B%22maxWidth%22%3A%20%22100%25%22%7D%29%3B%0A%0A%20%20%20%20%20%20%20%20%0A%20%20%20%20%20%20%20%20%20%20%20%20var%20html_d1d17ed7a6224437b2707f286d6e6722%20%3D%20%24%28%60%3Cdiv%20id%3D%22html_d1d17ed7a6224437b2707f286d6e6722%22%20style%3D%22width%3A%20100.0%25%3B%20height%3A%20100.0%25%3B%22%3Eplot%3A%20NSFNNC006%3C/div%3E%60%29%5B0%5D%3B%0A%20%20%20%20%20%20%20%20%20%20%20%20popup_308709006734427c870579c24137600d.setContent%28html_d1d17ed7a6224437b2707f286d6e6722%29%3B%0A%20%20%20%20%20%20%20%20%0A%0A%20%20%20%20%20%20%20%20marker_e54d3a7794b14c91a22a95fc60e6a81b.bindPopup%28popup_308709006734427c870579c24137600d%29%0A%20%20%20%20%20%20%20%20%3B%0A%0A%20%20%20%20%20%20%20%20%0A%20%20%20%20%0A%20%20%20%20%0A%20%20%20%20%20%20%20%20%20%20%20%20var%20marker_22f765bd2b5447a8a6a56252f077e2b4%20%3D%20L.marker%28%0A%20%20%20%20%20%20%20%20%20%20%20%20%20%20%20%20%5B-30.24019%2C%20153.091808%5D%2C%0A%20%20%20%20%20%20%20%20%20%20%20%20%20%20%20%20%7B%7D%0A%20%20%20%20%20%20%20%20%20%20%20%20%29.addTo%28map_dbd7e4f6b6b44a5e9bcf03ac787f66ab%29%3B%0A%20%20%20%20%20%20%20%20%0A%20%20%20%20%0A%20%20%20%20%20%20%20%20var%20popup_47beac7ed7df4123b603de9113b3acfb%20%3D%20L.popup%28%7B%22maxWidth%22%3A%20%22100%25%22%7D%29%3B%0A%0A%20%20%20%20%20%20%20%20%0A%20%20%20%20%20%20%20%20%20%20%20%20var%20html_639f9942a3c842bab56003b2d38706ce%20%3D%20%24%28%60%3Cdiv%20id%3D%22html_639f9942a3c842bab56003b2d38706ce%22%20style%3D%22width%3A%20100.0%25%3B%20height%3A%20100.0%25%3B%22%3Eplot%3A%20NSFNNC007%3C/div%3E%60%29%5B0%5D%3B%0A%20%20%20%20%20%20%20%20%20%20%20%20popup_47beac7ed7df4123b603de9113b3acfb.setContent%28html_639f9942a3c842bab56003b2d38706ce%29%3B%0A%20%20%20%20%20%20%20%20%0A%0A%20%20%20%20%20%20%20%20marker_22f765bd2b5447a8a6a56252f077e2b4.bindPopup%28popup_47beac7ed7df4123b603de9113b3acfb%29%0A%20%20%20%20%20%20%20%20%3B%0A%0A%20%20%20%20%20%20%20%20%0A%20%20%20%20%0A%20%20%20%20%0A%20%20%20%20%20%20%20%20%20%20%20%20var%20marker_24a29e14b5cc474e9c0cf5e4509449f7%20%3D%20L.marker%28%0A%20%20%20%20%20%20%20%20%20%20%20%20%20%20%20%20%5B-32.345474%2C%20152.259035%5D%2C%0A%20%20%20%20%20%20%20%20%20%20%20%20%20%20%20%20%7B%7D%0A%20%20%20%20%20%20%20%20%20%20%20%20%29.addTo%28map_dbd7e4f6b6b44a5e9bcf03ac787f66ab%29%3B%0A%20%20%20%20%20%20%20%20%0A%20%20%20%20%0A%20%20%20%20%20%20%20%20var%20popup_caab61d95c88473ca5a81a4b0f40ed12%20%3D%20L.popup%28%7B%22maxWidth%22%3A%20%22100%25%22%7D%29%3B%0A%0A%20%20%20%20%20%20%20%20%0A%20%20%20%20%20%20%20%20%20%20%20%20var%20html_8eb14c01034947a1959909cd32f3c7d2%20%3D%20%24%28%60%3Cdiv%20id%3D%22html_8eb14c01034947a1959909cd32f3c7d2%22%20style%3D%22width%3A%20100.0%25%3B%20height%3A%20100.0%25%3B%22%3Eplot%3A%20NSFNNC008%3C/div%3E%60%29%5B0%5D%3B%0A%20%20%20%20%20%20%20%20%20%20%20%20popup_caab61d95c88473ca5a81a4b0f40ed12.setContent%28html_8eb14c01034947a1959909cd32f3c7d2%29%3B%0A%20%20%20%20%20%20%20%20%0A%0A%20%20%20%20%20%20%20%20marker_24a29e14b5cc474e9c0cf5e4509449f7.bindPopup%28popup_caab61d95c88473ca5a81a4b0f40ed12%29%0A%20%20%20%20%20%20%20%20%3B%0A%0A%20%20%20%20%20%20%20%20%0A%20%20%20%20%0A%20%20%20%20%0A%20%20%20%20%20%20%20%20%20%20%20%20var%20marker_208c5a81cdc5414c955247c166e91749%20%3D%20L.marker%28%0A%20%20%20%20%20%20%20%20%20%20%20%20%20%20%20%20%5B-36.759165%2C%20149.435125%5D%2C%0A%20%20%20%20%20%20%20%20%20%20%20%20%20%20%20%20%7B%7D%0A%20%20%20%20%20%20%20%20%20%20%20%20%29.addTo%28map_dbd7e4f6b6b44a5e9bcf03ac787f66ab%29%3B%0A%20%20%20%20%20%20%20%20%0A%20%20%20%20%0A%20%20%20%20%20%20%20%20var%20popup_e56f01dcba804a598bd941c14202f898%20%3D%20L.popup%28%7B%22maxWidth%22%3A%20%22100%25%22%7D%29%3B%0A%0A%20%20%20%20%20%20%20%20%0A%20%20%20%20%20%20%20%20%20%20%20%20var%20html_08ab307079324c8f9ef68a5494c94bd4%20%3D%20%24%28%60%3Cdiv%20id%3D%22html_08ab307079324c8f9ef68a5494c94bd4%22%20style%3D%22width%3A%20100.0%25%3B%20height%3A%20100.0%25%3B%22%3Eplot%3A%20NSFSEC001%3C/div%3E%60%29%5B0%5D%3B%0A%20%20%20%20%20%20%20%20%20%20%20%20popup_e56f01dcba804a598bd941c14202f898.setContent%28html_08ab307079324c8f9ef68a5494c94bd4%29%3B%0A%20%20%20%20%20%20%20%20%0A%0A%20%20%20%20%20%20%20%20marker_208c5a81cdc5414c955247c166e91749.bindPopup%28popup_e56f01dcba804a598bd941c14202f898%29%0A%20%20%20%20%20%20%20%20%3B%0A%0A%20%20%20%20%20%20%20%20%0A%20%20%20%20%0A%20%20%20%20%0A%20%20%20%20%20%20%20%20%20%20%20%20var%20marker_77f09346f4e944a8bf22990de9aafee6%20%3D%20L.marker%28%0A%20%20%20%20%20%20%20%20%20%20%20%20%20%20%20%20%5B-37.013029%2C%20149.381474%5D%2C%0A%20%20%20%20%20%20%20%20%20%20%20%20%20%20%20%20%7B%7D%0A%20%20%20%20%20%20%20%20%20%20%20%20%29.addTo%28map_dbd7e4f6b6b44a5e9bcf03ac787f66ab%29%3B%0A%20%20%20%20%20%20%20%20%0A%20%20%20%20%0A%20%20%20%20%20%20%20%20var%20popup_c2d64a3c1ae046e3909131c27942a9db%20%3D%20L.popup%28%7B%22maxWidth%22%3A%20%22100%25%22%7D%29%3B%0A%0A%20%20%20%20%20%20%20%20%0A%20%20%20%20%20%20%20%20%20%20%20%20var%20html_a9c09e46c0a445b587b8dae54f7ff222%20%3D%20%24%28%60%3Cdiv%20id%3D%22html_a9c09e46c0a445b587b8dae54f7ff222%22%20style%3D%22width%3A%20100.0%25%3B%20height%3A%20100.0%25%3B%22%3Eplot%3A%20NSFSEC002%3C/div%3E%60%29%5B0%5D%3B%0A%20%20%20%20%20%20%20%20%20%20%20%20popup_c2d64a3c1ae046e3909131c27942a9db.setContent%28html_a9c09e46c0a445b587b8dae54f7ff222%29%3B%0A%20%20%20%20%20%20%20%20%0A%0A%20%20%20%20%20%20%20%20marker_77f09346f4e944a8bf22990de9aafee6.bindPopup%28popup_c2d64a3c1ae046e3909131c27942a9db%29%0A%20%20%20%20%20%20%20%20%3B%0A%0A%20%20%20%20%20%20%20%20%0A%20%20%20%20%0A%20%20%20%20%0A%20%20%20%20%20%20%20%20%20%20%20%20var%20marker_5058c16cd0c54a4f9b8868d7441f2cd9%20%3D%20L.marker%28%0A%20%20%20%20%20%20%20%20%20%20%20%20%20%20%20%20%5B-36.997418%2C%20149.382334%5D%2C%0A%20%20%20%20%20%20%20%20%20%20%20%20%20%20%20%20%7B%7D%0A%20%20%20%20%20%20%20%20%20%20%20%20%29.addTo%28map_dbd7e4f6b6b44a5e9bcf03ac787f66ab%29%3B%0A%20%20%20%20%20%20%20%20%0A%20%20%20%20%0A%20%20%20%20%20%20%20%20var%20popup_f5557da152e9470a94e480a741e61ffc%20%3D%20L.popup%28%7B%22maxWidth%22%3A%20%22100%25%22%7D%29%3B%0A%0A%20%20%20%20%20%20%20%20%0A%20%20%20%20%20%20%20%20%20%20%20%20var%20html_8cdd05905af8404a82b14b157090fd6b%20%3D%20%24%28%60%3Cdiv%20id%3D%22html_8cdd05905af8404a82b14b157090fd6b%22%20style%3D%22width%3A%20100.0%25%3B%20height%3A%20100.0%25%3B%22%3Eplot%3A%20NSFSEC003%3C/div%3E%60%29%5B0%5D%3B%0A%20%20%20%20%20%20%20%20%20%20%20%20popup_f5557da152e9470a94e480a741e61ffc.setContent%28html_8cdd05905af8404a82b14b157090fd6b%29%3B%0A%20%20%20%20%20%20%20%20%0A%0A%20%20%20%20%20%20%20%20marker_5058c16cd0c54a4f9b8868d7441f2cd9.bindPopup%28popup_f5557da152e9470a94e480a741e61ffc%29%0A%20%20%20%20%20%20%20%20%3B%0A%0A%20%20%20%20%20%20%20%20%0A%20%20%20%20%0A%20%20%20%20%0A%20%20%20%20%20%20%20%20%20%20%20%20var%20marker_eae06c7203224ebea2aa3c4d63ae5480%20%3D%20L.marker%28%0A%20%20%20%20%20%20%20%20%20%20%20%20%20%20%20%20%5B-36.903761%2C%20149.717866%5D%2C%0A%20%20%20%20%20%20%20%20%20%20%20%20%20%20%20%20%7B%7D%0A%20%20%20%20%20%20%20%20%20%20%20%20%29.addTo%28map_dbd7e4f6b6b44a5e9bcf03ac787f66ab%29%3B%0A%20%20%20%20%20%20%20%20%0A%20%20%20%20%0A%20%20%20%20%20%20%20%20var%20popup_3bd80cdfa4244030910c858ffb3216f8%20%3D%20L.popup%28%7B%22maxWidth%22%3A%20%22100%25%22%7D%29%3B%0A%0A%20%20%20%20%20%20%20%20%0A%20%20%20%20%20%20%20%20%20%20%20%20var%20html_e000acce1f82428780e56333f795666d%20%3D%20%24%28%60%3Cdiv%20id%3D%22html_e000acce1f82428780e56333f795666d%22%20style%3D%22width%3A%20100.0%25%3B%20height%3A%20100.0%25%3B%22%3Eplot%3A%20NSFSEC004%3C/div%3E%60%29%5B0%5D%3B%0A%20%20%20%20%20%20%20%20%20%20%20%20popup_3bd80cdfa4244030910c858ffb3216f8.setContent%28html_e000acce1f82428780e56333f795666d%29%3B%0A%20%20%20%20%20%20%20%20%0A%0A%20%20%20%20%20%20%20%20marker_eae06c7203224ebea2aa3c4d63ae5480.bindPopup%28popup_3bd80cdfa4244030910c858ffb3216f8%29%0A%20%20%20%20%20%20%20%20%3B%0A%0A%20%20%20%20%20%20%20%20%0A%20%20%20%20%0A%20%20%20%20%0A%20%20%20%20%20%20%20%20%20%20%20%20var%20marker_f1f1d75a36214f32aa29b08fbf8cdb35%20%3D%20L.marker%28%0A%20%20%20%20%20%20%20%20%20%20%20%20%20%20%20%20%5B-36.863176%2C%20149.594699%5D%2C%0A%20%20%20%20%20%20%20%20%20%20%20%20%20%20%20%20%7B%7D%0A%20%20%20%20%20%20%20%20%20%20%20%20%29.addTo%28map_dbd7e4f6b6b44a5e9bcf03ac787f66ab%29%3B%0A%20%20%20%20%20%20%20%20%0A%20%20%20%20%0A%20%20%20%20%20%20%20%20var%20popup_ee8c56aba22b4f72954736355238fa6f%20%3D%20L.popup%28%7B%22maxWidth%22%3A%20%22100%25%22%7D%29%3B%0A%0A%20%20%20%20%20%20%20%20%0A%20%20%20%20%20%20%20%20%20%20%20%20var%20html_6ee1f493c7914ee6af08327e3e41fa6d%20%3D%20%24%28%60%3Cdiv%20id%3D%22html_6ee1f493c7914ee6af08327e3e41fa6d%22%20style%3D%22width%3A%20100.0%25%3B%20height%3A%20100.0%25%3B%22%3Eplot%3A%20NSFSEC005%3C/div%3E%60%29%5B0%5D%3B%0A%20%20%20%20%20%20%20%20%20%20%20%20popup_ee8c56aba22b4f72954736355238fa6f.setContent%28html_6ee1f493c7914ee6af08327e3e41fa6d%29%3B%0A%20%20%20%20%20%20%20%20%0A%0A%20%20%20%20%20%20%20%20marker_f1f1d75a36214f32aa29b08fbf8cdb35.bindPopup%28popup_ee8c56aba22b4f72954736355238fa6f%29%0A%20%20%20%20%20%20%20%20%3B%0A%0A%20%20%20%20%20%20%20%20%0A%20%20%20%20%0A%20%20%20%20%0A%20%20%20%20%20%20%20%20%20%20%20%20var%20marker_f73a49a0aab9485e8e43cdfff74f69ef%20%3D%20L.marker%28%0A%20%20%20%20%20%20%20%20%20%20%20%20%20%20%20%20%5B-41.311345%2C%20147.538381%5D%2C%0A%20%20%20%20%20%20%20%20%20%20%20%20%20%20%20%20%7B%7D%0A%20%20%20%20%20%20%20%20%20%20%20%20%29.addTo%28map_dbd7e4f6b6b44a5e9bcf03ac787f66ab%29%3B%0A%20%20%20%20%20%20%20%20%0A%20%20%20%20%0A%20%20%20%20%20%20%20%20var%20popup_3fbc03b9c3af4d5cbb36a1dc33a7a848%20%3D%20L.popup%28%7B%22maxWidth%22%3A%20%22100%25%22%7D%29%3B%0A%0A%20%20%20%20%20%20%20%20%0A%20%20%20%20%20%20%20%20%20%20%20%20var%20html_69b42eee8e2a471bb64175271e1f635e%20%3D%20%24%28%60%3Cdiv%20id%3D%22html_69b42eee8e2a471bb64175271e1f635e%22%20style%3D%22width%3A%20100.0%25%3B%20height%3A%20100.0%25%3B%22%3Eplot%3A%20TCFBEL001%3C/div%3E%60%29%5B0%5D%3B%0A%20%20%20%20%20%20%20%20%20%20%20%20popup_3fbc03b9c3af4d5cbb36a1dc33a7a848.setContent%28html_69b42eee8e2a471bb64175271e1f635e%29%3B%0A%20%20%20%20%20%20%20%20%0A%0A%20%20%20%20%20%20%20%20marker_f73a49a0aab9485e8e43cdfff74f69ef.bindPopup%28popup_3fbc03b9c3af4d5cbb36a1dc33a7a848%29%0A%20%20%20%20%20%20%20%20%3B%0A%0A%20%20%20%20%20%20%20%20%0A%20%20%20%20%0A%20%20%20%20%0A%20%20%20%20%20%20%20%20%20%20%20%20var%20marker_cda94d6428cb4772817d35ccb78c07a3%20%3D%20L.marker%28%0A%20%20%20%20%20%20%20%20%20%20%20%20%20%20%20%20%5B-41.367397%2C%20147.602513%5D%2C%0A%20%20%20%20%20%20%20%20%20%20%20%20%20%20%20%20%7B%7D%0A%20%20%20%20%20%20%20%20%20%20%20%20%29.addTo%28map_dbd7e4f6b6b44a5e9bcf03ac787f66ab%29%3B%0A%20%20%20%20%20%20%20%20%0A%20%20%20%20%0A%20%20%20%20%20%20%20%20var%20popup_a0f40b9dc91646a8bd19c13c4e9c5877%20%3D%20L.popup%28%7B%22maxWidth%22%3A%20%22100%25%22%7D%29%3B%0A%0A%20%20%20%20%20%20%20%20%0A%20%20%20%20%20%20%20%20%20%20%20%20var%20html_c017b0f498884a0e8e3d7e2be60ba160%20%3D%20%24%28%60%3Cdiv%20id%3D%22html_c017b0f498884a0e8e3d7e2be60ba160%22%20style%3D%22width%3A%20100.0%25%3B%20height%3A%20100.0%25%3B%22%3Eplot%3A%20TCFBEL002%3C/div%3E%60%29%5B0%5D%3B%0A%20%20%20%20%20%20%20%20%20%20%20%20popup_a0f40b9dc91646a8bd19c13c4e9c5877.setContent%28html_c017b0f498884a0e8e3d7e2be60ba160%29%3B%0A%20%20%20%20%20%20%20%20%0A%0A%20%20%20%20%20%20%20%20marker_cda94d6428cb4772817d35ccb78c07a3.bindPopup%28popup_a0f40b9dc91646a8bd19c13c4e9c5877%29%0A%20%20%20%20%20%20%20%20%3B%0A%0A%20%20%20%20%20%20%20%20%0A%20%20%20%20%0A%20%20%20%20%0A%20%20%20%20%20%20%20%20%20%20%20%20var%20marker_dabe1da857ca4137b6d5d5c3990a3a2e%20%3D%20L.marker%28%0A%20%20%20%20%20%20%20%20%20%20%20%20%20%20%20%20%5B-40.90313%2C%20145.285228%5D%2C%0A%20%20%20%20%20%20%20%20%20%20%20%20%20%20%20%20%7B%7D%0A%20%20%20%20%20%20%20%20%20%20%20%20%29.addTo%28map_dbd7e4f6b6b44a5e9bcf03ac787f66ab%29%3B%0A%20%20%20%20%20%20%20%20%0A%20%20%20%20%0A%20%20%20%20%20%20%20%20var%20popup_5e60d8ab41f748e4a39cf125ba5f6746%20%3D%20L.popup%28%7B%22maxWidth%22%3A%20%22100%25%22%7D%29%3B%0A%0A%20%20%20%20%20%20%20%20%0A%20%20%20%20%20%20%20%20%20%20%20%20var%20html_c89e36b24de64a979ca8131db33a2a24%20%3D%20%24%28%60%3Cdiv%20id%3D%22html_c89e36b24de64a979ca8131db33a2a24%22%20style%3D%22width%3A%20100.0%25%3B%20height%3A%20100.0%25%3B%22%3Eplot%3A%20TCFKIN001%3C/div%3E%60%29%5B0%5D%3B%0A%20%20%20%20%20%20%20%20%20%20%20%20popup_5e60d8ab41f748e4a39cf125ba5f6746.setContent%28html_c89e36b24de64a979ca8131db33a2a24%29%3B%0A%20%20%20%20%20%20%20%20%0A%0A%20%20%20%20%20%20%20%20marker_dabe1da857ca4137b6d5d5c3990a3a2e.bindPopup%28popup_5e60d8ab41f748e4a39cf125ba5f6746%29%0A%20%20%20%20%20%20%20%20%3B%0A%0A%20%20%20%20%20%20%20%20%0A%20%20%20%20%0A%20%20%20%20%0A%20%20%20%20%20%20%20%20%20%20%20%20var%20marker_60efba58ab6043be80f667ca8ba144b5%20%3D%20L.marker%28%0A%20%20%20%20%20%20%20%20%20%20%20%20%20%20%20%20%5B-40.952559%2C%20144.842051%5D%2C%0A%20%20%20%20%20%20%20%20%20%20%20%20%20%20%20%20%7B%7D%0A%20%20%20%20%20%20%20%20%20%20%20%20%29.addTo%28map_dbd7e4f6b6b44a5e9bcf03ac787f66ab%29%3B%0A%20%20%20%20%20%20%20%20%0A%20%20%20%20%0A%20%20%20%20%20%20%20%20var%20popup_0c783017b398487e9f16e23bce82b8bf%20%3D%20L.popup%28%7B%22maxWidth%22%3A%20%22100%25%22%7D%29%3B%0A%0A%20%20%20%20%20%20%20%20%0A%20%20%20%20%20%20%20%20%20%20%20%20var%20html_38bcecf2c2f7445c81f757faf0cd609c%20%3D%20%24%28%60%3Cdiv%20id%3D%22html_38bcecf2c2f7445c81f757faf0cd609c%22%20style%3D%22width%3A%20100.0%25%3B%20height%3A%20100.0%25%3B%22%3Eplot%3A%20TCFKIN002%3C/div%3E%60%29%5B0%5D%3B%0A%20%20%20%20%20%20%20%20%20%20%20%20popup_0c783017b398487e9f16e23bce82b8bf.setContent%28html_38bcecf2c2f7445c81f757faf0cd609c%29%3B%0A%20%20%20%20%20%20%20%20%0A%0A%20%20%20%20%20%20%20%20marker_60efba58ab6043be80f667ca8ba144b5.bindPopup%28popup_0c783017b398487e9f16e23bce82b8bf%29%0A%20%20%20%20%20%20%20%20%3B%0A%0A%20%20%20%20%20%20%20%20%0A%20%20%20%20%0A%20%20%20%20%0A%20%20%20%20%20%20%20%20%20%20%20%20var%20marker_09ef738f8c514ee69cc6cd3bb6a0158b%20%3D%20L.marker%28%0A%20%20%20%20%20%20%20%20%20%20%20%20%20%20%20%20%5B-41.044984%2C%20145.566135%5D%2C%0A%20%20%20%20%20%20%20%20%20%20%20%20%20%20%20%20%7B%7D%0A%20%20%20%20%20%20%20%20%20%20%20%20%29.addTo%28map_dbd7e4f6b6b44a5e9bcf03ac787f66ab%29%3B%0A%20%20%20%20%20%20%20%20%0A%20%20%20%20%0A%20%20%20%20%20%20%20%20var%20popup_e279d47169cc41569d7393bf051d1e26%20%3D%20L.popup%28%7B%22maxWidth%22%3A%20%22100%25%22%7D%29%3B%0A%0A%20%20%20%20%20%20%20%20%0A%20%20%20%20%20%20%20%20%20%20%20%20var%20html_b7225e18c2524ecf94ed8d5741e6e7b2%20%3D%20%24%28%60%3Cdiv%20id%3D%22html_b7225e18c2524ecf94ed8d5741e6e7b2%22%20style%3D%22width%3A%20100.0%25%3B%20height%3A%20100.0%25%3B%22%3Eplot%3A%20TCFTNS001%3C/div%3E%60%29%5B0%5D%3B%0A%20%20%20%20%20%20%20%20%20%20%20%20popup_e279d47169cc41569d7393bf051d1e26.setContent%28html_b7225e18c2524ecf94ed8d5741e6e7b2%29%3B%0A%20%20%20%20%20%20%20%20%0A%0A%20%20%20%20%20%20%20%20marker_09ef738f8c514ee69cc6cd3bb6a0158b.bindPopup%28popup_e279d47169cc41569d7393bf051d1e26%29%0A%20%20%20%20%20%20%20%20%3B%0A%0A%20%20%20%20%20%20%20%20%0A%20%20%20%20%0A%20%20%20%20%0A%20%20%20%20%20%20%20%20%20%20%20%20var%20marker_79877fa91f114da1a6a592f3778107cd%20%3D%20L.marker%28%0A%20%20%20%20%20%20%20%20%20%20%20%20%20%20%20%20%5B-41.034643%2C%20145.405096%5D%2C%0A%20%20%20%20%20%20%20%20%20%20%20%20%20%20%20%20%7B%7D%0A%20%20%20%20%20%20%20%20%20%20%20%20%29.addTo%28map_dbd7e4f6b6b44a5e9bcf03ac787f66ab%29%3B%0A%20%20%20%20%20%20%20%20%0A%20%20%20%20%0A%20%20%20%20%20%20%20%20var%20popup_1384d715be9043c19907fef9fb793d80%20%3D%20L.popup%28%7B%22maxWidth%22%3A%20%22100%25%22%7D%29%3B%0A%0A%20%20%20%20%20%20%20%20%0A%20%20%20%20%20%20%20%20%20%20%20%20var%20html_467baad294254adf976d6f00782ae7ed%20%3D%20%24%28%60%3Cdiv%20id%3D%22html_467baad294254adf976d6f00782ae7ed%22%20style%3D%22width%3A%20100.0%25%3B%20height%3A%20100.0%25%3B%22%3Eplot%3A%20TCFTNS002%3C/div%3E%60%29%5B0%5D%3B%0A%20%20%20%20%20%20%20%20%20%20%20%20popup_1384d715be9043c19907fef9fb793d80.setContent%28html_467baad294254adf976d6f00782ae7ed%29%3B%0A%20%20%20%20%20%20%20%20%0A%0A%20%20%20%20%20%20%20%20marker_79877fa91f114da1a6a592f3778107cd.bindPopup%28popup_1384d715be9043c19907fef9fb793d80%29%0A%20%20%20%20%20%20%20%20%3B%0A%0A%20%20%20%20%20%20%20%20%0A%20%20%20%20%0A%20%20%20%20%0A%20%20%20%20%20%20%20%20%20%20%20%20var%20marker_bd434ea0d6ef4ec8b907633e811728f6%20%3D%20L.marker%28%0A%20%20%20%20%20%20%20%20%20%20%20%20%20%20%20%20%5B-41.629951%2C%20146.258356%5D%2C%0A%20%20%20%20%20%20%20%20%20%20%20%20%20%20%20%20%7B%7D%0A%20%20%20%20%20%20%20%20%20%20%20%20%29.addTo%28map_dbd7e4f6b6b44a5e9bcf03ac787f66ab%29%3B%0A%20%20%20%20%20%20%20%20%0A%20%20%20%20%0A%20%20%20%20%20%20%20%20var%20popup_c6d5399a40234eac96c060f214898010%20%3D%20L.popup%28%7B%22maxWidth%22%3A%20%22100%25%22%7D%29%3B%0A%0A%20%20%20%20%20%20%20%20%0A%20%20%20%20%20%20%20%20%20%20%20%20var%20html_9ec927e75d784cb6b69c2be9182c39af%20%3D%20%24%28%60%3Cdiv%20id%3D%22html_9ec927e75d784cb6b69c2be9182c39af%22%20style%3D%22width%3A%20100.0%25%3B%20height%3A%20100.0%25%3B%22%3Eplot%3A%20TCFTNS003%3C/div%3E%60%29%5B0%5D%3B%0A%20%20%20%20%20%20%20%20%20%20%20%20popup_c6d5399a40234eac96c060f214898010.setContent%28html_9ec927e75d784cb6b69c2be9182c39af%29%3B%0A%20%20%20%20%20%20%20%20%0A%0A%20%20%20%20%20%20%20%20marker_bd434ea0d6ef4ec8b907633e811728f6.bindPopup%28popup_c6d5399a40234eac96c060f214898010%29%0A%20%20%20%20%20%20%20%20%3B%0A%0A%20%20%20%20%20%20%20%20%0A%20%20%20%20%0A%20%20%20%20%0A%20%20%20%20%20%20%20%20%20%20%20%20var%20marker_2ffa784f0ff546038af3b0f2a32b1c78%20%3D%20L.marker%28%0A%20%20%20%20%20%20%20%20%20%20%20%20%20%20%20%20%5B-41.669875%2C%20146.501252%5D%2C%0A%20%20%20%20%20%20%20%20%20%20%20%20%20%20%20%20%7B%7D%0A%20%20%20%20%20%20%20%20%20%20%20%20%29.addTo%28map_dbd7e4f6b6b44a5e9bcf03ac787f66ab%29%3B%0A%20%20%20%20%20%20%20%20%0A%20%20%20%20%0A%20%20%20%20%20%20%20%20var%20popup_8701341480144272ad93e6554a631674%20%3D%20L.popup%28%7B%22maxWidth%22%3A%20%22100%25%22%7D%29%3B%0A%0A%20%20%20%20%20%20%20%20%0A%20%20%20%20%20%20%20%20%20%20%20%20var%20html_9be6b95ddbb649cfab786d51e3db89b5%20%3D%20%24%28%60%3Cdiv%20id%3D%22html_9be6b95ddbb649cfab786d51e3db89b5%22%20style%3D%22width%3A%20100.0%25%3B%20height%3A%20100.0%25%3B%22%3Eplot%3A%20TCFTNS004%3C/div%3E%60%29%5B0%5D%3B%0A%20%20%20%20%20%20%20%20%20%20%20%20popup_8701341480144272ad93e6554a631674.setContent%28html_9be6b95ddbb649cfab786d51e3db89b5%29%3B%0A%20%20%20%20%20%20%20%20%0A%0A%20%20%20%20%20%20%20%20marker_2ffa784f0ff546038af3b0f2a32b1c78.bindPopup%28popup_8701341480144272ad93e6554a631674%29%0A%20%20%20%20%20%20%20%20%3B%0A%0A%20%20%20%20%20%20%20%20%0A%20%20%20%20%0A%20%20%20%20%0A%20%20%20%20%20%20%20%20%20%20%20%20var%20marker_15980eaa1a3b45a0bc7eb50be61fa5ae%20%3D%20L.marker%28%0A%20%20%20%20%20%20%20%20%20%20%20%20%20%20%20%20%5B-43.089424%2C%20146.643249%5D%2C%0A%20%20%20%20%20%20%20%20%20%20%20%20%20%20%20%20%7B%7D%0A%20%20%20%20%20%20%20%20%20%20%20%20%29.addTo%28map_dbd7e4f6b6b44a5e9bcf03ac787f66ab%29%3B%0A%20%20%20%20%20%20%20%20%0A%20%20%20%20%0A%20%20%20%20%20%20%20%20var%20popup_d871c1c5ef5e4c908c03eaa7ca598c2b%20%3D%20L.popup%28%7B%22maxWidth%22%3A%20%22100%25%22%7D%29%3B%0A%0A%20%20%20%20%20%20%20%20%0A%20%20%20%20%20%20%20%20%20%20%20%20var%20html_c0d2e57cdfee441d9f4cfbfbdd2fa2cc%20%3D%20%24%28%60%3Cdiv%20id%3D%22html_c0d2e57cdfee441d9f4cfbfbdd2fa2cc%22%20style%3D%22width%3A%20100.0%25%3B%20height%3A%20100.0%25%3B%22%3Eplot%3A%20TCFTSR001%3C/div%3E%60%29%5B0%5D%3B%0A%20%20%20%20%20%20%20%20%20%20%20%20popup_d871c1c5ef5e4c908c03eaa7ca598c2b.setContent%28html_c0d2e57cdfee441d9f4cfbfbdd2fa2cc%29%3B%0A%20%20%20%20%20%20%20%20%0A%0A%20%20%20%20%20%20%20%20marker_15980eaa1a3b45a0bc7eb50be61fa5ae.bindPopup%28popup_d871c1c5ef5e4c908c03eaa7ca598c2b%29%0A%20%20%20%20%20%20%20%20%3B%0A%0A%20%20%20%20%20%20%20%20%0A%20%20%20%20%0A%20%20%20%20%0A%20%20%20%20%20%20%20%20%20%20%20%20var%20marker_7d6c31e9c5f6420b9a4c58e7fdc68d45%20%3D%20L.marker%28%0A%20%20%20%20%20%20%20%20%20%20%20%20%20%20%20%20%5B-43.095939%2C%20146.65341%5D%2C%0A%20%20%20%20%20%20%20%20%20%20%20%20%20%20%20%20%7B%7D%0A%20%20%20%20%20%20%20%20%20%20%20%20%29.addTo%28map_dbd7e4f6b6b44a5e9bcf03ac787f66ab%29%3B%0A%20%20%20%20%20%20%20%20%0A%20%20%20%20%0A%20%20%20%20%20%20%20%20var%20popup_40210c5443ac48258bf200e3fb97f260%20%3D%20L.popup%28%7B%22maxWidth%22%3A%20%22100%25%22%7D%29%3B%0A%0A%20%20%20%20%20%20%20%20%0A%20%20%20%20%20%20%20%20%20%20%20%20var%20html_5c8abaef31f240959db922a1ed1376dd%20%3D%20%24%28%60%3Cdiv%20id%3D%22html_5c8abaef31f240959db922a1ed1376dd%22%20style%3D%22width%3A%20100.0%25%3B%20height%3A%20100.0%25%3B%22%3Eplot%3A%20TCFTSR002%3C/div%3E%60%29%5B0%5D%3B%0A%20%20%20%20%20%20%20%20%20%20%20%20popup_40210c5443ac48258bf200e3fb97f260.setContent%28html_5c8abaef31f240959db922a1ed1376dd%29%3B%0A%20%20%20%20%20%20%20%20%0A%0A%20%20%20%20%20%20%20%20marker_7d6c31e9c5f6420b9a4c58e7fdc68d45.bindPopup%28popup_40210c5443ac48258bf200e3fb97f260%29%0A%20%20%20%20%20%20%20%20%3B%0A%0A%20%20%20%20%20%20%20%20%0A%20%20%20%20%0A%20%20%20%20%0A%20%20%20%20%20%20%20%20%20%20%20%20var%20marker_3416abde3022463294ec1d772fa29d5b%20%3D%20L.marker%28%0A%20%20%20%20%20%20%20%20%20%20%20%20%20%20%20%20%5B-42.811485%2C%20146.608866%5D%2C%0A%20%20%20%20%20%20%20%20%20%20%20%20%20%20%20%20%7B%7D%0A%20%20%20%20%20%20%20%20%20%20%20%20%29.addTo%28map_dbd7e4f6b6b44a5e9bcf03ac787f66ab%29%3B%0A%20%20%20%20%20%20%20%20%0A%20%20%20%20%0A%20%20%20%20%20%20%20%20var%20popup_64022b6439864a1aaa2196fd52265d0a%20%3D%20L.popup%28%7B%22maxWidth%22%3A%20%22100%25%22%7D%29%3B%0A%0A%20%20%20%20%20%20%20%20%0A%20%20%20%20%20%20%20%20%20%20%20%20var%20html_b191e78a412542778e748e9a57574651%20%3D%20%24%28%60%3Cdiv%20id%3D%22html_b191e78a412542778e748e9a57574651%22%20style%3D%22width%3A%20100.0%25%3B%20height%3A%20100.0%25%3B%22%3Eplot%3A%20TCFTSR003%3C/div%3E%60%29%5B0%5D%3B%0A%20%20%20%20%20%20%20%20%20%20%20%20popup_64022b6439864a1aaa2196fd52265d0a.setContent%28html_b191e78a412542778e748e9a57574651%29%3B%0A%20%20%20%20%20%20%20%20%0A%0A%20%20%20%20%20%20%20%20marker_3416abde3022463294ec1d772fa29d5b.bindPopup%28popup_64022b6439864a1aaa2196fd52265d0a%29%0A%20%20%20%20%20%20%20%20%3B%0A%0A%20%20%20%20%20%20%20%20%0A%20%20%20%20%0A%20%20%20%20%0A%20%20%20%20%20%20%20%20%20%20%20%20var%20marker_02e8f06db12146e69481a55ad607468a%20%3D%20L.marker%28%0A%20%20%20%20%20%20%20%20%20%20%20%20%20%20%20%20%5B-43.041397%2C%20146.743861%5D%2C%0A%20%20%20%20%20%20%20%20%20%20%20%20%20%20%20%20%7B%7D%0A%20%20%20%20%20%20%20%20%20%20%20%20%29.addTo%28map_dbd7e4f6b6b44a5e9bcf03ac787f66ab%29%3B%0A%20%20%20%20%20%20%20%20%0A%20%20%20%20%0A%20%20%20%20%20%20%20%20var%20popup_7e4480cc81d3443493dcf187254c4995%20%3D%20L.popup%28%7B%22maxWidth%22%3A%20%22100%25%22%7D%29%3B%0A%0A%20%20%20%20%20%20%20%20%0A%20%20%20%20%20%20%20%20%20%20%20%20var%20html_5b63b3be284e456796596950bd380f01%20%3D%20%24%28%60%3Cdiv%20id%3D%22html_5b63b3be284e456796596950bd380f01%22%20style%3D%22width%3A%20100.0%25%3B%20height%3A%20100.0%25%3B%22%3Eplot%3A%20TCFTSR004%3C/div%3E%60%29%5B0%5D%3B%0A%20%20%20%20%20%20%20%20%20%20%20%20popup_7e4480cc81d3443493dcf187254c4995.setContent%28html_5b63b3be284e456796596950bd380f01%29%3B%0A%20%20%20%20%20%20%20%20%0A%0A%20%20%20%20%20%20%20%20marker_02e8f06db12146e69481a55ad607468a.bindPopup%28popup_7e4480cc81d3443493dcf187254c4995%29%0A%20%20%20%20%20%20%20%20%3B%0A%0A%20%20%20%20%20%20%20%20%0A%20%20%20%20%0A%20%20%20%20%0A%20%20%20%20%20%20%20%20%20%20%20%20var%20marker_0cbbacf52d9946c59c1bc28389c0f925%20%3D%20L.marker%28%0A%20%20%20%20%20%20%20%20%20%20%20%20%20%20%20%20%5B-43.101829%2C%20146.746355%5D%2C%0A%20%20%20%20%20%20%20%20%20%20%20%20%20%20%20%20%7B%7D%0A%20%20%20%20%20%20%20%20%20%20%20%20%29.addTo%28map_dbd7e4f6b6b44a5e9bcf03ac787f66ab%29%3B%0A%20%20%20%20%20%20%20%20%0A%20%20%20%20%0A%20%20%20%20%20%20%20%20var%20popup_5f8abb8c5d394435ac896ec1be292c8f%20%3D%20L.popup%28%7B%22maxWidth%22%3A%20%22100%25%22%7D%29%3B%0A%0A%20%20%20%20%20%20%20%20%0A%20%20%20%20%20%20%20%20%20%20%20%20var%20html_feec84e4102a440a9e186f79439c5cba%20%3D%20%24%28%60%3Cdiv%20id%3D%22html_feec84e4102a440a9e186f79439c5cba%22%20style%3D%22width%3A%20100.0%25%3B%20height%3A%20100.0%25%3B%22%3Eplot%3A%20TCFTSR005%3C/div%3E%60%29%5B0%5D%3B%0A%20%20%20%20%20%20%20%20%20%20%20%20popup_5f8abb8c5d394435ac896ec1be292c8f.setContent%28html_feec84e4102a440a9e186f79439c5cba%29%3B%0A%20%20%20%20%20%20%20%20%0A%0A%20%20%20%20%20%20%20%20marker_0cbbacf52d9946c59c1bc28389c0f925.bindPopup%28popup_5f8abb8c5d394435ac896ec1be292c8f%29%0A%20%20%20%20%20%20%20%20%3B%0A%0A%20%20%20%20%20%20%20%20%0A%20%20%20%20%0A%20%20%20%20%0A%20%20%20%20%20%20%20%20%20%20%20%20var%20marker_ee37eba0c36649e6a37634562baa2aec%20%3D%20L.marker%28%0A%20%20%20%20%20%20%20%20%20%20%20%20%20%20%20%20%5B-42.682963%2C%20146.649282%5D%2C%0A%20%20%20%20%20%20%20%20%20%20%20%20%20%20%20%20%7B%7D%0A%20%20%20%20%20%20%20%20%20%20%20%20%29.addTo%28map_dbd7e4f6b6b44a5e9bcf03ac787f66ab%29%3B%0A%20%20%20%20%20%20%20%20%0A%20%20%20%20%0A%20%20%20%20%20%20%20%20var%20popup_eefc5c297d184218b608f1f0de232e8f%20%3D%20L.popup%28%7B%22maxWidth%22%3A%20%22100%25%22%7D%29%3B%0A%0A%20%20%20%20%20%20%20%20%0A%20%20%20%20%20%20%20%20%20%20%20%20var%20html_01533772042d42bd8d987325c154f311%20%3D%20%24%28%60%3Cdiv%20id%3D%22html_01533772042d42bd8d987325c154f311%22%20style%3D%22width%3A%20100.0%25%3B%20height%3A%20100.0%25%3B%22%3Eplot%3A%20TCFTSR006%3C/div%3E%60%29%5B0%5D%3B%0A%20%20%20%20%20%20%20%20%20%20%20%20popup_eefc5c297d184218b608f1f0de232e8f.setContent%28html_01533772042d42bd8d987325c154f311%29%3B%0A%20%20%20%20%20%20%20%20%0A%0A%20%20%20%20%20%20%20%20marker_ee37eba0c36649e6a37634562baa2aec.bindPopup%28popup_eefc5c297d184218b608f1f0de232e8f%29%0A%20%20%20%20%20%20%20%20%3B%0A%0A%20%20%20%20%20%20%20%20%0A%20%20%20%20%0A%20%20%20%20%0A%20%20%20%20%20%20%20%20%20%20%20%20var%20marker_bfaff44c919d43e1818854071ee75910%20%3D%20L.marker%28%0A%20%20%20%20%20%20%20%20%20%20%20%20%20%20%20%20%5B-37.530841%2C%20145.516708%5D%2C%0A%20%20%20%20%20%20%20%20%20%20%20%20%20%20%20%20%7B%7D%0A%20%20%20%20%20%20%20%20%20%20%20%20%29.addTo%28map_dbd7e4f6b6b44a5e9bcf03ac787f66ab%29%3B%0A%20%20%20%20%20%20%20%20%0A%20%20%20%20%0A%20%20%20%20%20%20%20%20var%20popup_fc5bd85c34d24eb8a879816b0fd09f86%20%3D%20L.popup%28%7B%22maxWidth%22%3A%20%22100%25%22%7D%29%3B%0A%0A%20%20%20%20%20%20%20%20%0A%20%20%20%20%20%20%20%20%20%20%20%20var%20html_00b15bc96f1b4cadb843f4aef879ff3c%20%3D%20%24%28%60%3Cdiv%20id%3D%22html_00b15bc96f1b4cadb843f4aef879ff3c%22%20style%3D%22width%3A%20100.0%25%3B%20height%3A%20100.0%25%3B%22%3Eplot%3A%20VCFSEH001%3C/div%3E%60%29%5B0%5D%3B%0A%20%20%20%20%20%20%20%20%20%20%20%20popup_fc5bd85c34d24eb8a879816b0fd09f86.setContent%28html_00b15bc96f1b4cadb843f4aef879ff3c%29%3B%0A%20%20%20%20%20%20%20%20%0A%0A%20%20%20%20%20%20%20%20marker_bfaff44c919d43e1818854071ee75910.bindPopup%28popup_fc5bd85c34d24eb8a879816b0fd09f86%29%0A%20%20%20%20%20%20%20%20%3B%0A%0A%20%20%20%20%20%20%20%20%0A%20%20%20%20%0A%20%20%20%20%0A%20%20%20%20%20%20%20%20%20%20%20%20var%20marker_112b17396feb4bebaca3293ce7d8040a%20%3D%20L.marker%28%0A%20%20%20%20%20%20%20%20%20%20%20%20%20%20%20%20%5B-37.804973%2C%20145.867273%5D%2C%0A%20%20%20%20%20%20%20%20%20%20%20%20%20%20%20%20%7B%7D%0A%20%20%20%20%20%20%20%20%20%20%20%20%29.addTo%28map_dbd7e4f6b6b44a5e9bcf03ac787f66ab%29%3B%0A%20%20%20%20%20%20%20%20%0A%20%20%20%20%0A%20%20%20%20%20%20%20%20var%20popup_8d7809748f6e4136abd1c4555aac2df3%20%3D%20L.popup%28%7B%22maxWidth%22%3A%20%22100%25%22%7D%29%3B%0A%0A%20%20%20%20%20%20%20%20%0A%20%20%20%20%20%20%20%20%20%20%20%20var%20html_8c0c1a3f99514e66ae8ace9732715835%20%3D%20%24%28%60%3Cdiv%20id%3D%22html_8c0c1a3f99514e66ae8ace9732715835%22%20style%3D%22width%3A%20100.0%25%3B%20height%3A%20100.0%25%3B%22%3Eplot%3A%20VCFSEH002%3C/div%3E%60%29%5B0%5D%3B%0A%20%20%20%20%20%20%20%20%20%20%20%20popup_8d7809748f6e4136abd1c4555aac2df3.setContent%28html_8c0c1a3f99514e66ae8ace9732715835%29%3B%0A%20%20%20%20%20%20%20%20%0A%0A%20%20%20%20%20%20%20%20marker_112b17396feb4bebaca3293ce7d8040a.bindPopup%28popup_8d7809748f6e4136abd1c4555aac2df3%29%0A%20%20%20%20%20%20%20%20%3B%0A%0A%20%20%20%20%20%20%20%20%0A%20%20%20%20%0A%20%20%20%20%0A%20%20%20%20%20%20%20%20%20%20%20%20var%20marker_13966333cf504a2c859f60d1751017c2%20%3D%20L.marker%28%0A%20%20%20%20%20%20%20%20%20%20%20%20%20%20%20%20%5B-38.64372%2C%20143.474993%5D%2C%0A%20%20%20%20%20%20%20%20%20%20%20%20%20%20%20%20%7B%7D%0A%20%20%20%20%20%20%20%20%20%20%20%20%29.addTo%28map_dbd7e4f6b6b44a5e9bcf03ac787f66ab%29%3B%0A%20%20%20%20%20%20%20%20%0A%20%20%20%20%0A%20%20%20%20%20%20%20%20var%20popup_1a5c0ae7ce694bf586c3202d04783232%20%3D%20L.popup%28%7B%22maxWidth%22%3A%20%22100%25%22%7D%29%3B%0A%0A%20%20%20%20%20%20%20%20%0A%20%20%20%20%20%20%20%20%20%20%20%20var%20html_5c68653889cf484dae074a53318e3d6a%20%3D%20%24%28%60%3Cdiv%20id%3D%22html_5c68653889cf484dae074a53318e3d6a%22%20style%3D%22width%3A%20100.0%25%3B%20height%3A%20100.0%25%3B%22%3Eplot%3A%20VCFSEH003%3C/div%3E%60%29%5B0%5D%3B%0A%20%20%20%20%20%20%20%20%20%20%20%20popup_1a5c0ae7ce694bf586c3202d04783232.setContent%28html_5c68653889cf484dae074a53318e3d6a%29%3B%0A%20%20%20%20%20%20%20%20%0A%0A%20%20%20%20%20%20%20%20marker_13966333cf504a2c859f60d1751017c2.bindPopup%28popup_1a5c0ae7ce694bf586c3202d04783232%29%0A%20%20%20%20%20%20%20%20%3B%0A%0A%20%20%20%20%20%20%20%20%0A%20%20%20%20%0A%20%20%20%20%0A%20%20%20%20%20%20%20%20%20%20%20%20var%20marker_b66c51cb16b041a389b9cd382160edd8%20%3D%20L.marker%28%0A%20%20%20%20%20%20%20%20%20%20%20%20%20%20%20%20%5B-38.639815%2C%20143.702362%5D%2C%0A%20%20%20%20%20%20%20%20%20%20%20%20%20%20%20%20%7B%7D%0A%20%20%20%20%20%20%20%20%20%20%20%20%29.addTo%28map_dbd7e4f6b6b44a5e9bcf03ac787f66ab%29%3B%0A%20%20%20%20%20%20%20%20%0A%20%20%20%20%0A%20%20%20%20%20%20%20%20var%20popup_2bd6356b8e9f446c8f5cd20979fbecef%20%3D%20L.popup%28%7B%22maxWidth%22%3A%20%22100%25%22%7D%29%3B%0A%0A%20%20%20%20%20%20%20%20%0A%20%20%20%20%20%20%20%20%20%20%20%20var%20html_43e2042cc626474b9bcef698a5d41302%20%3D%20%24%28%60%3Cdiv%20id%3D%22html_43e2042cc626474b9bcef698a5d41302%22%20style%3D%22width%3A%20100.0%25%3B%20height%3A%20100.0%25%3B%22%3Eplot%3A%20VCFSEH004%3C/div%3E%60%29%5B0%5D%3B%0A%20%20%20%20%20%20%20%20%20%20%20%20popup_2bd6356b8e9f446c8f5cd20979fbecef.setContent%28html_43e2042cc626474b9bcef698a5d41302%29%3B%0A%20%20%20%20%20%20%20%20%0A%0A%20%20%20%20%20%20%20%20marker_b66c51cb16b041a389b9cd382160edd8.bindPopup%28popup_2bd6356b8e9f446c8f5cd20979fbecef%29%0A%20%20%20%20%20%20%20%20%3B%0A%0A%20%20%20%20%20%20%20%20%0A%20%20%20%20%0A%20%20%20%20%0A%20%20%20%20%20%20%20%20%20%20%20%20var%20marker_e7195c5e57ec4604a6d886d58b511cc0%20%3D%20L.marker%28%0A%20%20%20%20%20%20%20%20%20%20%20%20%20%20%20%20%5B-38.629258%2C%20143.625792%5D%2C%0A%20%20%20%20%20%20%20%20%20%20%20%20%20%20%20%20%7B%7D%0A%20%20%20%20%20%20%20%20%20%20%20%20%29.addTo%28map_dbd7e4f6b6b44a5e9bcf03ac787f66ab%29%3B%0A%20%20%20%20%20%20%20%20%0A%20%20%20%20%0A%20%20%20%20%20%20%20%20var%20popup_5adfe29286014b03ace94de2da162c90%20%3D%20L.popup%28%7B%22maxWidth%22%3A%20%22100%25%22%7D%29%3B%0A%0A%20%20%20%20%20%20%20%20%0A%20%20%20%20%20%20%20%20%20%20%20%20var%20html_d02a89b2245a469ba2a1c59bd4fea1d2%20%3D%20%24%28%60%3Cdiv%20id%3D%22html_d02a89b2245a469ba2a1c59bd4fea1d2%22%20style%3D%22width%3A%20100.0%25%3B%20height%3A%20100.0%25%3B%22%3Eplot%3A%20VCFSEH005%3C/div%3E%60%29%5B0%5D%3B%0A%20%20%20%20%20%20%20%20%20%20%20%20popup_5adfe29286014b03ace94de2da162c90.setContent%28html_d02a89b2245a469ba2a1c59bd4fea1d2%29%3B%0A%20%20%20%20%20%20%20%20%0A%0A%20%20%20%20%20%20%20%20marker_e7195c5e57ec4604a6d886d58b511cc0.bindPopup%28popup_5adfe29286014b03ace94de2da162c90%29%0A%20%20%20%20%20%20%20%20%3B%0A%0A%20%20%20%20%20%20%20%20%0A%20%20%20%20%0A%20%20%20%20%0A%20%20%20%20%20%20%20%20%20%20%20%20var%20marker_275a97f6a98243868c8ad7d9160da0a6%20%3D%20L.marker%28%0A%20%20%20%20%20%20%20%20%20%20%20%20%20%20%20%20%5B-37.59279%2C%20145.626745%5D%2C%0A%20%20%20%20%20%20%20%20%20%20%20%20%20%20%20%20%7B%7D%0A%20%20%20%20%20%20%20%20%20%20%20%20%29.addTo%28map_dbd7e4f6b6b44a5e9bcf03ac787f66ab%29%3B%0A%20%20%20%20%20%20%20%20%0A%20%20%20%20%0A%20%20%20%20%20%20%20%20var%20popup_8f56537e20eb4e579dc6d59e71226a2b%20%3D%20L.popup%28%7B%22maxWidth%22%3A%20%22100%25%22%7D%29%3B%0A%0A%20%20%20%20%20%20%20%20%0A%20%20%20%20%20%20%20%20%20%20%20%20var%20html_501929158e0444beae5da6411e3a6f06%20%3D%20%24%28%60%3Cdiv%20id%3D%22html_501929158e0444beae5da6411e3a6f06%22%20style%3D%22width%3A%20100.0%25%3B%20height%3A%20100.0%25%3B%22%3Eplot%3A%20VCFSEH006%3C/div%3E%60%29%5B0%5D%3B%0A%20%20%20%20%20%20%20%20%20%20%20%20popup_8f56537e20eb4e579dc6d59e71226a2b.setContent%28html_501929158e0444beae5da6411e3a6f06%29%3B%0A%20%20%20%20%20%20%20%20%0A%0A%20%20%20%20%20%20%20%20marker_275a97f6a98243868c8ad7d9160da0a6.bindPopup%28popup_8f56537e20eb4e579dc6d59e71226a2b%29%0A%20%20%20%20%20%20%20%20%3B%0A%0A%20%20%20%20%20%20%20%20%0A%20%20%20%20%0A%20%20%20%20%0A%20%20%20%20%20%20%20%20%20%20%20%20var%20marker_21816f6246d141debfbc16c16b4c66a3%20%3D%20L.marker%28%0A%20%20%20%20%20%20%20%20%20%20%20%20%20%20%20%20%5B-37.588718%2C%20145.638847%5D%2C%0A%20%20%20%20%20%20%20%20%20%20%20%20%20%20%20%20%7B%7D%0A%20%20%20%20%20%20%20%20%20%20%20%20%29.addTo%28map_dbd7e4f6b6b44a5e9bcf03ac787f66ab%29%3B%0A%20%20%20%20%20%20%20%20%0A%20%20%20%20%0A%20%20%20%20%20%20%20%20var%20popup_fe349032d54748fc9c752d9939b45b71%20%3D%20L.popup%28%7B%22maxWidth%22%3A%20%22100%25%22%7D%29%3B%0A%0A%20%20%20%20%20%20%20%20%0A%20%20%20%20%20%20%20%20%20%20%20%20var%20html_0e22a03254924fd39be39112aaf9f3c6%20%3D%20%24%28%60%3Cdiv%20id%3D%22html_0e22a03254924fd39be39112aaf9f3c6%22%20style%3D%22width%3A%20100.0%25%3B%20height%3A%20100.0%25%3B%22%3Eplot%3A%20VCFSEH007%3C/div%3E%60%29%5B0%5D%3B%0A%20%20%20%20%20%20%20%20%20%20%20%20popup_fe349032d54748fc9c752d9939b45b71.setContent%28html_0e22a03254924fd39be39112aaf9f3c6%29%3B%0A%20%20%20%20%20%20%20%20%0A%0A%20%20%20%20%20%20%20%20marker_21816f6246d141debfbc16c16b4c66a3.bindPopup%28popup_fe349032d54748fc9c752d9939b45b71%29%0A%20%20%20%20%20%20%20%20%3B%0A%0A%20%20%20%20%20%20%20%20%0A%20%20%20%20%0A%20%20%20%20%0A%20%20%20%20%20%20%20%20%20%20%20%20var%20marker_19da932f6d49470282613c3722a103c0%20%3D%20L.marker%28%0A%20%20%20%20%20%20%20%20%20%20%20%20%20%20%20%20%5B-37.569273%2C%20145.546473%5D%2C%0A%20%20%20%20%20%20%20%20%20%20%20%20%20%20%20%20%7B%7D%0A%20%20%20%20%20%20%20%20%20%20%20%20%29.addTo%28map_dbd7e4f6b6b44a5e9bcf03ac787f66ab%29%3B%0A%20%20%20%20%20%20%20%20%0A%20%20%20%20%0A%20%20%20%20%20%20%20%20var%20popup_1a42e9443e0c43d2b79a05664f79061c%20%3D%20L.popup%28%7B%22maxWidth%22%3A%20%22100%25%22%7D%29%3B%0A%0A%20%20%20%20%20%20%20%20%0A%20%20%20%20%20%20%20%20%20%20%20%20var%20html_c825b170ed1d4ad19db44765a76f81cc%20%3D%20%24%28%60%3Cdiv%20id%3D%22html_c825b170ed1d4ad19db44765a76f81cc%22%20style%3D%22width%3A%20100.0%25%3B%20height%3A%20100.0%25%3B%22%3Eplot%3A%20VCFSEH008%3C/div%3E%60%29%5B0%5D%3B%0A%20%20%20%20%20%20%20%20%20%20%20%20popup_1a42e9443e0c43d2b79a05664f79061c.setContent%28html_c825b170ed1d4ad19db44765a76f81cc%29%3B%0A%20%20%20%20%20%20%20%20%0A%0A%20%20%20%20%20%20%20%20marker_19da932f6d49470282613c3722a103c0.bindPopup%28popup_1a42e9443e0c43d2b79a05664f79061c%29%0A%20%20%20%20%20%20%20%20%3B%0A%0A%20%20%20%20%20%20%20%20%0A%20%20%20%20%0A%20%20%20%20%0A%20%20%20%20%20%20%20%20%20%20%20%20var%20marker_a3019e8fdebf456ba8b870664bb3403c%20%3D%20L.marker%28%0A%20%20%20%20%20%20%20%20%20%20%20%20%20%20%20%20%5B-34.386658%2C%20115.845703%5D%2C%0A%20%20%20%20%20%20%20%20%20%20%20%20%20%20%20%20%7B%7D%0A%20%20%20%20%20%20%20%20%20%20%20%20%29.addTo%28map_dbd7e4f6b6b44a5e9bcf03ac787f66ab%29%3B%0A%20%20%20%20%20%20%20%20%0A%20%20%20%20%0A%20%20%20%20%20%20%20%20var%20popup_12e196d50ced43239f0ccd108c9227c6%20%3D%20L.popup%28%7B%22maxWidth%22%3A%20%22100%25%22%7D%29%3B%0A%0A%20%20%20%20%20%20%20%20%0A%20%20%20%20%20%20%20%20%20%20%20%20var%20html_dcddf1c9110e401d9e5503a9e96219d7%20%3D%20%24%28%60%3Cdiv%20id%3D%22html_dcddf1c9110e401d9e5503a9e96219d7%22%20style%3D%22width%3A%20100.0%25%3B%20height%3A%20100.0%25%3B%22%3Eplot%3A%20WAFWAR001%3C/div%3E%60%29%5B0%5D%3B%0A%20%20%20%20%20%20%20%20%20%20%20%20popup_12e196d50ced43239f0ccd108c9227c6.setContent%28html_dcddf1c9110e401d9e5503a9e96219d7%29%3B%0A%20%20%20%20%20%20%20%20%0A%0A%20%20%20%20%20%20%20%20marker_a3019e8fdebf456ba8b870664bb3403c.bindPopup%28popup_12e196d50ced43239f0ccd108c9227c6%29%0A%20%20%20%20%20%20%20%20%3B%0A%0A%20%20%20%20%20%20%20%20%0A%20%20%20%20%0A%20%20%20%20%0A%20%20%20%20%20%20%20%20%20%20%20%20var%20marker_994fac4771d64817aa002cc3798b40d5%20%3D%20L.marker%28%0A%20%20%20%20%20%20%20%20%20%20%20%20%20%20%20%20%5B-34.577134%2C%20115.983409%5D%2C%0A%20%20%20%20%20%20%20%20%20%20%20%20%20%20%20%20%7B%7D%0A%20%20%20%20%20%20%20%20%20%20%20%20%29.addTo%28map_dbd7e4f6b6b44a5e9bcf03ac787f66ab%29%3B%0A%20%20%20%20%20%20%20%20%0A%20%20%20%20%0A%20%20%20%20%20%20%20%20var%20popup_0a290adff8ed48329479156bfdb16d31%20%3D%20L.popup%28%7B%22maxWidth%22%3A%20%22100%25%22%7D%29%3B%0A%0A%20%20%20%20%20%20%20%20%0A%20%20%20%20%20%20%20%20%20%20%20%20var%20html_f70c184871a6420bbb8f98d7885e65b3%20%3D%20%24%28%60%3Cdiv%20id%3D%22html_f70c184871a6420bbb8f98d7885e65b3%22%20style%3D%22width%3A%20100.0%25%3B%20height%3A%20100.0%25%3B%22%3Eplot%3A%20WAFWAR002%3C/div%3E%60%29%5B0%5D%3B%0A%20%20%20%20%20%20%20%20%20%20%20%20popup_0a290adff8ed48329479156bfdb16d31.setContent%28html_f70c184871a6420bbb8f98d7885e65b3%29%3B%0A%20%20%20%20%20%20%20%20%0A%0A%20%20%20%20%20%20%20%20marker_994fac4771d64817aa002cc3798b40d5.bindPopup%28popup_0a290adff8ed48329479156bfdb16d31%29%0A%20%20%20%20%20%20%20%20%3B%0A%0A%20%20%20%20%20%20%20%20%0A%20%20%20%20%0A%20%20%20%20%0A%20%20%20%20%20%20%20%20%20%20%20%20var%20marker_61843055863a4c67b4d839920644d48a%20%3D%20L.marker%28%0A%20%20%20%20%20%20%20%20%20%20%20%20%20%20%20%20%5B-34.545976%2C%20115.952205%5D%2C%0A%20%20%20%20%20%20%20%20%20%20%20%20%20%20%20%20%7B%7D%0A%20%20%20%20%20%20%20%20%20%20%20%20%29.addTo%28map_dbd7e4f6b6b44a5e9bcf03ac787f66ab%29%3B%0A%20%20%20%20%20%20%20%20%0A%20%20%20%20%0A%20%20%20%20%20%20%20%20var%20popup_e820fbf962674cfbba14f1293fdff2f3%20%3D%20L.popup%28%7B%22maxWidth%22%3A%20%22100%25%22%7D%29%3B%0A%0A%20%20%20%20%20%20%20%20%0A%20%20%20%20%20%20%20%20%20%20%20%20var%20html_64e402b356274fa2889f7eec32f3aa13%20%3D%20%24%28%60%3Cdiv%20id%3D%22html_64e402b356274fa2889f7eec32f3aa13%22%20style%3D%22width%3A%20100.0%25%3B%20height%3A%20100.0%25%3B%22%3Eplot%3A%20WAFWAR003%3C/div%3E%60%29%5B0%5D%3B%0A%20%20%20%20%20%20%20%20%20%20%20%20popup_e820fbf962674cfbba14f1293fdff2f3.setContent%28html_64e402b356274fa2889f7eec32f3aa13%29%3B%0A%20%20%20%20%20%20%20%20%0A%0A%20%20%20%20%20%20%20%20marker_61843055863a4c67b4d839920644d48a.bindPopup%28popup_e820fbf962674cfbba14f1293fdff2f3%29%0A%20%20%20%20%20%20%20%20%3B%0A%0A%20%20%20%20%20%20%20%20%0A%20%20%20%20%0A%20%20%20%20%0A%20%20%20%20%20%20%20%20%20%20%20%20var%20marker_8c74b5f7db6a43f1bc50de3ebb2d2785%20%3D%20L.marker%28%0A%20%20%20%20%20%20%20%20%20%20%20%20%20%20%20%20%5B-34.849788%2C%20116.687185%5D%2C%0A%20%20%20%20%20%20%20%20%20%20%20%20%20%20%20%20%7B%7D%0A%20%20%20%20%20%20%20%20%20%20%20%20%29.addTo%28map_dbd7e4f6b6b44a5e9bcf03ac787f66ab%29%3B%0A%20%20%20%20%20%20%20%20%0A%20%20%20%20%0A%20%20%20%20%20%20%20%20var%20popup_825f61250b3c433886aaaf43c7c11421%20%3D%20L.popup%28%7B%22maxWidth%22%3A%20%22100%25%22%7D%29%3B%0A%0A%20%20%20%20%20%20%20%20%0A%20%20%20%20%20%20%20%20%20%20%20%20var%20html_60743e1bcafb48219be0a67d0b20f5b5%20%3D%20%24%28%60%3Cdiv%20id%3D%22html_60743e1bcafb48219be0a67d0b20f5b5%22%20style%3D%22width%3A%20100.0%25%3B%20height%3A%20100.0%25%3B%22%3Eplot%3A%20WAFWAR004%3C/div%3E%60%29%5B0%5D%3B%0A%20%20%20%20%20%20%20%20%20%20%20%20popup_825f61250b3c433886aaaf43c7c11421.setContent%28html_60743e1bcafb48219be0a67d0b20f5b5%29%3B%0A%20%20%20%20%20%20%20%20%0A%0A%20%20%20%20%20%20%20%20marker_8c74b5f7db6a43f1bc50de3ebb2d2785.bindPopup%28popup_825f61250b3c433886aaaf43c7c11421%29%0A%20%20%20%20%20%20%20%20%3B%0A%0A%20%20%20%20%20%20%20%20%0A%20%20%20%20%0A%20%20%20%20%0A%20%20%20%20%20%20%20%20%20%20%20%20var%20marker_aaf804462c4346318ed19521c929574d%20%3D%20L.marker%28%0A%20%20%20%20%20%20%20%20%20%20%20%20%20%20%20%20%5B-34.980543%2C%20116.879329%5D%2C%0A%20%20%20%20%20%20%20%20%20%20%20%20%20%20%20%20%7B%7D%0A%20%20%20%20%20%20%20%20%20%20%20%20%29.addTo%28map_dbd7e4f6b6b44a5e9bcf03ac787f66ab%29%3B%0A%20%20%20%20%20%20%20%20%0A%20%20%20%20%0A%20%20%20%20%20%20%20%20var%20popup_1f9b89aaac5b49c8bf3ea8e0f2a5a18a%20%3D%20L.popup%28%7B%22maxWidth%22%3A%20%22100%25%22%7D%29%3B%0A%0A%20%20%20%20%20%20%20%20%0A%20%20%20%20%20%20%20%20%20%20%20%20var%20html_45db37c5c9664f4a9766dec7e3a5f14d%20%3D%20%24%28%60%3Cdiv%20id%3D%22html_45db37c5c9664f4a9766dec7e3a5f14d%22%20style%3D%22width%3A%20100.0%25%3B%20height%3A%20100.0%25%3B%22%3Eplot%3A%20WAFWAR005%3C/div%3E%60%29%5B0%5D%3B%0A%20%20%20%20%20%20%20%20%20%20%20%20popup_1f9b89aaac5b49c8bf3ea8e0f2a5a18a.setContent%28html_45db37c5c9664f4a9766dec7e3a5f14d%29%3B%0A%20%20%20%20%20%20%20%20%0A%0A%20%20%20%20%20%20%20%20marker_aaf804462c4346318ed19521c929574d.bindPopup%28popup_1f9b89aaac5b49c8bf3ea8e0f2a5a18a%29%0A%20%20%20%20%20%20%20%20%3B%0A%0A%20%20%20%20%20%20%20%20%0A%20%20%20%20%0A%20%20%20%20%0A%20%20%20%20%20%20%20%20%20%20%20%20var%20marker_12200c4014a943b18bccc924870d856d%20%3D%20L.marker%28%0A%20%20%20%20%20%20%20%20%20%20%20%20%20%20%20%20%5B-34.448862%2C%20116.249838%5D%2C%0A%20%20%20%20%20%20%20%20%20%20%20%20%20%20%20%20%7B%7D%0A%20%20%20%20%20%20%20%20%20%20%20%20%29.addTo%28map_dbd7e4f6b6b44a5e9bcf03ac787f66ab%29%3B%0A%20%20%20%20%20%20%20%20%0A%20%20%20%20%0A%20%20%20%20%20%20%20%20var%20popup_af5268de062340a784f23d87108a5c18%20%3D%20L.popup%28%7B%22maxWidth%22%3A%20%22100%25%22%7D%29%3B%0A%0A%20%20%20%20%20%20%20%20%0A%20%20%20%20%20%20%20%20%20%20%20%20var%20html_0c1d699422d94e36a6bb52318c86a4f7%20%3D%20%24%28%60%3Cdiv%20id%3D%22html_0c1d699422d94e36a6bb52318c86a4f7%22%20style%3D%22width%3A%20100.0%25%3B%20height%3A%20100.0%25%3B%22%3Eplot%3A%20WAFWAR006%3C/div%3E%60%29%5B0%5D%3B%0A%20%20%20%20%20%20%20%20%20%20%20%20popup_af5268de062340a784f23d87108a5c18.setContent%28html_0c1d699422d94e36a6bb52318c86a4f7%29%3B%0A%20%20%20%20%20%20%20%20%0A%0A%20%20%20%20%20%20%20%20marker_12200c4014a943b18bccc924870d856d.bindPopup%28popup_af5268de062340a784f23d87108a5c18%29%0A%20%20%20%20%20%20%20%20%3B%0A%0A%20%20%20%20%20%20%20%20%0A%20%20%20%20%0A%20%20%20%20%0A%20%20%20%20%20%20%20%20%20%20%20%20var%20marker_2625ed3be13d4d72b072cd186e84edba%20%3D%20L.marker%28%0A%20%20%20%20%20%20%20%20%20%20%20%20%20%20%20%20%5B-34.824617%2C%20116.786015%5D%2C%0A%20%20%20%20%20%20%20%20%20%20%20%20%20%20%20%20%7B%7D%0A%20%20%20%20%20%20%20%20%20%20%20%20%29.addTo%28map_dbd7e4f6b6b44a5e9bcf03ac787f66ab%29%3B%0A%20%20%20%20%20%20%20%20%0A%20%20%20%20%0A%20%20%20%20%20%20%20%20var%20popup_d3294a8ad56c434981e4370e597176ff%20%3D%20L.popup%28%7B%22maxWidth%22%3A%20%22100%25%22%7D%29%3B%0A%0A%20%20%20%20%20%20%20%20%0A%20%20%20%20%20%20%20%20%20%20%20%20var%20html_3fa54d885ed44ff28b6353f4f417013d%20%3D%20%24%28%60%3Cdiv%20id%3D%22html_3fa54d885ed44ff28b6353f4f417013d%22%20style%3D%22width%3A%20100.0%25%3B%20height%3A%20100.0%25%3B%22%3Eplot%3A%20WAFWAR007%3C/div%3E%60%29%5B0%5D%3B%0A%20%20%20%20%20%20%20%20%20%20%20%20popup_d3294a8ad56c434981e4370e597176ff.setContent%28html_3fa54d885ed44ff28b6353f4f417013d%29%3B%0A%20%20%20%20%20%20%20%20%0A%0A%20%20%20%20%20%20%20%20marker_2625ed3be13d4d72b072cd186e84edba.bindPopup%28popup_d3294a8ad56c434981e4370e597176ff%29%0A%20%20%20%20%20%20%20%20%3B%0A%0A%20%20%20%20%20%20%20%20%0A%20%20%20%20%0A%20%20%20%20%0A%20%20%20%20%20%20%20%20%20%20%20%20var%20marker_5200d7dab22a47589b1171f8415d7cb3%20%3D%20L.marker%28%0A%20%20%20%20%20%20%20%20%20%20%20%20%20%20%20%20%5B-34.995411%2C%20116.650415%5D%2C%0A%20%20%20%20%20%20%20%20%20%20%20%20%20%20%20%20%7B%7D%0A%20%20%20%20%20%20%20%20%20%20%20%20%29.addTo%28map_dbd7e4f6b6b44a5e9bcf03ac787f66ab%29%3B%0A%20%20%20%20%20%20%20%20%0A%20%20%20%20%0A%20%20%20%20%20%20%20%20var%20popup_0aebd8340d994fe9813cced5553d6b4b%20%3D%20L.popup%28%7B%22maxWidth%22%3A%20%22100%25%22%7D%29%3B%0A%0A%20%20%20%20%20%20%20%20%0A%20%20%20%20%20%20%20%20%20%20%20%20var%20html_d6a0bd0a1932454ca7d72eca46674554%20%3D%20%24%28%60%3Cdiv%20id%3D%22html_d6a0bd0a1932454ca7d72eca46674554%22%20style%3D%22width%3A%20100.0%25%3B%20height%3A%20100.0%25%3B%22%3Eplot%3A%20WAFWAR008%3C/div%3E%60%29%5B0%5D%3B%0A%20%20%20%20%20%20%20%20%20%20%20%20popup_0aebd8340d994fe9813cced5553d6b4b.setContent%28html_d6a0bd0a1932454ca7d72eca46674554%29%3B%0A%20%20%20%20%20%20%20%20%0A%0A%20%20%20%20%20%20%20%20marker_5200d7dab22a47589b1171f8415d7cb3.bindPopup%28popup_0aebd8340d994fe9813cced5553d6b4b%29%0A%20%20%20%20%20%20%20%20%3B%0A%0A%20%20%20%20%20%20%20%20%0A%20%20%20%20%0A%20%20%20%20%0A%20%20%20%20%20%20%20%20%20%20%20%20var%20marker_55d04b7185224ce7aab9aafb13f4a059%20%3D%20L.marker%28%0A%20%20%20%20%20%20%20%20%20%20%20%20%20%20%20%20%5B-34.507806%2C%20116.12422%5D%2C%0A%20%20%20%20%20%20%20%20%20%20%20%20%20%20%20%20%7B%7D%0A%20%20%20%20%20%20%20%20%20%20%20%20%29.addTo%28map_dbd7e4f6b6b44a5e9bcf03ac787f66ab%29%3B%0A%20%20%20%20%20%20%20%20%0A%20%20%20%20%0A%20%20%20%20%20%20%20%20var%20popup_d42684761d6d44829c0377af525c1f99%20%3D%20L.popup%28%7B%22maxWidth%22%3A%20%22100%25%22%7D%29%3B%0A%0A%20%20%20%20%20%20%20%20%0A%20%20%20%20%20%20%20%20%20%20%20%20var%20html_5d585a959cb148419fa934ab6040fc62%20%3D%20%24%28%60%3Cdiv%20id%3D%22html_5d585a959cb148419fa934ab6040fc62%22%20style%3D%22width%3A%20100.0%25%3B%20height%3A%20100.0%25%3B%22%3Eplot%3A%20WAFWAR009%3C/div%3E%60%29%5B0%5D%3B%0A%20%20%20%20%20%20%20%20%20%20%20%20popup_d42684761d6d44829c0377af525c1f99.setContent%28html_5d585a959cb148419fa934ab6040fc62%29%3B%0A%20%20%20%20%20%20%20%20%0A%0A%20%20%20%20%20%20%20%20marker_55d04b7185224ce7aab9aafb13f4a059.bindPopup%28popup_d42684761d6d44829c0377af525c1f99%29%0A%20%20%20%20%20%20%20%20%3B%0A%0A%20%20%20%20%20%20%20%20%0A%20%20%20%20%0A%3C/script%3E onload=\"this.contentDocument.open();this.contentDocument.write(    decodeURIComponent(this.getAttribute('data-html')));this.contentDocument.close();\" allowfullscreen webkitallowfullscreen mozallowfullscreen></iframe></div></div>"
      ],
      "text/plain": [
       "<folium.folium.Map at 0x7f2ed45d6310>"
      ]
     },
     "execution_count": 14,
     "metadata": {},
     "output_type": "execute_result"
    }
   ],
   "source": [
    "# set location center for map\n",
    "center = [ project_plots[first_plot]['latitude'], project_plots[first_plot]['longitude'] ]\n",
    "# set zoom level, note that depending on the project,\n",
    "# you may wish to increase the zoom level\n",
    "zoom = 3\n",
    "# create a map with Folium and Leaflet.js\n",
    "m = folium.Map(location=center, tiles=\"Stamen Terrain\", zoom_start = zoom)\n",
    "# Add markers to map for each plot in `project_plots`\n",
    "for plot in project_plots.items():\n",
    "    folium.Marker(\n",
    "        [plot[1]['latitude'], plot[1]['longitude']],\n",
    "        popup = f\"plot: {plot[0]}\"\n",
    "    ).add_to(m)\n",
    "# display map\n",
    "m"
   ]
  },
  {
   "cell_type": "markdown",
   "metadata": {},
   "source": [
    "The map has zoom in and zoom out buttons, can be dragged with a mouse, and displays markers which can be clicked on to display their popup text."
   ]
  },
  {
   "cell_type": "markdown",
   "metadata": {},
   "source": [
    "#### Plot Trees"
   ]
  },
  {
   "cell_type": "markdown",
   "metadata": {},
   "source": [
    "Now let's look at plotting trees for the first plot of the designated project. We construct another query with our `fetch_results` helper function. This time, we query for fields containing plant height, UTM coordinates, and elevation as well as set the `table` parameter to \"tree\"."
   ]
  },
  {
   "cell_type": "code",
   "execution_count": 15,
   "metadata": {},
   "outputs": [],
   "source": [
    "# query for trees for the first plot of the project\n",
    "results = fetch_results({\n",
    "    \"bbox\": [-180, 90, 180, -90],\n",
    "    \"where\": {\n",
    "        \"project\": project,\n",
    "        \"plot\": first_plot\n",
    "    },\n",
    "    # h.t -> total height of plant from ground to highest leaf\n",
    "    # x -> easting UTM coordinate\n",
    "    # y -> northing UTM coordinate\n",
    "    # z -> elevation relative to geoid coordinate\n",
    "    \"fields\": [ \"h.t\", \"x\", \"y\", \"z\"],\n",
    "    \"table\": \"tree\"\n",
    "}, 1000)"
   ]
  },
  {
   "cell_type": "markdown",
   "metadata": {},
   "source": [
    "#### Determine the Number and Height of Trees"
   ]
  },
  {
   "cell_type": "markdown",
   "metadata": {},
   "source": [
    "To see the number of trees in the list of results, we use the `len` function within a formatted print statement. Since not all of the results contain heights, lets check how many trees with height data exist by creating a new variable set to the results with heights and use the `len` function within a formatted print statement again. Also, we can set variables to contain the heights, x and y values contained within our results to be used when plotting the trees."
   ]
  },
  {
   "cell_type": "code",
   "execution_count": 16,
   "metadata": {},
   "outputs": [
    {
     "name": "stdout",
     "output_type": "stream",
     "text": [
      "Number of trees: 520\n",
      "Number of trees with heights: 117\n"
     ]
    }
   ],
   "source": [
    "# print number of trees in results\n",
    "print(f\"Number of trees: {len(results)}\")\n",
    "# print number of trees with heights\n",
    "heights = [r[\"h.t\"] for r in results if r[\"h.t\"] is not None]\n",
    "print(f\"Number of trees with heights: {len(heights)}\")\n",
    "# set variables to the heights, x and y values contained in the results\n",
    "hts = [r['h.t'] for r in results] \n",
    "xs = [r['x'] for r in results]\n",
    "ys = [r['y'] for r in results]"
   ]
  },
  {
   "cell_type": "markdown",
   "metadata": {},
   "source": [
    "#### Plot the Trees"
   ]
  },
  {
   "cell_type": "markdown",
   "metadata": {},
   "source": [
    "With our variables for tree heights, x and y coordinate values, let's use the `plt.scatter` function to create a scatter plot with a title and labels for the UTM coordinates of the trees. Lastly, let's also create a histogram using `plt.hist` to visualize the distribution of tree heights. Here we also include some code to adjust the display colors and add labels and a title."
   ]
  },
  {
   "cell_type": "code",
   "execution_count": 17,
   "metadata": {},
   "outputs": [
    {
     "data": {
      "image/png": "[encoded data removed]",
      "text/plain": [
       "<Figure size 432x288 with 1 Axes>"
      ]
     },
     "metadata": {
      "needs_background": "light"
     },
     "output_type": "display_data"
    },
    {
     "data": {
      "image/png": "[encoded data removed]",
      "text/plain": [
       "<Figure size 432x288 with 1 Axes>"
      ]
     },
     "metadata": {
      "needs_background": "light"
     },
     "output_type": "display_data"
    }
   ],
   "source": [
    "# create scatter plot with x and y values\n",
    "plt.scatter(xs, ys, c=hts, cmap=\"Greens\")\n",
    "# add labels and title\n",
    "plt.xlabel('Easting UTM Coordinate')\n",
    "plt.ylabel('Northing UTM Coordinate')\n",
    "plt.title(f\"UTM Coordinates for Plot {first_plot} in Project {project}\\n\", fontsize=22)\n",
    "plt.show()\n",
    "# adjust display colors\n",
    "cm = plt.cm.Greens\n",
    "nbins = 8\n",
    "# create histogram for tree heights\n",
    "n, bins, patches = plt.hist(x=heights, bins=nbins, rwidth=0.85)\n",
    "for i, p in enumerate(patches):\n",
    "    plt.setp(p, 'facecolor', cm(i/nbins))\n",
    "# add labels and title\n",
    "plt.xlabel('Height')\n",
    "plt.ylabel('Frequency')\n",
    "plt.title(f\"Tree Heights for Plot {first_plot} in Project {project}\\n\", fontsize=22)\n",
    "plt.show()\n"
   ]
  }
 ],
 "metadata": {
  "kernelspec": {
   "display_name": "Python 3",
   "language": "python",
   "name": "python3"
  },
  "language_info": {
   "codemirror_mode": {
    "name": "ipython",
    "version": 3
   },
   "file_extension": ".py",
   "mimetype": "text/x-python",
   "name": "python",
   "nbconvert_exporter": "python",
   "pygments_lexer": "ipython3",
   "version": "3.7.8"
  }
 },
 "nbformat": 4,
 "nbformat_minor": 4
}
