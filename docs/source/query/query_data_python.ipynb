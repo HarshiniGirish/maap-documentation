{
 "cells": [
  {
   "cell_type": "markdown",
   "metadata": {},
   "source": [
    "## How to Query Data from the MAAP via Python Client"
   ]
  },
  {
   "cell_type": "markdown",
   "metadata": {},
   "source": [
    "Supported collections can be subsetted through the MAAP Query Service. The data's storage backend determines the Query Service compatibility. In general, we can query collections with an underlying Analytics-Optimized Data Store (AODS), a data storage arrangement supporting the quick analysis of big data.\n",
    "\n",
    "Users can interact with the service through the MAAP Python client, which provides a wrapper over the MAAP API’s Query Service endpoint. All MAAP API endpoint operations are supported with this method, as well as polling functionality."
   ]
  },
  {
   "cell_type": "markdown",
   "metadata": {},
   "source": [
    "First, we import the `json` module, import the `MAAP` package, and create a new MAAP class."
   ]
  },
  {
   "cell_type": "code",
   "execution_count": 1,
   "metadata": {},
   "outputs": [],
   "source": [
    "# import the json module\n",
    "import json\n",
    "\n",
    "# import the MAAP package\n",
    "from maap.maap import MAAP\n",
    "\n",
    "# create MAAP class\n",
    "maap = MAAP()"
   ]
  },
  {
   "cell_type": "markdown",
   "metadata": {},
   "source": [
    "We create a dictionary containing a 'Collection' key, which contains entries for 'ShortName' and 'VersionId'. This is used later in the `executeQuery()` function. For this example, we use the GEDI Cal/Val Field Data_1 (Version 0001) collection. "
   ]
  },
  {
   "cell_type": "code",
   "execution_count": 2,
   "metadata": {},
   "outputs": [],
   "source": [
    "# create dictionary with a \"Collection\" key containing \"Shortname\" and \"VersionId\" entries.\n",
    "collection  = { \n",
    "  \"Collection\": { \n",
    "      \"ShortName\": \"GEDI Cal/Val Field Data_1\", \n",
    "      \"VersionId\": \"001\" \n",
    "  } \n",
    "}"
   ]
  },
  {
   "cell_type": "markdown",
   "metadata": {},
   "source": [
    "### Query Searching for a Project Name"
   ]
  },
  {
   "cell_type": "markdown",
   "metadata": {},
   "source": [
    "We use the `executeQuery()` function to return a requests module response instance. This object can be used to view the response headers, parse the response as a JSON, or access the raw data of the response. In this example, we assign our `collection` dictionary to `src`, a dictionary-like object specifying the dataset to query. We also assign the `bbox` and `fields` parameters for `query`, a dictionary-like object which specifies the parameters for the query. The `bbox` parameter is a GeoJSON-compliant bounding box ([minX, minY, maxX, maxY]) which is used to filter data spatially. The `fields` parameter is a list of fields to return in the query resopnse. In this case, we assign \"project\" to `fields`."
   ]
  },
  {
   "cell_type": "code",
   "execution_count": 3,
   "metadata": {},
   "outputs": [],
   "source": [
    "# use the executeQuery() function to get a requests module response instance\n",
    "response = maap.executeQuery( \n",
    "  \n",
    "  # dictionary-like object specifying the dataset to query  \n",
    "  src = collection, \n",
    "\n",
    "  # dictionary-like object specifying parameters for query\n",
    "  query = { \n",
    "      \n",
    "    # bounding box to spatially filter data\n",
    "    \"bbox\": [9.31, 0.53, 9.32, 0.54], \n",
    "      \n",
    "    # list of fields to return in query response\n",
    "    \"fields\": [\"project\"],\n",
    "  }\n",
    ")"
   ]
  },
  {
   "cell_type": "markdown",
   "metadata": {},
   "source": [
    "We can check the 'Content-Type' header of our response to see the content type of the response. In the following code, the 'Content-Type' header is checked to determine if it is JSON or not, so that an appropriate print statement can be run to display the name of the project."
   ]
  },
  {
   "cell_type": "code",
   "execution_count": 4,
   "metadata": {},
   "outputs": [
    {
     "name": "stdout",
     "output_type": "stream",
     "text": [
      "{\n",
      "  \"project\": \"gabon_mondah\"\n",
      "}\n"
     ]
    }
   ],
   "source": [
    "# if the 'Content-Type' is json, creates variable with json version of the response\n",
    "if (response.headers.get(\"Content-Type\") is \"application/json\"):\n",
    "    \n",
    "    # prints project name\n",
    "    print('\"project\": \"'+response.json()[0][\"project\"]+'\"')\n",
    "    \n",
    "# if the 'Content-Type' is not json, creates variable with unicode content of the response\n",
    "else:\n",
    "    data = response.text\n",
    "    \n",
    "    # prints project name\n",
    "    print(json.dumps(json.loads(response.text)[0], indent=2))"
   ]
  },
  {
   "cell_type": "markdown",
   "metadata": {},
   "source": [
    "### Query Inspecting a Single Observation"
   ]
  },
  {
   "cell_type": "markdown",
   "metadata": {},
   "source": [
    "Like the previous example, we use the `executeQuery()` function to return a requests module response instance and assign our `collection` dictionary to `src`. This time, we assign the `bbox` and `where` parameters for `query`. The `where` parameter is a dictionary-like object which maps fields to required values. It is used for filtering the query by properties. In this example, we assign the \"project\" field with \"gabon_mondah\", the project name result from the previous example, to `where`. "
   ]
  },
  {
   "cell_type": "code",
   "execution_count": 5,
   "metadata": {},
   "outputs": [],
   "source": [
    "# get a requests module response instance\n",
    "response = maap.executeQuery( \n",
    "  \n",
    "  # dictionary-like object specifying the dataset to query  \n",
    "  src = collection, \n",
    "\n",
    "  # dictionary-like object specifying parameters for query\n",
    "  query = { \n",
    "      \n",
    "    # bounding box to spatially filter data\n",
    "    \"bbox\": [9.31, 0.53, 9.32, 0.54],\n",
    "    \n",
    "    # dictionary-like object which maps fields to required values\n",
    "    \"where\": {\n",
    "        \"project\": \"gabon_mondah\"\n",
    "    }\n",
    "  }\n",
    ")"
   ]
  },
  {
   "cell_type": "markdown",
   "metadata": {},
   "source": [
    "As in the last example, we can check the 'Content-Type' header to determine if the content type is JSON or not and use the appropriate print statement. "
   ]
  },
  {
   "cell_type": "code",
   "execution_count": 6,
   "metadata": {},
   "outputs": [
    {
     "name": "stdout",
     "output_type": "stream",
     "text": [
      "{\n",
      "  \"project\": \"gabon_mondah\",\n",
      "  \"plot\": \"NASA11\",\n",
      "  \"subplot\": \"1\",\n",
      "  \"survey\": \"AfriSAR_ESA_2016\",\n",
      "  \"tree.date\": \"2016-02-10\",\n",
      "  \"family\": \"Burseraceae\",\n",
      "  \"species\": \"Aucoumea klaineana\",\n",
      "  \"pft\": null,\n",
      "  \"wsg\": 0.377851851851852,\n",
      "  \"wsg.sd\": 0.0708232617216773,\n",
      "  \"tree\": \"5503\",\n",
      "  \"stem\": \"1\",\n",
      "  \"x\": 535541.543314416,\n",
      "  \"y\": 59494.073355666,\n",
      "  \"z\": null,\n",
      "  \"status\": 1,\n",
      "  \"allom.key\": 2,\n",
      "  \"a.stem\": 0.0111220233918713,\n",
      "  \"h.t\": null,\n",
      "  \"h.t.mod\": 12.1778828850344,\n",
      "  \"d.stem\": 0.119,\n",
      "  \"d.stem.valid\": 1,\n",
      "  \"d.ht\": 1.6,\n",
      "  \"c.w\": null,\n",
      "  \"m.agb\": 37.5376119705749,\n",
      "  \"id\": 42777,\n",
      "  \"private\": 0,\n",
      "  \"date\": \"2016-02-01\",\n",
      "  \"region\": \"Af\",\n",
      "  \"vegetation\": \"TropRF\",\n",
      "  \"map\": 3083.93471636915,\n",
      "  \"mat\": 25.6671529098763,\n",
      "  \"pft.modis\": \"Evergreen Broadleaf trees\",\n",
      "  \"pft.name\": null,\n",
      "  \"latitude\": 0.538705025207016,\n",
      "  \"longitude\": 9.31982893597376,\n",
      "  \"p.sample\": 0,\n",
      "  \"p.stemmap\": 0,\n",
      "  \"p.origin\": \"C\",\n",
      "  \"p.orientation\": -2.18195751718555,\n",
      "  \"p.shape\": \"R\",\n",
      "  \"p.majoraxis\": 100,\n",
      "  \"p.minoraxis\": 100,\n",
      "  \"p.geom\": \"POLYGON ((535537.75 59601.25, 535627.75 59590.5, 535642.25 59489.25, 535543 59498.5, 535537.75 59601.25, 535537.75 59601.25))\",\n",
      "  \"p.epsg\": 32632,\n",
      "  \"p.area\": 10000,\n",
      "  \"p.mindiam\": 0.01,\n",
      "  \"sp.geom\": \"POLYGON((535587.543315 59544.076014, 535587.526699 59519.076020, 535562.526704 59519.092636, 535562.543321 59544.092631, 535587.543315 59544.076014))\",\n",
      "  \"sp.ix\": 2,\n",
      "  \"sp.iy\": 3,\n",
      "  \"sp.shape\": \"R\",\n",
      "  \"sp.area\": 625,\n",
      "  \"sp.mindiam\": 0.01,\n",
      "  \"pai\": null,\n",
      "  \"lai\": null,\n",
      "  \"cover\": null,\n",
      "  \"dft\": \"EA\",\n",
      "  \"agb\": 0,\n",
      "  \"agb.valid\": 1,\n",
      "  \"agb.lower\": null,\n",
      "  \"agb.upper\": null,\n",
      "  \"agbd.ha\": 0,\n",
      "  \"agbd.ha.lower\": null,\n",
      "  \"agbd.ha.upper\": null,\n",
      "  \"sn\": 0,\n",
      "  \"snd.ha\": 0,\n",
      "  \"sba\": 0,\n",
      "  \"sba.ha\": 0,\n",
      "  \"swsg.ba\": null,\n",
      "  \"h.t.max\": null,\n",
      "  \"sp.agb\": null,\n",
      "  \"sp.agb.valid\": null,\n",
      "  \"sp.agbd.ha\": null,\n",
      "  \"sp.agbd.ha.lower\": null,\n",
      "  \"sp.agbd.ha.upper\": null,\n",
      "  \"sp.sba.ha\": null,\n",
      "  \"sp.swsg.ba\": null,\n",
      "  \"sp.h.t.max\": null,\n",
      "  \"l.project\": \"jpl_mondah\",\n",
      "  \"l.instr\": null,\n",
      "  \"l.epsg\": 32632,\n",
      "  \"l.date\": null,\n",
      "  \"geom_obj\": \"0103000020E6100000010000000500000015164494C0A32240F434A9F3123DE13F8E19DC8EC0A322404DC2B79E383BE13FF2CC041CA3A32240D4DDCAF5383BE13F09CB6C21A3A32240463EBE4A133DE13F15164494C0A32240F434A9F3123DE13F\"\n",
      "}\n"
     ]
    }
   ],
   "source": [
    "# if the 'Content-Type' is json, creates variable with json version of the response\n",
    "if (response.headers.get(\"Content-Type\") is \"application/json\"):\n",
    "    \n",
    "    # prints project name\n",
    "    print('\"project\": \"'+response.json()[0][\"project\"]+'\"')\n",
    "    \n",
    "# if the 'Content-Type' is not json, creates variable with unicode content of the response\n",
    "else:\n",
    "    data = response.text\n",
    "    \n",
    "    # prints project name\n",
    "    print(json.dumps(json.loads(response.text)[0], indent=2))"
   ]
  }
 ],
 "metadata": {
  "kernelspec": {
   "display_name": "Python 3",
   "language": "python",
   "name": "python3"
  },
  "language_info": {
   "codemirror_mode": {
    "name": "ipython",
    "version": 3
   },
   "file_extension": ".py",
   "mimetype": "text/x-python",
   "name": "python",
   "nbconvert_exporter": "python",
   "pygments_lexer": "ipython3",
   "version": "3.7.4"
  }
 },
 "nbformat": 4,
 "nbformat_minor": 4
}
