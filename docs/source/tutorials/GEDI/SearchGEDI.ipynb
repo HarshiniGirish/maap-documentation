{
 "cells": [
  {
   "cell_type": "markdown",
   "id": "64ba2fbc",
   "metadata": {},
   "source": [
    "# Search GEDI"
   ]
  },
  {
   "cell_type": "markdown",
   "id": "9c37db1b",
   "metadata": {},
   "source": [
    "#### In this tutorial we will use the integrated Earthdata serch function in MAAP to search for some GEDI L2B data for an area of interest. We will then download some of this data and read its attributes in preparation for some analysis. We will perform a spatial subset on the data to reduce data volumes and we will finally make some basic plots of our data. We will start by importing some of the modules we will need"
   ]
  },
  {
   "cell_type": "code",
   "execution_count": null,
   "id": "1dcdc840",
   "metadata": {},
   "outputs": [],
   "source": [
    "from maap.maap import MAAP\n",
    "maap = MAAP(maap_host='api.ops.maap-project.org')\n",
    "import geopandas as gpd\n",
    "import folium\n",
    "import h5py\n",
    "import pandas\n",
    "import matplotlib\n",
    "import matplotlib.pyplot as plt"
   ]
  },
  {
   "cell_type": "markdown",
   "id": "a3b21389",
   "metadata": {},
   "source": [
    "#### We will search and download GEDI L2B data using the bouning box of an vector AOI. Frstly an AOI over the Shanandoah National Park is provided. We will open the GPKG and plot its locaion on a map"
   ]
  },
  {
   "cell_type": "code",
   "execution_count": null,
   "id": "ff13afc0",
   "metadata": {},
   "outputs": [],
   "source": [
    "# use geopandas to open the GPKG (AOI)\n",
    "AOI = gpd.read_file('./Shenandoah_AOI.gpkg')"
   ]
  },
  {
   "cell_type": "markdown",
   "id": "7bd0b64b",
   "metadata": {},
   "source": [
    "#### We can get the bounding box of the AOI so we can use it as a spatial limit on our data search. GeoPandas has a function for returning the spatial coordinates of a bounding box:"
   ]
  },
  {
   "cell_type": "code",
   "execution_count": null,
   "id": "e04f6748",
   "metadata": {},
   "outputs": [],
   "source": [
    "# get the bounding box of the shp\n",
    "bbox = AOI.bounds\n",
    "# print the bounding box coords\n",
    "print('minx = ', bbox['minx'][0])\n",
    "print('miny = ', bbox['miny'][0])\n",
    "print('maxx = ', bbox['maxx'][0])\n",
    "print('maxy = ', bbox['maxy'][0])"
   ]
  },
  {
   "cell_type": "markdown",
   "id": "778f07ea",
   "metadata": {},
   "source": [
    "#### lets look at our AOI on an interactive map using folium"
   ]
  },
  {
   "cell_type": "code",
   "execution_count": null,
   "id": "e0a8ca71",
   "metadata": {},
   "outputs": [],
   "source": [
    "m = folium.Map(location=[38.5, -78], zoom_start=9, tiles='CartoDB positron')\n",
    "geo_j = folium.GeoJson(data=AOI, style_function=lambda x: {'fillColor': 'orange'})\n",
    "geo_j.add_to(m)\n",
    "m"
   ]
  },
  {
   "cell_type": "markdown",
   "id": "8ddc3880",
   "metadata": {},
   "source": [
    "#### Search Data: To search GEDI data we can use the earthData search integration in MAAP. Open the Earthdata search toolber by clicking on the following:"
   ]
  },
  {
   "cell_type": "markdown",
   "id": "8afdbdd6",
   "metadata": {},
   "source": [
    "![EarthData](./EarthdataSearch.png)"
   ]
  },
  {
   "cell_type": "markdown",
   "id": "2dc55b7f",
   "metadata": {},
   "source": [
    "#### This will open up the EarthData search interface in a new tab. For this exercise, we can use the search bar to search GEDI L2B data. By entering \"L2B\" in the search bar, we can see the relevant GEDI data is filtered. Click on the dataset to get more details.\n",
    "\n",
    "![EarthDataInterface](./EDinterface.png)"
   ]
  },
  {
   "cell_type": "markdown",
   "id": "a40dd781",
   "metadata": {},
   "source": [
    "#### While we have been searching for data, MAAP has been keeping a track of our search parameters. This means that we can easily insert our search for GEDI data straight into our notebook"
   ]
  },
  {
   "cell_type": "markdown",
   "id": "425f7dc8",
   "metadata": {},
   "source": [
    "![PasteResults](./PasteResults.png)"
   ]
  },
  {
   "cell_type": "markdown",
   "id": "26753cea",
   "metadata": {},
   "source": [
    "#### This gives us our search parameters in our notebook using the GEDI dataset id. The default limit for the number of returned results in 1000. Running this will produce 1000 results, but we can look at the first one by indexing the list of returned results. This is what the data entry looks like - you can see a arge amount of metadata for the file along with the URL for where this specific file is stored"
   ]
  },
  {
   "cell_type": "code",
   "execution_count": null,
   "id": "a2a7c214",
   "metadata": {},
   "outputs": [],
   "source": [
    "# generated from this EDSC search: https://ade.ops.maap-project.org:30052/search/granules?p=C1201460047-NASA_MAAP&q=L2B&tl=1647961605!4!!\n",
    "data = maap.searchGranule(concept_id=\"C1201460047-NASA_MAAP\", limit=1000)[0]\n",
    "data"
   ]
  },
  {
   "cell_type": "markdown",
   "id": "477dea01",
   "metadata": {},
   "source": [
    "#### So far, this search function requests all of the GEDI data but we can add a spatial subset filter using our AOI from above to limit the results. we can see that this returns us 176 GEDI L2B files that intersect with our AOI"
   ]
  },
  {
   "cell_type": "code",
   "execution_count": null,
   "id": "d400b348",
   "metadata": {},
   "outputs": [],
   "source": [
    "data_aoi = maap.searchGranule(concept_id=\"C1201460047-NASA_MAAP\", bounding_box=\"-79.0158578082679,37.88789051477522,-78.04618813890727,38.887036107037915\", limit=1000)\n",
    "print(len(data_aoi))"
   ]
  },
  {
   "cell_type": "markdown",
   "id": "0bacf219",
   "metadata": {},
   "source": [
    "#### This is more data than we need, so lets look at a single GEDI file and look at its contents. Firstly we need to bring it from the server side (S3) to our local side. This can be done using the maap function getLocalPath. Here we will pull the 7th file in our search results"
   ]
  },
  {
   "cell_type": "code",
   "execution_count": null,
   "id": "92bb6d0f",
   "metadata": {},
   "outputs": [],
   "source": [
    "gedi_data = data_aoi[6].getLocalPath('./')\n",
    "print(gedi_data)"
   ]
  },
  {
   "cell_type": "markdown",
   "id": "05a62286",
   "metadata": {},
   "source": [
    "#### We know that GEDI has 8 beams. First we will check that all beams are in our file, printing a list of the available beams"
   ]
  },
  {
   "cell_type": "code",
   "execution_count": null,
   "id": "5220cc2d",
   "metadata": {},
   "outputs": [],
   "source": [
    "gedi_h5_file = h5py.File(gedi_data, 'r')\n",
    "gedi_keys = list(gedi_h5_file.keys())\n",
    "gedi_beams = ['BEAM0000', 'BEAM0001', 'BEAM0010', 'BEAM0011', 'BEAM0101', 'BEAM0110', 'BEAM1000', 'BEAM1011']\n",
    "gedi_beams_lst = []\n",
    "for gedi_beam_name in gedi_keys:\n",
    "    if gedi_beam_name in gedi_beams:\n",
    "        gedi_beams_lst.append(gedi_beam_name)\n",
    "print(gedi_beams_lst)"
   ]
  },
  {
   "cell_type": "markdown",
   "id": "8c67f0cc",
   "metadata": {},
   "source": [
    "#### Now for each beam we need to get all of the data and metrics. For this, we have a function that will gather all of the metrics we want and put them into a geopandas dataframe:"
   ]
  },
  {
   "cell_type": "code",
   "execution_count": null,
   "id": "7c99174a",
   "metadata": {},
   "outputs": [],
   "source": [
    "def get_gedi_df(gedi_h5_file, gedi_beam_name):\n",
    "    gedi_beam = gedi_h5_file[gedi_beam_name]\n",
    "    \n",
    "    # Get location info.\n",
    "    gedi_beam_geoloc = gedi_beam['geolocation']\n",
    "    # Get land cover data.\n",
    "    gedi_beam_landcover = gedi_beam['land_cover_data']\n",
    "\n",
    "    gedi_beam_df = pandas.DataFrame(\n",
    "            {'elevation_bin0'         : gedi_beam_geoloc['elevation_bin0'],\n",
    "             'elevation_lastbin'      : gedi_beam_geoloc['elevation_lastbin'],\n",
    "             'height_bin0'            : gedi_beam_geoloc['height_bin0'],\n",
    "             'height_lastbin'         : gedi_beam_geoloc['height_lastbin'],\n",
    "             'shot_number'            : gedi_beam_geoloc['shot_number'],\n",
    "             'solar_azimuth'          : gedi_beam_geoloc['solar_azimuth'],\n",
    "             'solar_elevation'        : gedi_beam_geoloc['solar_elevation'],\n",
    "             'latitude_bin0'          : gedi_beam_geoloc['latitude_bin0'],\n",
    "             'latitude_lastbin'       : gedi_beam_geoloc['latitude_lastbin'],\n",
    "             'longitude_bin0'         : gedi_beam_geoloc['longitude_bin0'],\n",
    "             'longitude_lastbin'      : gedi_beam_geoloc['longitude_lastbin'],\n",
    "             'degrade_flag'           : gedi_beam_geoloc['degrade_flag'],\n",
    "             'digital_elevation_model': gedi_beam_geoloc['digital_elevation_model'],\n",
    "             'landsat_treecover'      : gedi_beam_landcover['landsat_treecover'],\n",
    "             'modis_nonvegetated'     : gedi_beam_landcover['modis_nonvegetated'],\n",
    "             'modis_nonvegetated_sd'  : gedi_beam_landcover['modis_nonvegetated_sd'],\n",
    "             'modis_treecover'        : gedi_beam_landcover['modis_treecover'],\n",
    "             'modis_treecover_sd'     : gedi_beam_landcover['modis_treecover_sd'],\n",
    "             'beam'                   : gedi_beam['beam'],\n",
    "             'cover'                  : gedi_beam['cover'],\n",
    "             'master_frac'            : gedi_beam['master_frac'],\n",
    "             'master_int'             : gedi_beam['master_int'],\n",
    "             'num_detectedmodes'      : gedi_beam['num_detectedmodes'],\n",
    "             'omega'                  : gedi_beam['omega'],\n",
    "             'pai'                    : gedi_beam['pai'],\n",
    "             'pgap_theta'             : gedi_beam['pgap_theta'],\n",
    "             'pgap_theta_error'       : gedi_beam['pgap_theta_error'],\n",
    "             'rg'                     : gedi_beam['rg'],\n",
    "             'rh100'                  : gedi_beam['rh100'],\n",
    "             'rhog'                   : gedi_beam['rhog'],\n",
    "             'rhog_error'             : gedi_beam['rhog_error'],\n",
    "             'rhov'                   : gedi_beam['rhov'],\n",
    "             'rhov_error'             : gedi_beam['rhov_error'],\n",
    "             'rossg'                  : gedi_beam['rossg'],\n",
    "             'rv'                     : gedi_beam['rv'],\n",
    "             'sensitivity'            : gedi_beam['sensitivity'],\n",
    "             'stale_return_flag'      : gedi_beam['stale_return_flag'],\n",
    "             'surface_flag'           : gedi_beam['surface_flag'],\n",
    "             'l2a_quality_flag'       : gedi_beam['l2a_quality_flag'],\n",
    "             'l2b_quality_flag'       : gedi_beam['l2b_quality_flag']})\n",
    "\n",
    "    gedi_beam_gdf = gpd.GeoDataFrame(gedi_beam_df, crs='EPSG:4326',\n",
    "                                           geometry=gpd.points_from_xy(gedi_beam_df.longitude_lastbin,\n",
    "                                                                             gedi_beam_df.latitude_lastbin))\n",
    "    return gedi_beam_gdf"
   ]
  },
  {
   "cell_type": "markdown",
   "id": "44b7c9b6",
   "metadata": {},
   "source": [
    "#### To access the data with this function, we can call the function for each beam id that we have\n"
   ]
  },
  {
   "cell_type": "code",
   "execution_count": null,
   "id": "712e066b",
   "metadata": {},
   "outputs": [],
   "source": [
    "BEAM0000 = get_gedi_df(gedi_h5_file, 'BEAM0000')\n",
    "BEAM0001 = get_gedi_df(gedi_h5_file, 'BEAM0001')\n",
    "BEAM0010 = get_gedi_df(gedi_h5_file, 'BEAM0010')\n",
    "BEAM0011 = get_gedi_df(gedi_h5_file, 'BEAM0011')\n",
    "BEAM0101 = get_gedi_df(gedi_h5_file, 'BEAM0101')\n",
    "BEAM0110 = get_gedi_df(gedi_h5_file, 'BEAM0110')\n",
    "BEAM1000 = get_gedi_df(gedi_h5_file, 'BEAM1000')\n",
    "BEAM1011 = get_gedi_df(gedi_h5_file, 'BEAM1011')"
   ]
  },
  {
   "cell_type": "markdown",
   "id": "63adc8a7",
   "metadata": {},
   "source": [
    "#### Now we can look at the data in one of the dataframes (beams) and we can see that there are 108583 GEDI shots (108583 entries in each column)"
   ]
  },
  {
   "cell_type": "code",
   "execution_count": null,
   "id": "c2b34e34",
   "metadata": {},
   "outputs": [],
   "source": [
    "print(BEAM0000.head())\n",
    "print('number of rows = ', len(BEAM0000))"
   ]
  },
  {
   "cell_type": "markdown",
   "id": "9094181d",
   "metadata": {},
   "source": [
    "#### Before  displaying this data we can do a spatial subset to remove the data outside of our AOI. Here we can use the Geopandas clip function to clip out the GEDI data based on the extent of our AOI. We can see we have reduced the size of the dataframe from 108583 rows to 508"
   ]
  },
  {
   "cell_type": "code",
   "execution_count": null,
   "id": "f5f6a137",
   "metadata": {},
   "outputs": [],
   "source": [
    "BEAM0000_sub = gpd.clip(BEAM0000, AOI)\n",
    "len(BEAM0000_sub)\n"
   ]
  },
  {
   "cell_type": "markdown",
   "id": "a7019f45",
   "metadata": {},
   "source": [
    "#### We can display this subset of data over our AOI extent"
   ]
  },
  {
   "cell_type": "code",
   "execution_count": null,
   "id": "b0faf9dd",
   "metadata": {},
   "outputs": [],
   "source": [
    "m = folium.Map(location=[38.5, -78], zoom_start=9, tiles='CartoDB positron')\n",
    "\n",
    "geo_j = folium.GeoJson(data=AOI, style_function=lambda x: {'fillColor': 'orange'})\n",
    "geo_j.add_to(m)\n",
    "\n",
    "geo_g = folium.GeoJson(data=BEAM0000_sub,marker = folium.CircleMarker(radius = 1, # Radius in metres\n",
    "                                           weight = 0, #outline weight\n",
    "                                           fill_color = '#FF0000', \n",
    "                                           fill_opacity = 1))\n",
    "geo_g.add_to(m)\n",
    "m"
   ]
  },
  {
   "cell_type": "markdown",
   "id": "5a6d023f",
   "metadata": {},
   "source": [
    "#### Now we have this subset of data we can look at some of the GEDI metrics over our area of interest. The rh100 metric should give us the top of the canopy heights. What does this like over Shenandoah National Park? We will look at the ground height and the rh100 above ground. The DEM metric is in m and the rh100 metric is in cm above this ground. Therefore we must add the rh100 value to the ground height to get the total height of the tree for display purposes. The rh100 metric is also converted to m to normalize the units"
   ]
  },
  {
   "cell_type": "code",
   "execution_count": null,
   "id": "40e35011",
   "metadata": {},
   "outputs": [],
   "source": [
    "latitude = BEAM0000_sub['latitude_lastbin']\n",
    "rh100 = BEAM0000_sub['rh100']\n",
    "ground = BEAM0000_sub['digital_elevation_model']\n",
    "\n",
    "TreeHeight = ground + rh100/100"
   ]
  },
  {
   "cell_type": "markdown",
   "id": "139b31b1",
   "metadata": {},
   "source": [
    "#### Finally we can make a plot of the ground surface and the canopy heights above the ground surface. We can see the forest canopies in green above the topographically complex ground in brown"
   ]
  },
  {
   "cell_type": "code",
   "execution_count": null,
   "id": "1e232b8e",
   "metadata": {},
   "outputs": [],
   "source": [
    "plt.figure(figsize=(20, 5))\n",
    "plt.scatter(latitude, TreeHeight, c='green')\n",
    "plt.plot(latitude, ground, c='brown')"
   ]
  },
  {
   "cell_type": "markdown",
   "id": "33ecd866",
   "metadata": {},
   "source": [
    "#### Now you have this basic structure you can investigate some of the other metrics and GEDI beams to understand more about the data."
   ]
  },
  {
   "cell_type": "markdown",
   "id": "21249f38",
   "metadata": {},
   "source": [
    "# End of Tutorial"
   ]
  },
  {
   "cell_type": "code",
   "execution_count": null,
   "id": "666756a9",
   "metadata": {},
   "outputs": [],
   "source": [
    "# TESTS\n",
    "\n",
    "# DO NOT RUN ME\n",
    "'''\n",
    "for i in range(len(data_aoi)):\n",
    "    gedi_data = data_aoi[i].getLocalPath('./')\n",
    "    gedi_h5_file = h5py.File(gedi_data)\n",
    "    BEAM0000 = get_gedi_df(gedi_h5_file, 'BEAM0000')\n",
    "    BEAM0000_sub = gpd.clip(BEAM0000, AOI)\n",
    "    if len(BEAM0000_sub) == 0:\n",
    "        !rm -rf gedi_data\n",
    "    else:\n",
    "        print(i)\n",
    "        print(len(BEAM0000_sub))\n",
    "        print(gedi_data)\n",
    "'''"
   ]
  },
  {
   "cell_type": "code",
   "execution_count": null,
   "id": "50473ebf",
   "metadata": {},
   "outputs": [],
   "source": []
  }
 ],
 "metadata": {
  "kernelspec": {
   "display_name": "Python 3 (ipykernel)",
   "language": "python",
   "name": "python3"
  },
  "language_info": {
   "codemirror_mode": {
    "name": "ipython",
    "version": 3
   },
   "file_extension": ".py",
   "mimetype": "text/x-python",
   "name": "python",
   "nbconvert_exporter": "python",
   "pygments_lexer": "ipython3",
   "version": "3.7.8"
  }
 },
 "nbformat": 4,
 "nbformat_minor": 5
}
