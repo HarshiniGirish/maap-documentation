{
 "cells": [
  {
   "cell_type": "markdown",
   "id": "f003dcca",
   "metadata": {},
   "source": [
    "# GEDI L4A Subsetting Example\n",
    "\n",
    "## [Optional] Install Python Packages\n",
    "\n",
    "This notebook contains some cells marked as optional, meaning that you can use this notebook without necessarily running such cells.\n",
    "\n",
    "However, if you do wish to run the optional cells, you must install the following Python packages, which might not already be installed in your environment:\n",
    "\n",
    "- `geopandas`: for reading your AOI (GeoJson file), as well as for reading the job output (GeoPackage file containing the subset)\n",
    "- `contextily`: for visually verifying your AOI\n",
    "- `backoff`: for repeatedly polling the job status (after submission) until the job has completed (either successfully or not)\n",
    "\n",
    "A job can be submitted without these packages, but installing them in order to run the optional cells may make it more convenient for you to visually verify both your AOI and the subset output produced by your job.\n",
    "\n",
    "## Obtain Username"
   ]
  },
  {
   "cell_type": "code",
   "execution_count": null,
   "id": "b9ed762f",
   "metadata": {},
   "outputs": [],
   "source": [
    "from maap.maap import MAAP\n",
    "\n",
    "maap = MAAP(maap_host=\"api.ops.maap-project.org\")\n",
    "username = maap.profile.account_info()[\"username\"]\n",
    "username"
   ]
  },
  {
   "cell_type": "markdown",
   "id": "84e6793b",
   "metadata": {},
   "source": [
    "## Define Area of Interest\n",
    "\n",
    "You may use either a publicly available GeoJSON file for your AOI, such as\n",
    "those available at [geoBoundaries](https://www.geoboundaries.org), or you\n",
    "may create a custom GeoJSON file for your AOI.  The following 2 subsections\n",
    "cover both cases.\n",
    "\n",
    "### Using a geoBoundary GeoJSON File\n",
    "\n",
    "If your AOI is a publicly available geoBoundary, you can obtain the URL for the\n",
    "GeoJSON file using the function below.  You simply need to supply an ISO3 value\n",
    "and a level.  To find the appropriate ISO3 and level values, see the\n",
    "[table on the geoBoundaries site](https://www.geoboundaries.org/index.html#getdata)."
   ]
  },
  {
   "cell_type": "code",
   "execution_count": null,
   "id": "eb0f3008",
   "metadata": {},
   "outputs": [],
   "source": [
    "import requests\n",
    "\n",
    "\n",
    "def get_geo_boundary_url(iso3: str, level: int) -> str:\n",
    "    response = requests.get(\n",
    "        f\"https://www.geoboundaries.org/api/current/gbOpen/{iso3}/ADM{level}\"\n",
    "    )\n",
    "    response.raise_for_status()\n",
    "    return response.json()[\"gjDownloadURL\"]\n",
    "\n",
    "\n",
    "# If using a geoBoundary, uncomment the following assignment, supply\n",
    "# appropriate values for `<iso3>` and `<level>`, then run this cell.\n",
    "\n",
    "# Example (Gabon level 0): get_geo_boundary(\"GAB\", 0)\n",
    "\n",
    "# aoi = get_geo_boundary_url(\"<iso3>\", <level>)"
   ]
  },
  {
   "cell_type": "markdown",
   "id": "6c6b6375",
   "metadata": {},
   "source": [
    "### Using a Custom GeoJSON File\n",
    "\n",
    "Alternatively, you can make your own GeoJSON file for your AOI and place it\n",
    "within your `my-public-bucket` folder within the ADE.\n",
    "\n",
    "Based upon where you place your GeoJSON file under `my-public-bucket`, you can\n",
    "construct the URL for a job's `aoi` input value.\n",
    "\n",
    "For example, if the relative path of your AOI GeoJSON file under\n",
    "`my-public-bucket` is `path/to/my-aoi.geojson` (avoid using whitespace in the\n",
    "path and filename), the URL you would supply as the value of a job's `aoi`\n",
    "input would be the following (where `{username}` is replaced with your username\n",
    "as output from the previous section):\n",
    "\n",
    "```\n",
    "f\"https://maap-ops-workspace.s3.amazonaws.com/shared/{username}/path/to/my-aoi.geojson\"`\n",
    "```\n",
    "\n",
    "If this is the case, use the cell below."
   ]
  },
  {
   "cell_type": "code",
   "execution_count": null,
   "id": "837fd537",
   "metadata": {},
   "outputs": [],
   "source": [
    "aoi = f\"https://maap-ops-workspace.s3.amazonaws.com/shared/{username}/langtang_np.geojson\""
   ]
  },
  {
   "cell_type": "markdown",
   "id": "e7f2299e",
   "metadata": {},
   "source": [
    "This example uses AOI of Gosaikunda Lake region inside Langtang National Park. You can also create your own GeoJSON file for your AOI using sites like [geojson.io](https://geojson.io/)"
   ]
  },
  {
   "cell_type": "markdown",
   "id": "9d9c655d",
   "metadata": {},
   "source": [
    "![Gosaikunda](../../_static/gedi_l4a_example_lantang_aoi.png)"
   ]
  },
  {
   "cell_type": "markdown",
   "id": "93ce09da",
   "metadata": {},
   "source": [
    "## [Optional] Visually Verify your AOI\n",
    "\n",
    "If you want to visually verify your AOI before proceeding, you may run the following cell, if you have the `geopandas` and `contextily` Python packages installed."
   ]
  },
  {
   "cell_type": "markdown",
   "id": "57f184f2",
   "metadata": {},
   "source": [
    "You can install `contextily` and `geopandas` by running following commands in shell:\n",
    "\n",
    "```!pip install contextily``` \n",
    "\n",
    "```!pip install geopandas```"
   ]
  },
  {
   "cell_type": "code",
   "execution_count": null,
   "id": "98a7b489",
   "metadata": {},
   "outputs": [],
   "source": [
    "try:\n",
    "    import geopandas as gpd\n",
    "    import contextily as ctx\n",
    "except:\n",
    "    print(\n",
    "        \"If you wish to visually verify your AOI, \"\n",
    "        \"you must install the `geopandas` and `contextily` packages.\"\n",
    "    )\n",
    "else:\n",
    "    aoi_gdf = gpd.read_file(aoi)\n",
    "    aoi_epsg4326 = aoi_gdf.to_crs(epsg=4326)\n",
    "    ax = aoi_epsg4326.plot(figsize=(10, 5), alpha=0.3, edgecolor=\"red\")\n",
    "    ctx.add_basemap(ax, crs=4326)"
   ]
  },
  {
   "cell_type": "markdown",
   "id": "96db29e7",
   "metadata": {},
   "source": [
    "## Submit a Job\n",
    "\n",
    "When supplying input values for a GEDI subsetting job, to use the default value\n",
    "for a field (where indicated), use a dash (`\"-\"`) as the input value.\n",
    "\n",
    "- `aoi` (required): URL to a GeoJSON file representing your area of interest,\n",
    "  as explained above.\n",
    "\n",
    "- `columns`: Comma-separated list of column names to include in the output file.\n",
    "  (Default: `\"agbd, agbd_se, l2_quality_flag, l4_quality_flag, sensitivity, sensitivity_a2\"`)\n",
    "\n",
    "- `query`: Query expression for subsetting the rows in the output file.\n",
    "  (Default: `\"l2_quality_flag == 1 and l4_quality_flag == 1 and sensitivity > 0.95 and sensitivity_a2 > 0.95\"`)\n",
    "\n",
    "  **IMPORTANT**: The `columns` input must contain at least all of the columns\n",
    "  that appear in this `query` expression, otherwise an error will occur.\n",
    "\n",
    "- `limit`: Maximum number of GEDI granule data files to download (among those\n",
    "  that intersect the specified AOI). (Default: 10000)\n",
    "\n",
    "It is recommended to use `maap-dps-worker-16gb` or `maap-dps-worker-32gb` queues when submitting a job with a large aoi."
   ]
  },
  {
   "cell_type": "code",
   "execution_count": null,
   "id": "f526a4c2",
   "metadata": {},
   "outputs": [],
   "source": [
    "inputs = dict(\n",
    "    aoi=aoi,\n",
    "    columns=\"elev_lowestmode,lat_lowestmode,lon_lowestmode,l2_quality_flag,l4_quality_flag,sensitivity,sensitivity_a2\",\n",
    "    query=\"lat_lowestmode != None\",\n",
    "    limit=\"-\",\n",
    ")\n",
    "\n",
    "result = maap.submitJob(\n",
    "    identifier=\"gedi-subset\",\n",
    "    algo_id=\"gedi-subset_ubuntu\",\n",
    "    version=\"gedi-subset-0.2.7\",\n",
    "    queue=\"maap-dps-worker-8gb\",\n",
    "    username=username,\n",
    "    **inputs,\n",
    ")\n",
    "\n",
    "job_id = result[\"job_id\"]\n",
    "job_id"
   ]
  },
  {
   "cell_type": "markdown",
   "id": "56b8b93a",
   "metadata": {},
   "source": [
    "## Get the Job's Output File\n",
    "\n",
    "Now that the job has been submitted, we can use the `job_id` to check the job\n",
    "status until the job has completed."
   ]
  },
  {
   "cell_type": "code",
   "execution_count": null,
   "id": "d3f6e7dd",
   "metadata": {},
   "outputs": [],
   "source": [
    "import xml.etree.ElementTree as ET\n",
    "from urllib.parse import urlparse\n",
    "\n",
    "\n",
    "def job_status_for(job_id: str) -> str:\n",
    "    response = maap.getJobStatus(job_id)\n",
    "    response.raise_for_status()\n",
    "\n",
    "    root = ET.fromstring(response.text)\n",
    "    status_element = root.find(\".//{http://www.opengis.net/wps/2.0}Status\")\n",
    "\n",
    "    return status_element.text\n",
    "\n",
    "\n",
    "def job_result_for(job_id: str) -> str:\n",
    "    response = maap.getJobResult(job_id)\n",
    "    response.raise_for_status()\n",
    "\n",
    "    root = ET.fromstring(response.text)\n",
    "\n",
    "    return root.find(\".//{http://www.opengis.net/wps/2.0}Data\").text\n",
    "\n",
    "\n",
    "def to_job_output_dir(job_result_url: str) -> str:\n",
    "    url_path = urlparse(job_result_url).path\n",
    "    # The S3 Key is the URL path excluding the `/{username}` prefix\n",
    "    s3_key = \"/\".join(url_path.split(\"/\")[2:])\n",
    "\n",
    "    return f\"/projects/my-private-bucket/{s3_key}\""
   ]
  },
  {
   "cell_type": "markdown",
   "id": "fc0a3976",
   "metadata": {},
   "source": [
    "If you have installed the `backoff` Python package, running the following cell\n",
    "will automatically repeatedly check your job's status until the job has\n",
    "completed. Otherwise, you will have to manually repeatedly rerun the following\n",
    "cell until the output is either `'Suceeded'` or `'Failed'`."
   ]
  },
  {
   "cell_type": "code",
   "execution_count": null,
   "id": "75d8e752",
   "metadata": {},
   "outputs": [],
   "source": [
    "try:\n",
    "    import backoff\n",
    "except:\n",
    "    job_status = job_status_for(job_id)\n",
    "else:\n",
    "    # Check job status every 2 minutes\n",
    "    @backoff.on_predicate(\n",
    "        backoff.constant,\n",
    "        lambda status: status not in [\"Deleted\", \"Succeeded\", \"Failed\"],\n",
    "        interval=120,\n",
    "    )\n",
    "    def wait_for_job(job_id: str) -> str:\n",
    "        return job_status_for(job_id)\n",
    "\n",
    "    job_status = wait_for_job(job_id)\n",
    "\n",
    "job_status"
   ]
  },
  {
   "cell_type": "code",
   "execution_count": null,
   "id": "3aaee190",
   "metadata": {},
   "outputs": [],
   "source": [
    "assert job_status == \"Succeeded\", (\n",
    "    job_result_for(job_id)\n",
    "    if job_status == \"Failed\"\n",
    "    else f\"Job {job_id} has not yet completed ({job_status}). Rerun the prior cell.\"\n",
    ")\n",
    "\n",
    "output_url = job_result_for(job_id)\n",
    "output_dir = to_job_output_dir(output_url)\n",
    "output_file = f\"{output_dir}/gedi_subset.gpkg\"\n",
    "print(f\"Your subset results are in the file {output_file}\")"
   ]
  },
  {
   "cell_type": "markdown",
   "id": "8033109b",
   "metadata": {},
   "source": [
    "## [Optional] Visually Verify the Results\n",
    "\n",
    "If you installed the `geopandas` Python package, you can visually verify the\n",
    "output file by running the following cell."
   ]
  },
  {
   "cell_type": "code",
   "execution_count": null,
   "id": "cb46c729",
   "metadata": {},
   "outputs": [],
   "source": [
    "try:\n",
    "    import geopandas as gpd\n",
    "    import matplotlib.pyplot as plt\n",
    "except:\n",
    "    print(\n",
    "        \"If you wish to visually verify your output file, \"\n",
    "        \"you must install the `geopandas` package.\"\n",
    "    )\n",
    "else:\n",
    "    gedi_gdf = gpd.read_file(output_file)\n",
    "    gedi_gdf\n",
    "    sensitivity_colors = plt.cm.get_cmap(\"viridis_r\")\n",
    "    gedi_gdf.plot(markersize = 0.1)"
   ]
  },
  {
   "cell_type": "markdown",
   "id": "dcd2224b",
   "metadata": {},
   "source": [
    "## Generate contour lines\n",
    "Create a `lat`, `lon` mesh grid with elevation as depth parameter. As shown in plot above, the lines doesn't seem smooth. So we can apply `linear` or 'cubic` interpolation to smoothen those missing points."
   ]
  },
  {
   "cell_type": "code",
   "execution_count": null,
   "id": "5421637a",
   "metadata": {},
   "outputs": [],
   "source": [
    "lat=gedi_gdf[\"lat_lowestmode\"]\n",
    "lon=gedi_gdf[\"lon_lowestmode\"]\n",
    "elevation=gedi_gdf[\"elev_lowestmode\"]"
   ]
  },
  {
   "cell_type": "code",
   "execution_count": null,
   "id": "6a7d3490",
   "metadata": {},
   "outputs": [],
   "source": [
    "import numpy as np\n",
    "\n",
    "x=np.linspace(min(lon), max(lon), 1000)\n",
    "y=np.linspace(min(lat), max(lat), 1000)"
   ]
  },
  {
   "cell_type": "code",
   "execution_count": null,
   "id": "a5302ea9",
   "metadata": {},
   "outputs": [],
   "source": [
    "from scipy.interpolate import griddata\n",
    "\n",
    "x_mesh, y_mesh = np.meshgrid(x,y)"
   ]
  },
  {
   "cell_type": "markdown",
   "id": "7925dcff",
   "metadata": {},
   "source": [
    "You may experiment with `nearest`, `linear` and `cubic` interpolation methods to see which give more smooth results."
   ]
  },
  {
   "cell_type": "code",
   "execution_count": null,
   "id": "d59fd33e",
   "metadata": {},
   "outputs": [],
   "source": [
    "#grid the elevation\n",
    "z_mesh = griddata((lon, lat), elevation, (x_mesh, y_mesh), method='linear')"
   ]
  },
  {
   "cell_type": "code",
   "execution_count": null,
   "id": "9a3e3242",
   "metadata": {},
   "outputs": [],
   "source": [
    "colors=['blue','royalblue', 'navy','pink',  'mediumpurple',  'darkorchid',  'plum',  'm', 'mediumvioletred', 'palevioletred', 'crimson',\n",
    "         'magenta','pink','red','yellow','orange', 'brown','green', 'darkgreen']\n",
    "levels=len(colors)\n",
    "contourf = plt.contourf(x_mesh, y_mesh, z_mesh, levels, alpha=0.5,  colors=colors, linestyles='None', vmin=elevation.min(), vmax=elevation.max())"
   ]
  },
  {
   "cell_type": "markdown",
   "id": "383b825a",
   "metadata": {},
   "source": [
    "![ContourPlot](../../_static/gedi_l4a_example_contour_plot.png)"
   ]
  },
  {
   "cell_type": "markdown",
   "id": "746494ec",
   "metadata": {},
   "source": [
    "Now we need to plot this contour into an interactive map for better visualization."
   ]
  },
  {
   "cell_type": "markdown",
   "id": "70cdfadc",
   "metadata": {},
   "source": [
    "## Plot the contour lines in folium\n",
    "You may need to install `geojsoncontour`, `mapclassify` and `folium`, if you don't already have it installed.\n",
    "We need to convert this `contourf` into geoJSON format."
   ]
  },
  {
   "cell_type": "code",
   "execution_count": null,
   "id": "a57ad295",
   "metadata": {},
   "outputs": [],
   "source": [
    "import folium \n",
    "from folium import plugins\n",
    "import branca\n",
    "import geojsoncontour"
   ]
  },
  {
   "cell_type": "code",
   "execution_count": null,
   "id": "4b81169d",
   "metadata": {},
   "outputs": [],
   "source": [
    "geojson = geojsoncontour.contourf_to_geojson(\n",
    "    contourf=contourf,\n",
    "    min_angle_deg=3.0,\n",
    "    ndigits=5,\n",
    "    stroke_width=1,\n",
    "    unit='ft',\n",
    "    fill_opacity=0.1,\n",
    ")"
   ]
  },
  {
   "cell_type": "code",
   "execution_count": null,
   "id": "4620f0a5",
   "metadata": {},
   "outputs": [],
   "source": [
    "#create map view\n",
    "m = folium.Map([lat.mean(), lon.mean()], zoom_start=11, tiles=\"OpenStreetMap\")\n",
    "\n",
    "folium.GeoJson(\n",
    "    geojson,\n",
    "    style_function=lambda x:{\n",
    "        'color': x['properties']['stroke'],\n",
    "        'weight':    x['properties']['stroke-width'],\n",
    "        'fillColor': x['properties']['fill'],\n",
    "        'opacity':   0.5,\n",
    "    }\n",
    ").add_to(m)\n",
    "\n",
    "cm = branca.colormap.LinearColormap(colors, vmin=elevation.min(), vmax=elevation.max()).to_step(levels)\n",
    "cm.caption='Elevation (in ft)'\n",
    "m.add_child(cm)\n",
    "\n",
    "#legend\n",
    "plugins.Fullscreen(position='topright', force_separate_button=True).add_to(m)"
   ]
  },
  {
   "cell_type": "code",
   "execution_count": null,
   "id": "1752c8c0",
   "metadata": {},
   "outputs": [],
   "source": [
    "m"
   ]
  },
  {
   "cell_type": "markdown",
   "id": "104aefcd",
   "metadata": {},
   "source": [
    "Now you have an interactive visualization of contour plot."
   ]
  },
  {
   "cell_type": "markdown",
   "id": "ec8cd140",
   "metadata": {},
   "source": [
    "![ContourMAP](../../_static/gedi_l4a_example_folium_map.png)"
   ]
  }
 ],
 "metadata": {
  "kernelspec": {
   "display_name": "Python 3 (ipykernel)",
   "language": "python",
   "name": "python3"
  },
  "language_info": {
   "codemirror_mode": {
    "name": "ipython",
    "version": 3
   },
   "file_extension": ".py",
   "mimetype": "text/x-python",
   "name": "python",
   "nbconvert_exporter": "python",
   "pygments_lexer": "ipython3",
   "version": "3.10.7"
  }
 },
 "nbformat": 4,
 "nbformat_minor": 5
}
