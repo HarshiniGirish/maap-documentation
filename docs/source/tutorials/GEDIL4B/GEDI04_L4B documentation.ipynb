{
 "cells": [
  {
   "cell_type": "markdown",
   "id": "c7336fdf",
   "metadata": {},
   "source": [
    "## VISUALIZING GEDIL4B DATA"
   ]
  },
  {
   "cell_type": "markdown",
   "id": "847b3b29",
   "metadata": {},
   "source": [
    "\n",
    "In this example, we demonstrate how to access GEDIL4B granule data on the MAAP ADE.\n",
    "\n",
    "This notebook contains some cells marked as optional, meaning that you can use this notebook without necessarily running such cells.\n",
    "\n",
    "However, if you do wish to run the optional cells, you must install the following Python packages, which might not already be installed in your environment:\n",
    "\n",
    "1. geopandas: for reading your AOI (GeoJson file), as well as for reading the job output (GeoPackage file containing the subset)\n",
    "2. contextily: for visually verifying your AOI\n",
    "3. backoff: for repeatedly polling the job status (after submission) until the job has been completed (either successfully or not)\n",
    "4. folium: for visualizing your data on a Leaflet map\n",
    "5. geojsoncontour: for converting your matplotlib contour plots to geojson"
   ]
  },
  {
   "cell_type": "markdown",
   "id": "2dc071a7",
   "metadata": {},
   "source": [
    "Within your Jupyter Notebook, start by importing the **maap package**. Then invoke the **MAAP** constructor, setting the maap_host argument to **'api.ops.maap-project.org'**."
   ]
  },
  {
   "cell_type": "code",
   "execution_count": 2,
   "id": "18bf6614",
   "metadata": {},
   "outputs": [],
   "source": [
    "from maap.maap import MAAP\n",
    "\n",
    "maap = MAAP(maap_host=\"api.ops.maap-project.org\")\n",
    "username = maap.profile.account_info()[\"username\"]\n"
   ]
  },
  {
   "cell_type": "code",
   "execution_count": 3,
   "id": "abea2df8",
   "metadata": {},
   "outputs": [
    {
     "name": "stdout",
     "output_type": "stream",
     "text": [
      "{'concept-id': 'C1202077968-NASA_MAAP', 'revision-id': '2', 'format': 'application/echo10+xml', 'Collection': {'ShortName': 'GEDI_L4B_Gridded_Biomass_2017', 'VersionId': '2', 'InsertTime': '2022-03-29T00:00:00.000Z', 'LastUpdate': '2022-03-30T10:43:50.000Z', 'LongName': 'Not provided', 'DataSetId': 'GEDI L4B Gridded Aboveground Biomass Density, Version 2', 'Description': \"This Global Ecosystem Dynamics Investigation (GEDI) L4B product provides 1 km x 1 km (1 km,  hereafter) estimates of mean aboveground biomass density (AGBD) based on observations from mission week 19 starting on 2019-04-18 to mission week 138 ending on 2021-08-04. The GEDI L4A Footprint Biomass product converts each high-quality waveform to an AGBD prediction, and the L4B product uses the sample present within the borders of each 1 km cell to statistically infer mean AGBD. The gridding procedure is described in the GEDI L4B Algorithm Theoretical Basis Document (ATBD). Patterson et al. (2019) describes the hybrid model-based mode of inference used in the L4B product. Corresponding 1 km estimates of the standard error of the mean are also provided in the L4B product. Uncertainty is due to both GEDI's sampling of the 1 km area (as opposed to making wall-to-wall observations) and the fact that L4A biomass values are modeled in a process subject to error instead of measured in a process that may be assumed to be error-free.\", 'DOI': {'DOI': '10.3334/ORNLDAAC/2017', 'Authority': 'https://doi.org'}, 'RevisionDate': '2022-04-20T17:07:00.000Z', 'ProcessingLevelId': '4', 'ProcessingLevelDescription': 'model products', 'ArchiveCenter': 'ORNL_DAAC', 'CollectionState': 'COMPLETE', 'UseConstraints': {'LicenseURL': {'URL': 'https://science.nasa.gov/earth-science/earth-science-data/data-information-policy', 'Description': 'License URL for data use policy', 'Type': 'Data Use Policy', 'MimeType': 'text/html'}}, 'Price': '     0.00', 'DataFormat': 'GeoTIFF', 'SpatialKeywords': {'Keyword': 'GLOBAL LAND'}, 'Temporal': {'EndsAtPresentFlag': 'false', 'RangeDateTime': {'BeginningDateTime': '2019-04-18T00:00:00.000Z', 'EndingDateTime': '2021-08-04T23:59:59.000Z'}}, 'Contacts': {'Contact': {'Role': 'ARCHIVER', 'OrganizationName': 'ORNL_DAAC', 'OrganizationAddresses': {'Address': {'StreetAddress': 'ORNL DAAC User Services Office, P.O. Box 2008, MS 6407, Oak Ridge National Laboratory', 'City': 'Oak Ridge', 'StateProvince': 'Tennessee', 'PostalCode': '37831-6407', 'Country': 'United States'}}, 'OrganizationPhones': {'Phone': {'Number': '(865) 241-3952', 'Type': 'Direct Line'}}, 'OrganizationEmails': {'Email': 'uso@daac.ornl.gov'}}}, 'ScienceKeywords': {'ScienceKeyword': [{'CategoryKeyword': 'EARTH SCIENCE', 'TopicKeyword': 'BIOSPHERE', 'TermKeyword': 'ECOSYSTEMS', 'VariableLevel1Keyword': {'Value': 'TERRESTRIAL ECOSYSTEMS'}}, {'CategoryKeyword': 'EARTH SCIENCE', 'TopicKeyword': 'BIOSPHERE', 'TermKeyword': 'VEGETATION', 'VariableLevel1Keyword': {'Value': 'BIOMASS'}}, {'CategoryKeyword': 'EARTH SCIENCE', 'TopicKeyword': 'SPECTRAL/ENGINEERING', 'TermKeyword': 'LIDAR', 'VariableLevel1Keyword': {'Value': 'LIDAR WAVEFORM'}}]}, 'Platforms': {'Platform': {'ShortName': 'ISS', 'LongName': 'International Space Station', 'Type': 'Space Stations/Crewed Spacecraft', 'Instruments': {'Instrument': {'ShortName': 'GEDI', 'LongName': 'Global Ecosystem Dynamics Investigation'}}}}, 'AdditionalAttributes': {'AdditionalAttribute': [{'Name': 'Dataset Status', 'DataType': 'STRING', 'Description': 'MAAP data product status ', 'Value': 'MAAP Standard Data Product'}, {'Name': 'Geolocated', 'DataType': 'BOOLEAN', 'Description': 'Denotes whether the data is geolocated', 'Value': 'true'}, {'Name': 'Spatial Resolution', 'DataType': 'FLOAT', 'Description': 'Ground area imaged by a sensoru2019s instantaneous field of view', 'Value': '1'}, {'Name': 'Data Format', 'DataType': 'STRING', 'Description': 'File format of the associated granules ', 'Value': 'GeoTIFF'}, {'Name': 'Band Center Frequency', 'DataType': 'FLOAT', 'Description': 'Central transmission frequency of the instrument', 'Value': '281759.8'}, {'Name': 'Swath Width', 'DataType': 'FLOAT', 'Description': 'Earth surface distance observed by the instrument', 'Value': '4.2'}, {'Name': 'Field of View', 'DataType': 'FLOAT', 'Description': 'Angular extent a sensor views across the Earthu2019s surface', 'Value': '12'}, {'Name': 'Laser Footprint Diameter', 'DataType': 'FLOAT', 'Description': 'The diameter of the laser beam that reaches the ground', 'Value': '25'}, {'Name': 'Acquisition Type', 'DataType': 'STRING', 'Description': 'Concise Platform-Instrument data collection method tag', 'Value': 'Satellite Lidar'}, {'Name': 'Band Center Wavelength', 'DataType': 'FLOAT', 'Description': 'Central transmission wavelength of the instrument', 'Value': '1064'}]}, 'Campaigns': {'Campaign': {'ShortName': 'GEDI', 'LongName': 'Global Ecosystem Dynamics Investigation'}}, 'SpatialInfo': {'SpatialCoverageType': 'HORIZONTAL'}, 'OnlineAccessURLs': {'OnlineAccessURL': {'URL': 'https://daac.ornl.gov/daacdata/gedi/GEDI_L4B_Gridded_Biomass/', 'URLDescription': 'This link allows direct data access via Earthdata login'}}, 'OnlineResources': {'OnlineResource': [{'URL': 'https://daac.ornl.gov/GEDI/guides/GEDI_L4B_Gridded_Biomass.html', 'Description': 'ORNL DAAC Data Set Documentation', 'Type': 'VIEW RELATED INFORMATION : GENERAL DOCUMENTATION'}, {'URL': 'https://doi.org/10.3334/ORNLDAAC/2017', 'Description': 'Data set Landing Page DOI URL', 'Type': 'CollectionURL : DATA SET LANDING PAGE'}, {'URL': 'https://daac.ornl.gov/daacdata/gedi/GEDI_L4B_Gridded_Biomass/comp/GEDI_L4B_ATBD_v1.0.pdf', 'Description': 'GEDI L4B Gridded Aboveground Biomass Density, Version 2: GEDI_L4B_ATBD_v1.0.pdf', 'Type': 'VIEW RELATED INFORMATION : GENERAL DOCUMENTATION'}, {'URL': 'https://daac.ornl.gov/daacdata/gedi/GEDI_L4B_Gridded_Biomass/comp/GEDI_L4B_Gridded_Biomass.pdf', 'Description': 'GEDI L4B Gridded Aboveground Biomass Density, Version 2: GEDI_L4B_Gridded_Biomass.pdf', 'Type': 'VIEW RELATED INFORMATION : GENERAL DOCUMENTATION'}, {'URL': 'https://gedi.umd.edu', 'Description': 'GEDI Project Site', 'Type': 'CollectionURL : PROJECT HOME PAGE'}]}, 'Spatial': {'SpatialCoverageType': 'HORIZONTAL', 'HorizontalSpatialDomain': {'Geometry': {'CoordinateSystem': 'CARTESIAN', 'BoundingRectangle': {'WestBoundingCoordinate': '-180.0', 'NorthBoundingCoordinate': '52.0', 'EastBoundingCoordinate': '180.0', 'SouthBoundingCoordinate': '-52.0'}}}, 'GranuleSpatialRepresentation': 'CARTESIAN'}, 'AssociatedBrowseImageUrls': {'ProviderBrowseUrl': {'URL': 'https://daac.ornl.gov/GEDI/guides/GEDI_L4B_Gridded_Biomass_Fig1.png', 'Description': 'Gridded mean aboveground biomass density (top) and standard error of the mean (bottom).'}}}}\n"
     ]
    }
   ],
   "source": [
    "#List the collections using searchCollection function\n",
    "\n",
    "results = maap.searchCollection()\n",
    "for collection in results:\n",
    "    if collection['Collection']['ShortName'] == 'GEDI_L4B_Gridded_Biomass_2017':\n",
    "        print(collection)\n",
    "        break"
   ]
  },
  {
   "cell_type": "code",
   "execution_count": 4,
   "id": "12c77013",
   "metadata": {},
   "outputs": [
    {
     "name": "stdout",
     "output_type": "stream",
     "text": [
      "Got 10 results\n"
     ]
    },
    {
     "data": {
      "text/plain": [
       "{'GranuleUR': 'GEDI_L4B_Gridded_Biomass.GEDI04_B_MW019MW138_02_002_05_R01000M_PS.tif',\n",
       " 'InsertTime': '2022-03-29T00:00:00.000Z',\n",
       " 'LastUpdate': '2022-03-30T10:43:51.000Z',\n",
       " 'Collection': {'ShortName': 'GEDI_L4B_Gridded_Biomass_2017',\n",
       "  'VersionId': '2'},\n",
       " 'DataGranule': {'SizeMBDataGranule': '20.103343',\n",
       "  'Checksum': {'Value': '025a141348906d5e612262218c496a2d468446ca30875439be6651d851bfbe23',\n",
       "   'Algorithm': 'SHA-256'},\n",
       "  'DayNightFlag': 'BOTH',\n",
       "  'ProductionDateTime': '2022-03-29T00:00:00.000Z'},\n",
       " 'Temporal': {'RangeDateTime': {'BeginningDateTime': '2019-04-18T00:00:00.000Z',\n",
       "   'EndingDateTime': '2021-08-04T23:59:59.000Z'}},\n",
       " 'Spatial': {'HorizontalSpatialDomain': {'Geometry': {'BoundingRectangle': {'WestBoundingCoordinate': '-180',\n",
       "     'NorthBoundingCoordinate': '52',\n",
       "     'EastBoundingCoordinate': '180',\n",
       "     'SouthBoundingCoordinate': '-52'}}}},\n",
       " 'MeasuredParameters': {'MeasuredParameter': [{'ParameterName': 'LIDAR WAVEFORM'},\n",
       "   {'ParameterName': 'BIOMASS'},\n",
       "   {'ParameterName': 'TERRESTRIAL ECOSYSTEMS'}]},\n",
       " 'Platforms': {'Platform': {'ShortName': 'ISS',\n",
       "   'Instruments': {'Instrument': {'ShortName': 'GEDI'}}}},\n",
       " 'Campaigns': {'Campaign': {'ShortName': 'GEDI'}},\n",
       " 'AdditionalAttributes': {'AdditionalAttribute': [{'Name': 'Dataset Status',\n",
       "    'Values': {'Value': 'MAAP Standard Data Product'}},\n",
       "   {'Name': 'Geolocated', 'Values': {'Value': 'true'}},\n",
       "   {'Name': 'Spatial Resolution', 'Values': {'Value': '1'}},\n",
       "   {'Name': 'Data Format', 'Values': {'Value': 'GeoTIFF'}},\n",
       "   {'Name': 'Band Center Frequency', 'Values': {'Value': '281759.8'}},\n",
       "   {'Name': 'Swath Width', 'Values': {'Value': '4.2'}},\n",
       "   {'Name': 'Field of View', 'Values': {'Value': '12'}},\n",
       "   {'Name': 'Laser Footprint Diameter', 'Values': {'Value': '25'}},\n",
       "   {'Name': 'Acquisition Type', 'Values': {'Value': 'Satellite Lidar'}},\n",
       "   {'Name': 'Band Center Wavelength', 'Values': {'Value': '1094'}}]},\n",
       " 'OnlineAccessURLs': {'OnlineAccessURL': [{'URL': 's3://ornl-cumulus-prod-protected/gedi/GEDI_L4B_Gridded_Biomass/data/GEDI04_B_MW019MW138_02_002_05_R01000M_PS.tif',\n",
       "    'URLDescription': 'File to download'},\n",
       "   {'URL': 'https://data.ornldaac.earthdata.nasa.gov/protected/gedi/GEDI_L4B_Gridded_Biomass/data/GEDI04_B_MW019MW138_02_002_05_R01000M_PS.tif',\n",
       "    'URLDescription': 'Download GEDI04_B_MW019MW138_02_002_05_R01000M_PS.tif'},\n",
       "   {'URL': 'https://data.ornldaac.earthdata.nasa.gov/public/gedi/GEDI_L4B_Gridded_Biomass/data/GEDI04_B_MW019MW138_02_002_05_R01000M_PS.tif.sha256',\n",
       "    'URLDescription': 'Download GEDI04_B_MW019MW138_02_002_05_R01000M_PS.tif.sha256'}]},\n",
       " 'OnlineResources': {'OnlineResource': [{'URL': 'https://daac.ornl.gov/GEDI/guides/GEDI_L4B_Gridded_Biomass.html',\n",
       "    'Description': 'ORNL DAAC Data Set Documentation',\n",
       "    'Type': 'VIEW RELATED INFORMATION'},\n",
       "   {'URL': 'https://doi.org/10.3334/ORNLDAAC/2017',\n",
       "    'Description': 'Data set Landing Page DOI URL',\n",
       "    'Type': 'VIEW RELATED INFORMATION'},\n",
       "   {'URL': 'https:/daac.ornl.gov/daacdata/gedi/GEDI_L4B_Gridded_Biomass/comp/GEDI_L4B_ATBD_v1.0.pdf',\n",
       "    'Description': 'Data Set Documentation',\n",
       "    'Type': 'VIEW RELATED INFORMATION'},\n",
       "   {'URL': 'https:/daac.ornl.gov/daacdata/gedi/GEDI_L4B_Gridded_Biomass/comp/GEDI_L4B_Gridded_Biomass.pdf',\n",
       "    'Description': 'Data Set Documentation',\n",
       "    'Type': 'VIEW RELATED INFORMATION'},\n",
       "   {'URL': 'https://data.ornldaac.earthdata.nasa.gov/s3credentials',\n",
       "    'Description': 'api endpoint to retrieve temporary credentials valid for same-region direct s3 access',\n",
       "    'Type': 'VIEW RELATED INFORMATION'}]},\n",
       " 'Orderable': 'true',\n",
       " 'DataFormat': 'GeoTIFF',\n",
       " 'Visible': 'true'}"
      ]
     },
     "execution_count": 4,
     "metadata": {},
     "output_type": "execute_result"
    }
   ],
   "source": [
    "# search for granule using **searchGranule** data using collection concept ID arguments\n",
    "COLLECTIONID = collection['concept-id'] # specify the collection id for the ATLAS dataset\n",
    "\n",
    "\n",
    "#lisiting all the Granules\n",
    "\n",
    "results = maap.searchGranule(concept_id=COLLECTIONID,limit=50)\n",
    "print(f'Got {len(results)} results')\n",
    "results[0]['Granule']\n"
   ]
  },
  {
   "cell_type": "markdown",
   "id": "5f770f2b",
   "metadata": {},
   "source": [
    "In this particular example we are interested in downloading: './download/gedi_l4b/GEDI04_B_MW019MW138_02_002_05_R01000M_PS.tif'.\n",
    "\n",
    "Utilize 'getData' function to download the file of our interest."
   ]
  },
  {
   "cell_type": "code",
   "execution_count": 5,
   "id": "423023a8",
   "metadata": {},
   "outputs": [],
   "source": [
    "download_path = './download/gedi_l4b'\n",
    "import os\n",
    "os.makedirs(download_path, exist_ok=True)\n",
    "download = results[0].getData(download_path)"
   ]
  },
  {
   "cell_type": "code",
   "execution_count": 6,
   "id": "4c2f420c",
   "metadata": {},
   "outputs": [
    {
     "data": {
      "text/plain": [
       "'./download/gedi_l4b/GEDI04_B_MW019MW138_02_002_05_R01000M_PS.tif'"
      ]
     },
     "execution_count": 6,
     "metadata": {},
     "output_type": "execute_result"
    }
   ],
   "source": [
    "#print the downloaded file\n",
    "download\n"
   ]
  },
  {
   "cell_type": "code",
   "execution_count": 7,
   "id": "ef57cafd",
   "metadata": {},
   "outputs": [
    {
     "name": "stdout",
     "output_type": "stream",
     "text": [
      "(14616, 34704)\n"
     ]
    }
   ],
   "source": [
    "import rasterio\n",
    "src = rasterio.open(download)\n",
    "data = src.read(1)\n",
    "\n",
    "#printing the shape of data to verify if rasterio was able to read the file properly\n",
    "print(data.shape) "
   ]
  },
  {
   "cell_type": "markdown",
   "id": "a48e0567",
   "metadata": {},
   "source": [
    "plot the .tif file using 'matplotlib'"
   ]
  },
  {
   "cell_type": "code",
   "execution_count": null,
   "id": "f7b1389e",
   "metadata": {},
   "outputs": [],
   "source": [
    "from matplotlib import pyplot\n",
    "pyplot.imshow(data)\n",
    "pyplot.show()"
   ]
  },
  {
   "cell_type": "code",
   "execution_count": null,
   "id": "47accfd2",
   "metadata": {},
   "outputs": [],
   "source": []
  },
  {
   "cell_type": "code",
   "execution_count": null,
   "id": "37113b7c",
   "metadata": {},
   "outputs": [],
   "source": []
  }
 ],
 "metadata": {
  "kernelspec": {
   "display_name": "Python 3 (ipykernel)",
   "language": "python",
   "name": "python3"
  },
  "language_info": {
   "codemirror_mode": {
    "name": "ipython",
    "version": 3
   },
   "file_extension": ".py",
   "mimetype": "text/x-python",
   "name": "python",
   "nbconvert_exporter": "python",
   "pygments_lexer": "ipython3",
   "version": "3.7.8"
  }
 },
 "nbformat": 4,
 "nbformat_minor": 5
}
