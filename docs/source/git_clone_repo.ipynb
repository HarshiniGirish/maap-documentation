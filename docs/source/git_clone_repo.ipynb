{
 "cells": [
  {
   "cell_type": "markdown",
   "metadata": {},
   "source": [
    "# How To Git Clone a Repository Into the Algorithm Development Environment (ADE)"
   ]
  },
  {
   "cell_type": "markdown",
   "metadata": {},
   "source": [
    "This example walks through cloning a repository into the ADE. Cloning a repository allows you to open, edit, and run files contained within the cloned repository. In this example, we look at cloning the \"MAAP-Project/maap-documentation\" Git repository, so that you are able to experiment with the code examples contained within this user documentation."
   ]
  },
  {
   "cell_type": "markdown",
   "metadata": {},
   "source": [
    "When inside of a workspace, we can use the **Git** tab at the top of the Jupyter window to see the option to **Clone**. We can also access the \"Clone a repo\" dialogue box by selecting the **File Browser** tab on the JupyterLab sidebar and using the **Git Clone** ![Git Clone](../_static/git_hub.png) button located at the top of the sidebar. The \"Clone a repo\" dialogue box prompts you to enter the URI of the repository you wish to clone. For this example we enter \" https://github.com/MAAP-Project/maap-documentation.git \". This can be found by visiting the [GitHub site for the \"MAAP-Project/maap-documentation\" Git repository](https://github.com/MAAP-Project/maap-documentation) and clicking the **Code** button. Then press the **CLONE** button to clone the repository into the ADE."
   ]
  },
  {
   "cell_type": "markdown",
   "metadata": {},
   "source": [
    "With the **File Browser** tab on the JupyterLab sidebar selected, a folder named \"maap-documentation\" should now appear under the \"projects\" directory. Folders for the various sections of the guide can be found in the \"docs/source/\" directory. To open the IPython Notebook for an example, go to a section directory and double-click on appropriate \".ipynb\" file."
   ]
  }
 ],
 "metadata": {
  "kernelspec": {
   "display_name": "Python 3",
   "language": "python",
   "name": "python3"
  },
  "language_info": {
   "codemirror_mode": {
    "name": "ipython",
    "version": 3
   },
   "file_extension": ".py",
   "mimetype": "text/x-python",
   "name": "python",
   "nbconvert_exporter": "python",
   "pygments_lexer": "ipython3",
   "version": "3.7.8"
  }
 },
 "nbformat": 4,
 "nbformat_minor": 4
}
