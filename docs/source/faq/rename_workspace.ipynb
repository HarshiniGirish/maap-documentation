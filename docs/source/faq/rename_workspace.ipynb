{
 "cells": [
  {
   "cell_type": "markdown",
   "metadata": {},
   "source": [
    "# How Do I Rename My Workspace?\n",
    "\n",
    "## Option 1: At Workspace Creation \n",
    "You can replace the auto-generated workspace name during creation.\n",
    "\n ![Name](../_static/workspace_name_1.png) \n \n",
    "## Option 2: Edit Existing Workspace \n",
    "1. In the workspaces tab under the Che side panel, select the workspace you want to rename.\n",
    "\n ![Name](../_static/workspace_name_2.png) \n \n",
    "2. Under the Overview section, you can replace the Workspace name field with whatever you wish to name it.\n",
    "\n ![Name](../_static/workspace_name_3.png) \n \n",
    "Caveat: no special characters like space, dollar, etc; name should start/end only with digits, latin letters or underscores\n"
   ]
  }
 ],
 "metadata": {
  "kernelspec": {
   "display_name": "Python 3",
   "language": "python",
   "name": "python3"
  },
  "language_info": {
   "codemirror_mode": {
    "name": "ipython",
    "version": 3
   },
   "file_extension": ".py",
   "mimetype": "text/x-python",
   "name": "python",
   "nbconvert_exporter": "python",
   "pygments_lexer": "ipython3",
   "version": "3.7.6"
  }
 },
 "nbformat": 4,
 "nbformat_minor": 4
}
