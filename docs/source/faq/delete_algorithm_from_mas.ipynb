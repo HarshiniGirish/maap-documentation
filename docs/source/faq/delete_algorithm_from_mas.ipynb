{
 "cells": [
  {
   "cell_type": "markdown",
   "metadata": {},
   "source": [
    "# How Do I Delete My Algorithm From MAS?\n",
    "\n",
    "Open the *DPS/MAS Operations* menu and select *Delete Algorithm*.  A dropdown list of the currently available algorithms will show up.  Select the algorithm you wish to delete and press OK."
   ]
  }
 ],
 "metadata": {
  "kernelspec": {
   "display_name": "Python 3",
   "language": "python",
   "name": "python3"
  },
  "language_info": {
   "codemirror_mode": {
    "name": "ipython",
    "version": 3
   },
   "file_extension": ".py",
   "mimetype": "text/x-python",
   "name": "python",
   "nbconvert_exporter": "python",
   "pygments_lexer": "ipython3",
   "version": "3.7.6"
  }
 },
 "nbformat": 4,
 "nbformat_minor": 4
}
