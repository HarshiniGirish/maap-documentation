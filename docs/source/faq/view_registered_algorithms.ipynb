{
 "cells": [
  {
   "cell_type": "markdown",
   "metadata": {},
   "source": [
    "# How Do I View Algorithms Already Registered In MAS?\n",
    "\n",
    "## Option 1: Menu\n",
    "Open the *DPS/MAS* Operations menu and select *List Algorithms*.\n",
    "\n",
    "## Option 2: Jobs UI\n",
    "Another way would be via the *DPS UI* (opened the Jobs Main Widget option on the *DPS UI* menu), which automatically displays the list of algorithms under the *Run Jobs* tab."
   ]
  }
 ],
 "metadata": {
  "kernelspec": {
   "display_name": "Python 3",
   "language": "python",
   "name": "python3"
  },
  "language_info": {
   "codemirror_mode": {
    "name": "ipython",
    "version": 3
   },
   "file_extension": ".py",
   "mimetype": "text/x-python",
   "name": "python",
   "nbconvert_exporter": "python",
   "pygments_lexer": "ipython3",
   "version": "3.7.6"
  }
 },
 "nbformat": 4,
 "nbformat_minor": 4
}
