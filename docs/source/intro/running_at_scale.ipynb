{
 "cells": [
  {
   "attachments": {},
   "cell_type": "markdown",
   "metadata": {},
   "source": [
    "# Running Algorithms at Scale\n",
    "\n",
    "In order to run algorithms in the scaled-up cloud compute environment, they must first be \"registered\" in the Algorithm Catalog. This will make them available to other MAAP users, clearly define their inputs and outputs, and prepare them to be run easily in the Data Processing System (DPS).\n"
   ]
  },
  {
   "attachments": {},
   "cell_type": "markdown",
   "metadata": {},
   "source": [
    "## Register an Algorithm\n",
    "\n",
    "### Clone a test algorithm\n",
    "This is an example algorithm you can use for this getting started guide:\n",
    "https://github.com/MAAP-Project/dps-unit-test\n",
    "\n",
    "![Demo GitHub repo](_static/example_alg1.png)\n",
    "In the repo there are a few files that you will typically have, or which are required:\n",
    "\n",
    " - `algorithm_config.yml` is a required file that has a description of the inputs and outputs of the algorithm along with other parameters like the run command.\n",
    " - `run_test.sh` is the run command for this algorithm. It is typical to have a shell script to tell the system how to run the algorithm and set some environmental variables.\n",
    "\n",
    "1. Make a new folder for your test algorithm. Open a terminal here (File > New > Terminal or use the blue \"+\" button above the Jupyter file browser).\n",
    "![New Folder](_static/clone_demo1.png)\n",
    "\n",
    "2. Copy the Github clone link from https://github.com/MAAP-Project/dps-unit-test\n",
    "![Copy .git link](_static/clone_demo2.png)\n",
    "\n",
    "3. Open the built-in Jupyter Github UI to the left of the file browser. Choose \"Clone a Repository\" and paste in the .git link you copied from the Github repository.\n",
    "![Clone a Repository](_static/clone_demo3.png)\n",
    "![Paste .git link](_static/clone_demo4.png)\n",
    "\n",
    "4. You should see a new folder created with the repo you cloned. If you browse to that folder and open up the Jupyter Github UI again, it will show you some info about that repo.\n",
    "![Algorithm folder was created](_static/clone_demo5.png)\n",
    "![Browse to folder](_static/clone_demo6.png)\n",
    "![Look at Github UI](_static/clone_demo7.png)\n",
    "\n",
    "**[UPDATE THIS PART WHEN THE NEW UI IS IN PLACE]**\n",
    "\n",
    "5. Rename the algorithm to personalize it. You do this by opening up the `algorithm_config.yml` file and changing the `algo_name` field.\n",
    "![Rename the Algorithm](_static/rename_alg.png)\n",
    "\n",
    "### Register the algorithm"
   ]
  },
  {
   "attachments": {},
   "cell_type": "markdown",
   "metadata": {},
   "source": [
    "## Run the Algorithm as a Job"
   ]
  }
 ],
 "metadata": {
  "kernelspec": {
   "display_name": "Python 3",
   "language": "python",
   "name": "python3"
  },
  "language_info": {
   "codemirror_mode": {
    "name": "ipython",
    "version": 3
   },
   "file_extension": ".py",
   "mimetype": "text/x-python",
   "name": "python",
   "nbconvert_exporter": "python",
   "pygments_lexer": "ipython3",
   "version": "3.7.8"
  }
 },
 "nbformat": 4,
 "nbformat_minor": 4
}
