{
 "cells": [
  {
   "attachments": {},
   "cell_type": "markdown",
   "metadata": {},
   "source": [
    "## Setting up your account and workspace\n",
    "\n",
    "Learn how to sign up for an account and access the MAAP."
   ]
  },
  {
   "cell_type": "markdown",
   "metadata": {},
   "source": [
    "### Signing up for an Earthdata Login account\n",
    "\n",
    "The MAAP offers accounts for NASA users through [Earthdata Login](https://urs.earthdata.nasa.gov/). Before accessing the MAAP as a NASA user, you will need to create an Earthdata Login account. Anyone can register for an Earthdata Login profile here: https://urs.earthdata.nasa.gov/users/new."
   ]
  },
  {
   "cell_type": "markdown",
   "metadata": {},
   "source": [
    "### Signing up for a new MAAP account\n",
    "\n",
    "Once registered, you can register for a MAAP account by navigating to the MAAP ADE at http://ade.ops.maap-project.org. On your first visit, select the \"URS\" login button shown here:\n",
    "\n",
    "![ADE Login](../_static/ade_login.png)  \n",
    "  \n",
    "\n",
    "If this is your first visit to the MAAP, you will be asked to agree to the MAAP Terms of Use:\n",
    "\n",
    "![MAAP Terms of Use](../_static/tou.png)  \n",
    "  \n",
    "\n",
    "Once registered, you should be redirected back to the MAAP ADE showing a disabled account message similar to this:\n",
    "\n",
    "![ADE Access Denied](../_static/access_denied.png)  \n",
    "  \n",
    "  \n",
    "At this point, a MAAP administrator will approve your account, which will grant you access to the MAAP ADE. This process typically takes 5-10 minutes. To check on the status of your pending account, contact the MAAP team at support@maap-project.org.\n",
    "\n",
    "Once your MAAP account is approved, you will receive an email notification using the address of your Earthdata Login account to let you know that your access is enabled."
   ]
  },
  {
   "attachments": {},
   "cell_type": "markdown",
   "metadata": {},
   "source": [
    "### Logging in\n",
    "\n",
    "1. Navigate to https://ade.ops.maap-project.org/ in Chrome or Firefox. You should be redirected to a page that looks like this:\n",
    "![MAAP Project log in](_static/loggingin1.png)\n",
    "\n",
    "\n",
    "2. Click the “Login with EarthData Account” button. If this is your first time logging in, you should be redirected to an EarthData Login page that looks like this:\n",
    "![Login with EarthData](_static/loggingin2.png)\n",
    "\n",
    "\n",
    "3. Enter your “EarthData Login” account credentials here and click “Log in”. You should see a temporary page that says “Redirecting”, followed by the MAAP showing your Workspaces (which will be empty to start):\n",
    "![MAAP Jupyter logging in](_static/loggingin3.png)"
   ]
  },
  {
   "attachments": {},
   "cell_type": "markdown",
   "metadata": {},
   "source": [
    "### Creating a workspace\n",
    "\n",
    "Workspaces are effectively a Jupyter \"computer in the cloud\". To get started with Jupyter you need to create a workspace.\n",
    "\n",
    "1. In the top-left corner of the MAAP dashboard, under “NASA MAAP”, click “Get Started”. You should see a menu that looks like this:\n",
    "![Choose a workspace stack](_static/createws1.png)\n",
    "\n",
    "\n",
    "2. Select \"Basic Stable”. This is called a \"Stack\" and represents a type of cloud compute environment that will be set up. If you are interested in seeing more about each Stack, the adjacent link in the left-hand area is where you can see the configuration of each Stack in detail. After choosing \"Basic Stable\", you will see a loading screen that looks like this – wait for it to finish loading.\n",
    "![Loading Basic Stable](_static/createws2.png)\n",
    "\n",
    "\n",
    "3. Once the workspace has loaded, you should see a  Jupyter interface that looks like this (note: You will see fewer environments and items in your root directory — this is normal! You may also see some notifications in the bottom right that look like errors about SSH Keys and other things; that is normal as well).\n",
    "![New Workspace View](_static/createws3.png)\n"
   ]
  },
  {
   "attachments": {},
   "cell_type": "markdown",
   "metadata": {},
   "source": [
    "### Jupyter Interface overview\n",
    "In addition to [typical JupyterLab menu bar and sidebar](https://jupyterlab.readthedocs.io/en/stable/user/interface.html) configuration:\n",
    "\n",
    "#### MAAP Jupyter Menus\n",
    "![Jupyter Menus](_static/interface1.png)\n",
    "\n",
    " - Data Search: Access Earthdata Search, copy search queries/results\n",
    " - Git: Open repo in terminal, init, or clone repo\n",
    " - Help: The help menu has several customized extensions and references to the MAAP documentation.\n",
    "\n",
    "#### MAAP Jupyter Sidebar\n",
    "![Jupyter Sidebar](_static/interface2.png)\n",
    "\n",
    " - File Browser\n",
    " - Running Terminals & Kernels\n",
    " - Git interface\n",
    " - Commands\n",
    " - Jobs sent to DPS\n",
    " - Property Inspector\n",
    " - Open tabs\n",
    " - Extension manager\n",
    "\n",
    "#### MAAP Blue Sidebar\n",
    "\n",
    " - Workspaces: See workspaces, share them, as well as configure settings\n",
    " - Stacks: See available platforms for workspaces & required memory\n",
    " - Administration: Control the configuration & policies for your installation.\n",
    " - Organizations: allow groups of developers to collaborate with private & shared workspaces. Resources & permissions are controlled & allocated within the organization by admin.\n",
    " - Profile (bottom, labeled with your name): See account info, logout\n",
    "\n"
   ]
  },
  {
   "cell_type": "markdown",
   "metadata": {},
   "source": [
    "### Code repository access\n",
    "\n",
    "After creating your MAAP account, you can create a code repository by navigating to the MAAP GitLab account at https://repo.ops.maap-project.org. This GitLab account is connected to your ADE workspaces automatically when signing into the ADE."
   ]
  },
  {
   "cell_type": "markdown",
   "metadata": {},
   "source": [
    "### Uploading your public SSH key \n",
    "\n",
    "In order to access your ADE workspaces using SSH, you'll need to upload your public SSH key to your MAAP profile using the MAAP portal at https://ops.maap-project.org. \n",
    "\n",
    "Click on your profile name (or the \"Login\" button) in the top right corner shown here:\n",
    "\n",
    "![MAAP Portal](../_static/portal.png)\n",
    "\n",
    "On your profile page, click the \"Choose File\" button to upload your key.\n",
    "\n",
    "![SSH Key Upload](../_static/sshkey.png)\n",
    "\n",
    "After uploading your key, the SSH connection will be enabled **after your next** login into the ADE."
   ]
  },
  {
   "cell_type": "markdown",
   "metadata": {},
   "source": [
    "### Note on future URL changes\n",
    "\n",
    "The \"*.ops.maap-project.org\" URLs referenced in this guide will be converted to \"*.maap-project.org\" once the version one of MAAP is released in the near future. At that time, these URLs will be updated accordingly."
   ]
  }
 ],
 "metadata": {
  "kernelspec": {
   "display_name": "Python [conda env:root] *",
   "language": "python",
   "name": "conda-root-py"
  },
  "language_info": {
   "codemirror_mode": {
    "name": "ipython",
    "version": 3
   },
   "file_extension": ".py",
   "mimetype": "text/x-python",
   "name": "python",
   "nbconvert_exporter": "python",
   "pygments_lexer": "ipython3",
   "version": "3.7.8"
  },
  "metadata": {
   "interpreter": {
    "hash": "31f2aee4e71d21fbe5cf8b01ff0e069b9275f58929596ceb00d14d90e3e16cd6"
   }
  }
 },
 "nbformat": 4,
 "nbformat_minor": 4
}
