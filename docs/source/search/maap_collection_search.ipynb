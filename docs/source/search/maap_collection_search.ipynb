{
 "cells": [
  {
   "cell_type": "markdown",
   "metadata": {},
   "source": [
    "## Searching for collections"
   ]
  },
  {
   "cell_type": "code",
   "execution_count": 1,
   "metadata": {},
   "outputs": [],
   "source": [
    "# import the maap package to handle the queries\n",
    "from maap.maap import MAAP\n"
   ]
  },
  {
   "cell_type": "code",
   "execution_count": 2,
   "metadata": {},
   "outputs": [],
   "source": [
    "# envoke the MAAP search client\n",
    "maap = MAAP()"
   ]
  },
  {
   "cell_type": "code",
   "execution_count": 3,
   "metadata": {},
   "outputs": [
    {
     "name": "stdout",
     "output_type": "stream",
     "text": [
      "Search functions available in MAAP: \n",
      "-\tconfig\n",
      "-\texecuteQuery\n",
      "-\tgetCallFromEarthdataQuery\n",
      "-\tgetJobStatus\n",
      "-\tregisterAlgorithm\n",
      "-\tsearchCollection\n",
      "-\tsearchGranule\n",
      "-\tshow\n",
      "-\tuploadFiles\n"
     ]
    }
   ],
   "source": [
    "# list the public functions avaiable for use from the MAAP client\n",
    "funcs = [func for func in dir(maap) if not func.startswith('_')]\n",
    "print(\"Search functions available in MAAP: \\n-\\t{}\".format('\\n-\\t'.join(funcs)))"
   ]
  },
  {
   "cell_type": "markdown",
   "metadata": {},
   "source": [
    "### Using the `searchCollection()` function "
   ]
  },
  {
   "cell_type": "code",
   "execution_count": 4,
   "metadata": {},
   "outputs": [],
   "source": [
    "results = maap.searchCollection(keyword='')\n"
   ]
  },
  {
   "cell_type": "code",
   "execution_count": 5,
   "metadata": {},
   "outputs": [
    {
     "data": {
      "text/plain": [
       "[]"
      ]
     },
     "execution_count": 5,
     "metadata": {},
     "output_type": "execute_result"
    }
   ],
   "source": [
    "results"
   ]
  }
 ],
 "metadata": {
  "kernelspec": {
   "display_name": "Python 3",
   "language": "python",
   "name": "python3"
  },
  "language_info": {
   "codemirror_mode": {
    "name": "ipython",
    "version": 3
   },
   "file_extension": ".py",
   "mimetype": "text/x-python",
   "name": "python",
   "nbconvert_exporter": "python",
   "pygments_lexer": "ipython3",
   "version": "3.7.5"
  }
 },
 "nbformat": 4,
 "nbformat_minor": 4
}
