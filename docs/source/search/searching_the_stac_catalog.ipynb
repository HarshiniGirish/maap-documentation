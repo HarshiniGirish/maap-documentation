{
 "cells": [
  {
   "cell_type": "markdown",
   "id": "52bab5e0",
   "metadata": {},
   "source": [
    "# Searching the STAC Catalog\n",
    "\n",
    "This tutorial provides a basic introduction to searching the MAAP STAC catalog (https://stac.maap-project.org/) using `pystac-client`.\n",
    "\n",
    "Another method of searching the STAC catalog is via the [STAC browser](http://maap-stac-browser.s3-website-us-west-2.amazonaws.com/).\n",
    "\n",
    "<img src=\"maap-stac-browser.png\" alt=\"Drawing\" style=\"width: 700px;\"/>\n"
   ]
  },
  {
   "cell_type": "markdown",
   "id": "32e71432",
   "metadata": {},
   "source": [
    "## About the STAC Catalog\n",
    "\n",
    "At this time, the STAC catalog provides discovery of a subset of MAAP datasets. These datasets were selected because MAAP CMR analytics indicated selected datasets were being searched for the most. The data files have not been moved at all in the process of publishing datasets to STAC.\n",
    "\n",
    "Data will continue to be added to the STAC catalog with priority given to datasets which are known to be in-use by MAAP UWG members through CMR metrics, S3 metrics, direct collaboration with data team members and by request."
   ]
  },
  {
   "cell_type": "markdown",
   "id": "f8875e62",
   "metadata": {},
   "source": [
    "**Prerequisites**\n",
    "\n",
    "* pystac-client\n",
    "* rioxarray (for opening a raster as an xarray dataset)\n",
    "\n",
    "**Authorship**\n",
    "\n",
    "* Author: Aimee Barciauskas\n",
    "* Date: December 13, 2022\n",
    "* Resources used: https://pystac-client.readthedocs.io/en/stable/tutorials/pystac-client-introduction.html"
   ]
  },
  {
   "cell_type": "code",
   "execution_count": 1,
   "id": "032f9fae",
   "metadata": {},
   "outputs": [],
   "source": [
    "# Uncomment the next line to install pystac-client if you haven't already.\n",
    "# !pip install pystac-client"
   ]
  },
  {
   "cell_type": "code",
   "execution_count": 2,
   "id": "ca19c549",
   "metadata": {},
   "outputs": [],
   "source": [
    "from pystac_client import Client"
   ]
  },
  {
   "cell_type": "markdown",
   "id": "b1c0811c",
   "metadata": {},
   "source": [
    "## STAC Client\n",
    "We first connect to an API by retrieving the root catalog, or landing page, of the API with the Client.open function."
   ]
  },
  {
   "cell_type": "code",
   "execution_count": 3,
   "id": "2da05924",
   "metadata": {},
   "outputs": [
    {
     "data": {
      "text/plain": [
       "<Client id=stac-fastapi>"
      ]
     },
     "execution_count": 3,
     "metadata": {},
     "output_type": "execute_result"
    }
   ],
   "source": [
    "# STAC API root URL\n",
    "URL = 'https://stac.maap-project.org/'\n",
    "\n",
    "# custom headers\n",
    "headers = []\n",
    "\n",
    "cat = Client.open(URL, headers=headers)\n",
    "cat"
   ]
  },
  {
   "cell_type": "markdown",
   "id": "0354369a",
   "metadata": {},
   "source": [
    "**CollectionClient**\n",
    "\n",
    "As with a static catalog the get_collections function will iterate through the Collections in the Catalog. Notice that because this is an API it can get all the Collections through a single call, rather than having to fetch each one individually."
   ]
  },
  {
   "cell_type": "code",
   "execution_count": 4,
   "id": "df767a14",
   "metadata": {},
   "outputs": [
    {
     "name": "stdout",
     "output_type": "stream",
     "text": [
      "<CollectionClient id=AfriSAR_UAVSAR_Coreg_SLC>\n",
      "<CollectionClient id=Landsat8_SurfaceReflectance>\n",
      "<CollectionClient id=AfriSAR_AGB_Maps_1681>\n",
      "<CollectionClient id=ABLVIS1B>\n",
      "<CollectionClient id=GEDI02_B>\n",
      "<CollectionClient id=AFLVIS2>\n",
      "<CollectionClient id=BIOSAR1>\n",
      "<CollectionClient id=GEDI02_A>\n",
      "<CollectionClient id=AFRISAR_DLR>\n"
     ]
    }
   ],
   "source": [
    "for collection in cat.get_all_collections():\n",
    "    print(collection)"
   ]
  },
  {
   "cell_type": "code",
   "execution_count": 5,
   "id": "2014a4a2",
   "metadata": {},
   "outputs": [
    {
     "data": {
      "text/plain": [
       "<CollectionClient id=AFRISAR_DLR>"
      ]
     },
     "execution_count": 5,
     "metadata": {},
     "output_type": "execute_result"
    }
   ],
   "source": [
    "collection = cat.get_collection('AFRISAR_DLR')\n",
    "collection"
   ]
  },
  {
   "cell_type": "markdown",
   "id": "95823820",
   "metadata": {},
   "source": [
    "**STAC Items**\n",
    "\n",
    "The main functions for getting items return iterators, where pystac-client will handle retrieval of additional pages when needed. Note that one request is made for the first ten items, then a second request for the next ten."
   ]
  },
  {
   "cell_type": "code",
   "execution_count": 6,
   "id": "3752e442",
   "metadata": {},
   "outputs": [
    {
     "name": "stdout",
     "output_type": "stream",
     "text": [
      "First page\n",
      "0: <Item id=afrisar_dlr_roi_RAB100q>\n",
      "1: <Item id=afrisar_dlr_roi_RAB099q>\n",
      "2: <Item id=afrisar_dlr_roi_RAB098q>\n",
      "3: <Item id=afrisar_dlr_roi_RAB097q>\n",
      "4: <Item id=afrisar_dlr_roi_RAB096q>\n",
      "5: <Item id=afrisar_dlr_roi_RAB095q>\n",
      "6: <Item id=afrisar_dlr_roi_RAB094q>\n",
      "7: <Item id=afrisar_dlr_roi_RAB093q>\n",
      "8: <Item id=afrisar_dlr_roi_RAB092q>\n",
      "9: <Item id=afrisar_dlr_roi_RAB091q>\n",
      "Second page\n",
      "0: <Item id=afrisar_dlr_roi_RAB090q>\n",
      "1: <Item id=afrisar_dlr_roi_RAB089q>\n",
      "2: <Item id=afrisar_dlr_roi_RAB088q>\n",
      "3: <Item id=afrisar_dlr_roi_RAB087q>\n",
      "4: <Item id=afrisar_dlr_roi_RAB086q>\n",
      "5: <Item id=afrisar_dlr_roi_RAB085q>\n",
      "6: <Item id=afrisar_dlr_roi_RAB084q>\n",
      "7: <Item id=afrisar_dlr_roi_RAB083q>\n",
      "8: <Item id=afrisar_dlr_roi_RAB082q>\n",
      "9: <Item id=afrisar_dlr_roi_RAB081q>\n"
     ]
    }
   ],
   "source": [
    "items = collection.get_items()\n",
    "\n",
    "# flush stdout so we can see the exact order that things happen\n",
    "def get_ten_items(items):\n",
    "    for i, item in enumerate(items):\n",
    "        print(f\"{i}: {item}\", flush=True)\n",
    "        if i == 9:\n",
    "            return\n",
    "\n",
    "print('First page', flush=True)\n",
    "get_ten_items(items)\n",
    "\n",
    "print('Second page', flush=True)\n",
    "get_ten_items(items)"
   ]
  },
  {
   "cell_type": "markdown",
   "id": "28194175",
   "metadata": {},
   "source": [
    "**Discover the URL of one item using xarray**\n"
   ]
  },
  {
   "cell_type": "code",
   "execution_count": 7,
   "id": "597e5f45",
   "metadata": {},
   "outputs": [
    {
     "data": {
      "text/plain": [
       "'https://bmap-catalogue-data.oss.eu-west-0.prod-cloud-ocb.orange-business.com/Campaign_data/afrisar_dlr/afrisar_dlr_H4-2_SLC_VV.tiff'"
      ]
     },
     "execution_count": 7,
     "metadata": {},
     "output_type": "execute_result"
    }
   ],
   "source": [
    "item = collection.get_item('afrisar_dlr_H4-2_SLC_VV')\n",
    "item.assets['data'].href"
   ]
  }
 ],
 "metadata": {
  "kernelspec": {
   "display_name": "Python 3 (ipykernel)",
   "language": "python",
   "name": "python3"
  },
  "language_info": {
   "codemirror_mode": {
    "name": "ipython",
    "version": 3
   },
   "file_extension": ".py",
   "mimetype": "text/x-python",
   "name": "python",
   "nbconvert_exporter": "python",
   "pygments_lexer": "ipython3",
   "version": "3.7.8"
  }
 },
 "nbformat": 4,
 "nbformat_minor": 5
}
