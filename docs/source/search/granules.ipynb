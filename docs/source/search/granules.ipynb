{
 "cells": [
  {
   "cell_type": "markdown",
   "metadata": {},
   "source": [
    "## Searching for Granules in MAAP\n",
    "\n",
    "These examples will walk through the MAAP API functionality of searching granules within a collection based on specific parameters. Granules are individual files from a sensor where a group of granules make a collection within CMR. The granules are the raw data that will be used for processing."
   ]
  },
  {
   "cell_type": "markdown",
   "metadata": {},
   "source": [
    "We begin by importing the `MAAP` and `pprint` packages. Then invoke the `MAAP` constructor, setting the `maap_host` argument to `'api.ops.maap-project.org'`."
   ]
  },
  {
   "cell_type": "code",
   "execution_count": 1,
   "metadata": {},
   "outputs": [],
   "source": [
    "# import the MAAP package\n",
    "from maap.maap import MAAP\n",
    "\n",
    "# import printing package to help display outputs\n",
    "from pprint import pprint\n",
    "\n",
    "# invoke the MAAP constructor using the maap_host argument\n",
    "maap = MAAP(maap_host='api.ops.maap-project.org')"
   ]
  },
  {
   "cell_type": "markdown",
   "metadata": {},
   "source": [
    "Here we view the specific arguments and keywords for the `maap.searchGranule` function."
   ]
  },
  {
   "cell_type": "code",
   "execution_count": 2,
   "metadata": {},
   "outputs": [
    {
     "name": "stdout",
     "output_type": "stream",
     "text": [
      "Help on method searchGranule in module maap.maap:\n",
      "\n",
      "searchGranule(limit=20, **kwargs) method of maap.maap.MAAP instance\n",
      "    Search the CMR granules\n",
      "    \n",
      "    :param limit: limit of the number of results\n",
      "    :param kwargs: search parameters\n",
      "    :return: list of results (<Instance of Result>)\n",
      "\n"
     ]
    }
   ],
   "source": [
    "help(maap.searchGranule)"
   ]
  },
  {
   "cell_type": "markdown",
   "metadata": {},
   "source": [
    "As we can see from the result, `maap.searchGranule` accepts a limit keyword which limits the number of results from CMR. `maap.searchGranule()` also accepts any additional search parameters that are included in CMR. For a list of accepted parameters, please refer to the [CMR Search Granules API reference](https://cmr.earthdata.nasa.gov/search/site/docs/search/api.html#granule-search-by-parameters)\n",
    "\n",
    "It is important to note that _the default limit on results from the MAAP API is 20_. To increase the number of results we will specify a variable and use it in later queries."
   ]
  },
  {
   "cell_type": "code",
   "execution_count": 3,
   "metadata": {},
   "outputs": [],
   "source": [
    "# get at max 500 results from CMR\n",
    "MAXRESULTS = 500"
   ]
  },
  {
   "cell_type": "markdown",
   "metadata": {},
   "source": [
    "In this example we will explore search options including:\n",
    "\n",
    "1. Searching by Collection Concept ID\n",
    "2. Searching by temporal filter\n",
    "3. Searching by spatial filter\n",
    "4. Using the results from one search as inputs into another\n",
    "5. Searching by additional attributes\n",
    "\n",
    "For the next couple of examples, we will focus on the [IceSat-2/ATLAS Land and Vegetation Height dataset](https://nsidc.org/data/atl08)."
   ]
  },
  {
   "cell_type": "markdown",
   "metadata": {},
   "source": [
    "### Searching by Collection Concept ID\n",
    "\n",
    "Here we will search by a unique ID that is given to CMR collections. You can find the collection IDs for all of the collections in MAAP in a table within the documentation: https://maap-project.readthedocs.io/en/latest/search/cmr_collection_table.html\n",
    "\n",
    "It is recommended to begin the search with the Collection Concept ID as this is a specific unique identifier for a collection and will avoid ambiguity when searching by a long name or short name."
   ]
  },
  {
   "cell_type": "code",
   "execution_count": 4,
   "metadata": {},
   "outputs": [
    {
     "name": "stdout",
     "output_type": "stream",
     "text": [
      "'Got 500 results'\n"
     ]
    }
   ],
   "source": [
    "COLLECTIONID = 'C1201746153-NASA_MAAP' # specify the collection id for the ATLAS dataset\n",
    "\n",
    "results = maap.searchGranule(concept_id=COLLECTIONID, limit=MAXRESULTS)\n",
    "pprint(f'Got {len(results)} results')"
   ]
  },
  {
   "cell_type": "markdown",
   "metadata": {},
   "source": [
    "We were able to get 500 results! There are most likely more than 500 granules in search results, but remember we limited the results to 500 granules. The result from the MAAP API is a list of granules where each element in the list is the metadata for that particular granule.\n",
    "\n",
    "Now let's look at the metadata for the first result."
   ]
  },
  {
   "cell_type": "code",
   "execution_count": 5,
   "metadata": {},
   "outputs": [
    {
     "name": "stdout",
     "output_type": "stream",
     "text": [
      "{'Granule': {'AdditionalAttributes': {...},\n",
      "             'Collection': {...},\n",
      "             'DataFormat': 'HDF5',\n",
      "             'DataGranule': {...},\n",
      "             'GranuleUR': 'SC:ATL08.005:228968197',\n",
      "             'InsertTime': '2021-11-05T13:31:43.040Z',\n",
      "             'LastUpdate': '2021-11-22T20:24:55.537Z',\n",
      "             'OnlineAccessURLs': {...},\n",
      "             'OrbitCalculatedSpatialDomains': {...},\n",
      "             'Orderable': 'true',\n",
      "             'Spatial': {...},\n",
      "             'Temporal': {...},\n",
      "             'Visible': 'true'},\n",
      " 'collection-concept-id': 'C1201746153-NASA_MAAP',\n",
      " 'concept-id': 'G1201746154-NASA_MAAP',\n",
      " 'format': 'application/echo10+xml',\n",
      " 'revision-id': '9'}\n"
     ]
    }
   ],
   "source": [
    "# print the first granule's metadata\n",
    "# we use the depth parameter to set the layer of metadata detail in the results, with (1) having the least detail\n",
    "# (1) displays the collection concept ID, concept ID, format, and revision ID\n",
    "# adjust the depth to a larger value (6) if you would like to view all of the metadata\n",
    "pprint(results[0], depth=2)"
   ]
  },
  {
   "cell_type": "markdown",
   "metadata": {},
   "source": [
    "There is a lot of information in the metadata so let's break it down...\n",
    "\n",
    "The `Granule` key has all of the granule information including attributes, browse imagery URLs, spatial, and temporal information. The `collection-concept-id` should match what you searched by and be the same for each granule. Lastly the granule specific `concept-id` is a unique identifier for this granule. This information can be used to further refine search results from CMR, specifically the granule information."
   ]
  },
  {
   "cell_type": "markdown",
   "metadata": {},
   "source": [
    "### Searching by Temporal Filter\n",
    "\n",
    "Here we will combine a search from earlier using the Collection Concept ID with a temporal filter to fine tune our results using the `temporal` keyword in our search.\n",
    "\n",
    "The temporal keyword takes datetime information in a [specific format](https://cmr.earthdata.nasa.gov/search/site/docs/search/api.html#g-temporal). The date format used is `YYYY-MM-DDThh:mm:ssZ` and temporal search criteria may be either a single date or a date range. If one date is provided then it can be inferred as start or end date. To define a start date and return all granules after the date, put a comma after the date (`YYYY-MM-DDThh:mm:ssZ,`). To define an end date and return all granules prior to the data, put a comma before the date (`,YYYY-MM-DDThh:mm:ssZ`). Lastly, to get a date range, provide the start date and end date separated by a comma (`YYYY-MM-DDThh:mm:ssZ,YYYY-MM-DDThh:mm:ssZ`).\n",
    "\n",
    "In this example we will search for one month of data."
   ]
  },
  {
   "cell_type": "code",
   "execution_count": 6,
   "metadata": {},
   "outputs": [
    {
     "name": "stdout",
     "output_type": "stream",
     "text": [
      "'Got 500 results'\n"
     ]
    }
   ],
   "source": [
    "dateRange = '2018-12-01T00:00:00Z,2018-12-31T23:59:59Z' # specify a date range to search for data for Dec. 2018\n",
    "\n",
    "results = maap.searchGranule(temporal=dateRange,concept_id=COLLECTIONID,limit=MAXRESULTS,)\n",
    "pprint(f'Got {len(results)} results')"
   ]
  },
  {
   "cell_type": "code",
   "execution_count": 7,
   "metadata": {},
   "outputs": [
    {
     "name": "stdout",
     "output_type": "stream",
     "text": [
      "'Granule ATL08_20181201001339_09680103_005_01.h5 was acquired starting at 2018-12-01T00:13:48.477Z'\n"
     ]
    }
   ],
   "source": [
    "granuleFilename = results[0]['Granule']['DataGranule']['ProducerGranuleId'] # get the granule file name\n",
    "granuleDate = results[0]['Granule']['Temporal']['RangeDateTime']['BeginningDateTime'] # get the granule start time\n",
    "\n",
    "pprint(f'Granule {granuleFilename} was acquired starting at {granuleDate}',width=100)"
   ]
  },
  {
   "cell_type": "markdown",
   "metadata": {},
   "source": [
    "It looks like the first result correctly matches with the beginning temporal search parameter. Keep in mind that the results are limited to 500 so the final granule returned may not match the end date that was searched for."
   ]
  },
  {
   "cell_type": "markdown",
   "metadata": {},
   "source": [
    "### Searching by Spatial Filter\n",
    "\n",
    "Here we will illustrate how to search for granules by a spatial filter. There are a couple of [spatial filters available to search by](https://cmr.earthdata.nasa.gov/search/site/docs/search/api.html#g-spatial) in CMR including point, line, polygon, and bounding box. The most simple to use is the bounding box which is a sequence of four latitude and longitude values in the order of `[W,S,E,N]`. In this example, we are going to search data from the [NASA Shuttle Radar Topography Mission Global 1 arc second V003 dataset](https://lpdaac.usgs.gov/products/srtmgl1v003/) over Gabon using the `bounding_box` keyword.\n"
   ]
  },
  {
   "cell_type": "code",
   "execution_count": 8,
   "metadata": {},
   "outputs": [
    {
     "name": "stdout",
     "output_type": "stream",
     "text": [
      "'Got 43 results'\n"
     ]
    }
   ],
   "source": [
    "granuleDomain = '8.79799563969,-3.97882659263,14.4254557634,2.32675751384' # specify bounding box to search by\n",
    "\n",
    "results = maap.searchGranule(bounding_box=granuleDomain,concept_id='C1200000522-NASA_MAAP',limit=MAXRESULTS)\n",
    "pprint(f'Got {len(results)} results')"
   ]
  },
  {
   "cell_type": "code",
   "execution_count": 9,
   "metadata": {},
   "outputs": [
    {
     "name": "stdout",
     "output_type": "stream",
     "text": [
      "'Granule N00E014.SRTMGL1.hgt.zip was acquired within the following geometry: '\n",
      "{'BoundingRectangle': {'EastBoundingCoordinate': '15.00027778',\n",
      "                       'NorthBoundingCoordinate': '1.00027778',\n",
      "                       'SouthBoundingCoordinate': '-0.00027778',\n",
      "                       'WestBoundingCoordinate': '13.99972222'}}\n"
     ]
    }
   ],
   "source": [
    "granuleFilename = results[0]['Granule']['DataGranule']['ProducerGranuleId'] # get the granule file name\n",
    "granuleDate = results[0]['Granule']['Spatial']['HorizontalSpatialDomain']['Geometry'] # grab the spatial information from granule\n",
    "\n",
    "pprint(f'Granule {granuleFilename} was acquired within the following geometry: ',width=100)\n",
    "pprint(granuleDate)"
   ]
  },
  {
   "cell_type": "markdown",
   "metadata": {},
   "source": [
    "We can see from the first granule that the spatial coordinates of the granule intersect our search box. Also note that spatial filtering yields more refined search results with only 43 granules returned."
   ]
  },
  {
   "cell_type": "markdown",
   "metadata": {},
   "source": [
    "### Searching by Additional Attributes\n",
    "\n",
    "The MAAP has provided additional metadata, also called additional attributes, to the granule metadata to support the unique search needs of the aboveground terrestrial carbon research community. There are many additional attributes available. To get started users can search by the following keywords:\n",
    "\n",
    "* `site_name`\n",
    "* `data_format`\n",
    "* `track_number`\n",
    "* `polarization`\n",
    "\n",
    "For example, if a user is only interested in using data from the _Mondah Forest Gabon_ site with a data format of _ASCII_ we can use the following query:\n"
   ]
  },
  {
   "cell_type": "code",
   "execution_count": 10,
   "metadata": {},
   "outputs": [
    {
     "name": "stdout",
     "output_type": "stream",
     "text": [
      "'Got 17 results'\n"
     ]
    }
   ],
   "source": [
    "results = maap.searchGranule(site_name=\"Mondah Forest Gabon\",data_format='ASCII',concept_id='C1200110729-NASA_MAAP')\n",
    "pprint(f'Got {len(results)} results')"
   ]
  },
  {
   "cell_type": "code",
   "execution_count": 11,
   "metadata": {},
   "outputs": [
    {
     "name": "stdout",
     "output_type": "stream",
     "text": [
      "{'Granule': {'AdditionalAttributes': {...},\n",
      "             'Collection': {...},\n",
      "             'DataFormat': 'ASCII',\n",
      "             'DataGranule': {...},\n",
      "             'GranuleUR': 'SC:AFLVIS2.001:138348895',\n",
      "             'InsertTime': '2018-09-24T11:00:23.343Z',\n",
      "             'LastUpdate': '2018-09-24T11:00:54.336Z',\n",
      "             'OnlineAccessURLs': {...},\n",
      "             'OnlineResources': {...},\n",
      "             'Orderable': 'true',\n",
      "             'Platforms': {...},\n",
      "             'Spatial': {...},\n",
      "             'Temporal': {...},\n",
      "             'Visible': 'true'},\n",
      " 'collection-concept-id': 'C1200110729-NASA_MAAP',\n",
      " 'concept-id': 'G1200115690-NASA_MAAP',\n",
      " 'format': 'application/echo10+xml',\n",
      " 'revision-id': '6'}\n"
     ]
    }
   ],
   "source": [
    "pprint(results[0],depth=2)"
   ]
  },
  {
   "cell_type": "markdown",
   "metadata": {},
   "source": [
    "The returned results will give you only ASCII datasets that have been tagged as part of the Mondah Forest Gabon research site.\n",
    "\n",
    "**DISCLAIMER:** The MAAP data team is working to update the additional attributes within the MAAP platform so these are subject to change. Furthermore, the accepted parameters for the additional attributes are changing and further documentation will be provided as updates come."
   ]
  },
  {
   "cell_type": "markdown",
   "metadata": {},
   "source": [
    "The MAAP API provides rich functionality to interact with the CMR instance within the MAAP platform. Users can search datasets programmatically by many parameters and even combine parameters such as spatial and temporal filters to refine results."
   ]
  }
 ],
 "metadata": {
  "kernelspec": {
   "display_name": "Python 3 (ipykernel)",
   "language": "python",
   "name": "python3"
  },
  "language_info": {
   "codemirror_mode": {
    "name": "ipython",
    "version": 3
   },
   "file_extension": ".py",
   "mimetype": "text/x-python",
   "name": "python",
   "nbconvert_exporter": "python",
   "pygments_lexer": "ipython3",
   "version": "3.7.8"
  }
 },
 "nbformat": 4,
 "nbformat_minor": 4
}
