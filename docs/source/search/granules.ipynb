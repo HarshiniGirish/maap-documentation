{
 "cells": [
  {
   "cell_type": "markdown",
   "metadata": {},
   "source": [
    "## Searching for Granules in MAAP\n",
    "\n",
    "These examples will walk through the MAAP API functionality of searching granules within a collection based on specific parameters. Granules can be thought of individual scenes from a sensor where a group of granules make a collection within CMR. The granules are the raw data that will be used for processing."
   ]
  },
  {
   "cell_type": "code",
   "execution_count": 1,
   "metadata": {},
   "outputs": [],
   "source": [
    "# import the MAAP API and invoke the api\n",
    "from maap.maap import MAAP\n",
    "maap = MAAP()\n",
    "\n",
    "# import printing package to help display outputs\n",
    "from pprint import pprint"
   ]
  },
  {
   "cell_type": "markdown",
   "metadata": {},
   "source": [
    "Here we view the specific arguments and keywords for the `maap.searchGranule` method."
   ]
  },
  {
   "cell_type": "code",
   "execution_count": 2,
   "metadata": {},
   "outputs": [
    {
     "name": "stdout",
     "output_type": "stream",
     "text": [
      "Help on method searchGranule in module maap.maap:\n",
      "\n",
      "searchGranule(limit=20, **kwargs) method of maap.maap.MAAP instance\n",
      "    Search the CMR granules\n",
      "    \n",
      "    :param limit: limit of the number of results\n",
      "    :param kwargs: search parameters\n",
      "    :return: list of results (<Instance of Result>)\n",
      "\n"
     ]
    }
   ],
   "source": [
    "help(maap.searchGranule)"
   ]
  },
  {
   "cell_type": "markdown",
   "metadata": {},
   "source": [
    "As we can see from the result `maap.searchGranule` accepts a limit keyword which limits the number of results from CMR. `maap.searchGranule()` also accepts any additional search parameters that are included in CMR. For a list of accepted parameters, please refer to the [CMR Search Granules API reference](https://cmr.earthdata.nasa.gov/search/site/docs/search/api.html#granule-search-by-parameters)\n",
    "\n",
    "It is important to note that _the default limit on results from the MAAP API is 20_. To increase the number of results we will specify a variable and use it in later queries."
   ]
  },
  {
   "cell_type": "code",
   "execution_count": 3,
   "metadata": {},
   "outputs": [],
   "source": [
    "# get at max 500 results from CMR\n",
    "MAXRESULTS = 500"
   ]
  },
  {
   "cell_type": "markdown",
   "metadata": {},
   "source": [
    "In this example we will explore search options including:\n",
    "\n",
    "1. Searching by Collection Concept ID\n",
    "2. Searching by temporal filter\n",
    "3. Searching by spatial filter\n",
    "4. Using the results from one search as inputs into another\n",
    "5. Searching by additional attributes\n",
    "\n",
    "To make things consistent we will focus on the [IceSat-2/ATLAS Land and Vegetation Height dataset](https://dx.doi.org/10.5067/ATLAS/ATL08.002) (except for searching by additional attributes)."
   ]
  },
  {
   "cell_type": "markdown",
   "metadata": {},
   "source": [
    "### Searching by Collection Concept ID\n",
    "\n",
    "Here we will search by a unique ID that is given to CMR collections. You can find the collection IDs for all of the collections in MAAP in a table within the documentation: https://maap-project.readthedocs.io/search/cmr_collection_table.html\n",
    "\n",
    "It is recommended to begin the search with the Collection Concept ID as this is a specific unique identifier for a collection and will avoid ambiguity when searching by a long name or short name."
   ]
  },
  {
   "cell_type": "code",
   "execution_count": 4,
   "metadata": {},
   "outputs": [
    {
     "name": "stdout",
     "output_type": "stream",
     "text": [
      "'Got 500 results'\n"
     ]
    }
   ],
   "source": [
    "COLLECTIONID = 'C1200116818-NASA_MAAP' # specify the collection id for the ATLAS dataset\n",
    "\n",
    "results = maap.searchGranule(concept_id=COLLECTIONID,limit=MAXRESULTS)\n",
    "pprint(f'Got {len(results)} results')"
   ]
  },
  {
   "cell_type": "markdown",
   "metadata": {},
   "source": [
    "We were able to get 500 results! There are most likely more than 500 granules in search results, but remember we limited the results to 500 granules. The result from the MAAP API is a list of granules where each element in the list is the metadata for that particular granule.\n",
    "\n",
    "Now let's look at the metadata for the first result."
   ]
  },
  {
   "cell_type": "code",
   "execution_count": 5,
   "metadata": {},
   "outputs": [
    {
     "name": "stdout",
     "output_type": "stream",
     "text": [
      "{'Granule': {'AdditionalAttributes': {...},\n",
      "             'AssociatedBrowseImageUrls': {...},\n",
      "             'Collection': {...},\n",
      "             'DataFormat': 'HDF5',\n",
      "             'DataGranule': {...},\n",
      "             'GranuleUR': 'SC:ATL08.002:165626788',\n",
      "             'InsertTime': '2019-10-01T20:15:55.741Z',\n",
      "             'LastUpdate': '2019-10-24T13:03:42.752Z',\n",
      "             'OnlineAccessURLs': {...},\n",
      "             'OnlineResources': {...},\n",
      "             'Orderable': 'true',\n",
      "             'Spatial': {...},\n",
      "             'Temporal': {...},\n",
      "             'Visible': 'true'},\n",
      " 'collection-concept-id': 'C1200116818-NASA_MAAP',\n",
      " 'concept-id': 'G1200125381-NASA_MAAP',\n",
      " 'format': 'application/echo10+xml',\n",
      " 'revision-id': '1'}\n"
     ]
    }
   ],
   "source": [
    "# print the first granule metadata\n",
    "# adjust the depth to a larger value (4) if you would like to view all of the metadata\n",
    "pprint(results[0],depth=2)"
   ]
  },
  {
   "cell_type": "markdown",
   "metadata": {},
   "source": [
    "There is a lot of information in the metadata so let's break it down...\n",
    "\n",
    "The `Granule` key has all of the granule information including attributes, browse imagery URLs, spatial, and temporal information. The `collection-concept-id` should match what you searched by and be the same for each granule. Lastly the granule specific `concept-id` is a unique identifier for this granule. This information can be used to further refine search results from CMR, specifically the granule information."
   ]
  },
  {
   "cell_type": "markdown",
   "metadata": {},
   "source": [
    "### Searching by Temporal Filter\n",
    "\n",
    "Here we will combine a search from earlier using the Collection Concept ID with a temporal filter to fine tune our results using the `temporal` keyword in our search.\n",
    "\n",
    "The temporal keyword takes datetime information in a [specific format](https://cmr.earthdata.nasa.gov/search/site/docs/search/api.html#g-temporal). The date format used is `YYYY-MM-DDThh:mm:ssZ` and temporal search criteria may be either a single date or a date range. If one date is provided then it can be inferred as start or end date. To define a start date and return all granules after the date, put a comma after the date (`YYYY-MM-DDThh:mm:ssZ,`). To define a end date and return all granules prior to the data, put a comma before the date (`,YYYY-MM-DDThh:mm:ssZ`). Lastly, to get a date range provide the start date and end date separated by a comma (`YYYY-MM-DDThh:mm:ssZ,YYYY-MM-DDThh:mm:ssZ`).\n",
    "\n",
    "In this example we will search for one month of data."
   ]
  },
  {
   "cell_type": "code",
   "execution_count": 6,
   "metadata": {},
   "outputs": [
    {
     "name": "stdout",
     "output_type": "stream",
     "text": [
      "'Got 500 results'\n"
     ]
    }
   ],
   "source": [
    "dateRange = '2018-12-01T00:00:00Z,2018-12-31T23:59:59Z' # specify date range to search for data in Dec. 2018\n",
    "\n",
    "results = maap.searchGranule(temporal=dateRange,concept_id=COLLECTIONID,limit=MAXRESULTS,)\n",
    "pprint(f'Got {len(results)} results')"
   ]
  },
  {
   "cell_type": "code",
   "execution_count": 7,
   "metadata": {},
   "outputs": [
    {
     "name": "stdout",
     "output_type": "stream",
     "text": [
      "'Granule ATL08_20181201001339_09680103_002_01.h5 was acquired on 2018-12-01T00:15:04.914Z'\n"
     ]
    }
   ],
   "source": [
    "granuleFilename = results[0]['Granule']['DataGranule']['ProducerGranuleId'] # get the granule file name\n",
    "granuleDate = results[0]['Granule']['Temporal']['RangeDateTime']['BeginningDateTime'] # get the granule start time\n",
    "\n",
    "pprint(f'Granule {granuleFilename} was acquired starting at {granuleDate}',width=100)"
   ]
  },
  {
   "cell_type": "markdown",
   "metadata": {},
   "source": [
    "It looks like the first result correctly matches with the beginning temporal search parameter. Keep in mind that the results are limited to 500 so the final granule returned may not match the end date that was searched for."
   ]
  },
  {
   "cell_type": "markdown",
   "metadata": {},
   "source": [
    "### Searching by Spatial Filter\n",
    "\n",
    "Here we will illustrate how to search for granules by a spatial filter. There are a couple of [spatial filters available to search by](https://cmr.earthdata.nasa.gov/search/site/docs/search/api.html#g-spatial) in CMR including point, line, polygon, and bounding box. The easiest by far is the bounding box and that is a sequence of four latitude and longitude values in the order of `[W,S,E,N]`. In this example, we are going to search data from the ATLAS vegetation height data over Southeast Asia using the `bounding_box` keyword.\n"
   ]
  },
  {
   "cell_type": "code",
   "execution_count": 8,
   "metadata": {},
   "outputs": [
    {
     "name": "stdout",
     "output_type": "stream",
     "text": [
      "'Got 268 results'\n"
     ]
    }
   ],
   "source": [
    "granuleDomain = '100,10,110,20' # specify bounding box to search by\n",
    "\n",
    "results = maap.searchGranule(bounding_box=granuleDomain,concept_id=COLLECTIONID,limit=MAXRESULTS)\n",
    "pprint(f'Got {len(results)} results')"
   ]
  },
  {
   "cell_type": "code",
   "execution_count": 9,
   "metadata": {},
   "outputs": [
    {
     "name": "stdout",
     "output_type": "stream",
     "text": [
      "'Granule ATL08_20181015204356_02630107_002_01.h5 was acquired within the following geometry: '\n",
      "{'BoundingRectangle': {'EastBoundingCoordinate': '102.63671150231565',\n",
      "                       'NorthBoundingCoordinate': '27.002257257012193',\n",
      "                       'SouthBoundingCoordinate': '0.45169070373712006',\n",
      "                       'WestBoundingCoordinate': '99.89024235018344'}}\n"
     ]
    }
   ],
   "source": [
    "granuleFilename = results[0]['Granule']['DataGranule']['ProducerGranuleId'] # get the granule file name\n",
    "granuleDate = results[0]['Granule']['Spatial']['HorizontalSpatialDomain']['Geometry'] # grab the spatial information from granule\n",
    "\n",
    "pprint(f'Granule {granuleFilename} was acquired within the following geometry: ',width=100)\n",
    "pprint(granuleDate)"
   ]
  },
  {
   "cell_type": "markdown",
   "metadata": {},
   "source": [
    "We can see from the first granule that the spatial coordinates of the granule intersect our search box. Also, that spatial filtering yields more refined search results with only 268 granules returned."
   ]
  },
  {
   "cell_type": "markdown",
   "metadata": {},
   "source": [
    "### Searching by Additional Attributes\n",
    "\n",
    "The MAAP platform has built upon the base CMR database and provided additional attributes to the granule metadata so that users can search for specific information. There are many additional attributes available. To get started users can search by the following keywords:\n",
    "\n",
    "* `site_name`\n",
    "* `data_format`\n",
    "* `track_number`\n",
    "* `polarization`\n",
    "\n",
    "For example, if a user is only interested in using data from the _Mondah Forest Gabon_ site with a data format of _GeoTIFF_ we can use the following query:\n"
   ]
  },
  {
   "cell_type": "code",
   "execution_count": 10,
   "metadata": {},
   "outputs": [
    {
     "name": "stdout",
     "output_type": "stream",
     "text": [
      "'Got 18 results'\n"
     ]
    }
   ],
   "source": [
    "results = maap.searchGranule(site_name=\"Mondah Forest Gabon\",data_format='GeoTIFF')\n",
    "pprint(f'Got {len(results)} results')"
   ]
  },
  {
   "cell_type": "code",
   "execution_count": 11,
   "metadata": {},
   "outputs": [
    {
     "name": "stdout",
     "output_type": "stream",
     "text": [
      "{'Granule': {'AdditionalAttributes': {...},\n",
      "             'Collection': {...},\n",
      "             'DataFormat': 'GeoTIFF',\n",
      "             'DataGranule': {...},\n",
      "             'GranuleUR': 'AfriSAR_AGB_Maps.Mondah_AGB_50m.tif',\n",
      "             'InsertTime': '2019-05-10T00:00:00Z',\n",
      "             'LastUpdate': '2019-05-13T12:45:07Z',\n",
      "             'MeasuredParameters': {...},\n",
      "             'OnlineAccessURLs': {...},\n",
      "             'OnlineResources': {...},\n",
      "             'Orderable': 'false',\n",
      "             'Spatial': {...},\n",
      "             'Temporal': {...},\n",
      "             'Visible': 'true'},\n",
      " 'collection-concept-id': 'C1200115768-NASA_MAAP',\n",
      " 'concept-id': 'G1200115791-NASA_MAAP',\n",
      " 'format': 'application/echo10+xml',\n",
      " 'revision-id': '2'}\n"
     ]
    }
   ],
   "source": [
    "pprint(results[0],depth=2)"
   ]
  },
  {
   "cell_type": "markdown",
   "metadata": {},
   "source": [
    "The returned results will give you only GeoTIFF datasets that have been tagged as part of the Mondah Forest Gabon research site.\n",
    "\n",
    "**DISCLAIMER:** The MAAP data team is working to update the additional attributes within the MAAP platform so these are subject to change. Furthermore, the accepted parameters for the additional attributes are changing and further documentation will be provided as updates come."
   ]
  },
  {
   "cell_type": "markdown",
   "metadata": {},
   "source": [
    "The MAAP API provides rich functionality to interact with the CMR instance within the MAAP platform. Users can search datasets programmatically by many parameters and even combine parameters such as spatial and temporal filters to refine results."
   ]
  }
 ],
 "metadata": {
  "kernelspec": {
   "display_name": "Python 3",
   "language": "python",
   "name": "python3"
  },
  "language_info": {
   "codemirror_mode": {
    "name": "ipython",
    "version": 3
   },
   "file_extension": ".py",
   "mimetype": "text/x-python",
   "name": "python",
   "nbconvert_exporter": "python",
   "pygments_lexer": "ipython3",
   "version": "3.7.4"
  }
 },
 "nbformat": 4,
 "nbformat_minor": 4
}
