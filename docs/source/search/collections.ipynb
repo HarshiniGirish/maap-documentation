{
 "cells": [
  {
   "cell_type": "markdown",
   "metadata": {},
   "source": [
    "## Searching for Collections in MAAP"
   ]
  },
  {
   "cell_type": "markdown",
   "metadata": {},
   "source": [
    "These examples walk through the MAAP API functionality of searching for collections based on specific parameters. Collections are groupings of files that share the same product specification. Searching for collections can be useful for finding individual files, known as granules, which are used for processing.\n",
    "\n",
    "We begin by importing the `MAAP` package and creating a new MAAP class."
   ]
  },
  {
   "cell_type": "code",
   "execution_count": 6,
   "metadata": {},
   "outputs": [],
   "source": [
    "# import the MAAP package to handle queries\n",
    "from maap.maap import MAAP\n",
    "\n",
    "# import printing package to help display outputs\n",
    "from pprint import pprint\n",
    "\n",
    "# invoke the MAAP search client\n",
    "maap = MAAP()"
   ]
  },
  {
   "cell_type": "markdown",
   "metadata": {},
   "source": [
    "We can use the `maap.searchCollection` function to return a list of desired collections. Before using this function, let's use the `help` function to view the specific arguments and keywords for `maap.searchCollection`."
   ]
  },
  {
   "cell_type": "code",
   "execution_count": 7,
   "metadata": {},
   "outputs": [
    {
     "name": "stdout",
     "output_type": "stream",
     "text": [
      "Help on method searchCollection in module maap.maap:\n",
      "\n",
      "searchCollection(limit=100, **kwargs) method of maap.maap.MAAP instance\n",
      "    Search the CMR collections\n",
      "    :param limit: limit of the number of results\n",
      "    :param kwargs: search parameters\n",
      "    :return: list of results (<Instance of Result>)\n",
      "\n"
     ]
    }
   ],
   "source": [
    "# view help for the searchCollection function\n",
    "help(maap.searchCollection)"
   ]
  },
  {
   "cell_type": "markdown",
   "metadata": {},
   "source": [
    "The help text is showing that `maap.searchCollection` accepts a limit and search parameters. The limit parameter limits the number of resulting collections returned by `maap.searchCollection`. Note that `limit=100` means that the *default limit* for results from the MAAP API is 100. `maap.searchCollection` accepts any additional search parameters that are included in the CMR. For a list of accepted parameters, please refer to the [CMR Search Collections API reference](https://cmr.earthdata.nasa.gov/search/site/docs/search/api.html#collection-search-by-parameters)."
   ]
  },
  {
   "cell_type": "markdown",
   "metadata": {},
   "source": [
    "In this example we will explore search options including:\n",
    "\n",
    "1. Finding all Collections\n",
    "2. Searching by temporal filter\n",
    "3. Searching by spatial filter\n",
    "4. Using the results from one search as inputs into another\n",
    "5. Searching by additional attributes"
   ]
  },
  {
   "cell_type": "markdown",
   "metadata": {},
   "source": [
    "### Finding all Collections\n",
    "\n",
    "Here we will demonstrate how to create a list containing all of the collections contained within the CMR. To do this, we will use the `maap.searchCollection` function without any additional search parameters. "
   ]
  },
  {
   "cell_type": "code",
   "execution_count": 4,
   "metadata": {},
   "outputs": [
    {
     "name": "stdout",
     "output_type": "stream",
     "text": [
      "'Got 100 results'\n"
     ]
    }
   ],
   "source": [
    "# search all collections\n",
    "results = maap.searchCollection(cmr_host=\"cmr.earthdata.nasa.gov\")\n",
    "\n",
    "# print the number of collections\n",
    "pprint(f'Got {len(results)} results')"
   ]
  },
  {
   "cell_type": "markdown",
   "metadata": {},
   "source": [
    "We get 100 results because of the default page limit. The result from the MAAP API is a list of collections where each element in the list is the metadata for that particular collection. Note that as more collections are added to the CMR, it is important to remember that the default limit on results is 100. To change the limit, type `limit=` and then a value within the parentheses after `maap.searchCollection()`.\n",
    "\n",
    "Let's look at the metadata for the first collection in our list of results (`results[0]`) using `pprint`. For formatting purposes, we can use the `depth` parameter to control the number of levels of metadata detail to display. By default, there is no constraint on the depth. By setting a `depth` parameter (in this case `depth=2`), we can ensure that the next contained level is replaced by an ellipsis."
   ]
  },
  {
   "cell_type": "code",
   "execution_count": 8,
   "metadata": {},
   "outputs": [
    {
     "name": "stdout",
     "output_type": "stream",
     "text": [
      "{'Collection': {'ArchiveCenter': 'BCO-DMO',\n",
      "                'Campaigns': {...},\n",
      "                'CollectionDataType': 'SCIENCE_QUALITY',\n",
      "                'CollectionState': 'PLANNED',\n",
      "                'Contacts': {...},\n",
      "                'DOI': {...},\n",
      "                'DataFormat': 'ascii',\n",
      "                'DataSetId': '\"The Omnivores Dilemma\": The Effect of Autumn '\n",
      "                             'Diet on Winter Physiology and Condition of '\n",
      "                             'Juvenile Antarctic Krill',\n",
      "                'Description': 'Antarctic krill are essential in the Southern '\n",
      "                               'Ocean as they support vast numbers of marine '\n",
      "                               'mammals, seabirds and fishes, some of which '\n",
      "                               'feed almost exclusively on krill. Antarctic '\n",
      "                               'krill also constitute a target species for '\n",
      "                               'industrial fisheries in the Southern Ocean. '\n",
      "                               'The success of Antarctic krill populations is '\n",
      "                               'largely determined by the ability of their '\n",
      "                               'young to survive the long, dark winter, where '\n",
      "                               'food is extremely scarce. To survive the '\n",
      "                               'long-dark winter, young Antarctic krill must '\n",
      "                               'have a high-quality diet in autumn. However, '\n",
      "                               'warming in certain parts of Antarctica is '\n",
      "                               'changing the dynamics and quality of the polar '\n",
      "                               'food web, resulting in a shift in the type of '\n",
      "                               'food available to young krill in autumn. It is '\n",
      "                               'not yet clear how these dynamic changes are '\n",
      "                               'affecting the ability of krill to survive the '\n",
      "                               'winter. This project aims to fill an important '\n",
      "                               'gap in current knowledge on an understudied '\n",
      "                               'stage of the Antarctic krill life cycle, the '\n",
      "                               '1-year old juveniles. The results derived from '\n",
      "                               'this work will contribute to the development '\n",
      "                               'of improved bioenergetic, population and '\n",
      "                               'ecosystem models, and will advance current '\n",
      "                               'scientific understanding of this critical '\n",
      "                               \"Antarctic species. This CAREER project's core \"\n",
      "                               'education and outreach objectives seek to '\n",
      "                               'enhance education and increase diversity '\n",
      "                               'within STEM fields. An undergraduate course '\n",
      "                               'will be developed that will integrate '\n",
      "                               'undergraduate research and writing in way that '\n",
      "                               'promotes authentic scientific inquiry and '\n",
      "                               'analysis of original research data by the '\n",
      "                               'students, and that enhances their '\n",
      "                               'communication skills. A graduate course will '\n",
      "                               \"be developed that will promote students' \"\n",
      "                               'skills in communicating their own research to '\n",
      "                               'a non-scientific audience.  Graduate students '\n",
      "                               'will be supported through the proposed study '\n",
      "                               'and will gain valuable research experience. '\n",
      "                               'Traditionally underserved undergraduate '\n",
      "                               'students will be recruited to conduct '\n",
      "                               'independent research under the umbrella of the '\n",
      "                               'larger project. Throughout each field season, '\n",
      "                               'the research team will maintain a weekly blog '\n",
      "                               'that will include short videos, photographs '\n",
      "                               'and text highlighting the research, as well as '\n",
      "                               'their experiences living and working in '\n",
      "                               'Antarctica. The aim of the blog will be to '\n",
      "                               'engage the public and increase awareness and '\n",
      "                               'understanding of Antarctic ecosystems and the '\n",
      "                               'impact of warming, and of the scientific '\n",
      "                               'process of research and discovery.rnrnrnrnIn '\n",
      "                               'this 5-year CAREER project, the investigator '\n",
      "                               'will use a combination of empirical and '\n",
      "                               'theoretical techniques to assess the effects '\n",
      "                               'of diet on 1-year old krill in autumn-winter. '\n",
      "                               'The research is centered on four hypotheses: '\n",
      "                               '(H1) autumn diet affects 1-year old krill '\n",
      "                               'physiology and condition at the onset of '\n",
      "                               'winter; (H2) autumn diet has an effect on '\n",
      "                               'winter physiology and condition of 1-year old '\n",
      "                               'krill under variable winter food conditions; '\n",
      "                               '(H3) the rate of change in physiology and '\n",
      "                               'condition of 1-year old krill from autumn to '\n",
      "                               'winter is dependent on autumn diet; and (H4) '\n",
      "                               'the winter energy budget of 1-year old krill '\n",
      "                               'will vary between years and will be dependent '\n",
      "                               'on autumn diet. Long-term feeding experiments '\n",
      "                               'and in situ sampling will be used to measure '\n",
      "                               'changes in the physiology and condition of '\n",
      "                               'krill in relation to their diet and feeding '\n",
      "                               'environment. Empirically-derived data will be '\n",
      "                               'used to develop theoretical models of growth '\n",
      "                               'rates and energy budgets to determine how diet '\n",
      "                               'will influence the overwinter survival of '\n",
      "                               '1-year old krill. The research will be '\n",
      "                               'integrated with an education and outreach plan '\n",
      "                               'to (1) develop engaging undergraduate and '\n",
      "                               'graduate courses, (2) train and develop young '\n",
      "                               'scientists for careers in polar research, and '\n",
      "                               '(3) engage the public and increase their '\n",
      "                               'awareness and understanding.rnrnrnrnThis award '\n",
      "                               \"reflects NSF's statutory mission and has been \"\n",
      "                               'deemed worthy of support through evaluation '\n",
      "                               \"using the Foundation's intellectual merit and \"\n",
      "                               'broader impacts review criteria.',\n",
      "                'InsertTime': '2020-08-31T00:00:00.000Z',\n",
      "                'LastUpdate': '2023-03-28T16:56:51.759Z',\n",
      "                'LongName': 'Not provided',\n",
      "                'OnlineAccessURLs': {...},\n",
      "                'OnlineResources': {...},\n",
      "                'Platforms': {...},\n",
      "                'ProcessingLevelId': 'Not Provided',\n",
      "                'RevisionDate': '2021-09-27T20:19:00.000Z',\n",
      "                'ScienceKeywords': {...},\n",
      "                'ShortName': 'USAP-1753101',\n",
      "                'Spatial': {...},\n",
      "                'SpatialInfo': {...},\n",
      "                'SpatialKeywords': {...},\n",
      "                'Temporal': {...},\n",
      "                'VersionId': '1'},\n",
      " 'concept-id': 'C2532074577-AMD_USAPDC',\n",
      " 'format': 'application/echo10+xml',\n",
      " 'revision-id': '3'}\n"
     ]
    }
   ],
   "source": [
    "# print the metadata for the first collection\n",
    "# we use the depth parameter to set the layer of metadata detail in the results, with (1) having the least detail\n",
    "# (1) displays the concept ID, format, and revision ID\n",
    "# adjust the depth to a larger value (6) if you would like to view all of the metadata\n",
    "pprint(results[0],depth=2)"
   ]
  },
  {
   "cell_type": "markdown",
   "metadata": {},
   "source": [
    "The `Collection` key has all of the collection information including attributes, the archive center, spatial, and temporal information. The `concept-id` is a unique identifier for this collection. It can be used to further refine search results from the CMR, such as when searching for granule information."
   ]
  },
  {
   "cell_type": "markdown",
   "metadata": {},
   "source": [
    "### Searching by Temporal Filter\n",
    "\n",
    "Here we use a temporal filter to narrow down our results using the `temporal` keyword in our search. The temporal keyword takes datetime information in a [specific format](https://cmr.earthdata.nasa.gov/search/site/docs/search/api.html#c-temporal). The date format used is `YYYY-MM-DDThh:mm:ssZ` and temporal search criteria may be either a single date or a date range. If one date is provided then it can be inferred as the start or end date. To define a start date and return all collections after the date, put a comma after the date (`YYYY-MM-DDThh:mm:ssZ,`). To define a end date and return all granules prior to the data, put a comma before the date (`,YYYY-MM-DDThh:mm:ssZ`). Lastly, to get a date range, provide the start date and end date separated by a comma (`YYYY-MM-DDThh:mm:ssZ,YYYY-MM-DDThh:mm:ssZ`).\n",
    "\n",
    "In this example we will search for one month of data."
   ]
  },
  {
   "cell_type": "code",
   "execution_count": 11,
   "metadata": {},
   "outputs": [
    {
     "name": "stdout",
     "output_type": "stream",
     "text": [
      "'Got 100 results'\n"
     ]
    }
   ],
   "source": [
    "datetimeRange = '2000-01-01T00:00:00Z,2000-01-31T23:59:59Z' # specify datetime range to search for data in January 2000\n",
    "\n",
    "results = maap.searchCollection(\n",
    "    cmr_host = \"cmr.earthdata.nasa.gov\",\n",
    "    temporal = datetimeRange\n",
    ")\n",
    "pprint(f'Got {len(results)} results')"
   ]
  },
  {
   "cell_type": "code",
   "execution_count": 12,
   "metadata": {},
   "outputs": [
    {
     "name": "stdout",
     "output_type": "stream",
     "text": [
      "'Collection GLDAS_NOAH025_3H was acquired starting at 2000-01-01T00:00:00.000Z'\n"
     ]
    }
   ],
   "source": [
    "collectionName = results[0]['Collection']['ShortName'] # get the collection short name\n",
    "collectionDate = results[0]['Collection']['Temporal']['RangeDateTime']['BeginningDateTime'] # get the collection start time\n",
    "\n",
    "pprint(\n",
    "    f'Collection {collectionName} was acquired starting at {collectionDate}', width=100)\n"
   ]
  },
  {
   "cell_type": "markdown",
   "metadata": {},
   "source": [
    "It appears the first result correctly matches with the beginning and ending temporal search parameters. Keep in mind that the results are limited to 100 so the final collection returned may not match the end date that was searched for."
   ]
  },
  {
   "cell_type": "markdown",
   "metadata": {},
   "source": [
    "### Searching by Spatial Filter\n",
    "\n",
    "Here we will illustrate how to search for collections by a spatial filter. There are a couple of [spatial filters available to search by](https://cmr.earthdata.nasa.gov/search/site/docs/search/api.html#c-spatial) in the CMR including point, line, polygon, and bounding box. In this example, we will explore filtering with a bounding box which is a sequence of four latitude and longitude values in the order of `[W,S,E,N]`. "
   ]
  },
  {
   "cell_type": "code",
   "execution_count": 13,
   "metadata": {},
   "outputs": [
    {
     "name": "stdout",
     "output_type": "stream",
     "text": [
      "'Got 100 results'\n"
     ]
    }
   ],
   "source": [
    "collectionDomain = '-42,10,42,20' # specify bounding box to search by\n",
    "\n",
    "results = maap.searchCollection(\n",
    "    cmr_host = \"cmr.earthdata.nasa.gov\",    \n",
    "    bounding_box = collectionDomain\n",
    ")\n",
    "pprint(f'Got {len(results)} results')"
   ]
  },
  {
   "cell_type": "code",
   "execution_count": 14,
   "metadata": {},
   "outputs": [
    {
     "name": "stdout",
     "output_type": "stream",
     "text": [
      "'Collection gov.noaa.nodc:0000029 was acquired within the following geometry: '\n",
      "{'BoundingRectangle': {'EastBoundingCoordinate': '-16.25',\n",
      "                       'NorthBoundingCoordinate': '46.263167',\n",
      "                       'SouthBoundingCoordinate': '0.766667',\n",
      "                       'WestBoundingCoordinate': '-124.041667'},\n",
      " 'CoordinateSystem': 'CARTESIAN'}\n"
     ]
    }
   ],
   "source": [
    "collectionName = results[3]['Collection']['ShortName'] # get a collection short name\n",
    "collectionGeometry = results[3]['Collection']['Spatial']['HorizontalSpatialDomain']['Geometry'] # grab the spatial information from collection\n",
    "\n",
    "pprint(f'Collection {collectionName} was acquired within the following geometry: ', width=100)\n",
    "pprint(collectionGeometry)\n"
   ]
  },
  {
   "cell_type": "markdown",
   "metadata": {},
   "source": [
    "We can see from the first collection that the spatial coordinates of the collection intersect our search box."
   ]
  }
 ],
 "metadata": {
  "kernelspec": {
   "display_name": "Python 3 (ipykernel)",
   "language": "python",
   "name": "python3"
  },
  "language_info": {
   "codemirror_mode": {
    "name": "ipython",
    "version": 3
   },
   "file_extension": ".py",
   "mimetype": "text/x-python",
   "name": "python",
   "nbconvert_exporter": "python",
   "pygments_lexer": "ipython3",
   "version": "3.7.8"
  }
 },
 "nbformat": 4,
 "nbformat_minor": 4
}
