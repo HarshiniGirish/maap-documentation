{
 "cells": [
  {
   "cell_type": "markdown",
   "id": "d337ccb0",
   "metadata": {},
   "source": [
    "## Deprecated Collections in MAAP"
   ]
  },
  {
   "cell_type": "markdown",
   "id": "a57a9c4e",
   "metadata": {},
   "source": [
    "Last updated: 2022-01-24"
   ]
  },
  {
   "cell_type": "markdown",
   "id": "ed9d4464",
   "metadata": {},
   "source": [
    "The following CMR collection versions have been deprecated and are no longer available in the MAAP CMR:"
   ]
  },
  {
   "cell_type": "markdown",
   "id": "afc25f96",
   "metadata": {},
   "source": [
    "| Collection Name   | Version | Concept ID | Number of Granules |\n",
    "| --------------|---------------| -----------| ----------- |\n",
    "| GPM IMERG | v5 | C1200015188-NASA_MAAP | 75456 |\n",
    "| ATL08 | v002 | C1200116818-NASA_MAAP | 40118 |\n",
    "| ATL08 | v003 | C1200235747-NASA_MAAP | 119100 |\n",
    "| ATL03 | v002 | C1200166513-NASA_MAAP | 64410 |\n",
    "| GEDI L2B | v001 | C1200231030-NASA_MAAP | 1532 |"
   ]
  },
  {
   "cell_type": "markdown",
   "id": "47deafcb",
   "metadata": {},
   "source": [
    "Newer versions of each of these collections are listed as follows:"
   ]
  },
  {
   "cell_type": "markdown",
   "id": "496cb4bd",
   "metadata": {},
   "source": [
    "| Collection Name | Newest Available Version | Concept ID |\n",
    "| --------------|---------------| -----------|\n",
    "| GPM IMERG | N/A | N/A |\n",
    "| ATL08 | v004 | C1201309827-NASA_MAAP |\n",
    "| ATL03 | v004 | C1201300747-NASA_MAAP |\n",
    "| GEDI L2B | v002 | C1201460047-NASA_MAAP |"
   ]
  },
  {
   "cell_type": "markdown",
   "id": "89706e3c",
   "metadata": {},
   "source": [
    "**Timeline for the change**"
   ]
  },
  {
   "cell_type": "markdown",
   "id": "ccb4f1e5",
   "metadata": {},
   "source": [
    "These deletions were performed January 18th and January 19, 2022."
   ]
  }
 ],
 "metadata": {
  "kernelspec": {
   "display_name": "Python 3 (ipykernel)",
   "language": "python",
   "name": "python3"
  },
  "language_info": {
   "codemirror_mode": {
    "name": "ipython",
    "version": 3
   },
   "file_extension": ".py",
   "mimetype": "text/x-python",
   "name": "python",
   "nbconvert_exporter": "python",
   "pygments_lexer": "ipython3",
   "version": "3.7.8"
  }
 },
 "nbformat": 4,
 "nbformat_minor": 5
}
