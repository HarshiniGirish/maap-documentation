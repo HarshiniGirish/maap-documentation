{
 "cells": [
  {
   "cell_type": "markdown",
   "id": "2254e182",
   "metadata": {},
   "source": [
    "## Deprecated Collections in MAAP"
   ]
  },
  {
   "cell_type": "markdown",
   "id": "df0d11f8",
   "metadata": {},
   "source": [
    "Last updated: 2022-02-08"
   ]
  },
  {
   "cell_type": "markdown",
   "id": "2850547b",
   "metadata": {},
   "source": [
    "[ADD ME]: List of collections which were migrated, exist in CMR or neither. If not in CMR or MAAP STAC, it was a dataset no longer needed by MAAP users because it is an old version or not of research interest."
   ]
  },
  {
   "cell_type": "markdown",
   "id": "7661513b",
   "metadata": {},
   "source": [
    "As of January 19, 2022, the following CMR collection versions have been deprecated and are no longer available in the MAAP CMR:"
   ]
  },
  {
   "cell_type": "markdown",
   "id": "f5eb1465",
   "metadata": {},
   "source": [
    "| Collection Name   | Version | Concept ID |\n",
    "| --------------|---------------| -----------|\n",
    "| GPM IMERG | v5 | C1200015188-NASA_MAAP |\n",
    "| ATL08 | v002 | C1200116818-NASA_MAAP |\n",
    "| ATL08 | v003 | C1200235747-NASA_MAAP |\n",
    "| ATL03 | v002 | C1200166513-NASA_MAAP |\n",
    "| GEDI L2B | v001 | C1200231030-NASA_MAAP |"
   ]
  },
  {
   "cell_type": "markdown",
   "id": "e61d889c",
   "metadata": {},
   "source": [
    "Newer versions of each of these collections are listed as follows:"
   ]
  },
  {
   "cell_type": "markdown",
   "id": "611e4e9e",
   "metadata": {},
   "source": [
    "| Collection Name | Newest Available Version | Concept ID |\n",
    "| --------------|---------------| -----------|\n",
    "| GPM IMERG | N/A | N/A |\n",
    "| ATL08 | v004 | C1201309827-NASA_MAAP |\n",
    "| ATL03 | v004 | C1201300747-NASA_MAAP |\n",
    "| GEDI L2B | v002 | C1201460047-NASA_MAAP |"
   ]
  }
 ],
 "metadata": {
  "kernelspec": {
   "display_name": "Python 3 (ipykernel)",
   "language": "python",
   "name": "python3"
  },
  "language_info": {
   "codemirror_mode": {
    "name": "ipython",
    "version": 3
   },
   "file_extension": ".py",
   "mimetype": "text/x-python",
   "name": "python",
   "nbconvert_exporter": "python",
   "pygments_lexer": "ipython3",
   "version": "3.7.8"
  }
 },
 "nbformat": 4,
 "nbformat_minor": 5
}
