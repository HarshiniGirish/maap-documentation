{
 "cells": [
  {
   "cell_type": "markdown",
   "metadata": {},
   "source": [
    "## Available CMR Collections in MAAP"
   ]
  },
  {
   "cell_type": "markdown",
   "metadata": {},
   "source": [
    "| Common Name   | CMR Long Name | Concept ID |\n",
    "| --------------|---------------| -----------|\n",
    "| AfriSAR: Canopy Structure from PolInSAR and Coherence | AfriSAR: Canopy Structure Derived from PolInSAR and Coherence TomoSAR NISAR tools - Cloned | C1200116817-NASA_MAAP |\n",
    "| ATLAS/ICESat-2 L3A Land and Vegetation Height | ATLAS/ICESat-2 L3A Land and Vegetation Height V002 | C1200116818-NASA_MAAP |\n",
    "| ABoVE LVIS L1B Geolocated Waveforms | ABoVE LVIS L1B Geolocated Return Energy Waveforms V001 | C1200110748-NASA_MAAP |\n",
    "| ABoVE LVIS L2 Geolocated Surface Elevation | ABoVE LVIS L2 Geolocated Surface Elevation Product V001 | C1200125288-NASA_MAAP |\n",
    "| ALOS PALSAR RTC High Resolution Products | Advance Land Observing Satellite Phased Array type L-band Synthetic Aperture Radar Radiometric Terrain-Corrected High Resolution products | C1200120106-NASA_MAAP |\n",
    "| ALOS PALSAR | Advanced Land Observation Satellite (ALOS) Phased Array L-band Synthetic Aperture Radar | C1200116820-NASA_MAAP |\n",
    "| AfriSAR LVIS L1B Geolocated Waveforms | AfriSAR LVIS L1B Geolocated Return Energy Waveforms V001 | C1200110728-NASA_MAAP |\n",
    "| AfriSAR LVIS L2 Geolocated Surface Elevation | AfriSAR LVIS L2 Geolocated Surface Elevation Product V001 | C1200110729-NASA_MAAP |\n",
    "| AfriSAR UAVSAR Coregistered SLCs | AfriSAR UAVSAR Coregistered SLCs Generated Using NISAR Tools | C1200000308-NASA_MAAP |\n",
    "| AfriSAR UAVSAR Geocoded Covariance Matrix product | AfriSAR UAVSAR Geocoded Covariance Matrix product Generated Using NISAR Tools | C1200109238-NASA_MAAP |"
   ]
  }
 ],
 "metadata": {
  "kernelspec": {
   "display_name": "Python 3",
   "language": "python",
   "name": "python3"
  },
  "language_info": {
   "codemirror_mode": {
    "name": "ipython",
    "version": 3
   },
   "file_extension": ".py",
   "mimetype": "text/x-python",
   "name": "python",
   "nbconvert_exporter": "python",
   "pygments_lexer": "ipython3",
   "version": "3.7.1"
  }
 },
 "nbformat": 4,
 "nbformat_minor": 4
}
