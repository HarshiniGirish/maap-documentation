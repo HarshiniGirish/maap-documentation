{
 "cells": [
  {
   "cell_type": "markdown",
   "metadata": {},
   "source": [
    "## Available CMR Collections in MAAP"
   ]
  },
  {
   "cell_type": "markdown",
   "metadata": {},
   "source": [
    "Last updated: 2020-02-21"
   ]
  },
  {
   "cell_type": "markdown",
   "metadata": {},
   "source": [
    "| Common Name   | CMR Long Name | Concept ID | Revision ID |\n",
    "| --------------|---------------| -----------| ----------- |\n",
    "| ABoVE LVIS L1B Geolocated Waveforms | ABoVE LVIS L1B Geolocated Return Energy Waveforms V001 | C1200110748-NASA_MAAP | 11 |\n",
    "| ABoVE LVIS L2 Geolocated Surface Elevation | ABoVE LVIS L2 Geolocated Surface Elevation Product V001 | C1200125288-NASA_MAAP | 10 |\n",
    "| ABoVE UAV SAR PolSAR  | Arctic-Boreal Vulnerability Experiment Uninhabited Aerial Vehicle Synthetic Aperture Radar Polarimetric SAR | C1200120114-NASA_MAAP | 3 |\n",
    "| AfriSAR: Aboveground Biomass, Gabon Sites | AfriSAR: Aboveground Biomass for Lope, Mabounie, Mondah, and Rabi Sites, Gabon | C1200115768-NASA_MAAP | 4 |\n",
    "| AfriSAR: Canopy Structure from Pol InSAR and Coherence | AfriSAR: Canopy Structure Derived from PolInSAR and Coherence TomoSAR NISAR tools - Cloned | C1200116817-NASA_MAAP | 1 |\n",
    "| AfriSAR: Canopy Structure from Pol InSAR and Coherence | AfriSAR: Canopy Structure Derived from PolInSAR and Coherence TomoSAR NISAR tools | C1200000521-NASA_MAAP | 8 |\n",
    "| AfriSAR DLR | AFRISAR_DLR | C1200109552-ESA_MAAP | 1 |\n",
    "| AfriSAR DLR 2 | AFRISAR_DLR2 | C1200109550-ESA_MAAP | 3 |\n",
    "| AfriSAR: LVIS Canopy Cover and Vertical Profile Metrics | AfriSAR: Canopy Cover and Vertical Profile Metrics Derived from LVIS, Gabon, 2016| C1200097474-NASA_MAAP | 4 |\n",
    "| AfriSAR LVIS L1B Geolocated Waveforms | AfriSAR LVIS L1B Geolocated Return Energy Waveforms V001 | C1200110728-NASA_MAAP | 10 |\n",
    "| AfriSAR LVIS L2 Geolocated Surface Elevation | AfriSAR LVIS L2 Geolocated Surface Elevation Product V001 | C1200110729-NASA_MAAP | 10 |\n",
    "| AfriSAR UAVSAR Coregistered SLCs | AfriSAR UAVSAR Coregistered SLCs Generated Using NISAR Tools | C1200000308-NASA_MAAP | 15 |\n",
    "| AfriSAR UAVSAR Geocoded Covariance Matrix product | AfriSAR UAVSAR Geocoded Covariance Matrix product Generated Using NISAR Tools | C1200109238-NASA_MAAP | 5 |\n",
    "| AfriSAR UAVSAR Geocoded SLCs | AfriSAR UAVSAR Geocoded SLCs Generated Using NISAR Tools | C1200109237-NASA_MAAP | 4 |\n",
    "| AfriSAR: Mondah Forest Tree Species, Biophysical, and Biomass Data | AfriSAR: Mondah Forest Tree Species, Biophysical, and Biomass Data, Gabon, 2016 | C1200000492-NASA_MAAP | 13 |\n",
    "| AfriSAR UAV SAR MLC Product | AfriSAR Uninhabited Aerial Vehicle Synthetic Aperture Radar Multi Look Cross Product | C1200125308-NASA_MAAP | 5 |\n",
    "| AfriSAR UAVSAR Normalization Area | AfriSAR UAVSAR Normalization Area Generated Using NISAR Tools | C1200109244-NASA_MAAP | 8 |\n",
    "| AfriSAR ONERA | AFRISAR_ONERA | C1200015069-ESA_MAAP | 3 |\n",
    "| AfriSAR: Polarimetric Height Profiles | AfriSAR: Polarimetric Height Profiles by TomoSAR, Lope and Rabi Forests, Gabon, 2016 | C1200015148-NASA_MAAP | 5 |\n",
    "| AfriSAR: Rainforest Canopy Height from PolInSAR and Lidar Data| AfriSAR: Rainforest Canopy Height Derived from PolInSAR and Lidar Data, Gabon | C1200015068-NASA_MAAP | 5 |\n",
    "| AfriSAR UAV SAR SLC Product | AfriSAR Uninhabited Aerial Vehicle Synthetic Aperture Radar Single Look Complex | C1200125309-NASA_MAAP | 4 |\n",
    "| AfriSAR UAVSAR Ungeocoded Covariance Matrix product | AfriSAR UAVSAR Ungeocoded Covariance Matrix product Generated Using NISAR Tools | C1200109245-NASA_MAAP | 5 |\n",
    "| AfriSAR UAVSAR Vertical Wavenumber (KZ) | AfriSAR UAVSAR Vertical Wavenumber (KZ) Generated Using NISAR Tools | C1200109243-NASA_MAAP | 3 |\n",
    "| ALOS PALSAR | Advanced Land Observation Satellite (ALOS) Phased Array L-band Synthetic Aperture Radar | C1200116820-NASA_MAAP | 14 |\n",
    "| ALOS PALSAR RTC High Resolution Products | Advance Land Observing Satellite Phased Array type L-band Synthetic Aperture Radar Radiometric Terrain-Corrected High Resolution products | C1200120106-NASA_MAAP | 5 |\n",
    "| ATLAS/ICESat-2 Geolocated Photon Data | ATLAS/ICESat-2 L2A Global Geolocated Photon Data V002 | C1200166513-NASA_MAAP | 7 |\n",
    "| ATLAS/ICESat-2 Land and Vegetation Height | ATLAS/ICESat-2 L3A Land and Vegetation Height V002 | C1200116818-NASA_MAAP | 3 |\n",
    "| BIOSAR 1 | BIOSAR1 | C1200015072-ESA_MAAP | 11 |\n",
    "| BIOSAR 2 | BIOSAR2 | C1200116534-ESA_MAAP | 1 |\n",
    "| BIOSAR 3 | BIOSAR3 | C1200116533-ESA_MAAP | 1 |\n",
    "| Environmental Stress Factor for Diameter-Height Tree Allometry | Environmental Stress Factor for Diameter-Height Tree Allometry | C1200109548-NASA_MAAP | 5 |\n",
    "| GEDI Calibration/Validation Airborne Lidar Dataset | Global Ecosystem Dynamics Investigation (GEDI) Calibration/Validation Airborne Lidar Dataset | C1200117888-NASA_MAAP | 5 |\n",
    "| GEDI Calibration/Validation Field Survey Dataset | Global Ecosystem Dynamics Investigation (GEDI) Calibration/Validation Field Survey Dataset | C1200116827-NASA_MAAP | 12 |\n",
    "| GEDI L1B Geolocated Waveform Data | GEDI L1B Geolocated Waveform Data Global Footprint Level V001 | C1200231031-NASA_MAAP | 4 |\n",
    "| GEDI L2A Elevation and Height Metrics Data | GEDI L2A Elevation and Height Metrics Data Global Footprint Level V001 | C1200231029-NASA_MAAP | 5 |\n",
    "| GEDI L2B Canopy Cover and Vertical Profile Metrics Data | GEDI L2B Canopy Cover and Vertical Profile Metrics Data Global Footprint Level V001 | C1200231030-NASA_MAAP | 1 |\n",
    "| Global Forest Change 2000-2017 | Global Forest Change 2000-2017 | C1200090741-NASA_MAAP | 3 |\n",
    "| Global PALSAR-2/PALSAR Forest/Non-Forest Map | Global 25m Resolution PALSAR-2/PALSAR Forest/Non-Forest Map | C1200090708-NASA_MAAP | 8 |\n",
    "| Global PALSAR-2/PALSAR Mosaic | Global 25m Resolution PALSAR-2/PALSAR Mosaic | C1200097475-NASA_MAAP | 7 |\n",
    "| GlobCover Global Land Cover Product (2005-06) | GlobCover Global Land Cover Product (2005-06) | C1200015150-NASA_MAAP | 4 |\n",
    "| GlobCover Global Land Cover Product (2009) | GlobCover Global Land Cover Product (2009) | C1200015149-NASA_MAAP | 8 |\n",
    "| GPM IMERG Precipitation L3 Half Hourly 0.1 degree x 0.1 degree V05 | GPM IMERG Final Precipitation L3 Half Hourly 0.1 degree x 0.1 degree V05 (GPM_3IMERGHH) at GES DISC | C1200015188-NASA_MAAP | 5 |\n",
    "| INDREX2 | INDREX2 | C1200015073-ESA_MAAP | 1 |\n",
    "| Landsat 7 ETM+ Surface Reflectance Analysis Ready Data | Landsat 7 Enhanced Thematic Mapper Plus (ETM+) Surface Reflectance Analysis Ready Data (ARD) V1 | C1200110768-NASA_MAAP | 10 |\n",
    "| Landsat 8 OLI Surface Reflectance Analysis Ready Data | Landsat 8 Operational Land Imager (OLI) Surface Reflectance Analysis Ready Data (ARD) V1 | C1200110769-NASA_MAAP | 8 |\n",
    "| NASA Langley KingAir B-200 Flight Tracks for Gabon | NASA Langley KingAir B-200 Flight Tracks for Gabon, Africa 2016 | C1200090707-NASA_MAAP | 4 |\n",
    "| NASA Shuttle Radar Topography Mission 1 arc second V003 | NASA Shuttle Radar Topography Mission Global 1 arc second V003 | C1200000522-NASA_MAAP | 8 |\n",
    "| Sentinel-1A Dual-pol ground projected images | Sentinel-1A Dual-pol ground projected high and full resolution images | C1200231010-NASA_MAAP | 11 |\n",
    "| Sentinel-1A slant-range product | Sentinel-1A slant-range product | C1200166514-NASA_MAAP | 1 |\n",
    "| Sentinel-1B Dual-pol ground projected images | Sentinel-1B Dual-pol ground projected high and full resolution images | C1200231011-NASA_MAAP | 7 |\n",
    "| TROPISAR | TROPISAR | C1200116477-ESA_MAAP | 1 |"
   ]
  }
 ],
 "metadata": {
  "kernelspec": {
   "display_name": "Python 3 (ipykernel)",
   "language": "python",
   "name": "python3"
  },
  "language_info": {
   "codemirror_mode": {
    "name": "ipython",
    "version": 3
   },
   "file_extension": ".py",
   "mimetype": "text/x-python",
   "name": "python",
   "nbconvert_exporter": "python",
   "pygments_lexer": "ipython3",
   "version": "3.7.8"
  }
 },
 "nbformat": 4,
 "nbformat_minor": 4
}
