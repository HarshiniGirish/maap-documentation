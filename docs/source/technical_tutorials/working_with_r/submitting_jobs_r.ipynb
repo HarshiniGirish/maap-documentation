{
 "cells": [
  {
   "cell_type": "markdown",
   "metadata": {},
   "source": [
    "# Submitting jobs to DPS with R"
   ]
  },
  {
   "cell_type": "code",
   "execution_count": 4,
   "metadata": {},
   "outputs": [
    {
     "name": "stdout",
     "output_type": "stream",
     "text": [
      "{'job_id': '8b25e1ec-f8ca-4ee6-906f-9a1d143cd068', 'status': 'success', 'machine_type': None, 'architecture': None, 'machine_memory_size': None, 'directory_size': None, 'operating_system': None, 'job_start_time': None, 'job_end_time': None, 'job_duration_seconds': None, 'cpu_usage': None, 'cache_usage': None, 'mem_usage': None, 'max_mem_usage': None, 'swap_usage': None, 'read_io_stats': None, 'write_io_stats': None, 'sync_io_stats': None, 'async_io_stats': None, 'total_io_stats': None, 'error_details': None, 'response_code': 200, 'outputs': []}\n"
     ]
    }
   ],
   "source": [
    "#aoi = f\"https://maap-ops-workspace.s3.amazonaws.com/shared/{username}/langtang_np.geojson\"\n",
    "\n",
    "#for your convenience you can use this geoJSON file but if you have your own geojson, use the commented link as example format\n",
    "aoi <- \"https://maap-ops-workspace.s3.amazonaws.com/shared/anisbhsl/langtang_np.geojson\"\n",
    "\n",
    "library(reticulate)\n",
    "maap <- import(\"maap.maap\")\n",
    "maap_obj <- maap$MAAP()\n",
    "\n",
    "result <- maap_obj$submitJob(identifier=\"gedi-algorithm-test\",\n",
    "    algo_id=\"gedi-subset\",\n",
    "    version=\"0.7.0\",\n",
    "    queue=\"maap-dps-worker-32gb\",\n",
    "    aoi=aoi,\n",
    "    doi=\"L4A\",\n",
    "    lat=\"lat_lowestmode\",\n",
    "    lon=\"lon_lowestmode\",\n",
    "    beams=\"coverage\",\n",
    "    columns=\"agbd, agbd_se, sensitivity, geolocation/sensitivity_a2, elev_lowestmode\",\n",
    "    query=\"l2_quality_flag == 1 and l4_quality_flag == 1 and sensitivity > 0.95 and `geolocation/sensitivity_a2` > 0.95\",\n",
    "    limit=10,\n",
    "    temporal=\"-\",\n",
    "    output=\"gedi_subset.gpkg\"\n",
    "    )\n",
    "\n",
    "print(result)"
   ]
  }
 ],
 "metadata": {
  "kernelspec": {
   "display_name": "R",
   "language": "R",
   "name": "ir"
  },
  "language_info": {
   "codemirror_mode": "r",
   "file_extension": ".r",
   "mimetype": "text/x-r-source",
   "name": "R",
   "pygments_lexer": "r",
   "version": "4.4.2"
  },
  "vscode": {
   "interpreter": {
    "hash": "b0fa6594d8f4cbf19f97940f81e996739fb7646882a419484c72d19e05852a7e"
   }
  }
 },
 "nbformat": 4,
 "nbformat_minor": 4
}
