{
 "cells": [
  {
   "cell_type": "markdown",
   "id": "9eaad1e4-f266-43c0-9176-1adbf2302b10",
   "metadata": {},
   "source": [
    "# Accessing Data from NASA CMR in R"
   ]
  },
  {
   "cell_type": "markdown",
   "id": "18f31749-520c-4bd8-b081-46088d8838bc",
   "metadata": {},
   "source": [
    "Authors: Sheyenne Kirkland (UAH), Alex Mandel (DevSeed), Henry Rodman (DevSeed), Zac Deziel (DevSeed)\n",
    "\n",
    "Date: October 29, 2024\n",
    "\n",
    "Description: In this notebook, we'll demonstrate how to access data from NASA CMR within R using `maap-py`."
   ]
  },
  {
   "cell_type": "markdown",
   "id": "458e0aad-3974-44bf-b465-a4ee97bf9638",
   "metadata": {},
   "source": [
    "## Install Packages\n",
    "\n",
    "Let's install all packages needed for this notebook."
   ]
  },
  {
   "cell_type": "markdown",
   "id": "57ec507e-1944-43e6-bcf5-87543e5bdc25",
   "metadata": {},
   "source": [
    "We can also search for all granules within our desired collection. For the purpose of this tutorial, we'll limit it to 2 granules by adding \"&page_size=2\" at the end of the url in the following cell."
   ]
  },
  {
   "cell_type": "markdown",
   "id": "8b699c02-c6f5-4970-a084-e3a9c281cd92",
   "metadata": {},
   "source": [
    "## `maap-py`"
   ]
  },
  {
   "cell_type": "code",
   "execution_count": 60,
   "id": "2a18d16a-8216-4782-b6c4-49cbc6ab12ee",
   "metadata": {},
   "outputs": [],
   "source": [
    "library(reticulate)\n",
    "maap_py <- import(\"maap.maap\")\n",
    "maap <- maap_py$MAAP()\n",
    "\n",
    "# result <- maap_obj$submitJob()\n",
    "\n",
    "#print(result)"
   ]
  },
  {
   "cell_type": "code",
   "execution_count": 61,
   "id": "4a6395b4-12de-4265-bb8d-524d0cca7177",
   "metadata": {},
   "outputs": [
    {
     "data": {
      "text/html": [
       "1"
      ],
      "text/latex": [
       "1"
      ],
      "text/markdown": [
       "1"
      ],
      "text/plain": [
       "[1] 1"
      ]
     },
     "metadata": {},
     "output_type": "display_data"
    }
   ],
   "source": [
    "atl08_collections = maap$searchCollection(\n",
    "    short_name='ATL08',\n",
    "    version='006',\n",
    "    cmr_host='cmr.earthdata.nasa.gov',\n",
    "    cloud_hosted='true'\n",
    ")\n",
    "length(atl08_collections)"
   ]
  },
  {
   "cell_type": "code",
   "execution_count": 59,
   "id": "fd33b15f-6abf-49e7-99de-0b46720d7dd1",
   "metadata": {},
   "outputs": [],
   "source": [
    "#print(atl08_collections)\n",
    "collection_id = atl08_collections[[1]]['concept-id']"
   ]
  },
  {
   "cell_type": "code",
   "execution_count": 67,
   "id": "e1a3efe2-2aaf-4bf6-b642-29a9dc8354a8",
   "metadata": {},
   "outputs": [
    {
     "ename": "ERROR",
     "evalue": "slice indices must be integers or None or have an __index__ method",
     "output_type": "error",
     "traceback": [
      "slice indices must be integers or None or have an __index__ methodTraceback:\n",
      "1. maap$searchGranule(concept_id = collection_id, limit = 1, cmr_host = \"cmr.earthdata.nasa.gov\")",
      "2. py_call_impl(callable, call_args$unnamed, call_args$named)"
     ]
    }
   ],
   "source": [
    "date_range <- '2018-12-01T00:00:00Z,2018-12-31T23:59:59Z'\n",
    "\n",
    "results = maap$searchGranule(\n",
    "    #temporal=date_range,\n",
    "    concept_id=collection_id,\n",
    "    limit=1,\n",
    "    cmr_host=\"cmr.earthdata.nasa.gov\"\n",
    ")\n",
    "length(results)"
   ]
  },
  {
   "cell_type": "markdown",
   "id": "31abf6d0-7078-417e-a814-72609d1c89a9",
   "metadata": {},
   "source": [
    "atl08_collections = maap.searchCollection(\n",
    "    short_name='ATL08',\n",
    "    version='005',\n",
    "    cmr_host='cmr.earthdata.nasa.gov'\n",
    ")\n",
    "len(atl08_collections)\n",
    "\n",
    "spatial\n",
    "date_range = '2018-12-01T00:00:00Z,2018-12-31T23:59:59Z' # specify a date range to search for data for Dec. 2018\n",
    "\n",
    "results = maap.searchGranule(\n",
    "    temporal=date_range,\n",
    "    concept_id=COLLECTION_ID,\n",
    "    limit=MAX_RESULTS,\n",
    "    cmr_host=\"cmr.earthdata.nasa.gov\"\n",
    ")\n",
    "pprint(f'Got {len(results)} results')"
   ]
  }
 ],
 "metadata": {
  "kernelspec": {
   "display_name": "R",
   "language": "R",
   "name": "ir"
  },
  "language_info": {
   "codemirror_mode": "r",
   "file_extension": ".r",
   "mimetype": "text/x-r-source",
   "name": "R",
   "pygments_lexer": "r",
   "version": "4.2.3"
  }
 },
 "nbformat": 4,
 "nbformat_minor": 5
}
