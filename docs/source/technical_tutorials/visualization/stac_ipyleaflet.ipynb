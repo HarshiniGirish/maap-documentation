{
 "cells": [
  {
   "attachments": {},
   "cell_type": "markdown",
   "metadata": {},
   "source": [
    "## Visualizing STAC Data Layers using stac_ipyleaflet (beta)"
   ]
  },
  {
   "attachments": {},
   "cell_type": "markdown",
   "metadata": {},
   "source": [
    "This project is meant to help MAAP users search for and visualize SpatialTemporal Asset Catalog (STAC) datasets of interest. The beta version supports Cloud-Optimized GeoTIFFs (COGs)."
   ]
  },
  {
   "attachments": {},
   "cell_type": "markdown",
   "metadata": {},
   "source": [
    "First, install the `stac_ipyleaflet` package."
   ]
  },
  {
   "cell_type": "code",
   "execution_count": null,
   "metadata": {},
   "outputs": [],
   "source": [
    "# Import the stac_ipyleaflet package\n",
    "import stac_ipyleaflet"
   ]
  },
  {
   "attachments": {},
   "cell_type": "markdown",
   "metadata": {},
   "source": [
    "With the `stac_ipyleaflet` installed, import the package and get started quickly by creating a map instance, accenting all pre-configured defaults."
   ]
  },
  {
   "cell_type": "code",
   "execution_count": null,
   "metadata": {},
   "outputs": [
    {
     "data": {
      "application/vnd.jupyter.widget-view+json": {
       "model_id": "1b0aeb60c4a14ed091e453b535782201",
       "version_major": 2,
       "version_minor": 0
      },
      "text/plain": [
       "MapCMC()"
      ]
     },
     "metadata": {},
     "output_type": "display_data"
    }
   ],
   "source": [
    "# Import the stac_ipyleaflet package\n",
    "import stac_ipyleaflet\n",
    "m = stac_ipyleaflet.StacIpyleaflet()\n",
    "m"
   ]
  },
  {
   "attachments": {},
   "cell_type": "markdown",
   "metadata": {},
   "source": [
    "![stac_ipyleaflet mapview](../../_static/stac_ipyleaflet_main.png)\n",
    "\n",
    "The **stac ipyleaflet** notebook's user interface consists of a map and a custom set of tools to aid in the discovery and visualization of STAC datasets, along with Biomass Layers and pre-determined Basemaps.\n",
    "\n",
    "***"
   ]
  },
  {
   "attachments": {},
   "cell_type": "markdown",
   "metadata": {},
   "source": [
    "### Map Navigation\n",
    "\n",
    "#### To move the map\n",
    "- press and hold a mouse-click, then drag the map\n",
    "\n",
    "#### To adjust the map's scale (zoom extent):\n",
    "- click the Zoom In / Out buttons in the top left-corner (this will maintain the center)\n",
    "- use your mouse's scroll-wheel - hovering over an area of interest\n",
    "- double-click within the map on an area of interest\n",
    "- while pressing the `shift` key on your keyboard, press and hold a mouse-click, then drag to draw a rectangle around the area of interest\n",
    "\n",
    "***"
   ]
  },
  {
   "attachments": {},
   "cell_type": "markdown",
   "metadata": {},
   "source": [
    "### Layers Tool\n",
    "\n",
    "Pressing the Layers button at the top opens the **Layers widget** that consists of 2 tabs. This tool currently allows users to:\n",
    "- View one or more **Biomass Layers** at the same time to see different combinations.\n",
    "- Choose between common **Basemap Layers** that are known favorites.\n",
    "- Have full control over the **opacity** of any layer or basemap for fine-tuning how the map looks.\n",
    "\n",
    "#### The Layers Tab\n",
    "- Toggle each layer's visibility by using its checkbox\n",
    "- Adjust each layer's opacity by moving its slider\n",
    "\n",
    "![stac_ipyleaflet layers widget](../../_static/stac_ipyleaflet_layers.png)\n",
    "\n",
    "#### The Basemaps Tab\n",
    "- Select a basemap from the dropdown\n",
    "- Adjust the basemap's opacity by moving its slider\n",
    "\n",
    "![stac_ipyleaflet basemap widget](../../_static/stac_ipyleaflet_basemaps.png)\n",
    "\n",
    "***"
   ]
  },
  {
   "attachments": {},
   "cell_type": "markdown",
   "metadata": {},
   "source": [
    "### STAC Discovery Tool\n",
    "Pressing the STAC Data button at the top opens the **STAC widget** that consists of 2 tabs. This tool currently allows users to:\n",
    "- **Connect** to the MAAP STAC to access collections of GEDI, BIOMASS, and NISAR mission data.\n",
    "- **Discover** items per the selected collection, including description, available dates, & direct URL.\n",
    "- **Identify** valid COG datasets.\n",
    "- **Add COG tiles** dynamically to the map.\n",
    "- **Customize** the tiles by changing the selected color palette for the selected item.\n",
    "\n",
    "\n",
    "#### The Catalog Data Discovery Tab\n",
    "- Select a Collection within the default STAC library.\n",
    "\n",
    "![stac_ipyleaflet stac widget](../../_static/stac_ipyleaflet_stac.png)\n",
    "\n",
    "- Browse through the Collection's details.\n",
    "\n",
    "![stac_ipyleaflet details](../../_static/stac_ipyleaflet_details.png)\n",
    "\n",
    "- Select an item from the collection to check if it's a valid COG. If so, the Display button will become active (available) to add the selected item to the map.\n",
    "\n",
    "![stac_ipyleaflet items](../../_static/stac_ipyleaflet_items.png)\n",
    "\n",
    "\n",
    "#### The Visualization Tab\n",
    "- Select a category from the dropdown.\n",
    "- Select an item from the corresponding color palettes.\n",
    "- Press the Display button to update the data on the map.\n",
    "\n",
    "![stac_ipyleaflet color palettes](../../_static/stac_ipyleaflet_colors.png)\n",
    "\n",
    "***"
   ]
  },
  {
   "attachments": {},
   "cell_type": "markdown",
   "metadata": {},
   "source": [
    "### Drawing an Area of Interest\n",
    "\n",
    "1. **Press the Square Button** (under the Zoom Buttons on the left) to activate the Draw Tools.\n",
    "2. **Use your mouse** to click, hold and draw a polygon over the map - releasing to finish.\n",
    "3. **Note** the AOI's coordinates automatically appear under the main buttons.\n",
    "\n",
    "![stac_ipyleaflet aoi coordinates](../../_static/stac_ipyleaflet_aoi.png)\n",
    "\n",
    "4. **Clear** the AOI graphic by selecting the Trash Button and selecting the option to Clear All.\n",
    "\n",
    "![stac_ipyleaflet draw remove](../../_static/stac_ipyleaflet_draw2.png)\n"
   ]
  }
 ],
 "metadata": {
  "kernelspec": {
   "display_name": "Python 3 (ipykernel)",
   "language": "python",
   "name": "python3"
  },
  "language_info": {
   "codemirror_mode": {
    "name": "ipython",
    "version": 3
   },
   "file_extension": ".py",
   "mimetype": "text/x-python",
   "name": "python",
   "nbconvert_exporter": "python",
   "pygments_lexer": "ipython3",
   "version": "3.7.8"
  }
 },
 "nbformat": 4,
 "nbformat_minor": 4
}
