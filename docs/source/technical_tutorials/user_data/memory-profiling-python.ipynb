{
 "cells": [
  {
   "cell_type": "markdown",
   "id": "8f399a66-d82e-4210-a08e-4501903b6e2b",
   "metadata": {
    "tags": []
   },
   "source": [
    "# How to run memory profiling on your Python script?\n",
    "\n",
    "Memory profiling your Python script is a good practice to understand the resource requirements. In this tutorial, we will use `memory-profiler` [tool](https://pypi.org/project/memory-profiler/) for profiling a sample Python code.\n",
    "\n",
    "References:\n",
    "\n",
    "1. [https://github.com/pythonprofilers/memory_profiler](https://github.com/pythonprofilers/memory_profiler)"
   ]
  },
  {
   "cell_type": "markdown",
   "id": "24efa20c-66e9-45d2-bc6d-695b38329158",
   "metadata": {},
   "source": [
    "### Step 1: Install `memory-profiling` in your existing working environment"
   ]
  },
  {
   "cell_type": "code",
   "execution_count": 6,
   "id": "c54089e1-d6ec-4386-95da-06fdd3c357cb",
   "metadata": {
    "tags": []
   },
   "outputs": [
    {
     "name": "stdout",
     "output_type": "stream",
     "text": [
      "Requirement already satisfied: memory-profiler in /opt/conda/lib/python3.10/site-packages (0.61.0)\n",
      "Requirement already satisfied: psutil in /opt/conda/lib/python3.10/site-packages (from memory-profiler) (5.9.5)\n",
      "\u001b[33mWARNING: Running pip as the 'root' user can result in broken permissions and conflicting behaviour with the system package manager. It is recommended to use a virtual environment instead: https://pip.pypa.io/warnings/venv\u001b[0m\u001b[33m\n",
      "\u001b[0m"
     ]
    }
   ],
   "source": [
    "!pip install -U memory-profiler"
   ]
  },
  {
   "cell_type": "markdown",
   "id": "e50bb176-3746-4dbb-a3cf-0d43b25dd925",
   "metadata": {},
   "source": [
    "### Step 2: Add the code to be profiled in a function `code_to_profile()`"
   ]
  },
  {
   "cell_type": "code",
   "execution_count": 7,
   "id": "bd52213d-e62e-41b0-b40c-3c45fc71c1e9",
   "metadata": {
    "tags": []
   },
   "outputs": [],
   "source": [
    "#import memory-profiler module\n",
    "from memory_profiler import profile\n",
    "\n",
    "\"\"\"\n",
    "... Code here\n",
    "\"\"\"\n",
    "\n",
    "def code_to_profile():\n",
    "    # Include each line of the script which needs to be profiled\n",
    "    # under this function\n",
    "    \n",
    "    return 0"
   ]
  },
  {
   "cell_type": "markdown",
   "id": "5a3baaf1-8d1b-4e61-9798-f205fc2648fd",
   "metadata": {},
   "source": [
    "### Step 3: Add @profile just above the `code_to_profile()`"
   ]
  },
  {
   "cell_type": "code",
   "execution_count": 2,
   "id": "83581e80-ecee-410e-bab4-10be0ca2bc61",
   "metadata": {
    "tags": []
   },
   "outputs": [],
   "source": [
    "\"\"\"\n",
    "... Code here\n",
    "\"\"\"\n",
    "\n",
    "@profile\n",
    "\n",
    "def code_to_profile():\n",
    "    # Include each line of the script which needs to be profiled\n",
    "    # under this function\n",
    "    \n",
    "    return 0"
   ]
  },
  {
   "cell_type": "markdown",
   "id": "f7f492d8-7d71-4b9b-9acc-59673ee56942",
   "metadata": {},
   "source": [
    "### Step 4: Define the `code_to_profile()` function call from `main()` "
   ]
  },
  {
   "cell_type": "code",
   "execution_count": null,
   "id": "f4c9941c-e8b8-4c3c-b545-a173284248d8",
   "metadata": {
    "tags": []
   },
   "outputs": [],
   "source": [
    "\"\"\"\n",
    "... Code here\n",
    "\"\"\"\n",
    "\n",
    "@profile\n",
    "\n",
    "def code_to_profile():\n",
    "    # Include each line of the script which needs to be profiled\n",
    "    # under this function\n",
    "    \n",
    "    return 0\n",
    "\n",
    "if __name__ == \"__main__\":\n",
    "    code_to_profile()"
   ]
  },
  {
   "cell_type": "markdown",
   "id": "de6a276c-78a9-4769-9fa8-f387deaac9de",
   "metadata": {},
   "source": [
    "### Step 5: Executing the script \n",
    "\n",
    "We pasted the above code snippet to a file in the same directory - `demo_memory_profiling.py`. After running the python script as follows, we can see the details about memory usage and increment due to a particular line in the output."
   ]
  },
  {
   "cell_type": "code",
   "execution_count": 4,
   "id": "dababd0c-74e8-4b26-ae15-f25ccbac3c0e",
   "metadata": {
    "tags": []
   },
   "outputs": [
    {
     "name": "stdout",
     "output_type": "stream",
     "text": [
      "Hello, world!\n",
      "Filename: demo_memory_profiling.py\n",
      "\n",
      "Line #    Mem usage    Increment  Occurrences   Line Contents\n",
      "=============================================================\n",
      "     7     43.3 MiB     43.3 MiB           1   @profile\n",
      "     8                                         \n",
      "     9                                         def code_to_profile():\n",
      "    10                                             # Include each line of the script which needs to be profiled\n",
      "    11                                             # under this function\n",
      "    12     43.3 MiB      0.0 MiB           1       print(\"Hello, world!\")\n",
      "    13                                             \n",
      "    14     43.3 MiB      0.0 MiB           1       return 0\n",
      "\n",
      "\n"
     ]
    }
   ],
   "source": [
    "!python -m memory_profiler demo_memory_profiling.py"
   ]
  }
 ],
 "metadata": {
  "kernelspec": {
   "display_name": "Python (myenv)",
   "language": "python",
   "name": "myenv"
  },
  "language_info": {
   "codemirror_mode": {
    "name": "ipython",
    "version": 3
   },
   "file_extension": ".py",
   "mimetype": "text/x-python",
   "name": "python",
   "nbconvert_exporter": "python",
   "pygments_lexer": "ipython3",
   "version": "3.8.18"
  }
 },
 "nbformat": 4,
 "nbformat_minor": 5
}
