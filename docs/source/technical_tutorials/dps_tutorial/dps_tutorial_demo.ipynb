{
 "cells": [
  {
   "cell_type": "markdown",
   "metadata": {},
   "source": [
    "# Data Processing System (DPS) Tutorial A to Z"
   ]
  },
  {
   "cell_type": "markdown",
   "metadata": {},
   "source": [
    "Authors: Sujen Shah and Rob Tapella\n",
    "\n",
    "Date: October, 2023\n",
    "\n",
    "Description: This DPS tutorial is intended to demonstrate the steps needed to create, register, run, monitor and view outputs of algorithm jobs run at scale. It includes a template repository with various files needed to set up and run a job. "
   ]
  },
  {
   "cell_type": "markdown",
   "metadata": {},
   "source": [
    "## Importing and Installing Packages"
   ]
  },
  {
   "cell_type": "markdown",
   "metadata": {},
   "source": [
    "Additional package installation will be included inline, and environment-configuration to support using a custom conda environment in DPS is a part of the tutorial below."
   ]
  },
  {
   "cell_type": "markdown",
   "metadata": {},
   "source": [
    "## Before Starting\n",
    "\n",
    "- This tutorial assumes that you have at least run through the [Getting Started Guide](../../getting_started/getting_started.ipynb) and have set up your MAAP account.\n",
    "- This tutorial is made for the Application Development Environment (ADE) v. 3.1.0 or later (August 2023 or later).\n",
    "- This also assumes that you are familiar with using [Github with MAAP](../../system_reference_guide/work_with_git.ipynb)."
   ]
  },
  {
   "cell_type": "markdown",
   "metadata": {},
   "source": [
    "## Overview of this Tutorial"
   ]
  },
  {
   "cell_type": "markdown",
   "metadata": {},
   "source": [
    "- Clone the demo algorithm & make a personal copy\n",
    "- Edit and testing your Algorithm code to make sure that it is working in its original form\n",
    "- Prepare the Algorithm for DPS by setting up the runtime arguments and pre-run environment set-up\n",
    "- Register the Algorithm with the Algorithm UI\n",
    "- Run and Monitor the Algorithm using the Jobs UI\n",
    "- View the outputs and errors from your run"
   ]
  },
  {
   "cell_type": "markdown",
   "metadata": {},
   "source": [
    "## Clone the Demo Algorithm"
   ]
  },
  {
   "cell_type": "markdown",
   "metadata": {},
   "source": [
    "1. For this tutorial, please use a Basic Stable workspace. \n",
    "2. Download a copy of the Github repository at https://github.com/MAAP-Project/dps_tutorial\n",
    "3. Create a new repository in your workspace, put the copied dps-tutorial-demo in it, and push it to Github. This way you can modify the tutorial files while you're practicing and register your own version of the demo algorithm.\n",
    "\n",
    "It does not matter what you call the copy of the tutorial files, but it does need to be a public repository in order to register the algorithm with DPS."
   ]
  },
  {
   "cell_type": "markdown",
   "metadata": {},
   "source": [
    "Anatomy of the dps_tutorial repo:\n",
    "\n",
    "- `README.md` to describe the algorithm in Github\n",
    "- `tutorial.py`: a python script that contains the logic of the algorithm\n",
    "- `build.sh`: a shell script that is executed before the algorithm is run; it is used to set up any custom programming libraries used in the algorithm (i.e., a custom conda environment)\n",
    "- `environment.yaml`: a configuration file used by conda to add any custom libraries; this is used by build.sh\n",
    "- `run.sh`: a shell script that DPS will execute when a run is requested. It calls any relevant python files with the required inputs\n"
   ]
  },
  {
   "cell_type": "markdown",
   "metadata": {},
   "source": [
    "## Edit and Test your Code"
   ]
  },
  {
   "cell_type": "markdown",
   "metadata": {},
   "source": [
    "Once you have an algorithm such as the dps-tutorial-demo, or your own Jupyter Notebook, test it to make sure that it is running properly by following the instructions in the README.md file.\n",
    "\n",
    "Typically a Jupyter Notebook is run interacively. A DPS algorithm will take all inputs up-front, do the processing, and produce output files. The dps-tutorial-demo is set up like a DPS algorithm. Some aspects to note:\n",
    "\n",
    "- ARGPARSE STUFF\n",
    "- LOG FILE\n",
    "- EXAMPLE INPUT URL and EXAMPLE RUN COMMAND ON CLI\n",
    "- EXPECTED OUTPUTS"
   ]
  },
  {
   "cell_type": "markdown",
   "metadata": {},
   "source": [
    "## Prepare the Algorithm for DPS"
   ]
  },
  {
   "cell_type": "markdown",
   "metadata": {},
   "source": [
    "Once your scripts are working locally, make sure that they will also work in DPS.\n",
    "\n",
    "The dps-tutorial-demo files are already prepared for DPS. Some important things to notice:\n",
    "\n",
    "File: run.sh\n",
    "- run.sh is a batch script to call python script: make sure for DPS you have inputs and outputs in the `input/` and `output/` folders\n",
    "\n",
    "File: build.sh\n",
    "- takes conda environment definition from `environment.yaml`\n",
    "- Have it activate the environment with source activate base (or whatever your env is)\n",
    "\n",
    "What happens with input and output in DPS (e.g. output is saved off somewhere else vs. the temp space when the job is running; what about “cloud” input data?)\n",
    "- How does file management happen?\n",
    "- Relative paths vs. absolute for input/output\n",
    "- Mimic what’s happening on DPS (basedir)\n",
    "- This wrapper run.sh script needs to manage the input files the way that your python script requires them (e.g. pass single file at a time vs. multiple files at once, etc.)\n",
    "\n",
    "Run your scripts as if DPS is executing them:\n",
    "- deactivate your conda environment\n",
    "- run build.sh\n",
    "- run run.sh"
   ]
  },
  {
   "cell_type": "markdown",
   "metadata": {},
   "source": [
    "## Register the Algorithm with DPS using the Algorithm UI"
   ]
  },
  {
   "cell_type": "markdown",
   "metadata": {},
   "source": [
    "1. Commit and push any changes to Github that you have made to the Algorithm while testing. The registration process will pull the code from Github as part of registration.\n",
    "2. Open up Launcher: Register Algorithm\n",
    "3. Fill in the fields as described here:\n",
    "- a , b, c\n",
    "4. Press Register and there will a link to view progress of the build (you should copy the link and paste it into a new page; if you press register it will be difficult to edit the form and fix any errors)\n"
   ]
  },
  {
   "cell_type": "markdown",
   "metadata": {},
   "source": [
    "## Running and Monitoring the Algorithm with the Jobs UI"
   ]
  },
  {
   "cell_type": "markdown",
   "metadata": {},
   "source": [
    "1. Launcher: View & Submit Jobs\n",
    "2. Choose the Submit tab\n",
    "3. Run the job as described here:\n",
    "- a, b, c\n",
    "4. Submit the job and go back to the View tab\n",
    "5. You can observe the progress of your job while it runs, and the status (complete or fail) when it completes"
   ]
  },
  {
   "cell_type": "markdown",
   "metadata": {},
   "source": [
    "### Running and Monitoring using the HySDS Jobs UI (Figaro)"
   ]
  },
  {
   "cell_type": "markdown",
   "metadata": {},
   "source": [
    "This will be described in a future update. HySDS is the data-processing system used to run the jobs. It has a full web application that is used by NASA missions to monitor jobs and data-outputs. If you would like to beta-test this UI with MAAP, please contact Sujen or George."
   ]
  },
  {
   "cell_type": "markdown",
   "metadata": {},
   "source": [
    "## Registering and Running the Algorithm using maap.py"
   ]
  },
  {
   "cell_type": "markdown",
   "metadata": {},
   "source": [
    "This will be described in a future update. Often larger batch-jobs are run from Python Notebooks rather than the GUI."
   ]
  },
  {
   "cell_type": "markdown",
   "metadata": {},
   "source": [
    "## Getting the Outputs of the Job"
   ]
  },
  {
   "cell_type": "markdown",
   "metadata": {},
   "source": [
    "- output folder\n",
    "- stderr & stdout examples\n",
    "- logfiles"
   ]
  }
 ],
 "metadata": {
  "kernelspec": {
   "display_name": "gedi_subset",
   "language": "python",
   "name": "gedi_subset"
  },
  "language_info": {
   "codemirror_mode": {
    "name": "ipython",
    "version": 3
   },
   "file_extension": ".py",
   "mimetype": "text/x-python",
   "name": "python",
   "nbconvert_exporter": "python",
   "pygments_lexer": "ipython3",
   "version": "3.11.3"
  }
 },
 "nbformat": 4,
 "nbformat_minor": 4
}
