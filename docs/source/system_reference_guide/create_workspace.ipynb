{
 "cells": [
  {
   "cell_type": "markdown",
   "metadata": {},
   "source": [
    "# Create Workspace\n",
    "## Basic\n",
    "Navigate to the side panel tab `Workspaces` and click `Add Workspace`. On the Get Started tab, you can select a Stack (pre-set environment) to get started quickly. \n",
    "\n",
    "To see what each Stack has pre-installed, check the Github repo (https://github.com/MAAP-Project/maap-workspaces/tree/main/base_images) and look at the Dockerfiles. Currently there is not a better way to reliably understand what is in each.\n",
    "\n",
    "To customize your Workspace after creating it, you can use conda. Further documentation on how to do this is in the [Environments section](custom-environments.ipynb) of this documentation.\n",
    "\n",
    "![create workspace basic](../_static/create_workspace_basic.png)\n",
    "\n",
    "If you would like a more customized approach, on the Custom Workspace tab you can name your workspace, select the storage type, and select a devfile template from available stacks or upload your own devfile. \n",
    "\n",
    "![create workspace advanced](../_static/create_workspace_advanced.png)\n",
    "\n",
    "## Advanced, alter memory limit\n",
    "Here, you can edit the devfile under `containers/jupyter/resources/limits/memory` to alter the memory limit for your workspace. \n",
    "\n",
    "![create workspace memory](../_static/create_workspace_memory.png)\n",
    "\n",
    "If you want to edit the devfile or your workspace's memory limit after its creation, just click on the `Workspaces` side panel tab, then the workspace, then the Devfile tab at the top of the page. \n",
    "\n",
    "**DISCLAIMER:** MAAP might change the way that we do workspace memory limits in the future, including restricting the memory that a user can allocate for their workspace. For now, as a courtesy to other users only increase the memory limit if your kernel keeps running out of memory and crashing. If you're not sure why your kernel is crashing after increasing your workspace's memory limit, please contact the development team. We recommend using a memory limit of 16GB (which means altering the devfile to `memory: 15258Mi`). "
   ]
  }
 ],
 "metadata": {
  "kernelspec": {
   "display_name": "Python 3.11.1 64-bit",
   "language": "python",
   "name": "python3"
  },
  "language_info": {
   "codemirror_mode": {
    "name": "ipython",
    "version": 3
   },
   "file_extension": ".py",
   "mimetype": "text/x-python",
   "name": "python",
   "nbconvert_exporter": "python",
   "pygments_lexer": "ipython3",
   "version": "3.11.1"
  },
  "vscode": {
   "interpreter": {
    "hash": "5c7b89af1651d0b8571dde13640ecdccf7d5a6204171d6ab33e7c296e100e08a"
   }
  }
 },
 "nbformat": 4,
 "nbformat_minor": 4
}
