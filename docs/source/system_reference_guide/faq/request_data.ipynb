{
 "cells": [
  {
   "cell_type": "markdown",
   "metadata": {},
   "source": [
    "# Request Data\n",
    "\n",
    "Authors: Emile Tenezakis (DevSeed), Sheyenne Kirkland (UAH)\n",
    "\n",
    "Date: September 26, 2023\n",
    "\n",
    "Description: in this example, we'll show you how to access MAAP's Data Request Form in Github, as well as provide an example on how to fill out and submit it. The purpose of this form is to provide a way for users to request data to be ingested into the [MAAP STAC Catalog](https://stac-browser.maap-project.org/) for use."
   ]
  },
  {
   "cell_type": "markdown",
   "metadata": {},
   "source": [
    "## Accessing the Form"
   ]
  },
  {
   "cell_type": "markdown",
   "metadata": {},
   "source": [
    "To access the form, users will go to [MAAP's Community Github repository](https://github.com/MAAP-Project/Community/issues/new/choose). You can either click on the link, or go to \"Issues\" and select \"New issue\" from the Community repository.\n",
    "\n",
    "![community_repo](../../_static/community_repo.png)\n",
    "\n",
    "There are three different options for users to open an issue. To request data, select \"Get Started\" next to \"Data Request\".\n",
    "\n",
    "![data_request_getstarted](../../_static/data_request_getstarted.png)"
   ]
  },
  {
   "cell_type": "markdown",
   "metadata": {},
   "source": [
    "## Filling out the Form"
   ]
  },
  {
   "cell_type": "markdown",
   "metadata": {},
   "source": [
    "Once you select \"Get started\", you'll be taken to the form. There are several fields to complete, some of which are required (marked with a red *) and some optional. This helps ensure that the data team recieves enough information.\n",
    "\n",
    "Assignees and labels are also automatically included, so all users have to do is enter information about the data.\n",
    "\n",
    "We've provided screenshots of a sample form below:"
   ]
  },
  {
   "cell_type": "markdown",
   "metadata": {},
   "source": [
    "## Submission"
   ]
  },
  {
   "cell_type": "code",
   "execution_count": null,
   "metadata": {},
   "outputs": [],
   "source": []
  }
 ],
 "metadata": {
  "kernelspec": {
   "display_name": "Python 3 (ipykernel)",
   "language": "python",
   "name": "python3"
  },
  "language_info": {
   "codemirror_mode": {
    "name": "ipython",
    "version": 3
   },
   "file_extension": ".py",
   "mimetype": "text/x-python",
   "name": "python",
   "nbconvert_exporter": "python",
   "pygments_lexer": "ipython3",
   "version": "3.10.8"
  }
 },
 "nbformat": 4,
 "nbformat_minor": 4
}
