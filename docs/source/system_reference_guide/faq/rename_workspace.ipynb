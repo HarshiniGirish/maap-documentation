{
 "cells": [
  {
   "attachments": {},
   "cell_type": "markdown",
   "metadata": {},
   "source": [
    "# How Do I Rename My Workspace?\n",
    "\n",
    "## Option 1: At Workspace Creation \n",
    "You can replace the auto-generated workspace name during creation via the Custom Workspace option. \n",
    "\n",
    " ![workspace name creation](../../_static/faq_images/workspace_name_creation.png) \n",
    " \n",
    "## Option 2: Edit Existing Workspace \n",
    "1. In the workspaces tab under the Che side panel, select the workspace you want to rename.\n",
    "\n",
    " ![workspace name existing 1](../../_static/faq_images/workspace_name_existing_1.png) \n",
    " \n",
    "2. Under the Overview section, you can replace the Workspace name field with whatever you wish to name it.\n",
    "\n",
    " ![workspace name existing 2](../../_static/faq_images/workspace_name_existing_2.png) \n",
    " \n",
    "Caveat: no special characters like space, dollar sign, etc; name should start/end only with digits, Latin letters, or underscores\n"
   ]
  }
 ],
 "metadata": {
  "kernelspec": {
   "display_name": "Python 3.11.1 64-bit",
   "language": "python",
   "name": "python3"
  },
  "language_info": {
   "codemirror_mode": {
    "name": "ipython",
    "version": 3
   },
   "file_extension": ".py",
   "mimetype": "text/x-python",
   "name": "python",
   "nbconvert_exporter": "python",
   "pygments_lexer": "ipython3",
   "version": "3.11.1"
  },
  "vscode": {
   "interpreter": {
    "hash": "5c7b89af1651d0b8571dde13640ecdccf7d5a6204171d6ab33e7c296e100e08a"
   }
  }
 },
 "nbformat": 4,
 "nbformat_minor": 4
}
