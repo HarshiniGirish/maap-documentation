{
 "cells": [
  {
   "attachments": {},
   "cell_type": "markdown",
   "metadata": {},
   "source": [
    "# How Do I Share My Workspace With Another MAAP User?\n",
    "1. In the workspaces tab under the Che side panel, select the workspace you want to share.\n",
    "\n",
    "![share workspace select](../../_static/faq_images/share_workspace_select.png) \n",
    " \n",
    "2. Under the Share section, click the button + Add Developer. Then type in the email of the person/people you wish to share the workspace with and click *Share*.  Only emails registered with MAAP can be used to share workspaces.\n",
    "\n",
    " ![share workspace sharing](../../_static/faq_images/share_workspace_sharing.png) \n",
    "\n",
    "3. The user will now be listed for this workspace.\n",
    "\n",
    " ![share workspace shared](../../_static/faq_images/share_workspace_shared.png) \n",
    " \n",
    "Important notes: \n",
    "\n",
    "- If the workspace was opened under an organization, the workspace can only be shared with members of that organization and not any other MAAP user.\n",
    "\n",
    "- Currently, we do not have a way to denote shared workspaces in the Che side panel, so we recommend renaming your workspace so that you know it is shared (e.g. add _s)\n",
    "\n",
    "- Users who you share a workspace with will be able to see everything in your `my-private-bucket` folder and will have read, write, and delete permissions\n",
    "\n",
    "- You will be able to see what tabs other users have open by refreshing or clicking on the \"Running Terminals and Kernels\" side tab \n",
    "\n",
    "<img src=\"../../_static/faq_images/share_workspace_running_kernels.png\"  width=\"360\" height=\"225\" alt=\"share workspace running kernels\">"
   ]
  }
 ],
 "metadata": {
  "kernelspec": {
   "display_name": "Python 3.11.1 64-bit",
   "language": "python",
   "name": "python3"
  },
  "language_info": {
   "codemirror_mode": {
    "name": "ipython",
    "version": 3
   },
   "file_extension": ".py",
   "mimetype": "text/x-python",
   "name": "python",
   "nbconvert_exporter": "python",
   "pygments_lexer": "ipython3",
   "version": "3.11.1"
  },
  "vscode": {
   "interpreter": {
    "hash": "5c7b89af1651d0b8571dde13640ecdccf7d5a6204171d6ab33e7c296e100e08a"
   }
  }
 },
 "nbformat": 4,
 "nbformat_minor": 4
}
