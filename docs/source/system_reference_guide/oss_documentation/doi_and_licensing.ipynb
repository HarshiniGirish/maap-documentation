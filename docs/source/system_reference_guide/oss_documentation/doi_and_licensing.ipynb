{
 "cells": [
  {
   "cell_type": "markdown",
   "id": "8e48e9df-35f4-444c-8c6d-89ed10e28ba0",
   "metadata": {},
   "source": [
    "# DOI Minting and Licensing"
   ]
  },
  {
   "cell_type": "markdown",
   "id": "3bb3ccb7-8ad5-4cbb-bf52-bf663535b449",
   "metadata": {},
   "source": [
    "Date: November 8, 2023\n",
    "\n",
    "Description: A document to provide guidelines for MAAP users on how to create a DOI (Digital Object Identifier) and choose a license as part of NASA's Open-Source Science Initiative (OSSI). For more information on MAAP and open-source science, please see [the general_oss document](./general_oss.ipynb)."
   ]
  },
  {
   "cell_type": "markdown",
   "id": "93ee71bf-c135-47f1-8226-657d4892745a",
   "metadata": {},
   "source": [
    "## DOI Minting"
   ]
  },
  {
   "cell_type": "markdown",
   "id": "a51d50f6-2a45-48a3-a47b-0b65292df336",
   "metadata": {},
   "source": [
    "## Choosing a License"
   ]
  }
 ],
 "metadata": {
  "kernelspec": {
   "display_name": "Python 3 (ipykernel)",
   "language": "python",
   "name": "python3"
  },
  "language_info": {
   "codemirror_mode": {
    "name": "ipython",
    "version": 3
   },
   "file_extension": ".py",
   "mimetype": "text/x-python",
   "name": "python",
   "nbconvert_exporter": "python",
   "pygments_lexer": "ipython3",
   "version": "3.10.12"
  }
 },
 "nbformat": 4,
 "nbformat_minor": 5
}
