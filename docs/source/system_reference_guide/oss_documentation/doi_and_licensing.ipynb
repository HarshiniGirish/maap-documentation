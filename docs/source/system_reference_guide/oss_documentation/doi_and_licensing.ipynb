{
 "cells": [
  {
   "cell_type": "markdown",
   "id": "8e48e9df-35f4-444c-8c6d-89ed10e28ba0",
   "metadata": {},
   "source": [
    "# DOI and Licensing"
   ]
  },
  {
   "cell_type": "code",
   "execution_count": null,
   "id": "e5c44339-99a4-45a4-b8c9-c573722d1333",
   "metadata": {},
   "outputs": [],
   "source": []
  }
 ],
 "metadata": {
  "kernelspec": {
   "display_name": "Python 3 (ipykernel)",
   "language": "python",
   "name": "python3"
  },
  "language_info": {
   "codemirror_mode": {
    "name": "ipython",
    "version": 3
   },
   "file_extension": ".py",
   "mimetype": "text/x-python",
   "name": "python",
   "nbconvert_exporter": "python",
   "pygments_lexer": "ipython3",
   "version": "3.10.12"
  }
 },
 "nbformat": 4,
 "nbformat_minor": 5
}
