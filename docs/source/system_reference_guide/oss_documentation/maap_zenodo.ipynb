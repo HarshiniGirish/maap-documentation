{
 "cells": [
  {
   "cell_type": "markdown",
   "metadata": {},
   "source": [
    "# Submitting to the MAAP Zenodo Community\n",
    "\n",
    "Authors: Sheyenne Kirkland (UAH), Brian Freitag (NASA MSFC), Alex Mandel (DevSeed)\n",
    "\n",
    "Date: January 4, 2024\n",
    "\n",
    "Description: In this notebook, we describe what content can be submitted to the [MAAP Zenodo Community](https://zenodo.org/communities/maap?q=&l=list&p=1&s=10&sort=newest) and how to submit that content."
   ]
  },
  {
   "cell_type": "markdown",
   "metadata": {},
   "source": [
    "## MAAP Zenodo Community\n",
    "In an effort to comply with and promote open science, we have created the [MAAP Zenodo Community](https://zenodo.org/communities/maap?q=&l=list&p=1&s=10&sort=newest). Zenodo is a general repository\n",
    "\n",
    "If your content does not already have a Digital Object Identifier (DOI), then one will be created once your content is uploaded to Zenodo. A DOI helps make your content more discoverable and easily citable. "
   ]
  },
  {
   "cell_type": "markdown",
   "metadata": {},
   "source": [
    "## What Can Be Submitted?\n",
    "\n",
    "- Repositories with software \n",
    "\n",
    "- Presentations, posters and publications\n",
    "\n",
    "- Models\n",
    "\n",
    "- Computational notebooks"
   ]
  },
  {
   "cell_type": "markdown",
   "metadata": {},
   "source": [
    "## How to Submit Content to the MAAP Community\n",
    "To submit content to the MAAP Community, you'll go to the [MAAP Zenodo Community](https://zenodo.org/communities/maap?q=&l=list&p=1&s=10&sort=newest) page and click \"New upload\" at the top.\n",
    "\n",
    "![MAAP Zenodo Community](../../_static/maap-zenodo-community.png)"
   ]
  },
  {
   "cell_type": "markdown",
   "metadata": {},
   "source": [
    "From there, you'll be taken to the form where you can upload your content and fill in the metadata."
   ]
  },
  {
   "cell_type": "markdown",
   "metadata": {},
   "source": [
    "### Filling out Metadata and Best Practices\n",
    "\n",
    "There are 9 available sections that users can fill out: Files, Basic information, Recommended information, Funding, Alternate identifiers, Related works, References, Publishing information, and Conference.\n",
    "\n",
    "**Files**\n",
    "\n",
    "The first thing you will do is upload your file(s). If you're uploading a document, we recommend saving and uploading as a PDF.\n",
    "\n",
    "**Basic information**\n",
    "\n",
    "- All fields under this section should be completed.\n",
    "\n",
    "- If your file does not have a DOI, select \"No\" under \"Digital Object Identifier\". A DOI will be created once uploaded and accepted.\n",
    "\n",
    "- The publication date should be the day you submit your content for review, unless it was already published elsewhere.\n",
    "\n",
    "- All co-authors should be listed under \"Creators\". If listed under creators, they will be included in the citation. Specific roles can be left blank, but we do recommend adding affiliations.\n",
    "\n",
    "- A plain language summary should be provided under \"Description\". If applicable, an abstract can also be provided here.\n",
    "\n",
    "- Your content should have a license; to comply with open science, the license should be permissive. The default license is \"Creative Commons Attirbution 4.0 International\". For a list of other acceptable licenses, refer to our page on [Open Sourcing Code](./doi_and_licensing.ipynb).\n",
    "\n",
    "**Recommended Information**\n",
    "\n",
    "- Remember: co-authors should be listed in the previous section under \"Creators\" and not \"Contributors\".\n",
    "\n",
    "- Keywords will help make your content searchable, and are up to the user to provide. Some recommended, general keywords for MAAP users can be: `Software` `Data Science` `Data Visualization` `Earth Science` `Open Science` `Data Exploration` `Biomass` `AGU 2023 (adjust conference/year as necessary)`\n",
    "\n",
    "    - Specific datasets can also be listed as a keyword, like `GEDI` or `ICESat` for example.\n",
    "    \n",
    "    - Parameters also make good keywords, like `Land cover` or `Canopy height`.\n",
    "\n",
    "- Provide the language(s) your content is provided in.\n",
    "\n",
    "- \"Dates\" is where you can add other dates besides the publishing date. For example, a presentation that was given previously at a conference can be provided with a type of \"Available\" and a description of \"Conference presentation\".\n",
    "\n",
    "- The publisher should be \"NASA MAAP\" or \"ESA MAAP\" for MAAP users.\n",
    "\n",
    "**Funding**\n",
    "\n",
    "**Alternate Identifiers**\n",
    "\n",
    "**Related Works**\n",
    "\n",
    "- We recommend providing related software in this section. For example, a presentation on MAAP's GEDI Subsetter would include the DOI for the GEDI Subsetter software under this section.\n",
    "\n",
    "**References**\n",
    "\n",
    "**Publishing Information**\n",
    "\n",
    "**Conference**\n",
    "\n",
    "- This section is recommended to be completed if your content was presented at a conference."
   ]
  },
  {
   "cell_type": "markdown",
   "metadata": {},
   "source": []
  }
 ],
 "metadata": {
  "kernelspec": {
   "display_name": "Python 3",
   "language": "python",
   "name": "python3"
  },
  "language_info": {
   "codemirror_mode": {
    "name": "ipython",
    "version": 3
   },
   "file_extension": ".py",
   "mimetype": "text/x-python",
   "name": "python",
   "nbconvert_exporter": "python",
   "pygments_lexer": "ipython3",
   "version": "3.11.4"
  }
 },
 "nbformat": 4,
 "nbformat_minor": 2
}
