{
 "cells": [
  {
   "attachments": {},
   "cell_type": "markdown",
   "metadata": {},
   "source": [
    "# Example configuration files for custom environments"
   ]
  },
  {
   "cell_type": "code",
   "execution_count": 2,
   "metadata": {
    "tags": [
     "hide-input"
    ]
   },
   "outputs": [],
   "source": [
    "import yaml\n",
    "\n",
    "def show_yaml(input_file):    \n",
    "    with open(input_file, 'r') as file:\n",
    "        yaml_content = yaml.load(file, yaml.Loader)\n",
    "\n",
    "    yaml_output = yaml.dump(yaml_content, sort_keys=False)\n",
    "    print(yaml_output)"
   ]
  },
  {
   "attachments": {},
   "cell_type": "markdown",
   "metadata": {},
   "source": [
    "### env-example.yaml"
   ]
  },
  {
   "cell_type": "code",
   "execution_count": 3,
   "metadata": {},
   "outputs": [
    {
     "name": "stdout",
     "output_type": "stream",
     "text": [
      "name: env-example\n",
      "channels:\n",
      "- conda-forge\n",
      "dependencies:\n",
      "- python=3.8\n",
      "- pandas=1.5.3\n",
      "- geopandas=0.12.2\n",
      "\n"
     ]
    }
   ],
   "source": [
    "show_yaml('example_conda_configuration_files/env-example.yml')"
   ]
  },
  {
   "attachments": {},
   "cell_type": "markdown",
   "metadata": {},
   "source": [
    "### env-extend.yaml"
   ]
  },
  {
   "cell_type": "code",
   "execution_count": 4,
   "metadata": {
    "tags": [
     "hide-input"
    ]
   },
   "outputs": [
    {
     "name": "stdout",
     "output_type": "stream",
     "text": [
      "name: base\n",
      "channels:\n",
      "- conda-forge\n",
      "dependencies:\n",
      "- xarray=2023.3.0\n",
      "- geopandas=0.12.2\n",
      "\n"
     ]
    }
   ],
   "source": [
    "show_yaml('example_conda_configuration_files/env-extend.yml')"
   ]
  },
  {
   "attachments": {},
   "cell_type": "markdown",
   "metadata": {},
   "source": [
    "### env-with-pip.yaml"
   ]
  },
  {
   "cell_type": "code",
   "execution_count": 7,
   "metadata": {},
   "outputs": [
    {
     "name": "stdout",
     "output_type": "stream",
     "text": [
      "name: env-with-pip\n",
      "channels:\n",
      "- conda-forge\n",
      "dependencies:\n",
      "- python=3.9\n",
      "- xarray=2023.3.0\n",
      "- pip=23.0.1\n",
      "- pip:\n",
      "  - stackstac==0.4.3\n",
      "\n"
     ]
    }
   ],
   "source": [
    "show_yaml('example_conda_configuration_files/env-with-pip.yml')"
   ]
  },
  {
   "attachments": {},
   "cell_type": "markdown",
   "metadata": {},
   "source": [
    "### env-with-ipykernel.yaml"
   ]
  },
  {
   "cell_type": "code",
   "execution_count": 8,
   "metadata": {},
   "outputs": [
    {
     "name": "stdout",
     "output_type": "stream",
     "text": [
      "name: env-with-ipykernel\n",
      "channels:\n",
      "- conda-forge\n",
      "dependencies:\n",
      "- python=3.9\n",
      "- ipykernel=6.22.0\n",
      "- xarray=2023.3.0\n",
      "- pip=23.0.1\n",
      "- pip:\n",
      "  - stackstac==0.4.3\n",
      "\n"
     ]
    }
   ],
   "source": [
    "show_yaml('example_conda_configuration_files/env-with-ipykernel.yml')"
   ]
  },
  {
   "attachments": {},
   "cell_type": "markdown",
   "metadata": {},
   "source": [
    "### env-with-maap-py.yaml"
   ]
  },
  {
   "cell_type": "code",
   "execution_count": 9,
   "metadata": {},
   "outputs": [
    {
     "name": "stdout",
     "output_type": "stream",
     "text": [
      "name: env-with-maap-py\n",
      "channels:\n",
      "- conda-forge\n",
      "dependencies:\n",
      "- python=3.9\n",
      "- pip=23.0.1\n",
      "- pip:\n",
      "  - git+https://git@github.com/MAAP-Project/maap-py@d0f34e3440bf1121882892a5fe0b20484b413d43\n",
      "\n"
     ]
    }
   ],
   "source": [
    "show_yaml('example_conda_configuration_files/env-with-maap-py.yml')"
   ]
  }
 ],
 "metadata": {
  "kernelspec": {
   "display_name": "Python 3",
   "language": "python",
   "name": "python3"
  },
  "language_info": {
   "codemirror_mode": {
    "name": "ipython",
    "version": 3
   },
   "file_extension": ".py",
   "mimetype": "text/x-python",
   "name": "python",
   "nbconvert_exporter": "python",
   "pygments_lexer": "ipython3",
   "version": "3.10.9"
  },
  "orig_nbformat": 4
 },
 "nbformat": 4,
 "nbformat_minor": 2
}
