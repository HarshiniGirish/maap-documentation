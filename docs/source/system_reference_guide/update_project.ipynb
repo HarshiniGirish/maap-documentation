{
 "cells": [
  {
   "cell_type": "markdown",
   "metadata": {},
   "source": [
    "### Update Project from Workspace\n",
    "All projects imported from GitLab can be found in `/projects`. Instructions on how to import projects from GitLab can be found [here](../getting_started/writing_code.html#Clone-a-Respository-with-GitHub) and instructions for working with MAAP Git Lab can be found [here.](../getting_started/writing_code.html#Working-with-the-MAAP-GitLab)\n",
    "\n",
    "Using the left side panel in the jupyter interface, you can push changes to your gitlab project.\n",
    "\n",
    "If you are more comfortable using the command line to interact with git, you do not need to use the side panel. It will work the same way in the terminal, once you navigate to the project's filepath.\n",
    "\n",
    "When you are ready to update your project with your changes, navigate to the git panel. Add the files you want to change to the list of staged changes by clicking the + to the right of the file name. Then write a commit message, and blue commit button. \n",
    "\n",
    "<img src=\"../_static/update_project_commit.png\"  width=\"220\" height=\"500\" alt=\"update project commit\">\n",
    "\n",
    "Now you need to push your changes by selecting the push changes button on the toolbar in the upper right.\n",
    "\n",
    "<img src=\"../_static/update_project_push.png\"  width=\"200\" height=\"150\" alt=\"update project push\">\n",
    "\n",
    "If you want to check your commit history, look at branches, and confirm your updates have been pushed, you can see this on the history tab.\n",
    "\n",
    "<img src=\"../_static/update_project_history.png\"  width=\"220\" height=\"500\" alt=\"update project history\">"
   ]
  }
 ],
 "metadata": {
  "kernelspec": {
   "display_name": "Python 3.11.1 64-bit",
   "language": "python",
   "name": "python3"
  },
  "language_info": {
   "codemirror_mode": {
    "name": "ipython",
    "version": 3
   },
   "file_extension": ".py",
   "mimetype": "text/x-python",
   "name": "python",
   "nbconvert_exporter": "python",
   "pygments_lexer": "ipython3",
   "version": "3.11.1"
  },
  "vscode": {
   "interpreter": {
    "hash": "5c7b89af1651d0b8571dde13640ecdccf7d5a6204171d6ab33e7c296e100e08a"
   }
  }
 },
 "nbformat": 4,
 "nbformat_minor": 4
}
