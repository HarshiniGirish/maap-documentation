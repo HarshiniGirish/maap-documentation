{
 "cells": [
  {
   "attachments": {},
   "cell_type": "markdown",
   "metadata": {},
   "source": [
    "### An overview of the MAAP platform\n",
    "\n",
    "The MAAP is a cloud-based system to write science-analysis code and then run it at scale. This lets you keep all of the input and output data “in the cloud”.  It is composed of a few parts:\n",
    "\n",
    "![MAAP Overview Diagram](_static/maap_overview_diagram.png) \n",
    "\n",
    " -  The **Algorithm Development Environment (ADE)** is a tool that helps with the development of algorithms in a consistent, standardized environment that helps with the development and testing of algorithms and facilitates large scale data processing. MAAP's primary user interface is Jupyterlab, where code is written and tested before pushed to the large scale data processing system.Code is stored and checked out from Git-based repositories, including Github and MAAP's own code repository subsystem.\n",
    " - The **Algorithm Catalog**, where your algorithms can be registered and compiled for use by the DPS. The MAAP system provides a tab in Jupyter to help you register your algorithms.\n",
    " - The **Data Processing System (DPS)** is where algorithms in the Algorithm Catalog can be run at scale in the cloud. The MAAP system provides a Jupyter GUI to run Jobs, or the maap.py library can be used to run a batch of Jobs in a loop using Python.\n",
    " - The DPS also has monitoring capabilities, and again the MAAP system provides a Jupyter GUI to help monitor Jobs. This can also be done using maap.py in Python.\n",
    "- The **Code Repository** is a git-based repository to store user code. It is also used to store the configuration files necessary for building algorithms to store in the algorithm catalog and for execution in the DPS.\n",
    " - There is also a RESTful API that sits under the maap.py library. You can access that API directly if you prefer.\n",
    " - [Do we need to have something about MAAP STAC? Or where the data is stored and where output data goes?]\n",
    " "
   ]
  }
 ],
 "metadata": {
  "kernelspec": {
   "display_name": "Python 3",
   "language": "python",
   "name": "python3"
  },
  "language_info": {
   "codemirror_mode": {
    "name": "ipython",
    "version": 3
   },
   "file_extension": ".py",
   "mimetype": "text/x-python",
   "name": "python",
   "nbconvert_exporter": "python",
   "pygments_lexer": "ipython3",
   "version": "3.7.8"
  }
 },
 "nbformat": 4,
 "nbformat_minor": 4
}
