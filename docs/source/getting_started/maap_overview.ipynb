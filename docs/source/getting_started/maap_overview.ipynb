{
 "cells": [
  {
   "attachments": {},
   "cell_type": "markdown",
   "metadata": {},
   "source": [
    "### An overview of the MAAP platform\n",
    "\n",
    "The MAAP is a cloud-based system to write science-analysis code and then run it at scale. This lets you keep all of the input and output data “in the cloud”.  It is composed of a few parts:\n",
    " \n",
    " - The **Algorithm Development Environment (ADE)** in Jupyter, where code is written and tested before moving to scaled-execution. Typically this is either with Python or R. The MAAP platform provides a helper library called maap.py to run the system commands from Python. Code is stored in a public GitHub repository to help with collaboration and also prepare for the Algorithm Registration step.\n",
    " - The **Algorithm Catalog**, where your analysis algorithms can be registered and compiled for use by the DPS. The MAAP system provides a tab in Jupyter to help you register your algorithms.\n",
    " - The **Data Processing System (DPS)** is where algorithms in the Algorithm Catalog can be run at scale in the cloud. The MAAP system provides a Jupyter GUI to run Jobs, or the maap.py library can be used to run a batch of Jobs in a loop using Python.\n",
    " - The DPS also has monitoring capabilities, and again the MAAP system provides a Jupyter GUI to help monitor Jobs. This can also be done using maap.py in Python.\n",
    " - There is also a RESTful API that sits under the maap.py library. You can access that API directly if you prefer.\n",
    " - [Do we need to have something about MAAP STAC? Or where the data is stored and where output data goes?]\n",
    " \n",
    "\n",
    "![MAAP Overview Diagram](_static/maap_overview_diagram.png) "
   ]
  }
 ],
 "metadata": {
  "kernelspec": {
   "display_name": "Python 3",
   "language": "python",
   "name": "python3"
  },
  "language_info": {
   "codemirror_mode": {
    "name": "ipython",
    "version": 3
   },
   "file_extension": ".py",
   "mimetype": "text/x-python",
   "name": "python",
   "nbconvert_exporter": "python",
   "pygments_lexer": "ipython3",
   "version": "3.7.8"
  }
 },
 "nbformat": 4,
 "nbformat_minor": 4
}
