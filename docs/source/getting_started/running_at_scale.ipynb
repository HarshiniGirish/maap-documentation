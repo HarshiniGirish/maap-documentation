{
 "cells": [
  {
   "attachments": {},
   "cell_type": "markdown",
   "metadata": {},
   "source": [
    "# Running Algorithms at Scale\n",
    "\n",
    "In order to run algorithms in the scaled-up cloud compute environment, they must first be \"registered\" in the Algorithm Catalog. This will make them available to other MAAP users, clearly define their inputs and outputs, and prepare them to be run easily in the Data Processing System (DPS).\n"
   ]
  },
  {
   "attachments": {},
   "cell_type": "markdown",
   "metadata": {},
   "source": [
    "## Register an Algorithm\n",
    "\n",
    "### Clone a test algorithm\n",
    "\n",
    "**[SHOULD THIS BE IN THE WRITING CODE SECTION?]**\n",
    "\n",
    "This is an example algorithm you can use for this getting started guide:\n",
    "https://github.com/MAAP-Project/dps-unit-test\n",
    "\n",
    "![Demo GitHub repo](_static/example_alg1.png)\n",
    "In the repo there are a few files that you will typically have, or which are required:\n",
    "\n",
    " - `algorithm_config.yml` is a required file that has a description of the inputs and outputs of the algorithm along with other parameters like the run command.\n",
    " - `run_test.sh` is the run command for this algorithm. It is typical to have a shell script to tell the system how to run the algorithm and set some environmental variables.\n",
    "\n",
    "1. Make a new folder for your test algorithm. Open a terminal here (File > New > Terminal or use the blue \"+\" button above the Jupyter file browser).\n",
    "![New Folder](_static/clone_demo1.png)\n",
    "\n",
    "2. Copy the Github clone link from https://github.com/MAAP-Project/dps-unit-test\n",
    "![Copy .git link](_static/clone_demo2.png)\n",
    "\n",
    "3. Open the built-in Jupyter Github UI to the left of the file browser. Choose \"Clone a Repository\" and paste in the .git link you copied from the Github repository.\n",
    "![Clone a Repository](_static/clone_demo3.png)\n",
    "![Paste .git link](_static/clone_demo4.png)\n",
    "\n",
    "4. You should see a new folder created with the repo you cloned. If you browse to that folder and open up the Jupyter Github UI again, it will show you some info about that repo.\n",
    "![Algorithm folder was created](_static/clone_demo5.png)\n",
    "![Browse to folder](_static/clone_demo6.png)\n",
    "![Look at Github UI](_static/clone_demo7.png)\n",
    "\n",
    "**[UPDATE THIS PART WHEN THE NEW ALG REG UI IS IN PLACE]**\n",
    "\n",
    "5. Fork the repo? Push it to your own repo?\n",
    "\n",
    "6. Rename the algorithm to personalize it. You do this by opening up the `algorithm_config.yml` file and changing the `algo_name` field.\n",
    "![Rename the Algorithm](_static/rename_alg.png)\n",
    "\n",
    "### Register the algorithm\n",
    "\n",
    "1. Make sure code is ready and saved -> right click file -> “Register as MAS Algorithm”\n",
    "2. This automatically creates `algorithm_config.yaml` file with the presets. There is only one for any directory. Edit if need be, then repeat step 1 and click \"‘\"OK\" to register.\n",
    "3. Outputs should be written to a folder named `outputs`.\n"
   ]
  },
  {
   "attachments": {},
   "cell_type": "markdown",
   "metadata": {},
   "source": [
    "## Run the Algorithm as a Job\n",
    "\n",
    "**UPDATE TO NEW JOBS \n",
    "\n",
    "[Jobs UI Link](../system_reference_guide/ade_custom_extensions/jobsui.html)\n",
    "\n",
    "Run Job:\n",
    "MAAP is configured to run up to 4,000 concurrent jobs. You can run a job one of 3 ways: through guided popups, via the Jobs Main Widget UI, or via a call to the maap-py Python library.\n",
    "Pop-up:\n",
    "Click DPS/MAS Operations menu -> Execute DPS Job\n",
    "Select algo from dropdown\n",
    "New popup will ask for inputs; if it doesn’t take inputs, the popup will say so.\n",
    "Click OK again to view the ID for the job just submitted.\n",
    "\n",
    "OR\n",
    "\n",
    "Jobs Main Widget UI:\n",
    "DPS UI Menu -> DPS Jobs UI\n",
    "Click Run Jobs tab. Under Algorithms List, click on the algo.\n",
    "Execute Job column appears on the side & will automatically update for required inputs. Fill out those fields.\n",
    "Click the Execute Job button. Job ID appears below\n",
    "\n",
    "OR\n",
    "\n",
    "maap-py:\n",
    "Import maap-py library: if in Jupyter, click the small blue MAAP button in the top left corner to automatically insert code. If using a script, add lines manually: \n",
    "from maap.maap import MAAP\n",
    "maap = MAAP()\n",
    "pass your algorithm’s name, version, required inputs, and username to the function maap.submitJob (identifier is job- algo_name:algo_version)\n",
    "Check result: maap.getJobResult()\n"
   ]
  },
  {
   "attachments": {},
   "cell_type": "markdown",
   "metadata": {},
   "source": [
    "## Check Job Status\n",
    "\n",
    "**UPDATE TO NEW JOBS UI**\n",
    "\n",
    "Menu pop-up:\n",
    "Open the DPS/MAS Operations menu and select Get DPS Job Status.\n",
    "Enter the job ID of the job you are checking and click OK. You will see the job’s status (queued, started, complete, failed, or dismissed).\n",
    "\n",
    "OR\n",
    "\n",
    "Jobs UI - Side Panel:\n",
    "\n",
    "From the Jobs side panel, click DPS UI -> Refresh Job List to update the list of jobs.  They will be sorted in order of most recently submitted. The job statuses are listed next to their corresponding job IDs.\n",
    "\n",
    "OR \n",
    "\n",
    "Jobs UI - Main Widget:\n",
    "You can also view job status in the DPS UI (open the Jobs Main Widget option on the DPS UI menu), in the list of submitted jobs at the bottom (same list as in the side panel).\n",
    "\n",
    "\n"
   ]
  }
 ],
 "metadata": {
  "kernelspec": {
   "display_name": "Python 3",
   "language": "python",
   "name": "python3"
  },
  "language_info": {
   "codemirror_mode": {
    "name": "ipython",
    "version": 3
   },
   "file_extension": ".py",
   "mimetype": "text/x-python",
   "name": "python",
   "nbconvert_exporter": "python",
   "pygments_lexer": "ipython3",
   "version": "3.7.8"
  }
 },
 "nbformat": 4,
 "nbformat_minor": 4
}
