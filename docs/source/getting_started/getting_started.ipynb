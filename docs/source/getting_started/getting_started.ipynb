{
 "cells": [
  {
   "attachments": {},
   "cell_type": "markdown",
   "metadata": {},
   "source": [
    "## Setting up your account and workspace\n",
    "\n",
    "Learn how to sign up for an account and access the MAAP."
   ]
  },
  {
   "cell_type": "markdown",
   "metadata": {},
   "source": [
    "### Signing up for an Earthdata Login account\n",
    "\n",
    "The MAAP offers accounts for NASA users through [Earthdata Login](https://urs.earthdata.nasa.gov/). Before accessing the MAAP as a NASA user, you will need to create an Earthdata Login account. Anyone can register for an Earthdata Login profile here: https://urs.earthdata.nasa.gov/users/new."
   ]
  },
  {
   "cell_type": "markdown",
   "metadata": {},
   "source": [
    "### Signing up for a new MAAP account\n",
    "\n",
    "Once registered, you can register for a MAAP account by navigating to the MAAP ADE at http://ade.ops.maap-project.org. On your first visit, select the \"URS\" login button shown here:\n",
    "\n",
    "![ADE Login](../_static/ade_login.png)  \n",
    "  \n",
    "\n",
    "If this is your first visit to the MAAP, you will be asked to agree to the MAAP Terms of Use:\n",
    "\n",
    "![MAAP Terms of Use](../_static/tou.png)  \n",
    "  \n",
    "\n",
    "Once registered, you should be redirected back to the MAAP ADE showing a disabled account message similar to this:\n",
    "\n",
    "![ADE Access Denied](../_static/access_denied.png)  \n",
    "  \n",
    "  \n",
    "At this point, a MAAP administrator will approve your account, which will grant you access to the MAAP ADE. This process typically takes 5-10 minutes. To check on the status of your pending account, contact the MAAP team at support@maap-project.org.\n",
    "\n",
    "Once your MAAP account is approved, you will receive an email notification using the address of your Earthdata Login account to let you know that your access is enabled."
   ]
  },
  {
   "attachments": {},
   "cell_type": "markdown",
   "metadata": {},
   "source": [
    "### Logging in\n",
    "\n",
    "1. Navigate to https://ade.ops.maap-project.org/ in Chrome or Firefox. You should be redirected to a page that looks like this:\n",
    "![MAAP Project log in](_static/loggingin1.png)\n",
    "\n",
    "\n",
    "2. Click the “Login with EarthData Account” button. If this is your first time logging in, you should be redirected to an EarthData Login page that looks like this:\n",
    "![Login with EarthData](_static/loggingin2.png)\n",
    "\n",
    "\n",
    "3. Enter your “EarthData Login” account credentials here and click “Log in”. You should see a temporary page that says “Redirecting”, followed by the MAAP showing your Workspaces (which will be empty to start):\n",
    "![MAAP Jupyter logging in](_static/loggingin3.png)"
   ]
  },
  {
   "attachments": {},
   "cell_type": "markdown",
   "metadata": {},
   "source": [
    "### Creating a workspace\n",
    "\n",
    "Workspaces are effectively a Jupyter \"computer in the cloud\". To get started with Jupyter you need to create a workspace.\n",
    "\n",
    "1. In the top-left corner of the MAAP dashboard, under “NASA MAAP”, click “Get Started”. You should see a menu that looks like this:\n",
    "![Choose a workspace stack](_static/createws1.png)\n",
    "\n",
    "\n",
    "2. Select \"Basic Stable”. This is called a \"Stack\" and represents a type of cloud compute environment that will be set up. If you are interested in seeing more about each Stack, the adjacent link in the left-hand area is where you can see the configuration of each Stack in detail. After choosing \"Basic Stable\", you will see a loading screen that looks like this – wait for it to finish loading.\n",
    "![Loading Basic Stable](_static/createws2.png)\n",
    "\n",
    "\n",
    "3. Once the workspace has loaded, you should see a  Jupyter interface that looks like this (note: You will see fewer environments and items in your root directory — this is normal! You may also see some notifications in the bottom right that look like errors about SSH Keys and other things; that is normal as well. You will also see one asking if you would like to take a guided tour.).\n",
    "![New Workspace View](_static/createws3.png)\n"
   ]
  },
  {
   "attachments": {},
   "cell_type": "markdown",
   "metadata": {},
   "source": [
    "### Jupyter Interface overview\n",
    "When you first log in you may see a notification in the bottom right about a guided tour. Feel free to view the tour, which will give you a quick overview of the Jupyter user interface. You can also find the MAAP Tour in the Help menu at any time.\n",
    "![MAAP Tour Notification](_static/maap_tour_notification.png)\n",
    "\n",
    "\n",
    "In addition to [typical JupyterLab menu bar and sidebar](https://jupyterlab.readthedocs.io/en/stable/user/interface.html) configuration:\n",
    "\n",
    "#### MAAP Jupyter Menus\n",
    "![Jupyter Menus](_static/interface1.png)\n",
    "\n",
    " - Data Search: Access Earthdata Search, copy search queries/results\n",
    " - Git: Open repo in terminal, init, or clone repo\n",
    " - Help: The help menu has several customized extensions and references to the MAAP documentation.\n",
    "\n",
    "#### MAAP Jupyter Sidebar\n",
    "![Jupyter Sidebar](_static/interface2.png)\n",
    "\n",
    " - File Browser\n",
    " - Running Terminals & Kernels\n",
    " - Git Repo Interface (if this folder is a Git repo)\n",
    " - Jupyter Command Search\n",
    " - Job listing\n",
    " - Property Inspector\n",
    " - Open Tabs\n",
    " - Extension manager\n",
    "\n",
    "#### MAAP Blue Sidebar\n",
    "\n",
    " - Workspaces: See workspaces, share them, as well as configure settings\n",
    " - Stacks: See available platforms for workspaces & required memory\n",
    " - Administration: Control the configuration & policies for your installation.\n",
    " - Organizations: allow groups of developers to collaborate with private & shared workspaces. Resources & permissions are controlled & allocated within the organization by admin.\n",
    " - Profile (bottom, labeled with your name): See account info, logout\n"
   ]
  },
  {
   "attachments": {},
   "cell_type": "markdown",
   "metadata": {},
   "source": [
    "### MAAP Storage Options\n",
    "![Jupyter annotated folders](_static/storageoptions.png)\n",
    "\n",
    "#### My root folder (\"in\" the workspace)\n",
    " - The Jupyter root directory is mounted to `/projects`.  Stuff in here persists across sessions.\n",
    "     - Use this for code-related items, smaller data storage\n",
    "     - Git is more likely to behave predictably here compared to other storage\n",
    "     - This is also the place to make persistent conda environments (covered in another section), but make sure to not make a conda env inside a git-tracked folder, or if you do add it to the .gitignore. If git is tracking an env, it could cause your workspace to crash. \n",
    " - Uses local (not network-based) file system; generally faster and more reliable for “normal” file operations, but expensive\n",
    "\n",
    "#### My Private Bucket\n",
    "`my-private-bucket` is an S3 bucket with persistent storage, but accessible only to you and others in the workspace\n",
    " \n",
    " - Use for large data storage\n",
    "\n",
    "#### My Public Bucket\n",
    "`my-public-bucket` is an S3 bucket with persistent storage. It is the same as `shared-buckets/<username>/` — anything you put in here will be accessible to other users via `shared-buckets/<your username>`.\n",
    "\n",
    " - Use for large data storage for files that you want to share across workspaces\n",
    "\n",
    "#### Mounting your MAAP workspace on your local computer\n",
    "If you prefer to work on your local computer, or to drag-and-drop copy files from your computer to/from MAAP, you access the workspace via SSH. The process for doing this is below."
   ]
  },
  {
   "attachments": {},
   "cell_type": "markdown",
   "metadata": {},
   "source": [
    "### Accessing MAAP workspaces over SSH\n",
    "\n",
    "If you would like to have your MAAP workspace mounted (via SSH) on your local computer, follow these steps. It is completely optional and if you do not know why you would want this, feel free to skip this part of the Getting Started Guide.\n",
    "\n",
    "Basically, this works the same as on any unix-based system: You need to add your Public SSH key from your computer/laptop to the `~/.ssh/authorized_keys` file in MAAP, as described below.\n",
    "\n",
    "#### Generate a Public SSH Key\n",
    "\n",
    "First, you need an SSH key for your personal machine. Here are [example instructions for creating an SSH key](https://docs.oracle.com/en/cloud/cloud-at-customer/occ-get-started/generate-ssh-key-pair.html). Note that there are different instructions for Windows and unix-based systems (MacOS, Linux). The outcome of this will be a Public SSH key on your local computer.\n",
    "\n",
    "#### Add the Public SSH Key to MAAP\n",
    "\n",
    "By default, you cannot see or edit hidden files in the MAAP Jupyter account. Therefore, you should do the following workaround:\n",
    "\n",
    "1. On your local computer, copy the contents of the public SSH key you just created. It will usually have a `.pub` extension (the default file is `~/.ssh/id_rsa.pub`) and its contents will look something like this (one long line):\n",
    "\n",
    "    `ssh-rsa AAAAB3Nza[...]TeDx1 ashiklom@gs610-ashiklom.ndc.nasa.gov`\n",
    "\n",
    "2. Use the Jupyter interface (right click in the file browser) to create a new folder in your home directory called `ssh`.\n",
    "3. Inside that folder, use the Jupyter interface (right click in the file browser) to create a new file called `authorized_keys` (NOTE: no file extension!).\n",
    "4. Double click the file you just created to open it in the editor.\n",
    "5. Copy the contents of your SSH key from your computer into this file. Save it and close it.\n",
    "6. Return to your home directory, right click the `ssh` folder, click “Rename”, and rename it to `.ssh` (period in front). You will get a 404 error, but the operation will have succeeded, and folder will ‘disappear’.\n",
    "     - To check that this worked, in a terminal window, run `ls -a` in your home directory. You should see the `.ssh` folder in there.\n",
    "7. Repeat these steps to add more SSH keys from different machines.\n",
    "     - Note that, to see the `.ssh` folder from JupyterLab, you’ll need to temporarily rename it to `ssh`. The only way to do this is via the terminal — `mv .ssh ssh`. Don’t forget to rename it back to `.ssh` when you’re done!\n",
    "\n",
    "To access a MAAP workspace over SSH, you will need a workspace-specific IP address and port. You can find this by going to the JupyterLab commands menu — the 4th button in the left panel of the Jupyter interface; shows a looking glass over a list; alternatively, press Control + Shift + C (Command + Shift + C on Mac) — and search for “SSH”. You’ll see “Display SSH Info”. Click this button. A dialog box with the correct SSH command will appear.\n",
    "\n",
    "#### Uploading your public SSH key \n",
    "\n",
    "**Is this an alternative way of doing the above? Or does this even work?**\n",
    "\n",
    "In order to access your ADE workspaces using SSH, you'll need to upload your public SSH key to your MAAP profile using the MAAP portal at https://ops.maap-project.org. \n",
    "\n",
    "Click on your profile name (or the \"Login\" button) in the top right corner shown here:\n",
    "\n",
    "![MAAP Portal](../_static/portal.png)\n",
    "\n",
    "On your profile page, click the \"Choose File\" button to upload your key.\n",
    "\n",
    "![SSH Key Upload](../_static/sshkey.png)\n",
    "\n",
    "After uploading your key, the SSH connection will be enabled **after your next** login into the ADE.\n",
    "\n"
   ]
  },
  {
   "cell_type": "markdown",
   "metadata": {},
   "source": [
    "### Note on future URL changes\n",
    "\n",
    "The \"*.ops.maap-project.org\" URLs referenced in this guide will be converted to \"*.maap-project.org\" once the version one of MAAP is released in the near future. At that time, these URLs will be updated accordingly."
   ]
  }
 ],
 "metadata": {
  "kernelspec": {
   "display_name": "Python [conda env:root] *",
   "language": "python",
   "name": "conda-root-py"
  },
  "language_info": {
   "codemirror_mode": {
    "name": "ipython",
    "version": 3
   },
   "file_extension": ".py",
   "mimetype": "text/x-python",
   "name": "python",
   "nbconvert_exporter": "python",
   "pygments_lexer": "ipython3",
   "version": "3.7.8"
  },
  "metadata": {
   "interpreter": {
    "hash": "31f2aee4e71d21fbe5cf8b01ff0e069b9275f58929596ceb00d14d90e3e16cd6"
   }
  }
 },
 "nbformat": 4,
 "nbformat_minor": 4
}
