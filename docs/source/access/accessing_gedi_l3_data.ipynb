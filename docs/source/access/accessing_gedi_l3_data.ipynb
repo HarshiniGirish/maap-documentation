{
 "cells": [
  {
   "cell_type": "markdown",
   "id": "75e9ebf0",
   "metadata": {},
   "source": [
    "## Accessing Global Ecosystem Dynamics Investigation (GEDI) Level 3 Granule Data\n",
    "\n",
    "In this example, we demonstrate how to access GEDI Level 3 granule data on the MAAP ADE.\n",
    "\n",
    "Within your Jupyter Notebook, start by importing the `maap` package. Then invoke the `MAAP` constructor, setting the `maap_host` argument to `'api.ops.maap-project.org'`."
   ]
  },
  {
   "cell_type": "code",
   "execution_count": 1,
   "id": "fba3bb26",
   "metadata": {},
   "outputs": [],
   "source": [
    "# import os module\n",
    "import os\n",
    "# import the maap package to handle queries\n",
    "from maap.maap import MAAP\n",
    "# invoke the MAAP constructor using the maap_host argument\n",
    "maap = MAAP(maap_host='api.ops.maap-project.org')"
   ]
  },
  {
   "cell_type": "markdown",
   "id": "c8a2813e",
   "metadata": {},
   "source": [
    "Search for a granule using the `searchGranule` function (for more information on searching for granules, see [Searching for Granules in MAAP](https://docs.maap-project.org/en/latest/search/granules.html)). Note that we can use `searchGranule`'s `cmr_host` argument to specify `cmr.maap-project.org` as the CMR instance. Then utilize the `getData` function, which downloads granule data if it doesn't already exist locally. We can use `getData` to download the first result from our granule search into the file system and assign its local path to a variable (in this case `download`)."
   ]
  },
  {
   "cell_type": "code",
   "execution_count": 2,
   "id": "1727cdaf",
   "metadata": {},
   "outputs": [],
   "source": [
    "# search for granule data using CMR host name, collection concept ID, and Granule UR arguments\n",
    "results = maap.searchGranule(\n",
    "    cmr_host='cmr.maap-project.org',\n",
    "    collection_concept_id='C1201702030-NASA_MAAP',\n",
    "    granule_ur='GEDI_L3_LandSurface_Metrics_V2.GEDI03_elev_lowestmode_stddev_2019108_2020287_002_02.tif')\n",
    "# download first result\n",
    "local_dir = '/projects/local_data'  # Download directory (absolute path or relative to current directory)\n",
    "os.makedirs(local_dir, exist_ok=True) # Create directories, as necessary\n",
    "download = results[0].getData(local_dir)  # Default download directory is current directory, if no directory is given"
   ]
  },
  {
   "cell_type": "markdown",
   "id": "00dbf295",
   "metadata": {},
   "source": [
    "We can then use the `print` function to see the file name and directory."
   ]
  },
  {
   "cell_type": "code",
   "execution_count": 3,
   "id": "16325da1",
   "metadata": {},
   "outputs": [
    {
     "name": "stdout",
     "output_type": "stream",
     "text": [
      "/projects/local_data/GEDI03_elev_lowestmode_stddev_2019108_2020287_002_02.tif\n"
     ]
    }
   ],
   "source": [
    "# print path to downloaded file\n",
    "print(download)"
   ]
  }
 ],
 "metadata": {
  "kernelspec": {
   "display_name": "Python 3 (ipykernel)",
   "language": "python",
   "name": "python3"
  },
  "language_info": {
   "codemirror_mode": {
    "name": "ipython",
    "version": 3
   },
   "file_extension": ".py",
   "mimetype": "text/x-python",
   "name": "python",
   "nbconvert_exporter": "python",
   "pygments_lexer": "ipython3",
   "version": "3.7.8"
  }
 },
 "nbformat": 4,
 "nbformat_minor": 5
}
