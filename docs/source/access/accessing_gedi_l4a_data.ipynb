{
 "cells": [
  {
   "cell_type": "markdown",
   "id": "7872f012",
   "metadata": {},
   "source": [
    "## Accessing Global Ecosystem Dynamics Investigation (GEDI) Level 4A Granule Data\n",
    "\n",
    "In this example, we demonstrate how to access GEDI Level 4A granule data on the MAAP ADE.\n",
    "\n",
    "Within your Jupyter Notebook, start by importing the `maap` package. Then invoke the MAAP, setting the `maap_host` argument to `api.ops.maap-project.org`."
   ]
  },
  {
   "cell_type": "code",
   "execution_count": 1,
   "id": "c623a405",
   "metadata": {},
   "outputs": [],
   "source": [
    "# import the maap package to handle queries\n",
    "from maap.maap import MAAP\n",
    "# invoke the MAAP using the MAAP host argument\n",
    "maap = MAAP(maap_host='api.ops.maap-project.org')"
   ]
  },
  {
   "cell_type": "markdown",
   "id": "b19badfc",
   "metadata": {},
   "source": [
    "Search for a granule using the `searchGranule` function (for more information on searching for granules, see [Searching for Granules in MAAP](https://docs.maap-project.org/en/latest/search/granules.html)). Note that we can use `searchGranule`'s `cmr_host` argument to specify `cmr.maap-project.org` as the CMR instance. Then utilize the `getData` function, which downloads granule data if it doesn't already exist locally. We can use `getData` to download the first result from our granule search into the file system and assign it to a variable (in this case `download`)."
   ]
  },
  {
   "cell_type": "code",
   "execution_count": 2,
   "id": "fdcabae0",
   "metadata": {},
   "outputs": [],
   "source": [
    "# search for granule data using CMR host name, collection concept ID, and Granule UR arguments\n",
    "results = maap.searchGranule(\n",
    "    cmr_host='cmr.maap-project.org',\n",
    "    collection_concept_id='C1202028193-NASA_MAAP',\n",
    "    granule_ur='GEDI_L4A_AGB_Density_V2_1.GEDI04_A_2019107224731_O01958_01_T02638_02_002_02_V002.h5')\n",
    "# download first result\n",
    "download = results[0].getData()"
   ]
  },
  {
   "cell_type": "markdown",
   "id": "89ffc936",
   "metadata": {},
   "source": [
    "We can then use the `print` function to see the file name and directory."
   ]
  },
  {
   "cell_type": "code",
   "execution_count": 3,
   "id": "69030c0a",
   "metadata": {},
   "outputs": [
    {
     "name": "stdout",
     "output_type": "stream",
     "text": [
      "./GEDI04_A_2019107224731_O01958_01_T02638_02_002_02_V002.h5\n"
     ]
    }
   ],
   "source": [
    "# print file directory\n",
    "print(download)"
   ]
  }
 ],
 "metadata": {
  "kernelspec": {
   "display_name": "Python 3 (ipykernel)",
   "language": "python",
   "name": "python3"
  },
  "language_info": {
   "codemirror_mode": {
    "name": "ipython",
    "version": 3
   },
   "file_extension": ".py",
   "mimetype": "text/x-python",
   "name": "python",
   "nbconvert_exporter": "python",
   "pygments_lexer": "ipython3",
   "version": "3.7.8"
  }
 },
 "nbformat": 4,
 "nbformat_minor": 5
}
