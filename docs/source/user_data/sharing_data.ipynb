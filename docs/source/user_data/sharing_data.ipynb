{
 "cells": [
  {
   "cell_type": "markdown",
   "metadata": {},
   "source": [
    "## Sharing Data Products to the MAAP Common Metadata Repository (CMR)"
   ]
  },
  {
   "cell_type": "markdown",
   "metadata": {},
   "source": [
    "This example demonstrates how to share files to the MAAP CMR that have been generated on or uploaded to a local Algorithm Development Environment (ADE)."
   ]
  },
  {
   "cell_type": "markdown",
   "metadata": {},
   "source": [
    "We import the `MAAP` package, import the `os` module, and create a new MAAP class."
   ]
  },
  {
   "cell_type": "code",
   "execution_count": 1,
   "metadata": {},
   "outputs": [],
   "source": [
    "# import the MAAP package\n",
    "from maap.maap import MAAP\n",
    "\n",
    "# import the os module\n",
    "import os\n",
    "\n",
    "# create MAAP class\n",
    "maap = MAAP()"
   ]
  },
  {
   "cell_type": "markdown",
   "metadata": {},
   "source": [
    "For this example, we have a Cloud Optimized GeoTIFF (COG) file within a directory named \"data\" that we wish to share. We set a data directory (in this case \"data\") and then use it to create a list of desired files within our directory (in this case, those files ending with \".tif\"). Note that the argument within `f.endswith()` will change depending on the type of files we wish to share. We can display the list of the files to verify the directories within the list are correct."
   ]
  },
  {
   "cell_type": "code",
   "execution_count": 5,
   "metadata": {},
   "outputs": [
    {
     "data": {
      "text/plain": [
       "['data/ndvi_cog_example.tif']"
      ]
     },
     "execution_count": 5,
     "metadata": {},
     "output_type": "execute_result"
    }
   ],
   "source": [
    "# set data directory\n",
    "path = 'data'\n",
    "\n",
    "# create a list of files within our data directory which end with '.tif' \n",
    "files = [f\"{path}/{f}\" for f in os.listdir(path) if f.endswith('.tif')]\n",
    "\n",
    "# display the list of files\n",
    "files"
   ]
  },
  {
   "cell_type": "markdown",
   "metadata": {},
   "source": [
    "We then call `maap.uploadFiles()` with a list of one or more file names corresponding to the desired files uploaded to the ADE workspace (in this case, `files` or `['data/ndvi_cog_example.tif']`). This returns a uuid corresponding to the unique directory where the files were uploaded in a MAAP AWS S3 bucket."
   ]
  },
  {
   "cell_type": "code",
   "execution_count": 9,
   "metadata": {},
   "outputs": [
    {
     "data": {
      "text/plain": [
       "'Upload file subdirectory: d410efed-fba5-4c38-8d8e-c145b8f51f0d (keep a record of this if you want to share these files with other users)'"
      ]
     },
     "execution_count": 9,
     "metadata": {},
     "output_type": "execute_result"
    }
   ],
   "source": [
    "# returns uuid corresponding to the unique directory where the files were uploaded in a MAAP AWS S3 bucket\n",
    "maap.uploadFiles(files)"
   ]
  },
  {
   "cell_type": "markdown",
   "metadata": {},
   "source": [
    "This uuid is used to generate metadata for these files when the user completes the “User metadata form”."
   ]
  },
  {
   "cell_type": "markdown",
   "metadata": {},
   "source": [
    "Access the “User metadata form” by clicking \"Share your own data\" on the Commands tab of the JupyterLab sidebar. Once the form has been completed, a draft of collection metadata will be available in the Metadata Management Tool (MMT). The data team will be alerted to the new draft of collection metadata and a data member will review it. If deemed acceptable, the data team member publishes the metadata. This will trigger the data associated with the data processing job IDs or upload directory ID to be ingested and published to the MAAP data store and MAAP CMR. Note that while data can be in any format for ingest, the auto-generation of temporal and spatial metadata is only supported for HDF and GeoTiff formats."
   ]
  },
  {
   "cell_type": "markdown",
   "metadata": {},
   "source": [
    "Please refer to the following video for a demonstration of sharing data to the MAAP CMR, including the next steps to take after running code similar to the above example."
   ]
  },
  {
   "cell_type": "markdown",
   "metadata": {},
   "source": [
    "[MAAP User-Shared Data WF.mov](https://drive.google.com/file/d/1l2LoGR8qA70zyTV0pw0bpqifnmbsO-tW/view?usp=sharing)"
   ]
  }
 ],
 "metadata": {
  "kernelspec": {
   "display_name": "Python 3",
   "language": "python",
   "name": "python3"
  },
  "language_info": {
   "codemirror_mode": {
    "name": "ipython",
    "version": 3
   },
   "file_extension": ".py",
   "mimetype": "text/x-python",
   "name": "python",
   "nbconvert_exporter": "python",
   "pygments_lexer": "ipython3",
   "version": "3.7.4"
  }
 },
 "nbformat": 4,
 "nbformat_minor": 4
}
