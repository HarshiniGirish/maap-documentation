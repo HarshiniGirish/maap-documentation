{
 "cells": [
  {
   "cell_type": "markdown",
   "metadata": {},
   "source": [
    "## Sharing Data Products to the MAAP Data Store"
   ]
  },
  {
   "cell_type": "markdown",
   "metadata": {},
   "source": [
    "This example demonstrates how to share files to the MAAP data store that have been generated on or uploaded to a local Algorithm Development Environment (ADE)."
   ]
  },
  {
   "cell_type": "markdown",
   "metadata": {},
   "source": [
    "We start by importing the `MAAP` package, importing the `os` module, and creating a new MAAP class."
   ]
  },
  {
   "cell_type": "code",
   "execution_count": 1,
   "metadata": {},
   "outputs": [],
   "source": [
    "# import the MAAP package\n",
    "from maap.maap import MAAP\n",
    "\n",
    "# import the os module\n",
    "import os\n",
    "\n",
    "# create MAAP class\n",
    "maap = MAAP()"
   ]
  },
  {
   "cell_type": "markdown",
   "metadata": {},
   "source": [
    "For this example, we use the Cloud Optimized GeoTIFF (COG) files located within a directory named \"shared-buckets/alexdevseed/cog-tests\" that we wish to share. We set a variable to the data directory (in this case `'/projects/shared-buckets/alexdevseed/cog-tests'`) and then use it to create a list of file names. Note that the argument within `f.endswith()` will change depending on the type of files we wish to share. In the code block below, we display the file list to verify that the directories within the list are correct."
   ]
  },
  {
   "cell_type": "code",
   "execution_count": 2,
   "metadata": {},
   "outputs": [
    {
     "data": {
      "text/plain": [
       "['/projects/shared-buckets/alexdevseed/cog-tests/Landsat8_275_comp_cog_2015-2020_dps.tif',\n",
       " '/projects/shared-buckets/alexdevseed/cog-tests/boreal_agb_20211015_0249_cog-ovr3.tif',\n",
       " '/projects/shared-buckets/alexdevseed/cog-tests/boreal_agb_20211015_0249_cog-ovr4.tif',\n",
       " '/projects/shared-buckets/alexdevseed/cog-tests/boreal_agb_20211015_0249_cog-ovr6.tif',\n",
       " '/projects/shared-buckets/alexdevseed/cog-tests/boreal_agb_20211015_0249_cog-ovr8.tif',\n",
       " '/projects/shared-buckets/alexdevseed/cog-tests/boreal_agb_20211015_0249_cog-s3o8.tif',\n",
       " '/projects/shared-buckets/alexdevseed/cog-tests/boreal_agb_20211015_0249_cog.tif']"
      ]
     },
     "execution_count": 2,
     "metadata": {},
     "output_type": "execute_result"
    }
   ],
   "source": [
    "# set data directory\n",
    "path = '/projects/shared-buckets/alexdevseed/cog-tests'\n",
    "\n",
    "# create a list of files within our data directory which end with '.tif'\n",
    "files = [f\"{path}/{f}\" for f in os.listdir(path) if f.endswith('.tif')]\n",
    "\n",
    "# display the list of files\n",
    "files"
   ]
  },
  {
   "cell_type": "markdown",
   "metadata": {},
   "source": [
    "Then we call the function `maap.uploadFiles()`, passing the list of file names from the ADE workspace as the argument. This returns a universally unique identifier (uuid) corresponding to the unique directory where the files were uploaded within an Amazon Web Services (AWS) Simple Storage Service (S3) bucket."
   ]
  },
  {
   "cell_type": "code",
   "execution_count": 3,
   "metadata": {},
   "outputs": [
    {
     "data": {
      "text/plain": [
       "'Upload file subdirectory: 318d3060-cbb3-4d66-bc06-c6c05b71f095 (keep a record of this if you want to share these files with other users)'"
      ]
     },
     "execution_count": 3,
     "metadata": {},
     "output_type": "execute_result"
    }
   ],
   "source": [
    "# returns uuid corresponding to the unique directory where\n",
    "# the files were uploaded within a MAAP AWS S3 bucket\n",
    "maap.uploadFiles(files)"
   ]
  },
  {
   "cell_type": "markdown",
   "metadata": {},
   "source": [
    "This uuid is used to generate metadata for these files after the user completes the MAAP User Shared Data Questionnaire. The metadata provides descriptive information for data identification and discovery. This questionnaire must be filled out in order for the shared data to appear in the data store.\n",
    "The MAAP User Shared Data Questionnaire may be accessed by clicking \"Open User Metadata Form\" on the Commands tab of the JuyterLab sidebar. \n",
    "\n",
    "![Open User Metadata Form](../_static/open_user_metadata_form.png)"
   ]
  },
  {
   "cell_type": "markdown",
   "metadata": {},
   "source": [
    "The questionnaire contains fields to fill out concerning information about the collection and the data, related URLs, keywords, and temporal and spatial extents. \n",
    "\n",
    "![MAAP User Shared Data Questionnaire](../_static/maap_user_shared_data_questionnaire.png)\n",
    "\n",
    "When completing the fields within the questionnaire, use the uuid corresponding to the directory where the files were uploaded for the \"Upload Directory\" field.\n",
    "\n",
    "![Upload Directory](../_static/upload_directory.png)\n",
    "\n",
    "Go through the sections of the questionnaire, filling out all of the necessary information. Once the questionnaire has been completed, a message should appear showing that the questionnaire response has been received. \n",
    "\n",
    "![Questionnaire response received!](../_static/questionnaire_response_received.png)\n",
    "\n",
    "At this point, the data team will be alerted, and a team member will review the generated metadata. After successful review, the team member will publish the metadata. This will trigger the data associated with the data processing job IDs or upload directory ID to be ingested and published to the MAAP data store and MAAP Common Metadata Repository (CMR). Note that while data can be in any format for ingest, the auto-generation of temporal and spatial metadata is only supported for HDF and GeoTIFF formats."
   ]
  }
 ],
 "metadata": {
  "kernelspec": {
   "display_name": "Python 3 (ipykernel)",
   "language": "python",
   "name": "python3"
  },
  "language_info": {
   "codemirror_mode": {
    "name": "ipython",
    "version": 3
   },
   "file_extension": ".py",
   "mimetype": "text/x-python",
   "name": "python",
   "nbconvert_exporter": "python",
   "pygments_lexer": "ipython3",
   "version": "3.7.8"
  }
 },
 "nbformat": 4,
 "nbformat_minor": 4
}
