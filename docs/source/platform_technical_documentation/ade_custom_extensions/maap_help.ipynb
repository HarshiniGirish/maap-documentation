{
 "cells": [
  {
   "cell_type": "markdown",
   "metadata": {},
   "source": [
    "# Maap Help Jupyter Extension\n",
    "This Jupyter extension creates an interactive tutorial on a new user's first launch of the ADE and adds MAAP specific information to the help tab. The interactive tutorial can be accessed again, even after pressing \"don't show me again\" or completing the tour, from the help menu. "
   ]
  },
  {
   "cell_type": "markdown",
   "metadata": {},
   "source": [
    "## Access \n",
    "1. Launch the ADE for your first time as a new user, and see the MAAP tour notification \n",
    "\n",
    "![](../../_static/maap_help/tour_notification.png)\n",
    "\n",
    "2. Step through the tour with the \"next\" button. Once you finish the tour, press skip during the tour, or press \"don't show me again\", the MAAP tour will no longer appear on launch. \n",
    "\n",
    "![](../../_static/maap_help/tour_intro.png)\n",
    "\n",
    "3. You can revisit the tour from the help menu and also see MAAP specific help information\n",
    "\n",
    "![](../../_static/maap_help/help_menu.png)"
   ]
  }
 ],
 "metadata": {
  "kernelspec": {
   "display_name": "Python 3.11.1 64-bit",
   "language": "python",
   "name": "python3"
  },
  "language_info": {
   "name": "python",
   "version": "3.11.1"
  },
  "orig_nbformat": 4,
  "vscode": {
   "interpreter": {
    "hash": "5c7b89af1651d0b8571dde13640ecdccf7d5a6204171d6ab33e7c296e100e08a"
   }
  }
 },
 "nbformat": 4,
 "nbformat_minor": 2
}
