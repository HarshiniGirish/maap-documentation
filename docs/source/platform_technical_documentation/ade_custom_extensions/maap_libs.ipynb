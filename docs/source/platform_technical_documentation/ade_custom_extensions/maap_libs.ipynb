{
 "cells": [
  {
   "cell_type": "markdown",
   "id": "bb4016ea-296b-430a-8b6e-2cc35db54701",
   "metadata": {},
   "source": [
    "# MAAP Libraries\n",
    "\n",
    "This jupyter extension generates boilerplate code that imports and initailizes MAAP libraries for usage in jupyter notebooks. It currently supports the maap-py client library and ipycmc."
   ]
  },
  {
   "cell_type": "markdown",
   "id": "240b2767-c352-43ff-96ff-8852713d788b",
   "metadata": {
    "tags": []
   },
   "source": [
    "## Access\n",
    "\n",
    "1. Open your workspace.\n",
    "2. Create a jupyter notebook from the launcher pane.\n",
    "\n",
    "![](../../_static/maap_libs/maap_libs_launcher.png)\n",
    "\n",
    "3. Click on the __MAAP__ icon.\n",
    "\n",
    "![](../../_static/maap_libs/maap_libs_icon.png)\n",
    "\n",
    "4. The jupyter notebook will be populated with the following code block.\n",
    "\n",
    "![](../../_static/maap_libs/maap_libs_code.png)"
   ]
  }
 ],
 "metadata": {
  "kernelspec": {
   "display_name": "Python 3",
   "language": "python",
   "name": "python3"
  },
  "language_info": {
   "codemirror_mode": {
    "name": "ipython",
    "version": 3
   },
   "file_extension": ".py",
   "mimetype": "text/x-python",
   "name": "python",
   "nbconvert_exporter": "python",
   "pygments_lexer": "ipython3",
   "version": "3.9.1"
  }
 },
 "nbformat": 4,
 "nbformat_minor": 5
}