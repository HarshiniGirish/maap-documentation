{
 "cells": [
  {
   "cell_type": "markdown",
   "metadata": {},
   "source": [
    "## Welcome"
   ]
  },
  {
   "cell_type": "markdown",
   "metadata": {},
   "source": [
    "**Welcome** to the user documentation for the **Multi-Mission Algorithm and Analysis Platform (MAAP)**, a collaborative NASA/ESA project for the support of aboveground biomass research. \n",
    "\n",
    "The MAAP platform is designed to combine data, algorithms, and computational abilities for the processing and sharing of data related to NASA’s GEDI, ESA’s BIOMASS, and NASA/ISRO’s NISAR missions. These missions generate vastly greater amounts of data than previous Earth observation missions. Due to the high data volume, as well as the data being collected from varied satellites, aircraft, and ground stations with different resolutions, coverages, and processing levels, there are unique challenges to processing, storing, and sharing the relevant data. \n",
    "\n",
    "MAAP aims to address these challenges by making it easier to discover and use biomass relevant data, integrating the data for comparison, analysis, evaluation, and generation. An algorithm development environment (ADE) is used to create repeatable and sharable science tools for the research community. The software is open source and adheres to ESA’s and NASA’s commitment to open data.\n",
    "\n",
    "NASA and ESA are collaborating to further the interoperability of biomass relevant data and metadata. Tools have been developed to support a new approach to data stewardship and there is a data publication workflow for organizing and storing data and generating metadata to be discoverable in a cloud-based centralized location. The platform and data stewardship approaches are designed to ease barriers and promote collaboration between researchers, providers, curators, and experts across NASA and ESA.\n",
    "\n",
    "This guide aims to help users get started with using the platform for searching, visualizing, accessing, processing, querying, and sharing biomass relevant data to the MAAP. These data, collected from satellites, aircraft, and ground stations, are organized into collections and granules. Collections are a grouping of files that share the same product specification. Granules are the individual files which are independently described, inventoried, and retrieved within a collection. Granules inherit additional attributes from their containing collection. Explanations of the various functions available in MAAP to use in the ADE will also be explored.\n",
    "\n",
    "The following is a non-comprehensive list of concepts to be covered in the completed version of this guide:"
   ]
  },
  {
   "cell_type": "markdown",
   "metadata": {},
   "source": [
    "Help and Support\n",
    "\n",
    "- Known Issues\n",
    "- Getting Help\n",
    "- Using Help\n",
    "- Technical Support\n",
    "- Checking Updates\n",
    "\n",
    "Getting Started\n",
    "\n",
    "- Launching \n",
    "    \n",
    "    - Notebook\n",
    "    - Console\n",
    "    - Other  \n",
    "\n",
    "- Searching\n",
    "\n",
    "    - Searching Granules\n",
    "    - Searching Collections\n",
    "    - Searching Using the Earthdata Search Client\n",
    "    - Searching Using the Earthdata Search Client via MAAP ADE \n",
    "    - Searching the GEDI Cal/Val Database\n",
    "    - Searching for and Compiling a List of Granule IDs for Batch Processing\n",
    "    - Available CMR Collections in MAAP  \n",
    "    \n",
    "- Visualizing\n",
    "\n",
    "    - Visualizing Web Map Tile Service (WMTS) Layers  \n",
    "    \n",
    "- Accessing\n",
    "\n",
    "    - Accessing Data from the MAAP\n",
    "    \n",
    "- Processing\n",
    "    \n",
    "    - Creating a Normalized Difference Vegetation Index (NDVI) Cloud Optimized GeoTIFF (COG)\n",
    "    \n",
    "- Querying\n",
    "\n",
    "    - Querying Data from the MAAP via MAAP API\n",
    "    - Querying Data from the MAAP via Python Client\n",
    "    \n",
    "- Sharing\n",
    "\n",
    "    - Sharing Data Products to the MAAP Data Store\n",
    "\n",
    "Settings\n",
    "\n",
    "- Advanced Settings Editor\n",
    "\n",
    "Public functions available in MAAP \n",
    "\n",
    "- `config`\n",
    "- `executeQuery`\n",
    "- `getCallFromEarthdataQuery`\n",
    "- `getJobStatus`\n",
    "- `registerAlgorithm`\n",
    "- `searchCollection`\n",
    "- `searchGranule`\n",
    "- `show`\n",
    "- `uploadFiles`\n",
    "\n",
    "Notebook Tools\n",
    "\n",
    "Acknowledgements"
   ]
  }
 ],
 "metadata": {
  "kernelspec": {
   "display_name": "Python 3",
   "language": "python",
   "name": "python3"
  },
  "language_info": {
   "codemirror_mode": {
    "name": "ipython",
    "version": 3
   },
   "file_extension": ".py",
   "mimetype": "text/x-python",
   "name": "python",
   "nbconvert_exporter": "python",
   "pygments_lexer": "ipython3",
   "version": "3.7.4"
  }
 },
 "nbformat": 4,
 "nbformat_minor": 4
}
