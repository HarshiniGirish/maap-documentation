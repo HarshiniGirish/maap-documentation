{
 "cells": [
  {
   "cell_type": "markdown",
   "metadata": {},
   "source": [
    "## Create Workspace\n",
    "Navigate to the side panel tab `Workspaces` and click `Add Workspace`. Name your workspace, choose your stack and the amount of RAM you will need. Make sure you pay close attention to the Organization you start the workspace in. This is something that cannot be changed, and will affect who you are able to share the workspace with!\n",
    "\n",
    "If you want to add a git project, you may do this when creating the workspace, or add after creation."
   ]
  }
 ],
 "metadata": {
  "kernelspec": {
   "display_name": "",
   "name": ""
  },
  "language_info": {
   "name": ""
  }
 },
 "nbformat": 4,
 "nbformat_minor": 4
}
