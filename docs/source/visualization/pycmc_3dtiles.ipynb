{
 "cells": [
  {
   "cell_type": "code",
   "execution_count": 10,
   "id": "33263585",
   "metadata": {},
   "outputs": [],
   "source": [
    "# import the MAAP package\n",
    "from maap.maap import MAAP\n",
    "import ipycmc\n",
    "\n",
    "# import printing package to help display outputs\n",
    "from pprint import pprint\n",
    "\n",
    "# create MAAP class\n",
    "maap = MAAP()"
   ]
  },
  {
   "cell_type": "markdown",
   "id": "729e630f",
   "metadata": {},
   "source": [
    "# Visualizing 3D Tiles\n",
    "\n",
    "The ATL08 V003 product is available as an Entwine Point Tile Store. You can read more about the tile store and how to query it in the [Querying ATL08 Entwine Point Tiles Notebook\n",
    "](https://docs.maap-project.org/en/latest/query/testing-ept-stores.html). This notebook demonstrates how to visualize 3D Tiles using `ipyCMC`, a Jupyter Lab widget for the Common Mapping Client (CMC). The CMC is a starter-kit for web-based mapping applications which utilizes several common mapping funtionalities. "
   ]
  },
  {
   "cell_type": "markdown",
   "id": "d512037d",
   "metadata": {},
   "source": [
    "To get started, we do a search for granules in the `ATL08_ARD-beta` collection. The `_ARD-beta` suffix indicates that this is a \"beta\" (or prototype) product of \"analysis-ready data (ARD)\" for the MAAP."
   ]
  },
  {
   "cell_type": "code",
   "execution_count": 3,
   "id": "ec16cfa2",
   "metadata": {},
   "outputs": [],
   "source": [
    "atl08_ept_granules = maap.searchGranule(short_name=\"ATL08_ARD-beta\")"
   ]
  },
  {
   "cell_type": "markdown",
   "id": "84ceb419",
   "metadata": {},
   "source": [
    "We then select the first granule and check that it is the `global` granule. There are 2 other granules in this collection at this time which represent smaller data stores over the Peru and Afrisar regions of interest."
   ]
  },
  {
   "cell_type": "code",
   "execution_count": 6,
   "id": "80a2907e",
   "metadata": {},
   "outputs": [
    {
     "data": {
      "text/plain": [
       "True"
      ]
     },
     "execution_count": 6,
     "metadata": {},
     "output_type": "execute_result"
    }
   ],
   "source": [
    "global_atl08 = atl08_ept_granules[0]['Granule']\n",
    "global_atl08['GranuleUR'] == 'ATL08_ARD-beta.global'"
   ]
  },
  {
   "cell_type": "code",
   "execution_count": 9,
   "id": "4e5976a6",
   "metadata": {},
   "outputs": [
    {
     "data": {
      "text/plain": [
       "'G1200352824-NASA_MAAP'"
      ]
     },
     "execution_count": 9,
     "metadata": {},
     "output_type": "execute_result"
    }
   ],
   "source": [
    "global_atl08_granule_id = atl08_ept_granules[0]['concept-id']\n",
    "global_atl08_granule_id"
   ]
  },
  {
   "cell_type": "markdown",
   "id": "69384679",
   "metadata": {},
   "source": [
    "Instantiate the map by calling `ipycmc.MapCMC()`."
   ]
  },
  {
   "cell_type": "code",
   "execution_count": 11,
   "id": "c1165785",
   "metadata": {},
   "outputs": [
    {
     "data": {
      "application/vnd.jupyter.widget-view+json": {
       "model_id": "ec64d5019af14db3926af782d74dc4c2",
       "version_major": 2,
       "version_minor": 0
      },
      "text/plain": [
       "MapCMC()"
      ]
     },
     "metadata": {},
     "output_type": "display_data"
    }
   ],
   "source": [
    "w = ipycmc.MapCMC()\n",
    "w"
   ]
  },
  {
   "cell_type": "markdown",
   "id": "6b35c99d",
   "metadata": {},
   "source": [
    "Load the 3d-layer and **switch to the 3D map view bu clicking the globe icon**."
   ]
  },
  {
   "cell_type": "code",
   "execution_count": 12,
   "id": "99fc87a9",
   "metadata": {},
   "outputs": [],
   "source": [
    "w.load_layer_config(f\"https://cmr.maap-project.org/search/concepts/{global_atl08_granule_id}.json\", \"json\", {\"handleAs\": \"vector-3d-tile\"})"
   ]
  }
 ],
 "metadata": {
  "kernelspec": {
   "display_name": "Python 3",
   "language": "python",
   "name": "python3"
  },
  "language_info": {
   "codemirror_mode": {
    "name": "ipython",
    "version": 3
   },
   "file_extension": ".py",
   "mimetype": "text/x-python",
   "name": "python",
   "nbconvert_exporter": "python",
   "pygments_lexer": "ipython3",
   "version": "3.7.8"
  }
 },
 "nbformat": 4,
 "nbformat_minor": 5
}
