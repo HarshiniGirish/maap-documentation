{
 "cells": [
  {
   "cell_type": "markdown",
   "metadata": {},
   "source": [
    "## Visualizing Web Map Tile Service (WMTS) Layers"
   ]
  },
  {
   "cell_type": "markdown",
   "metadata": {},
   "source": [
    "Here is an example of how to visualize WMTS layers using pyCMC"
   ]
  },
  {
   "cell_type": "code",
   "execution_count": 1,
   "metadata": {},
   "outputs": [],
   "source": [
    "# Import the ipycmc module\n",
    "import ipycmc"
   ]
  },
  {
   "cell_type": "markdown",
   "metadata": {},
   "source": [
    "We utilize the Common Mapping Client (CMC) widget to visualize data in the MAAP Algorithm Development Environment (ADE)"
   ]
  },
  {
   "cell_type": "code",
   "execution_count": 2,
   "metadata": {},
   "outputs": [
    {
     "data": {
      "application/vnd.jupyter.widget-view+json": {
       "model_id": "a263e522f3b24eb0b8591aced0a1e9a9",
       "version_major": 2,
       "version_minor": 0
      },
      "text/plain": [
       "MapCMC()"
      ]
     },
     "metadata": {},
     "output_type": "display_data"
    }
   ],
   "source": [
    "# utilize the CMC widget\n",
    "w = ipycmc.MapCMC()\n",
    "w"
   ]
  },
  {
   "cell_type": "markdown",
   "metadata": {},
   "source": [
    "The CMC user interface allows us to turn map layers on and off, manage their positioning and opacity, and zoom to layers using the Map Layers drop-down menu. There are also tools to allow us to zoom to the global extent, zoom in and out, switch between 2D and 3D maps, select areas, select basemaps, and toggle full screen mode. At the bottom left of the user interface, there is a text box allowing us to change the date and time and arrows to change the day. At the bottom right, the cursor location on the map is displayed in Latitude/Longitude decimal degrees."
   ]
  },
  {
   "cell_type": "markdown",
   "metadata": {},
   "source": [
    "### Visualizing the Default Layers\n",
    "\n",
    "To visualize the default set of layers, we utilize the `load_layer_config()` method, handling the url as a WMTS xml file"
   ]
  },
  {
   "cell_type": "code",
   "execution_count": 3,
   "metadata": {},
   "outputs": [],
   "source": [
    "# visualize the default set of layers\n",
    "w.load_layer_config(\"https://api.maap-project.org/api/wmts/GetCapabilities\", \"wmts/xml\")"
   ]
  },
  {
   "cell_type": "markdown",
   "metadata": {},
   "source": [
    "Once the layers load, the number displayed in the Map Layers drop-down menu should increase. Pressing the downward arrow on the drop-down menu displays the loaded layers. Turn the layers on and off by pressing the toggle to the left of the layer names and zoom to a layer by pressing the crosshair button."
   ]
  },
  {
   "cell_type": "markdown",
   "metadata": {},
   "source": [
    "### Visualizing Single Granules"
   ]
  },
  {
   "cell_type": "markdown",
   "metadata": {},
   "source": [
    "We can also visualize a single granule by using the granule UR with the `load_layer_config()` method and handling the url as a WMTS file."
   ]
  },
  {
   "cell_type": "code",
   "execution_count": 4,
   "metadata": {},
   "outputs": [],
   "source": [
    "# visualize a single granule using the granule UR\n",
    "w.load_layer_config(\"https://api.maap-project.org/api/wmts/GetCapabilities?granule_ur=SC:AFLVIS2.001:138348905\", \"wmts/xml\")"
   ]
  },
  {
   "cell_type": "markdown",
   "metadata": {},
   "source": [
    "This example here shows how we can add a layer by providing a granule UR. These granule URs can be extracted from the metadata by searching using CMR and the MAAP API. Please see the search granule example for specifics on how to search for granules and extract the UR."
   ]
  }
 ],
 "metadata": {
  "kernelspec": {
   "display_name": "Python 3",
   "language": "python",
   "name": "python3"
  },
  "language_info": {
   "codemirror_mode": {
    "name": "ipython",
    "version": 3
   },
   "file_extension": ".py",
   "mimetype": "text/x-python",
   "name": "python",
   "nbconvert_exporter": "python",
   "pygments_lexer": "ipython3",
   "version": "3.7.5"
  }
 },
 "nbformat": 4,
 "nbformat_minor": 4
}
