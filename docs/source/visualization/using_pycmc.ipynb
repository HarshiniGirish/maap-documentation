{
 "cells": [
  {
   "cell_type": "markdown",
   "metadata": {},
   "source": [
    "# Using pyCMC to visualize WMTS layers"
   ]
  },
  {
   "cell_type": "code",
   "execution_count": 1,
   "metadata": {},
   "outputs": [
    {
     "data": {
      "application/vnd.jupyter.widget-view+json": {
       "model_id": "f659ef0bd8de403cb1d9876904edcc23",
       "version_major": 2,
       "version_minor": 0
      },
      "text/plain": [
       "MapCMC()"
      ]
     },
     "metadata": {},
     "output_type": "display_data"
    }
   ],
   "source": [
    "from maap.maap import MAAP\n",
    "maap = MAAP()\n",
    "\n",
    "import ipycmc\n",
    "w = ipycmc.MapCMC()\n",
    "w"
   ]
  },
  {
   "cell_type": "code",
   "execution_count": 2,
   "metadata": {},
   "outputs": [],
   "source": [
    "w.load_layer_config(\"https://api.maap-project.org/api/wmts/GetCapabilities\", \"wmts/xml\")"
   ]
  },
  {
   "cell_type": "code",
   "execution_count": 3,
   "metadata": {},
   "outputs": [],
   "source": [
    "w.load_layer_config(\n",
    "  \"https://api.maap-project.org/api/wmts/GetCapabilities?granule_ur=SC:AFLVIS2.001:138348905\", \"wmts/xml\"\n",
    ")\n"
   ]
  },
  {
   "cell_type": "code",
   "execution_count": null,
   "metadata": {},
   "outputs": [],
   "source": [
    "import json\n",
    "from maap.maap import MAAP\n",
    "maap = MAAP()\n",
    "\n",
    "collection  = { \n",
    "  \"Collection\": { \n",
    "      \"ShortName\": \"GEDI Cal/Val Field Data_1\", \n",
    "      \"VersionId\": \"001\" \n",
    "  } \n",
    "}\n",
    "\n",
    "response = maap.executeQuery( \n",
    "  src=collection, \n",
    "  query={ \n",
    "    \"bbox\": [9.31, 0.53, 9.32, 0.54], \n",
    "    \"fields\": [\"project\"],\n",
    "  }\n",
    ")\n",
    "if (response.headers.get(\"Content-Type\") is \"application/json\"):\n",
    "    data = response.json()\n",
    "else:\n",
    "    data = response.text\n",
    "\n",
    "print(json.dumps(json.loads(data)[0], indent=2))\n"
   ]
  },
  {
   "cell_type": "code",
   "execution_count": null,
   "metadata": {},
   "outputs": [],
   "source": [
    "response = maap.executeQuery( \n",
    "  src=collection, \n",
    "  query={ \n",
    "    \"bbox\": [9.31, 0.53, 9.32, 0.54],\n",
    "    \"where\": {\n",
    "        \"project\": \"gabon_mondah\"\n",
    "    }\n",
    "  }\n",
    ")\n",
    "if (response.headers.get(\"Content-Type\") is \"application/json\"):\n",
    "    data = response.json()\n",
    "else:\n",
    "    data = response.text\n",
    "\n",
    "print(json.dumps(json.loads(data)[0], indent=2))\n"
   ]
  },
  {
   "cell_type": "code",
   "execution_count": null,
   "metadata": {},
   "outputs": [],
   "source": [
    "maap.uploadFiles(['Mondah_AGB_50m.tif'])"
   ]
  },
  {
   "cell_type": "code",
   "execution_count": null,
   "metadata": {},
   "outputs": [],
   "source": [
    "funcs = [func for func in dir(maap) if not func.startswith('_')]\n",
    "print(\"Search functions available in MAAP: \\n-\\t{}\".format('\\n-\\t'.join(funcs)))"
   ]
  },
  {
   "cell_type": "code",
   "execution_count": null,
   "metadata": {},
   "outputs": [],
   "source": [
    "results = maap.searchCollection(keyword='')"
   ]
  },
  {
   "cell_type": "code",
   "execution_count": null,
   "metadata": {},
   "outputs": [],
   "source": [
    "results"
   ]
  },
  {
   "cell_type": "code",
   "execution_count": null,
   "metadata": {},
   "outputs": [],
   "source": [
    "%pylab inline"
   ]
  },
  {
   "cell_type": "code",
   "execution_count": null,
   "metadata": {},
   "outputs": [],
   "source": [
    "response = maap.searchGranule(site_name='Mondah Forest Gabon')"
   ]
  },
  {
   "cell_type": "code",
   "execution_count": null,
   "metadata": {},
   "outputs": [],
   "source": []
  }
 ],
 "metadata": {
  "kernelspec": {
   "display_name": "Python 3",
   "language": "python",
   "name": "python3"
  },
  "language_info": {
   "codemirror_mode": {
    "name": "ipython",
    "version": 3
   },
   "file_extension": ".py",
   "mimetype": "text/x-python",
   "name": "python",
   "nbconvert_exporter": "python",
   "pygments_lexer": "ipython3",
   "version": "3.7.5"
  }
 },
 "nbformat": 4,
 "nbformat_minor": 4
}
