{
 "cells": [
  {
   "cell_type": "markdown",
   "id": "aea5dbf0",
   "metadata": {},
   "source": [
    "# GEDI_L2B Search and Visualize"
   ]
  },
  {
   "cell_type": "markdown",
   "id": "85510306",
   "metadata": {},
   "source": [
    "Authors: Samuel Ayers (UAH), Sumant Jha (MSFC/USRA), Anish Bhusal (UAH), Alex Mandel (DevSeed), Aimee Barciauskas (DevSeed)\n",
    "\n",
    "Date: December 19, 2022\n",
    "\n",
    "Description: In this tutorial, we will use the integrated Earthdata search function in MAAP Algorithm Development Environment (ADE) to search for GEDI L2B data for an area of interest. We will then download some of this data and read its attributes in preparation for some analysis. We will perform a spatial subset on the data to reduce data volumes, and then make some basic plots of our data."
   ]
  },
  {
   "cell_type": "markdown",
   "id": "fc32d14a",
   "metadata": {},
   "source": [
    "## Run This Notebook\n",
    "To access and run this tutorial within MAAP's Algorithm Development Environment (ADE), please refer to the [\"Getting started with the MAAP\"](https://docs.maap-project.org/en/latest/getting_started/getting_started.html) section of our documentation.\n",
    "\n",
    "Disclaimer: it is highly recommended to run a tutorial within MAAP's ADE, which already includes packages specific to MAAP, such as maap-py. Running the tutorial outside of the MAAP ADE may lead to errors."
   ]
  },
  {
   "cell_type": "markdown",
   "id": "bde2f7a4",
   "metadata": {},
   "source": [
    "## About the Data\n",
    "\n",
    "GEDI L2B Canopy Cover and Vertical Profile Metrics Data Global Footprint Level V002\n",
    "\n",
    "This dataset provides Global Ecosystem Dynamics Investigation (GEDI) Level 2 (L2) data, which has the purpose of extracting biophysical metrics and consists of Canopy Cover and Vertical Profile Metrics. These metrics are derived from the L1B waveform, and include canopy cover, Plant Area Index (PAI), Plant Area Volume Density (PAVD), and Foliage Height Diversity (FHD). GEDI is attached to the International Space Station (ISS) and collects data globally between 51.6° N and 51.6° S latitudes at the highest resolution and densest sampling of any light detection and ranging (lidar) instrument in orbit to date; specifically, GEDI L2B data has a spatial resolution of 25m. (Source: [GEDI L2B CMR Search](https://cmr.earthdata.nasa.gov/search/concepts/C1908350066-LPDAAC_ECS.html))"
   ]
  },
  {
   "cell_type": "markdown",
   "id": "a250f29a",
   "metadata": {},
   "source": [
    "## Additional Resources\n",
    "- [GEDI_L2B Version 2 Dataset Landing Page](https://lpdaac.usgs.gov/products/gedi02_bv002/)\n",
    "- [GEDI Level 2 Version 2 User Guide](https://lpdaac.usgs.gov/documents/998/GEDI02_UserGuide_V21.pdf)\n",
    "- [The GEDI Website](https://gedi.umd.edu/)"
   ]
  },
  {
   "cell_type": "markdown",
   "id": "df929543",
   "metadata": {},
   "source": [
    "## Importing and Installing Packages\n",
    "\n",
    "We will begin by installing any packages we need and importing the packages that we will use."
   ]
  },
  {
   "cell_type": "markdown",
   "id": "228ce7da",
   "metadata": {},
   "source": [
    "**Prerequisites** \n",
    "\n",
    "* geopandas\n",
    "* folium"
   ]
  },
  {
   "cell_type": "code",
   "execution_count": 1,
   "id": "3500c37a",
   "metadata": {},
   "outputs": [
    {
     "name": "stdout",
     "output_type": "stream",
     "text": [
      "Requirement already satisfied: geopandas in /opt/conda/lib/python3.7/site-packages (0.10.2)\n",
      "Requirement already satisfied: pyproj>=2.2.0 in /opt/conda/lib/python3.7/site-packages (from geopandas) (3.2.1)\n",
      "Requirement already satisfied: shapely>=1.6 in /opt/conda/lib/python3.7/site-packages (from geopandas) (2.0.1)\n",
      "Requirement already satisfied: fiona>=1.8 in /opt/conda/lib/python3.7/site-packages (from geopandas) (1.9.4.post1)\n",
      "Requirement already satisfied: pandas>=0.25.0 in /opt/conda/lib/python3.7/site-packages (from geopandas) (1.3.1)\n",
      "Requirement already satisfied: cligj>=0.5 in /opt/conda/lib/python3.7/site-packages (from fiona>=1.8->geopandas) (0.7.2)\n",
      "Requirement already satisfied: importlib-metadata in /opt/conda/lib/python3.7/site-packages (from fiona>=1.8->geopandas) (4.8.1)\n",
      "Requirement already satisfied: certifi in /opt/conda/lib/python3.7/site-packages (from fiona>=1.8->geopandas) (2021.5.30)\n",
      "Requirement already satisfied: click-plugins>=1.0 in /opt/conda/lib/python3.7/site-packages (from fiona>=1.8->geopandas) (1.1.1)\n",
      "Requirement already satisfied: click~=8.0 in /opt/conda/lib/python3.7/site-packages (from fiona>=1.8->geopandas) (8.1.3)\n",
      "Requirement already satisfied: six in /opt/conda/lib/python3.7/site-packages (from fiona>=1.8->geopandas) (1.15.0)\n",
      "Requirement already satisfied: attrs>=19.2.0 in /opt/conda/lib/python3.7/site-packages (from fiona>=1.8->geopandas) (20.2.0)\n",
      "Requirement already satisfied: numpy>=1.17.3 in /opt/conda/lib/python3.7/site-packages (from pandas>=0.25.0->geopandas) (1.19.2)\n",
      "Requirement already satisfied: python-dateutil>=2.7.3 in /opt/conda/lib/python3.7/site-packages (from pandas>=0.25.0->geopandas) (2.8.2)\n",
      "Requirement already satisfied: pytz>=2017.3 in /opt/conda/lib/python3.7/site-packages (from pandas>=0.25.0->geopandas) (2021.1)\n",
      "Requirement already satisfied: typing-extensions>=3.6.4 in /opt/conda/lib/python3.7/site-packages (from importlib-metadata->fiona>=1.8->geopandas) (4.7.0)\n",
      "Requirement already satisfied: zipp>=0.5 in /opt/conda/lib/python3.7/site-packages (from importlib-metadata->fiona>=1.8->geopandas) (3.6.0)\n",
      "\u001b[33mWARNING: Running pip as the 'root' user can result in broken permissions and conflicting behaviour with the system package manager. It is recommended to use a virtual environment instead: https://pip.pypa.io/warnings/venv\u001b[0m\u001b[33m\n",
      "\u001b[0m\u001b[33mWARNING: You are using pip version 22.0.3; however, version 23.1.2 is available.\n",
      "You should consider upgrading via the '/opt/conda/bin/python3.7 -m pip install --upgrade pip' command.\u001b[0m\u001b[33m\n",
      "\u001b[0mRequirement already satisfied: folium in /opt/conda/lib/python3.7/site-packages (0.14.0)\n",
      "Requirement already satisfied: jinja2>=2.9 in /opt/conda/lib/python3.7/site-packages (from folium) (3.0.1)\n",
      "Requirement already satisfied: requests in /opt/conda/lib/python3.7/site-packages (from folium) (2.31.0)\n",
      "Requirement already satisfied: branca>=0.6.0 in /opt/conda/lib/python3.7/site-packages (from folium) (0.6.0)\n",
      "Requirement already satisfied: numpy in /opt/conda/lib/python3.7/site-packages (from folium) (1.19.2)\n",
      "Requirement already satisfied: MarkupSafe>=2.0 in /opt/conda/lib/python3.7/site-packages (from jinja2>=2.9->folium) (2.0.1)\n",
      "Requirement already satisfied: idna<4,>=2.5 in /opt/conda/lib/python3.7/site-packages (from requests->folium) (2.10)\n",
      "Requirement already satisfied: charset-normalizer<4,>=2 in /opt/conda/lib/python3.7/site-packages (from requests->folium) (3.1.0)\n",
      "Requirement already satisfied: urllib3<3,>=1.21.1 in /opt/conda/lib/python3.7/site-packages (from requests->folium) (1.25.11)\n",
      "Requirement already satisfied: certifi>=2017.4.17 in /opt/conda/lib/python3.7/site-packages (from requests->folium) (2021.5.30)\n",
      "\u001b[33mWARNING: Running pip as the 'root' user can result in broken permissions and conflicting behaviour with the system package manager. It is recommended to use a virtual environment instead: https://pip.pypa.io/warnings/venv\u001b[0m\u001b[33m\n",
      "\u001b[0m\u001b[33mWARNING: You are using pip version 22.0.3; however, version 23.1.2 is available.\n",
      "You should consider upgrading via the '/opt/conda/bin/python3.7 -m pip install --upgrade pip' command.\u001b[0m\u001b[33m\n",
      "\u001b[0m"
     ]
    }
   ],
   "source": [
    "# Uncomment the following lines to install these packages if you haven't already.\n",
    "!pip install geopandas\n",
    "!pip install folium"
   ]
  },
  {
   "cell_type": "code",
   "execution_count": 12,
   "id": "2aad9531",
   "metadata": {},
   "outputs": [],
   "source": [
    "from maap.maap import MAAP\n",
    "maap = MAAP(maap_host='api.ops.maap-project.org')\n",
    "import geopandas as gpd\n",
    "import folium\n",
    "import h5py\n",
    "import pandas\n",
    "import matplotlib\n",
    "import matplotlib.pyplot as plt\n",
    "import shapely\n",
    "import os"
   ]
  },
  {
   "cell_type": "markdown",
   "id": "6224dedf",
   "metadata": {},
   "source": [
    "## Search Data Using an AOI"
   ]
  },
  {
   "cell_type": "markdown",
   "id": "5f3e1aea",
   "metadata": {},
   "source": [
    "We will search and download GEDI L2B data using the bounding box of a vector AOI. Firstly, an AOI over the Shenandoah National Park will be created and then we will plot its location on a map."
   ]
  },
  {
   "cell_type": "code",
   "execution_count": 13,
   "id": "274ad4c8",
   "metadata": {},
   "outputs": [],
   "source": [
    "# Using bounding coordinates to create a polygon around Shenandoah National Park\n",
    "lon_coords = [-78.32129105072025, -78.04618813890727, -78.72985973163064, -79.0158578082679, -78.32129105072025]\n",
    "lat_coords = [38.88703610703791, 38.74909216350823, 37.88789051477522, 38.03177640342157, 38.88703610703791]\n",
    "\n",
    "polygon_geom = shapely.geometry.polygon.Polygon(zip(lon_coords, lat_coords))\n",
    "crs = 'epsg:4326'\n",
    "AOI = gpd.GeoDataFrame(index=[0], crs=crs, geometry=[polygon_geom])"
   ]
  },
  {
   "cell_type": "markdown",
   "id": "a6a0d36f",
   "metadata": {},
   "source": [
    "We can get the bounding box of the AOI so we can use it as a spatial limit on our data search. GeoPandas has a function for returning the spatial coordinates of a bounding box:"
   ]
  },
  {
   "cell_type": "code",
   "execution_count": 14,
   "id": "4cc14f86",
   "metadata": {},
   "outputs": [
    {
     "name": "stdout",
     "output_type": "stream",
     "text": [
      "minx =  -79.0158578082679\n",
      "miny =  37.88789051477522\n",
      "maxx =  -78.04618813890727\n",
      "maxy =  38.88703610703791\n"
     ]
    }
   ],
   "source": [
    "# Get the bounding box of the shp\n",
    "bbox = AOI.bounds\n",
    "# print the bounding box coords\n",
    "print('minx = ', bbox['minx'][0])\n",
    "print('miny = ', bbox['miny'][0])\n",
    "print('maxx = ', bbox['maxx'][0])\n",
    "print('maxy = ', bbox['maxy'][0])"
   ]
  },
  {
   "cell_type": "markdown",
   "id": "50c60f82",
   "metadata": {},
   "source": [
    "Let's look at our AOI on an interactive map using folium."
   ]
  },
  {
   "cell_type": "code",
   "execution_count": 15,
   "id": "f7109ea0",
   "metadata": {},
   "outputs": [
    {
     "data": {
      "text/html": [
       "<div style=\"width:100%;\"><div style=\"position:relative;width:100%;height:0;padding-bottom:60%;\"><span style=\"color:#565656\">Make this Notebook Trusted to load map: File -> Trust Notebook</span><iframe srcdoc=\"&lt;!DOCTYPE html&gt;\n",
       "&lt;html&gt;\n",
       "&lt;head&gt;\n",
       "    \n",
       "    &lt;meta http-equiv=&quot;content-type&quot; content=&quot;text/html; charset=UTF-8&quot; /&gt;\n",
       "    \n",
       "        &lt;script&gt;\n",
       "            L_NO_TOUCH = false;\n",
       "            L_DISABLE_3D = false;\n",
       "        &lt;/script&gt;\n",
       "    \n",
       "    &lt;style&gt;html, body {width: 100%;height: 100%;margin: 0;padding: 0;}&lt;/style&gt;\n",
       "    &lt;style&gt;#map {position:absolute;top:0;bottom:0;right:0;left:0;}&lt;/style&gt;\n",
       "    &lt;script src=&quot;https://cdn.jsdelivr.net/npm/leaflet@1.9.3/dist/leaflet.js&quot;&gt;&lt;/script&gt;\n",
       "    &lt;script src=&quot;https://code.jquery.com/jquery-1.12.4.min.js&quot;&gt;&lt;/script&gt;\n",
       "    &lt;script src=&quot;https://cdn.jsdelivr.net/npm/bootstrap@5.2.2/dist/js/bootstrap.bundle.min.js&quot;&gt;&lt;/script&gt;\n",
       "    &lt;script src=&quot;https://cdnjs.cloudflare.com/ajax/libs/Leaflet.awesome-markers/2.0.2/leaflet.awesome-markers.js&quot;&gt;&lt;/script&gt;\n",
       "    &lt;link rel=&quot;stylesheet&quot; href=&quot;https://cdn.jsdelivr.net/npm/leaflet@1.9.3/dist/leaflet.css&quot;/&gt;\n",
       "    &lt;link rel=&quot;stylesheet&quot; href=&quot;https://cdn.jsdelivr.net/npm/bootstrap@5.2.2/dist/css/bootstrap.min.css&quot;/&gt;\n",
       "    &lt;link rel=&quot;stylesheet&quot; href=&quot;https://netdna.bootstrapcdn.com/bootstrap/3.0.0/css/bootstrap.min.css&quot;/&gt;\n",
       "    &lt;link rel=&quot;stylesheet&quot; href=&quot;https://cdn.jsdelivr.net/npm/@fortawesome/fontawesome-free@6.2.0/css/all.min.css&quot;/&gt;\n",
       "    &lt;link rel=&quot;stylesheet&quot; href=&quot;https://cdnjs.cloudflare.com/ajax/libs/Leaflet.awesome-markers/2.0.2/leaflet.awesome-markers.css&quot;/&gt;\n",
       "    &lt;link rel=&quot;stylesheet&quot; href=&quot;https://cdn.jsdelivr.net/gh/python-visualization/folium/folium/templates/leaflet.awesome.rotate.min.css&quot;/&gt;\n",
       "    \n",
       "            &lt;meta name=&quot;viewport&quot; content=&quot;width=device-width,\n",
       "                initial-scale=1.0, maximum-scale=1.0, user-scalable=no&quot; /&gt;\n",
       "            &lt;style&gt;\n",
       "                #map_19b82ee5ea6e5e5801c62201ca10b01c {\n",
       "                    position: relative;\n",
       "                    width: 100.0%;\n",
       "                    height: 100.0%;\n",
       "                    left: 0.0%;\n",
       "                    top: 0.0%;\n",
       "                }\n",
       "                .leaflet-container { font-size: 1rem; }\n",
       "            &lt;/style&gt;\n",
       "        \n",
       "&lt;/head&gt;\n",
       "&lt;body&gt;\n",
       "    \n",
       "    \n",
       "            &lt;div class=&quot;folium-map&quot; id=&quot;map_19b82ee5ea6e5e5801c62201ca10b01c&quot; &gt;&lt;/div&gt;\n",
       "        \n",
       "&lt;/body&gt;\n",
       "&lt;script&gt;\n",
       "    \n",
       "    \n",
       "            var map_19b82ee5ea6e5e5801c62201ca10b01c = L.map(\n",
       "                &quot;map_19b82ee5ea6e5e5801c62201ca10b01c&quot;,\n",
       "                {\n",
       "                    center: [38.5, -78.0],\n",
       "                    crs: L.CRS.EPSG3857,\n",
       "                    zoom: 9,\n",
       "                    zoomControl: true,\n",
       "                    preferCanvas: false,\n",
       "                }\n",
       "            );\n",
       "\n",
       "            \n",
       "\n",
       "        \n",
       "    \n",
       "            var tile_layer_0ff56913270437125c096e540427f227 = L.tileLayer(\n",
       "                &quot;https://cartodb-basemaps-{s}.global.ssl.fastly.net/light_all/{z}/{x}/{y}.png&quot;,\n",
       "                {&quot;attribution&quot;: &quot;\\u0026copy; \\u003ca target=\\&quot;_blank\\&quot; href=\\&quot;http://www.openstreetmap.org/copyright\\&quot;\\u003eOpenStreetMap\\u003c/a\\u003e contributors \\u0026copy; \\u003ca target=\\&quot;_blank\\&quot; href=\\&quot;http://cartodb.com/attributions\\&quot;\\u003eCartoDB\\u003c/a\\u003e, CartoDB \\u003ca target=\\&quot;_blank\\&quot; href =\\&quot;http://cartodb.com/attributions\\&quot;\\u003eattributions\\u003c/a\\u003e&quot;, &quot;detectRetina&quot;: false, &quot;maxNativeZoom&quot;: 18, &quot;maxZoom&quot;: 18, &quot;minZoom&quot;: 0, &quot;noWrap&quot;: false, &quot;opacity&quot;: 1, &quot;subdomains&quot;: &quot;abc&quot;, &quot;tms&quot;: false}\n",
       "            ).addTo(map_19b82ee5ea6e5e5801c62201ca10b01c);\n",
       "        \n",
       "    \n",
       "        function geo_json_48dda839fb52d19ac40a2107c49e517a_styler(feature) {\n",
       "            switch(feature.id) {\n",
       "                default:\n",
       "                    return {&quot;fillColor&quot;: &quot;orange&quot;};\n",
       "            }\n",
       "        }\n",
       "\n",
       "        function geo_json_48dda839fb52d19ac40a2107c49e517a_onEachFeature(feature, layer) {\n",
       "            layer.on({\n",
       "            });\n",
       "        };\n",
       "        var geo_json_48dda839fb52d19ac40a2107c49e517a = L.geoJson(null, {\n",
       "                onEachFeature: geo_json_48dda839fb52d19ac40a2107c49e517a_onEachFeature,\n",
       "            \n",
       "                style: geo_json_48dda839fb52d19ac40a2107c49e517a_styler,\n",
       "        });\n",
       "\n",
       "        function geo_json_48dda839fb52d19ac40a2107c49e517a_add (data) {\n",
       "            geo_json_48dda839fb52d19ac40a2107c49e517a\n",
       "                .addData(data)\n",
       "                .addTo(map_19b82ee5ea6e5e5801c62201ca10b01c);\n",
       "        }\n",
       "            geo_json_48dda839fb52d19ac40a2107c49e517a_add({&quot;bbox&quot;: [-79.0158578082679, 37.88789051477522, -78.04618813890727, 38.88703610703791], &quot;features&quot;: [{&quot;bbox&quot;: [-79.0158578082679, 37.88789051477522, -78.04618813890727, 38.88703610703791], &quot;geometry&quot;: {&quot;coordinates&quot;: [[[-78.32129105072025, 38.88703610703791], [-78.04618813890727, 38.74909216350823], [-78.72985973163064, 37.88789051477522], [-79.0158578082679, 38.03177640342157], [-78.32129105072025, 38.88703610703791]]], &quot;type&quot;: &quot;Polygon&quot;}, &quot;id&quot;: &quot;0&quot;, &quot;properties&quot;: {}, &quot;type&quot;: &quot;Feature&quot;}], &quot;type&quot;: &quot;FeatureCollection&quot;});\n",
       "\n",
       "        \n",
       "&lt;/script&gt;\n",
       "&lt;/html&gt;\" style=\"position:absolute;width:100%;height:100%;left:0;top:0;border:none !important;\" allowfullscreen webkitallowfullscreen mozallowfullscreen></iframe></div></div>"
      ],
      "text/plain": [
       "<folium.folium.Map at 0x7fa48aefe710>"
      ]
     },
     "execution_count": 15,
     "metadata": {},
     "output_type": "execute_result"
    }
   ],
   "source": [
    "m = folium.Map(location=[38.5, -78], zoom_start=9, tiles='CartoDB positron')\n",
    "geo_j = folium.GeoJson(data=AOI, style_function=lambda x: {'fillColor': 'orange'})\n",
    "geo_j.add_to(m)\n",
    "m"
   ]
  },
  {
   "cell_type": "markdown",
   "id": "09e673d3",
   "metadata": {},
   "source": [
    "## Search using the EarthData Search Integration"
   ]
  },
  {
   "cell_type": "markdown",
   "id": "8fa66c05",
   "metadata": {},
   "source": [
    "Search Data: To search GEDI data we can use the EarthData search integration in the MAAP ADE. Open the Earthdata search toolbar by clicking on the following:"
   ]
  },
  {
   "cell_type": "markdown",
   "id": "5133289d",
   "metadata": {},
   "source": [
    "![EarthData](../../_static/EarthdataSearch.png)"
   ]
  },
  {
   "cell_type": "markdown",
   "id": "f726d110",
   "metadata": {},
   "source": [
    "This will open up the EarthData search interface in a new tab. We can use the search bar to search GEDI L2B data. By entering \"L2B\" in the search bar, we can see the relevant GEDI data is filtered. Click on the dataset to get more details.\n",
    "\n",
    "![EarthDataInterface](../../_static/EDinterface.png)"
   ]
  },
  {
   "cell_type": "markdown",
   "id": "65352914",
   "metadata": {},
   "source": [
    "While we have been searching for data, the MAAP ADE has been keeping a track of our search parameters. This means that we can easily insert our search for GEDI data straight into our notebook."
   ]
  },
  {
   "cell_type": "markdown",
   "id": "91848fa9",
   "metadata": {},
   "source": [
    "![PasteResults](../../_static/PasteResults.png)"
   ]
  },
  {
   "cell_type": "markdown",
   "id": "e63438b6",
   "metadata": {},
   "source": [
    "## Inspect and Filter through the Data"
   ]
  },
  {
   "cell_type": "markdown",
   "id": "3bdc6898",
   "metadata": {},
   "source": [
    "This gives us our search parameters in our notebook using the GEDI dataset ID. The default limit for the number of returned results is 1000. Running this will produce 1000 results, but we can look at the first one by indexing the list of returned results. This is what the data entry looks like. You can see a large amount of metadata for the file along with the URL for where this specific file is stored."
   ]
  },
  {
   "cell_type": "code",
   "execution_count": 16,
   "id": "5a54eff0",
   "metadata": {},
   "outputs": [
    {
     "data": {
      "text/plain": [
       "{'concept-id': 'G2011069580-LPDAAC_ECS',\n",
       " 'collection-concept-id': 'C1908350066-LPDAAC_ECS',\n",
       " 'revision-id': '10',\n",
       " 'format': 'application/echo10+xml',\n",
       " 'Granule': {'GranuleUR': 'SC:GEDI02_B.002:2433465280',\n",
       "  'InsertTime': '2021-02-22T19:16:30.675Z',\n",
       "  'LastUpdate': '2021-09-16T13:36:07.965Z',\n",
       "  'Collection': {'DataSetId': 'GEDI L2B Canopy Cover and Vertical Profile Metrics Data Global Footprint Level V002'},\n",
       "  'DataGranule': {'SizeMBDataGranule': '16.5413',\n",
       "   'ProducerGranuleId': 'GEDI02_B_2019108002012_O01959_01_T03909_02_003_01_V002.h5',\n",
       "   'DayNightFlag': 'UNSPECIFIED',\n",
       "   'ProductionDateTime': '2021-02-21T14:45:08Z'},\n",
       "  'PGEVersionClass': {'PGEVersion': '003'},\n",
       "  'Temporal': {'RangeDateTime': {'BeginningDateTime': '2019-04-18T00:20:12.000000Z',\n",
       "    'EndingDateTime': '2019-04-18T01:52:53.000000Z'}},\n",
       "  'Spatial': {'HorizontalSpatialDomain': {'Geometry': {'GPolygon': {'Boundary': {'Point': [{'PointLongitude': '80.2890335089',\n",
       "         'PointLatitude': '-4.6168623465'},\n",
       "        {'PointLongitude': '82.4542052313', 'PointLatitude': '-1.5568021223'},\n",
       "        {'PointLongitude': '83.6402279084', 'PointLatitude': '0.1277767863'},\n",
       "        {'PointLongitude': '83.6814118126', 'PointLatitude': '0.0987901632'},\n",
       "        {'PointLongitude': '82.4953794073', 'PointLatitude': '-1.5858244175'},\n",
       "        {'PointLongitude': '80.3302671214',\n",
       "         'PointLatitude': '-4.6459691487'}]}}}}},\n",
       "  'OrbitCalculatedSpatialDomains': {'OrbitCalculatedSpatialDomain': {'StartOrbitNumber': '1959',\n",
       "    'StopOrbitNumber': '1959'}},\n",
       "  'MeasuredParameters': {'MeasuredParameter': {'ParameterName': 'Level2B'}},\n",
       "  'Platforms': {'Platform': {'ShortName': 'ISS',\n",
       "    'Instruments': {'Instrument': {'ShortName': 'GEDI',\n",
       "      'Sensors': {'Sensor': {'ShortName': 'LIDAR'}}}}}},\n",
       "  'Campaigns': {'Campaign': {'ShortName': 'GEDI'}},\n",
       "  'AdditionalAttributes': {'AdditionalAttribute': [{'Name': 'identifier_product_doi',\n",
       "     'Values': {'Value': '10.5067/GEDI/GEDI02_B.002'}},\n",
       "    {'Name': 'identifier_product_doi_authority',\n",
       "     'Values': {'Value': 'https://doi.org'}},\n",
       "    {'Name': 'Reference_Ground_Track', 'Values': {'Value': '3909'}},\n",
       "    {'Name': 'SEGMENT_NUMBER', 'Values': {'Value': '01'}}]},\n",
       "  'InputGranules': {'InputGranule': ['GEDI01_B_2019108002012_O01959_01_T03909_02_005_01_V002.h5',\n",
       "    'GEDI02_A_2019108002012_O01959_01_T03909_02_003_01_V002_10algs.h5']},\n",
       "  'OnlineAccessURLs': {'OnlineAccessURL': {'URL': 'https://e4ftl01.cr.usgs.gov//GEDI_L1_L2/GEDI/GEDI02_B.002/2019.04.18/GEDI02_B_2019108002012_O01959_01_T03909_02_003_01_V002.h5',\n",
       "    'URLDescription': 'GEDI02_B_2019108002012_O01959_01_T03909_02_003_01_V002.h5. MimeType: application/x-hdfeos',\n",
       "    'MimeType': 'application/x-hdfeos'}},\n",
       "  'OnlineResources': {'OnlineResource': [{'URL': 'https://doi.org/10.5067/GEDI/GEDI02_B.001 ',\n",
       "     'Description': 'The Landing Page for this file may be accessed directly from this link',\n",
       "     'Type': 'DOI',\n",
       "     'MimeType': 'text/html'},\n",
       "    {'URL': 'https://e4ftl01.cr.usgs.gov//WORKING/BRWS/Browse.001/2021.02.23/GEDI02_B_2019108002012_O01959_01_T03909_02_003_01_V002.png',\n",
       "     'Description': 'This Browse file may be downloaded directly from this link',\n",
       "     'Type': 'BROWSE',\n",
       "     'MimeType': 'image/jpeg'},\n",
       "    {'URL': 'https://e4ftl01.cr.usgs.gov//GEDI_L1_L2/GEDI/GEDI02_B.002/2019.04.18/GEDI02_B_2019108002012_O01959_01_T03909_02_003_01_V002.h5.xml',\n",
       "     'Description': 'This Metadata file may be downloaded directly from this link',\n",
       "     'Type': 'EXTENDED METADATA',\n",
       "     'MimeType': 'text/xml'}]},\n",
       "  'Orderable': 'true',\n",
       "  'DataFormat': 'HDF5',\n",
       "  'Visible': 'true'}}"
      ]
     },
     "execution_count": 16,
     "metadata": {},
     "output_type": "execute_result"
    }
   ],
   "source": [
    "data = maap.searchGranule(cmr_host='cmr.earthdata.nasa.gov', concept_id=\"C1908350066-LPDAAC_ECS\", limit=1000)[0]\n",
    "data"
   ]
  },
  {
   "cell_type": "markdown",
   "id": "ee6dc4ec",
   "metadata": {},
   "source": [
    "So far, this search function requests all of the GEDI data but we can add a spatial subset filter using our AOI from above to limit the results. Adding a spatial filter returns 259 GEDI L2B files that intersect with our AOI."
   ]
  },
  {
   "cell_type": "code",
   "execution_count": 17,
   "id": "d27e575a",
   "metadata": {},
   "outputs": [
    {
     "name": "stdout",
     "output_type": "stream",
     "text": [
      "259\n"
     ]
    }
   ],
   "source": [
    "data_aoi = maap.searchGranule(cmr_host='cmr.earthdata.nasa.gov', concept_id=\"C1908350066-LPDAAC_ECS\", bounding_box=\"-79.0158578082679,37.88789051477522,-78.04618813890727,38.887036107037915\", limit=1000)\n",
    "print(len(data_aoi))"
   ]
  },
  {
   "cell_type": "markdown",
   "id": "f89c0c51",
   "metadata": {},
   "source": [
    "This is more data than we need, so let's look at the contents of a single GEDI file. Firstly we need to bring it from the server side (S3) to our local side. This can be done using the MAAP function getData. We'll create a new data directory, and then we will pull the 7th file in our search results."
   ]
  },
  {
   "cell_type": "code",
   "execution_count": 18,
   "id": "37b8c65c",
   "metadata": {},
   "outputs": [],
   "source": [
    "# set data directory\n",
    "dataDir = './data'\n",
    "\n",
    "# check if directory exists -> if directory doesn't exist, directory is created\n",
    "if not os.path.exists(dataDir):\n",
    "    os.mkdir(dataDir)"
   ]
  },
  {
   "cell_type": "code",
   "execution_count": 19,
   "id": "4705ecca",
   "metadata": {},
   "outputs": [
    {
     "name": "stdout",
     "output_type": "stream",
     "text": [
      "./data/GEDI02_B_2019145051352_O02537_03_T04809_02_003_01_V002.h5\n"
     ]
    }
   ],
   "source": [
    "# pulling the 7th file into the new directory\n",
    "gedi_data = data_aoi[6].getData(dataDir)\n",
    "print(gedi_data)"
   ]
  },
  {
   "cell_type": "markdown",
   "id": "de72141c",
   "metadata": {},
   "source": [
    "GEDI data has 8 beams. So, we will check that all beams are in our file and print a list of the available beams."
   ]
  },
  {
   "cell_type": "code",
   "execution_count": null,
   "id": "d8a29d40",
   "metadata": {},
   "outputs": [],
   "source": [
    "gedi_h5_file = h5py.File(gedi_data, 'r')\n",
    "gedi_keys = list(gedi_h5_file.keys())\n",
    "gedi_beams = ['BEAM0000', 'BEAM0001', 'BEAM0010', 'BEAM0011', 'BEAM0101', 'BEAM0110', 'BEAM1000', 'BEAM1011']\n",
    "gedi_beams_lst = []\n",
    "for gedi_beam_name in gedi_keys:\n",
    "    if gedi_beam_name in gedi_beams:\n",
    "        gedi_beams_lst.append(gedi_beam_name)\n",
    "print(gedi_beams_lst)"
   ]
  },
  {
   "cell_type": "markdown",
   "id": "37619b70",
   "metadata": {},
   "source": [
    "For each beam, we need to get all of the data and metrics associated with it. For this, we have a function that will gather all of the metrics we want and put them into a geopandas dataframe:"
   ]
  },
  {
   "cell_type": "code",
   "execution_count": null,
   "id": "714e8eea",
   "metadata": {},
   "outputs": [],
   "source": [
    "def get_gedi_df(gedi_h5_file, gedi_beam_name):\n",
    "    gedi_beam = gedi_h5_file[gedi_beam_name]\n",
    "    \n",
    "    # Get location info.\n",
    "    gedi_beam_geoloc = gedi_beam['geolocation']\n",
    "    # Get land cover data.\n",
    "    gedi_beam_landcover = gedi_beam['land_cover_data']\n",
    "\n",
    "    gedi_beam_df = pandas.DataFrame(\n",
    "            {'elevation_bin0'         : gedi_beam_geoloc['elevation_bin0'],\n",
    "             'elevation_lastbin'      : gedi_beam_geoloc['elevation_lastbin'],\n",
    "             'height_bin0'            : gedi_beam_geoloc['height_bin0'],\n",
    "             'height_lastbin'         : gedi_beam_geoloc['height_lastbin'],\n",
    "             'shot_number'            : gedi_beam_geoloc['shot_number'],\n",
    "             'solar_azimuth'          : gedi_beam_geoloc['solar_azimuth'],\n",
    "             'solar_elevation'        : gedi_beam_geoloc['solar_elevation'],\n",
    "             'latitude_bin0'          : gedi_beam_geoloc['latitude_bin0'],\n",
    "             'latitude_lastbin'       : gedi_beam_geoloc['latitude_lastbin'],\n",
    "             'longitude_bin0'         : gedi_beam_geoloc['longitude_bin0'],\n",
    "             'longitude_lastbin'      : gedi_beam_geoloc['longitude_lastbin'],\n",
    "             'degrade_flag'           : gedi_beam_geoloc['degrade_flag'],\n",
    "             'digital_elevation_model': gedi_beam_geoloc['digital_elevation_model'],\n",
    "             'landsat_treecover'      : gedi_beam_landcover['landsat_treecover'],\n",
    "             'modis_nonvegetated'     : gedi_beam_landcover['modis_nonvegetated'],\n",
    "             'modis_nonvegetated_sd'  : gedi_beam_landcover['modis_nonvegetated_sd'],\n",
    "             'modis_treecover'        : gedi_beam_landcover['modis_treecover'],\n",
    "             'modis_treecover_sd'     : gedi_beam_landcover['modis_treecover_sd'],\n",
    "             'beam'                   : gedi_beam['beam'],\n",
    "             'cover'                  : gedi_beam['cover'],\n",
    "             'master_frac'            : gedi_beam['master_frac'],\n",
    "             'master_int'             : gedi_beam['master_int'],\n",
    "             'num_detectedmodes'      : gedi_beam['num_detectedmodes'],\n",
    "             'omega'                  : gedi_beam['omega'],\n",
    "             'pai'                    : gedi_beam['pai'],\n",
    "             'pgap_theta'             : gedi_beam['pgap_theta'],\n",
    "             'pgap_theta_error'       : gedi_beam['pgap_theta_error'],\n",
    "             'rg'                     : gedi_beam['rg'],\n",
    "             'rh100'                  : gedi_beam['rh100'],\n",
    "             'rhog'                   : gedi_beam['rhog'],\n",
    "             'rhog_error'             : gedi_beam['rhog_error'],\n",
    "             'rhov'                   : gedi_beam['rhov'],\n",
    "             'rhov_error'             : gedi_beam['rhov_error'],\n",
    "             'rossg'                  : gedi_beam['rossg'],\n",
    "             'rv'                     : gedi_beam['rv'],\n",
    "             'sensitivity'            : gedi_beam['sensitivity'],\n",
    "             'stale_return_flag'      : gedi_beam['stale_return_flag'],\n",
    "             'surface_flag'           : gedi_beam['surface_flag'],\n",
    "             'l2a_quality_flag'       : gedi_beam['l2a_quality_flag'],\n",
    "             'l2b_quality_flag'       : gedi_beam['l2b_quality_flag']})\n",
    "\n",
    "    gedi_beam_gdf = gpd.GeoDataFrame(gedi_beam_df, crs='EPSG:4326',\n",
    "                                           geometry=gpd.points_from_xy(gedi_beam_df.longitude_lastbin,\n",
    "                                                                             gedi_beam_df.latitude_lastbin))\n",
    "    return gedi_beam_gdf"
   ]
  },
  {
   "cell_type": "markdown",
   "id": "1adc6965",
   "metadata": {},
   "source": [
    "To access the data with this function, we can call the function for each beam id that we have:\n"
   ]
  },
  {
   "cell_type": "code",
   "execution_count": null,
   "id": "d047da6a",
   "metadata": {},
   "outputs": [],
   "source": [
    "BEAM0000 = get_gedi_df(gedi_h5_file, 'BEAM0000')\n",
    "BEAM0001 = get_gedi_df(gedi_h5_file, 'BEAM0001')\n",
    "BEAM0010 = get_gedi_df(gedi_h5_file, 'BEAM0010')\n",
    "BEAM0011 = get_gedi_df(gedi_h5_file, 'BEAM0011')\n",
    "BEAM0101 = get_gedi_df(gedi_h5_file, 'BEAM0101')\n",
    "BEAM0110 = get_gedi_df(gedi_h5_file, 'BEAM0110')\n",
    "BEAM1000 = get_gedi_df(gedi_h5_file, 'BEAM1000')\n",
    "BEAM1011 = get_gedi_df(gedi_h5_file, 'BEAM1011')"
   ]
  },
  {
   "cell_type": "markdown",
   "id": "66ac022e",
   "metadata": {},
   "source": [
    "Now we can look at the data in one of the dataframes (beams). We can see that there are 108583 GEDI shots (108583 entries in each column)."
   ]
  },
  {
   "cell_type": "code",
   "execution_count": null,
   "id": "af92e9ba",
   "metadata": {},
   "outputs": [],
   "source": [
    "print(BEAM0000.head())\n",
    "print('number of rows = ', len(BEAM0000))"
   ]
  },
  {
   "cell_type": "markdown",
   "id": "4ced9f18",
   "metadata": {},
   "source": [
    "## Create the Subset and Display the Data"
   ]
  },
  {
   "cell_type": "markdown",
   "id": "d268df20",
   "metadata": {},
   "source": [
    "Before  displaying this data we can do a spatial subset to remove the data outside of our AOI by doing a spatial subset. We use the Geopandas clip function to clip out the GEDI data based on the extent of our AOI. This reduces the size of the dataframe from 108583 rows to 508."
   ]
  },
  {
   "cell_type": "code",
   "execution_count": null,
   "id": "63ff2d3f",
   "metadata": {},
   "outputs": [],
   "source": [
    "BEAM0000_sub = gpd.clip(BEAM0000, AOI)\n",
    "len(BEAM0000_sub)"
   ]
  },
  {
   "cell_type": "markdown",
   "id": "d5b01c3f",
   "metadata": {},
   "source": [
    "We can display this subset of data over our AOI extent."
   ]
  },
  {
   "cell_type": "code",
   "execution_count": null,
   "id": "7051b35d",
   "metadata": {},
   "outputs": [],
   "source": [
    "m = folium.Map(location=[38.5, -78], zoom_start=9, tiles='CartoDB positron')\n",
    "\n",
    "geo_j = folium.GeoJson(data=AOI, style_function=lambda x: {'fillColor': 'orange'})\n",
    "geo_j.add_to(m)\n",
    "\n",
    "geo_g = folium.GeoJson(data=BEAM0000_sub,marker = folium.CircleMarker(radius = 1, # Radius in metres\n",
    "                                           weight = 0, #outline weight\n",
    "                                           fill_color = '#FF0000', \n",
    "                                           fill_opacity = 1))\n",
    "geo_g.add_to(m)\n",
    "m"
   ]
  },
  {
   "cell_type": "markdown",
   "id": "c36457da",
   "metadata": {},
   "source": [
    "Now we have this subset of data, we can look at some of the GEDI metrics over our area of interest. The 'rh100' metric should give us the top of the canopy heights. What does this look like over Shenandoah National Park? We will look at the ground height and the 'rh100' above ground. The DEM metric is in meters (m) and the 'rh100' metric is in centimeters (cm) above the ground height. Therefore we must add the 'rh100' value to the ground height to get the total height of the tree for display purposes. The 'rh100' metric is also converted to meters (m) to normalize the units"
   ]
  },
  {
   "cell_type": "code",
   "execution_count": null,
   "id": "de8bff2c",
   "metadata": {},
   "outputs": [],
   "source": [
    "latitude = BEAM0000_sub['latitude_lastbin']\n",
    "rh100 = BEAM0000_sub['rh100']\n",
    "ground = BEAM0000_sub['digital_elevation_model']\n",
    "\n",
    "TreeHeight = ground + rh100/100"
   ]
  },
  {
   "cell_type": "markdown",
   "id": "f6820336",
   "metadata": {},
   "source": [
    "Finally, we can make a plot of the ground surface and the canopy heights above the ground surface. We can see the forest canopies in green above the topographically complex ground in brown."
   ]
  },
  {
   "cell_type": "code",
   "execution_count": null,
   "id": "79befba5",
   "metadata": {},
   "outputs": [],
   "source": [
    "plt.figure(figsize=(20, 5))\n",
    "plt.scatter(latitude, TreeHeight, c='green')\n",
    "plt.plot(latitude, ground, c='brown')"
   ]
  },
  {
   "cell_type": "markdown",
   "id": "6b246e15",
   "metadata": {},
   "source": [
    "Now you have this basic structure you can investigate some of the other metrics and GEDI beams to understand more about the data."
   ]
  }
 ],
 "metadata": {
  "kernelspec": {
   "display_name": "Python 3 (ipykernel)",
   "language": "python",
   "name": "python3"
  },
  "language_info": {
   "codemirror_mode": {
    "name": "ipython",
    "version": 3
   },
   "file_extension": ".py",
   "mimetype": "text/x-python",
   "name": "python",
   "nbconvert_exporter": "python",
   "pygments_lexer": "ipython3",
   "version": "3.7.8"
  }
 },
 "nbformat": 4,
 "nbformat_minor": 5
}
